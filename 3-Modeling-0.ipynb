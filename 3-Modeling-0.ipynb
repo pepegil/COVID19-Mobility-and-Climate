{
 "cells": [
  {
   "cell_type": "markdown",
   "metadata": {},
   "source": [
    "# Modeling"
   ]
  },
  {
   "cell_type": "markdown",
   "metadata": {},
   "source": [
    "## Visual Python Upgrade\n",
    "NOTE: \n",
    "- Refresh your web browser to start a new version.\n",
    "- Save VP Note before refreshing the page."
   ]
  },
  {
   "cell_type": "raw",
   "metadata": {},
   "source": [
    "# Visual Python\n",
    "!pip install visualpython --upgrade"
   ]
  },
  {
   "cell_type": "raw",
   "metadata": {},
   "source": [
    "# Visual Python\n",
    "!visualpy install"
   ]
  },
  {
   "cell_type": "markdown",
   "metadata": {},
   "source": [
    "**Libraries**"
   ]
  },
  {
   "cell_type": "code",
   "execution_count": 1,
   "metadata": {},
   "outputs": [],
   "source": [
    "import time\n",
    "import numpy as np\n",
    "import pandas as pd\n",
    "import seaborn as sns\n",
    "sns.set(style=\"darkgrid\")\n",
    "\n",
    "import matplotlib.pyplot as plt\n",
    "%matplotlib inline\n",
    "# Set default font size\n",
    "plt.rcParams.update({'figure.figsize': (10, 10), 'figure.dpi': 50, 'font.size': 10})\n",
    "plt.style.use('fivethirtyeight')\n",
    "#plt.rcParams['font.size'] = 10\n",
    "clock_0 =time.time()"
   ]
  },
  {
   "cell_type": "code",
   "execution_count": 2,
   "metadata": {},
   "outputs": [
    {
     "name": "stdout",
     "output_type": "stream",
     "text": [
      "Pandas 1.3.5\n",
      "Numpy 1.21.2\n",
      "Seaborn 0.11.2\n"
     ]
    }
   ],
   "source": [
    "print( \"Pandas\", pd.__version__)\n",
    "print(\"Numpy\", np.__version__)\n",
    "#print(plt.__version__)\n",
    "print(\"Seaborn\",sns.__version__)"
   ]
  },
  {
   "cell_type": "markdown",
   "metadata": {},
   "source": [
    "*    Constants and variables"
   ]
  },
  {
   "cell_type": "code",
   "execution_count": 3,
   "metadata": {},
   "outputs": [],
   "source": [
    "# Constantes\n",
    "TEST_SIZE = 0.3\n",
    "RANDOM_STATE = 42\n",
    "modelado = [] # resultados"
   ]
  },
  {
   "cell_type": "markdown",
   "metadata": {},
   "source": [
    "## Get data"
   ]
  },
  {
   "cell_type": "code",
   "execution_count": 4,
   "metadata": {},
   "outputs": [
    {
     "name": "stdout",
     "output_type": "stream",
     "text": [
      "<class 'pandas.core.frame.DataFrame'>\n",
      "Int64Index: 7077 entries, 0 to 7076\n",
      "Data columns (total 42 columns):\n",
      " #   Column             Non-Null Count  Dtype  \n",
      "---  ------             --------------  -----  \n",
      " 0   fecha              7077 non-null   object \n",
      " 1   provincia          7077 non-null   object \n",
      " 2   v_muy_cortos       7077 non-null   float64\n",
      " 3   v_cortos           7077 non-null   float64\n",
      " 4   v_medios           7077 non-null   float64\n",
      " 5   v_largos           7077 non-null   float64\n",
      " 6   v_muy_largos       7077 non-null   float64\n",
      " 7   v_extra_largos     7077 non-null   float64\n",
      " 8   v_noche            7077 non-null   float64\n",
      " 9   v_madrugada        7077 non-null   float64\n",
      " 10  v_mañana           7077 non-null   float64\n",
      " 11  v_mediodia         7077 non-null   float64\n",
      " 12  v_sobremesa        7077 non-null   float64\n",
      " 13  v_tarde            7077 non-null   float64\n",
      " 14  v_km_muy_cortos    7077 non-null   float64\n",
      " 15  v_km_cortos        7077 non-null   float64\n",
      " 16  v_km_medios        7077 non-null   float64\n",
      " 17  v_km_largos        7077 non-null   float64\n",
      " 18  v_km_muy_largos    7077 non-null   float64\n",
      " 19  v_km_extra_largos  7077 non-null   float64\n",
      " 20  v_km_noche         7077 non-null   float64\n",
      " 21  v_km_madrugada     7077 non-null   float64\n",
      " 22  v_km_mañana        7077 non-null   float64\n",
      " 23  v_km_mediodia      7077 non-null   float64\n",
      " 24  v_km_sobremesa     7077 non-null   float64\n",
      " 25  v_km_tarde         7077 non-null   float64\n",
      " 26  cero_viajes        7077 non-null   float64\n",
      " 27  un_viaje           7077 non-null   float64\n",
      " 28  dos_viajes         7077 non-null   float64\n",
      " 29  mas_de_dos_viajes  7077 non-null   float64\n",
      " 30  altitud            7077 non-null   float64\n",
      " 31  velmedia           7077 non-null   float64\n",
      " 32  tmin               7077 non-null   float64\n",
      " 33  tmed               7077 non-null   float64\n",
      " 34  tmax               7077 non-null   float64\n",
      " 35  presMin            7077 non-null   float64\n",
      " 36  presMax            7077 non-null   float64\n",
      " 37  sol                7077 non-null   float64\n",
      " 38  prec               7077 non-null   float64\n",
      " 39  hr                 7077 non-null   float64\n",
      " 40  poblacion          7077 non-null   float64\n",
      " 41  num_casos          7077 non-null   float64\n",
      "dtypes: float64(40), object(2)\n",
      "memory usage: 2.3+ MB\n"
     ]
    }
   ],
   "source": [
    "#tarjeta = pd.read_csv(\"~/Trabajo_tfm/datos_csv/tarjeta_datos0.csv\", index_col='Unnamed: 0') # iter 0\n",
    "tarjeta = pd.read_csv(\"~/Trabajo_tfm/datos_csv/tarjeta_datos_0.csv\", index_col='Unnamed: 0') # iter 0\n",
    "tarjeta.info()"
   ]
  },
  {
   "cell_type": "code",
   "execution_count": 5,
   "metadata": {},
   "outputs": [
    {
     "name": "stdout",
     "output_type": "stream",
     "text": [
      "<class 'pandas.core.frame.DataFrame'>\n",
      "Int64Index: 7077 entries, 0 to 7076\n",
      "Data columns (total 41 columns):\n",
      " #   Column             Non-Null Count  Dtype  \n",
      "---  ------             --------------  -----  \n",
      " 0   fecha              7077 non-null   object \n",
      " 1   v_muy_cortos       7077 non-null   float64\n",
      " 2   v_cortos           7077 non-null   float64\n",
      " 3   v_medios           7077 non-null   float64\n",
      " 4   v_largos           7077 non-null   float64\n",
      " 5   v_muy_largos       7077 non-null   float64\n",
      " 6   v_extra_largos     7077 non-null   float64\n",
      " 7   v_noche            7077 non-null   float64\n",
      " 8   v_madrugada        7077 non-null   float64\n",
      " 9   v_mañana           7077 non-null   float64\n",
      " 10  v_mediodia         7077 non-null   float64\n",
      " 11  v_sobremesa        7077 non-null   float64\n",
      " 12  v_tarde            7077 non-null   float64\n",
      " 13  v_km_muy_cortos    7077 non-null   float64\n",
      " 14  v_km_cortos        7077 non-null   float64\n",
      " 15  v_km_medios        7077 non-null   float64\n",
      " 16  v_km_largos        7077 non-null   float64\n",
      " 17  v_km_muy_largos    7077 non-null   float64\n",
      " 18  v_km_extra_largos  7077 non-null   float64\n",
      " 19  v_km_noche         7077 non-null   float64\n",
      " 20  v_km_madrugada     7077 non-null   float64\n",
      " 21  v_km_mañana        7077 non-null   float64\n",
      " 22  v_km_mediodia      7077 non-null   float64\n",
      " 23  v_km_sobremesa     7077 non-null   float64\n",
      " 24  v_km_tarde         7077 non-null   float64\n",
      " 25  cero_viajes        7077 non-null   float64\n",
      " 26  un_viaje           7077 non-null   float64\n",
      " 27  dos_viajes         7077 non-null   float64\n",
      " 28  mas_de_dos_viajes  7077 non-null   float64\n",
      " 29  altitud            7077 non-null   float64\n",
      " 30  velmedia           7077 non-null   float64\n",
      " 31  tmin               7077 non-null   float64\n",
      " 32  tmed               7077 non-null   float64\n",
      " 33  tmax               7077 non-null   float64\n",
      " 34  presMin            7077 non-null   float64\n",
      " 35  presMax            7077 non-null   float64\n",
      " 36  sol                7077 non-null   float64\n",
      " 37  prec               7077 non-null   float64\n",
      " 38  hr                 7077 non-null   float64\n",
      " 39  poblacion          7077 non-null   float64\n",
      " 40  num_casos          7077 non-null   float64\n",
      "dtypes: float64(40), object(1)\n",
      "memory usage: 2.3+ MB\n"
     ]
    }
   ],
   "source": [
    "tarjeta = tarjeta.drop(columns=['provincia'])\n",
    "tarjeta.info()"
   ]
  },
  {
   "cell_type": "code",
   "execution_count": 6,
   "metadata": {},
   "outputs": [],
   "source": [
    "X = tarjeta.drop(columns=['num_casos']).select_dtypes(exclude=['object'])\n",
    "Y = tarjeta[['num_casos']]"
   ]
  },
  {
   "cell_type": "code",
   "execution_count": 7,
   "metadata": {},
   "outputs": [],
   "source": [
    "features = X.columns.tolist()\n",
    "labels = Y.num_casos"
   ]
  },
  {
   "cell_type": "code",
   "execution_count": 8,
   "metadata": {},
   "outputs": [
    {
     "data": {
      "text/plain": [
       "['v_muy_cortos',\n",
       " 'v_cortos',\n",
       " 'v_medios',\n",
       " 'v_largos',\n",
       " 'v_muy_largos',\n",
       " 'v_extra_largos',\n",
       " 'v_noche',\n",
       " 'v_madrugada',\n",
       " 'v_mañana',\n",
       " 'v_mediodia',\n",
       " 'v_sobremesa',\n",
       " 'v_tarde',\n",
       " 'v_km_muy_cortos',\n",
       " 'v_km_cortos',\n",
       " 'v_km_medios',\n",
       " 'v_km_largos',\n",
       " 'v_km_muy_largos',\n",
       " 'v_km_extra_largos',\n",
       " 'v_km_noche',\n",
       " 'v_km_madrugada',\n",
       " 'v_km_mañana',\n",
       " 'v_km_mediodia',\n",
       " 'v_km_sobremesa',\n",
       " 'v_km_tarde',\n",
       " 'cero_viajes',\n",
       " 'un_viaje',\n",
       " 'dos_viajes',\n",
       " 'mas_de_dos_viajes',\n",
       " 'altitud',\n",
       " 'velmedia',\n",
       " 'tmin',\n",
       " 'tmed',\n",
       " 'tmax',\n",
       " 'presMin',\n",
       " 'presMax',\n",
       " 'sol',\n",
       " 'prec',\n",
       " 'hr',\n",
       " 'poblacion']"
      ]
     },
     "execution_count": 8,
     "metadata": {},
     "output_type": "execute_result"
    }
   ],
   "source": [
    "lista_variables = list(X.columns)\n",
    "lista_variables"
   ]
  },
  {
   "cell_type": "markdown",
   "metadata": {},
   "source": [
    "### Normalización."
   ]
  },
  {
   "cell_type": "code",
   "execution_count": 9,
   "metadata": {},
   "outputs": [],
   "source": [
    "from sklearn import preprocessing # RobustScaler() # StandardScaler() MinMaxScaler\n",
    "scaler = preprocessing.StandardScaler(with_mean=True, with_std=True)\n",
    "X_norm = scaler.fit_transform(X)"
   ]
  },
  {
   "cell_type": "code",
   "execution_count": 10,
   "metadata": {},
   "outputs": [
    {
     "data": {
      "text/plain": [
       "array([[ 0.34600884,  0.67964668,  0.58261285, ..., -0.30404185,\n",
       "        -0.08115771,  0.48710119],\n",
       "       [-0.48108059, -0.42780829, -0.57952245, ..., -0.30404185,\n",
       "         0.06905887, -0.3451965 ],\n",
       "       [-0.36104634, -0.55559373, -0.52122318, ...,  0.42701237,\n",
       "         0.14416716, -0.3767292 ],\n",
       "       ...,\n",
       "       [ 0.71218802,  0.70321838,  0.30411476, ..., -0.30404185,\n",
       "        -0.38159086,  1.00202217],\n",
       "       [-0.78439196, -0.81033194, -0.40268896, ..., -0.30404185,\n",
       "         1.42100806, -0.74191994],\n",
       "       [-0.01355094, -0.09393517, -0.44220934, ..., -0.30404185,\n",
       "         0.59481689, -0.16452323]])"
      ]
     },
     "execution_count": 10,
     "metadata": {},
     "output_type": "execute_result"
    }
   ],
   "source": [
    "X_norm"
   ]
  },
  {
   "cell_type": "markdown",
   "metadata": {},
   "source": [
    "## Base model"
   ]
  },
  {
   "cell_type": "markdown",
   "metadata": {},
   "source": [
    "### Liberias ML"
   ]
  },
  {
   "cell_type": "code",
   "execution_count": 11,
   "metadata": {},
   "outputs": [
    {
     "name": "stdout",
     "output_type": "stream",
     "text": [
      "1.1.1\n"
     ]
    }
   ],
   "source": [
    "# Scoring \n",
    "from sklearn.metrics import mean_squared_error, r2_score, mean_absolute_error, make_scorer\n",
    "from sklearn.model_selection import cross_val_score\n",
    "\n",
    "# Models\n",
    "from sklearn.ensemble import RandomForestRegressor\n",
    "from sklearn.ensemble import AdaBoostRegressor\n",
    "from sklearn.ensemble import GradientBoostingRegressor\n",
    "\n",
    "from sklearn.inspection import permutation_importance\n",
    "\n",
    "import xgboost as xgb\n",
    "print(xgb.__version__)"
   ]
  },
  {
   "cell_type": "code",
   "execution_count": 12,
   "metadata": {},
   "outputs": [],
   "source": [
    "from sklearn.model_selection import train_test_split, KFold, RepeatedKFold, TimeSeriesSplit, StratifiedKFold\n",
    "\n",
    "from sklearn.feature_selection import mutual_info_regression, SelectKBest, SelectPercentile\n",
    "\n",
    "from feature_engine.selection import SmartCorrelatedSelection, DropCorrelatedFeatures\n",
    "from feature_engine.selection import RecursiveFeatureAddition, RecursiveFeatureElimination, SelectByShuffling"
   ]
  },
  {
   "cell_type": "code",
   "execution_count": 13,
   "metadata": {},
   "outputs": [],
   "source": [
    "def modelo(atributos, labels, feat_eng=\"base\",features = False, graficas= False):\n",
    "    \n",
    "    num_feats = atributos.shape[1]\n",
    "    \n",
    "    X_train, X_test, y_train, y_test = train_test_split(\n",
    "        atributos, labels, test_size = TEST_SIZE, random_state = RANDOM_STATE)\n",
    "    \n",
    "    reg1 = RandomForestRegressor(random_state=RANDOM_STATE)\n",
    "    reg2 = xgb.XGBRegressor(random_state = RANDOM_STATE)\n",
    "    reg3 = GradientBoostingRegressor(random_state = RANDOM_STATE)\n",
    "    reg4 = AdaBoostRegressor(\n",
    "        RandomForestRegressor(random_state=RANDOM_STATE))\n",
    "        #xgb.XGBRegressor(random_state = RANDOM_STATE), random_state = RANDOM_STATE)\n",
    "\n",
    "    reg1.fit(X_train, y_train)\n",
    "    reg2.fit(X_train, y_train)\n",
    "    reg3.fit(X_train, y_train)\n",
    "    reg4.fit(X_train, y_train)\n",
    "    \n",
    "    pred1 = reg1.predict(X_test)\n",
    "    pred2 = reg2.predict(X_test)\n",
    "    pred3 = reg3.predict(X_test)\n",
    "    pred4 = reg4.predict(X_test)\n",
    "    \n",
    "    mae1 = mean_absolute_error(y_test, pred1)\n",
    "    mae2 = mean_absolute_error(y_test, pred2)\n",
    "    mae3 = mean_absolute_error(y_test, pred3)\n",
    "    mae4 = mean_absolute_error(y_test, pred4)\n",
    "    \n",
    "    media_casos_reales = np.mean(y_test)\n",
    "    mape1 = mae1/media_casos_reales*100\n",
    "    mape2 = mae2/media_casos_reales*100\n",
    "    mape3 = mae3/media_casos_reales*100\n",
    "    mape4 = mae4/media_casos_reales*100\n",
    "\n",
    "    mse1 = np.sqrt(mean_squared_error(y_test, pred1))\n",
    "    mse2 = np.sqrt(mean_squared_error(y_test, pred2))\n",
    "    mse3 = np.sqrt(mean_squared_error(y_test, pred3))\n",
    "    mse4 = np.sqrt(mean_squared_error(y_test, pred4))\n",
    "\n",
    "    r2_score1 = r2_score(y_test, pred1)\n",
    "    r2_score2 = r2_score(y_test, pred2)\n",
    "    r2_score3 = r2_score(y_test, pred3)\n",
    "    r2_score4 = r2_score(y_test, pred4)\n",
    "\n",
    "    r2_train_1 = reg1.score(X_train, y_train)\n",
    "    r2_train_2 = reg2.score(X_train, y_train)\n",
    "    r2_train_3 = reg3.score(X_train, y_train)\n",
    "    r2_train_4 = reg4.score(X_train, y_train)\n",
    "    \n",
    "    modelado.append([feat_eng, 'RandomForest', num_feats, np.round(r2_score1, decimals=2), np.round(mse1, decimals=2),\n",
    "                     np.round (mae1, decimals=2),  np.round(mape1,  decimals=2)])\n",
    "                     #reg1.get_params(),\n",
    "                     \n",
    "    modelado.append([feat_eng, 'Xgboost', num_feats, np.round(r2_score2, decimals=2), np.round( mse2, decimals=2), \n",
    "                     np.round(mae2, decimals=2), np.round(mape2, decimals=2)])\n",
    "    \n",
    "    modelado.append([feat_eng, 'GradBoost', num_feats, np.round(r2_score3, decimals=2), np.round(mse3, decimals=2),\n",
    "                     np.round(mae3, decimals=2), np.round(mape3, decimals=2) ])\n",
    "    \n",
    "    modelado.append([feat_eng,'Adaboost', num_feats, np.round(r2_score4, decimals=2), np.round(mse4, decimals=2),\n",
    "                     np.round(mae4, decimals=2), np.round(mape4, decimals=2)])\n",
    "\n",
    "    columnas = ['mae', 'mape', 'rmse', 'r2',  'train_r2']\n",
    "    metricas_modelos = pd.DataFrame(\n",
    "        {'metricas': columnas,\n",
    "         'RandomForest': [mae1, mape1, mse1, r2_score1,  r2_train_1],\n",
    "         'Xgboost': [mae2, mape2, mse2, r2_score2, r2_train_2],\n",
    "         'GradBoost': [mae3, mape3,  mse3, r2_score3,  r2_train_3],\n",
    "         'Adaboost': [mae4, mape4, mse4, r2_score4,  r2_train_4]})\n",
    " \n",
    "    if graficas :\n",
    "        \n",
    "        importancias = pd.DataFrame(\n",
    "            {\n",
    "             'Attributes': features ,\n",
    "             'RandomForest': reg1.feature_importances_,\n",
    "             'Xgboost' : reg2.feature_importances_,\n",
    "             'GradBoost': reg3.feature_importances_,\n",
    "             'Adaboost' : reg4.feature_importances_ })\n",
    "        \n",
    "        result1 = permutation_importance(reg1, X_test, y_test, n_repeats=10, random_state=RANDOM_STATE, n_jobs=2)\n",
    "        result2 = permutation_importance(reg2, X_test, y_test, n_repeats=10, random_state=RANDOM_STATE, n_jobs=2)\n",
    "        result3 = permutation_importance(reg3, X_test, y_test, n_repeats=10, random_state=RANDOM_STATE, n_jobs=2)\n",
    "        result4 = permutation_importance(reg4, X_test, y_test, n_repeats=10, random_state=RANDOM_STATE, n_jobs=2)\n",
    "\n",
    "        permutaciones = [result1, result2, result3, result4]\n",
    "        graficas_importancia(importancias, permutaciones, [pred1, pred2, pred3, pred4])\n",
    "        \n",
    "    return metricas_modelos"
   ]
  },
  {
   "cell_type": "markdown",
   "metadata": {},
   "source": [
    "### Results "
   ]
  },
  {
   "cell_type": "code",
   "execution_count": 14,
   "metadata": {},
   "outputs": [
    {
     "data": {
      "text/plain": [
       "[]"
      ]
     },
     "execution_count": 14,
     "metadata": {},
     "output_type": "execute_result"
    }
   ],
   "source": [
    "modelado"
   ]
  },
  {
   "cell_type": "code",
   "execution_count": 15,
   "metadata": {},
   "outputs": [
    {
     "data": {
      "text/html": [
       "<div>\n",
       "<style scoped>\n",
       "    .dataframe tbody tr th:only-of-type {\n",
       "        vertical-align: middle;\n",
       "    }\n",
       "\n",
       "    .dataframe tbody tr th {\n",
       "        vertical-align: top;\n",
       "    }\n",
       "\n",
       "    .dataframe thead th {\n",
       "        text-align: right;\n",
       "    }\n",
       "</style>\n",
       "<table border=\"1\" class=\"dataframe\">\n",
       "  <thead>\n",
       "    <tr style=\"text-align: right;\">\n",
       "      <th></th>\n",
       "      <th>metricas</th>\n",
       "      <th>RandomForest</th>\n",
       "      <th>Xgboost</th>\n",
       "      <th>GradBoost</th>\n",
       "      <th>Adaboost</th>\n",
       "    </tr>\n",
       "  </thead>\n",
       "  <tbody>\n",
       "    <tr>\n",
       "      <th>0</th>\n",
       "      <td>mae</td>\n",
       "      <td>97.784223</td>\n",
       "      <td>98.288877</td>\n",
       "      <td>133.806740</td>\n",
       "      <td>99.989091</td>\n",
       "    </tr>\n",
       "    <tr>\n",
       "      <th>1</th>\n",
       "      <td>mape</td>\n",
       "      <td>45.274816</td>\n",
       "      <td>45.508474</td>\n",
       "      <td>61.953506</td>\n",
       "      <td>46.295686</td>\n",
       "    </tr>\n",
       "    <tr>\n",
       "      <th>2</th>\n",
       "      <td>rmse</td>\n",
       "      <td>250.095250</td>\n",
       "      <td>256.241035</td>\n",
       "      <td>296.726291</td>\n",
       "      <td>229.291622</td>\n",
       "    </tr>\n",
       "    <tr>\n",
       "      <th>3</th>\n",
       "      <td>r2</td>\n",
       "      <td>0.819864</td>\n",
       "      <td>0.810902</td>\n",
       "      <td>0.746428</td>\n",
       "      <td>0.848586</td>\n",
       "    </tr>\n",
       "    <tr>\n",
       "      <th>4</th>\n",
       "      <td>train_r2</td>\n",
       "      <td>0.974546</td>\n",
       "      <td>0.996777</td>\n",
       "      <td>0.889020</td>\n",
       "      <td>0.996610</td>\n",
       "    </tr>\n",
       "  </tbody>\n",
       "</table>\n",
       "</div>"
      ],
      "text/plain": [
       "   metricas  RandomForest     Xgboost   GradBoost    Adaboost\n",
       "0       mae     97.784223   98.288877  133.806740   99.989091\n",
       "1      mape     45.274816   45.508474   61.953506   46.295686\n",
       "2      rmse    250.095250  256.241035  296.726291  229.291622\n",
       "3        r2      0.819864    0.810902    0.746428    0.848586\n",
       "4  train_r2      0.974546    0.996777    0.889020    0.996610"
      ]
     },
     "execution_count": 15,
     "metadata": {},
     "output_type": "execute_result"
    }
   ],
   "source": [
    "metricas = modelo(X_norm, labels)\n",
    "metricas"
   ]
  },
  {
   "cell_type": "code",
   "execution_count": 16,
   "metadata": {},
   "outputs": [],
   "source": [
    "kfcv = KFold(n_splits = 5, shuffle = True, random_state=RANDOM_STATE) \n",
    "rkfcv = RepeatedKFold(n_splits = 5, n_repeats=2, random_state=RANDOM_STATE)\n",
    "mae_scoring = { \"mae\" : make_scorer(mean_absolute_error)} #param_learning_rate"
   ]
  },
  {
   "cell_type": "markdown",
   "metadata": {},
   "source": [
    "## XGBoost feature engineering"
   ]
  },
  {
   "cell_type": "markdown",
   "metadata": {},
   "source": [
    "### SelectKBest "
   ]
  },
  {
   "cell_type": "code",
   "execution_count": 17,
   "metadata": {},
   "outputs": [
    {
     "name": "stdout",
     "output_type": "stream",
     "text": [
      "91.128\n",
      "22\n"
     ]
    }
   ],
   "source": [
    "maes = []\n",
    "for num_feats in range(X_norm.shape[1], 10,  -1):\n",
    "\n",
    "    select = SelectKBest(score_func = mutual_info_regression, k = num_feats)\n",
    "    X_best = select.fit_transform(X_norm, Y.num_casos)\n",
    "    \n",
    "    X_train, X_test, y_train, y_test = train_test_split(X_best, Y.num_casos, test_size = TEST_SIZE, random_state = RANDOM_STATE)   \n",
    "\n",
    "    reg = xgb.XGBRegressor(objective = 'reg:squarederror',random_state = RANDOM_STATE) \n",
    "    reg.fit(X_train, y_train)\n",
    "    pred = reg.predict(X_test)\n",
    "    \n",
    "    r2 = r2_score(y_test,pred)\n",
    "    mae = mean_absolute_error(y_test, pred)\n",
    "    mse = np.sqrt(mean_squared_error(y_test, pred))\n",
    "    media_casos_reales = np.mean(y_test)\n",
    "    mape = mae/media_casos_reales*100\n",
    "\n",
    "    maes.append([num_feats,\n",
    "                 np.round(r2, decimals=3), np.round(mse, decimals=3), np.round(mae, decimals=3),  np.round(mape, decimals=3)])\n",
    "\n",
    "output = pd.DataFrame(maes, columns = ['num_feats','r2_score','rmse','MAE', 'MAPE'])\n",
    "best_num_feats = output.at[np.argmin(output.MAE),'num_feats']\n",
    "print(output.at[np.argmin(output.MAE),'MAE'])\n",
    "print(best_num_feats)\n",
    "\n",
    "modelado.append(['SelectKBest', 'XGBRegressor',\n",
    "                 #Xt_selP_ada.get_params(), \n",
    "                 output.at[np.argmin(output.MAE),'num_feats'],\n",
    "                 output.at[np.argmin(output.MAE),'r2_score'],\n",
    "                 output.at[np.argmin(output.MAE),'rmse'],\n",
    "                 output.at[np.argmin(output.MAE),'MAE'],\n",
    "                 output.at[np.argmin(output.MAE),'MAPE']\n",
    "                ])\n",
    "\n",
    "select_kb_xgb = SelectKBest(score_func = mutual_info_regression, k = best_num_feats)\n",
    "\n",
    "Xt_selK_xgb = select_kb_xgb.fit_transform(X_norm, Y.num_casos)"
   ]
  },
  {
   "cell_type": "raw",
   "metadata": {},
   "source": [
    "Xt_selK_xgb.shape"
   ]
  },
  {
   "cell_type": "raw",
   "metadata": {},
   "source": [
    "print(\"Dimension :\", Xt_selK_xgb.shape[1])\n",
    "print(\"Cols :\", Xt_selK_xgb.columns)\n",
    "lista_Xt_selK_xgb = Xt_selK_xgb.columns\n",
    "[lista_variables[int(x)] for x in lista_Xt_selK_xgb]"
   ]
  },
  {
   "cell_type": "markdown",
   "metadata": {},
   "source": [
    "### SelectPercentile "
   ]
  },
  {
   "cell_type": "code",
   "execution_count": 18,
   "metadata": {},
   "outputs": [
    {
     "name": "stdout",
     "output_type": "stream",
     "text": [
      "91.535\n",
      "94\n"
     ]
    }
   ],
   "source": [
    "maes = []\n",
    "for percentiles in range(99, 84,  -1):\n",
    "\n",
    "    selected_top_columns = SelectPercentile(mutual_info_regression, percentile=percentiles)\n",
    "\n",
    "    X_best_perc = selected_top_columns.fit_transform(X_norm, Y.num_casos)\n",
    "    X_train, X_test, y_train, y_test = train_test_split(X_best_perc, Y.num_casos, test_size = TEST_SIZE,\n",
    "                                                        random_state = RANDOM_STATE)                                \n",
    "    \n",
    "    reg = xgb.XGBRegressor( objective = 'reg:squarederror',random_state = RANDOM_STATE) \n",
    "    reg.fit(X_train, y_train)\n",
    "    pred = reg.predict(X_test)\n",
    "    \n",
    "    mae = mean_absolute_error(y_test, pred)\n",
    "    mse = np.sqrt(mean_squared_error(y_test, pred))\n",
    "    r2 = r2_score(y_test,pred)\n",
    "    media_casos_reales = np.mean(y_test)\n",
    "    mape = 100 * mae/np.mean(y_test)\n",
    "\n",
    "    maes.append([percentiles, \n",
    "                 np.round(r2, decimals=3), np.round(mse, decimals=3), np.round(mae, decimals=3),  np.round(mape, decimals=3)])\n",
    "                 \n",
    "output = pd.DataFrame(maes, columns = ['num_feats','r2_score','rmse','MAE', 'MAPE'])\n",
    "print(output.at[np.argmin(output.MAE),'MAE'])\n",
    "best_percentiles = output.at[np.argmin(output.MAE),'num_feats'] # percentil\n",
    "print(best_percentiles)\n",
    "\n",
    "selected_top_columns_xgb = SelectPercentile(mutual_info_regression, percentile = best_percentiles)\n",
    "\n",
    "Xt_selP_xgb = selected_top_columns_xgb.fit_transform(X_norm, Y.num_casos)\n",
    "\n",
    "modelado.append(['SelectPercentile', 'XGBRegressor',\n",
    "                 #Xt_selP_ada.get_params(), \n",
    "                 Xt_selP_xgb.shape[1], # output.at[np.argmin(output.MAE),'num_feats'],\n",
    "                 output.at[np.argmin(output.MAE),'r2_score'],\n",
    "                 output.at[np.argmin(output.MAE),'rmse'],\n",
    "                 output.at[np.argmin(output.MAE),'MAE'],\n",
    "                 output.at[np.argmin(output.MAE),'MAPE']\n",
    "                ])\n",
    "\n"
   ]
  },
  {
   "cell_type": "raw",
   "metadata": {},
   "source": [
    "print(\"Dimension :\", Xt_selP_xgb.shape[1])\n",
    "print(\"Cols :\", Xt_selP_xgb.columns)\n",
    "lista_Xt_selP_xgb = Xt_selP_xgb.columns\n",
    "[lista_variables[int(x)] for x in lista_Xt_selP_xgb]"
   ]
  },
  {
   "cell_type": "markdown",
   "metadata": {},
   "source": [
    "### SmartCorrelatedSelection"
   ]
  },
  {
   "cell_type": "code",
   "execution_count": 19,
   "metadata": {},
   "outputs": [
    {
     "name": "stdout",
     "output_type": "stream",
     "text": [
      "94.891\n",
      "0.9684615384615385\n"
     ]
    }
   ],
   "source": [
    "maes = []\n",
    "for thresholds in np.linspace(start=0.85, stop=0.99, num=14).tolist():\n",
    "\n",
    "    tr_xgbsmart = SmartCorrelatedSelection(method='spearman', threshold=thresholds,\n",
    "                                           scoring=\"neg_mean_absolute_error\", selection_method=\"model_performance\",\n",
    "                                           estimator= xgb.XGBRegressor(random_state=RANDOM_STATE)) \n",
    "\n",
    "    X_tr_xgbsmart = tr_xgbsmart.fit_transform(X_norm, Y.num_casos)\n",
    "    X_train, X_test, y_train, y_test = train_test_split(X_tr_xgbsmart, Y.num_casos,\n",
    "                                                        test_size=TEST_SIZE, random_state=RANDOM_STATE)\n",
    "    \n",
    "    reg = xgb.XGBRegressor(random_state=RANDOM_STATE)\n",
    "    reg.fit(X_train, y_train)\n",
    "    pred = reg.predict(X_test)\n",
    "    \n",
    "    mae = mean_absolute_error(y_test, pred)\n",
    "    mse = np.sqrt(mean_squared_error(y_test, pred))\n",
    "    r2 = r2_score(y_test,pred)\n",
    "    media_casos_reales = np.mean(y_test)\n",
    "    mape = mae/media_casos_reales*100\n",
    "\n",
    "    maes.append([thresholds, \n",
    "                 np.round(r2, decimals=3), np.round(mse, decimals=3), np.round(mae, decimals=3),  np.round(mape, decimals=3)])\n",
    "                 \n",
    "\n",
    "output = pd.DataFrame(maes, columns = ['num_feats','r2_score','rmse','MAE', 'MAPE'])\n",
    "\n",
    "print(output.at[np.argmin(output.MAE),'MAE'])\n",
    "best_threshold = output.at[np.argmin(output.MAE),'num_feats']# thresholds\n",
    "print(best_threshold)    \n",
    "\n",
    "tr_xgbsmart = SmartCorrelatedSelection(method='spearman',\n",
    "                                       threshold=best_threshold,\n",
    "                                       scoring=\"neg_mean_absolute_error\", selection_method=\"model_performance\",\n",
    "                                       estimator= xgb.XGBRegressor(random_state=RANDOM_STATE)) \n",
    "\n",
    "Xt_scs_xgb = tr_xgbsmart.fit_transform(X_norm, Y.num_casos)\n",
    "\n",
    "modelado.append(['SmartCorrelatedSelection', 'XGBRegressor',\n",
    "                 #Xt_selP_ada.get_params(), \n",
    "                 Xt_scs_xgb.shape[1],\n",
    "                 output.at[np.argmin(output.MAE),'r2_score'],\n",
    "                 output.at[np.argmin(output.MAE),'rmse'],\n",
    "                 output.at[np.argmin(output.MAE),'MAE'],\n",
    "                 output.at[np.argmin(output.MAE),'MAPE']\n",
    "                ])"
   ]
  },
  {
   "cell_type": "code",
   "execution_count": 20,
   "metadata": {},
   "outputs": [
    {
     "name": "stdout",
     "output_type": "stream",
     "text": [
      "Dimension : 28\n",
      "Cols : Index(['1', '2', '4', '6', '7', '9', '11', '12', '15', '17', '18', '19', '21',\n",
      "       '22', '23', '24', '25', '26', '28', '29', '30', '31', '32', '34', '35',\n",
      "       '36', '37', '38'],\n",
      "      dtype='object')\n"
     ]
    },
    {
     "data": {
      "text/plain": [
       "['v_cortos',\n",
       " 'v_medios',\n",
       " 'v_muy_largos',\n",
       " 'v_noche',\n",
       " 'v_madrugada',\n",
       " 'v_mediodia',\n",
       " 'v_tarde',\n",
       " 'v_km_muy_cortos',\n",
       " 'v_km_largos',\n",
       " 'v_km_extra_largos',\n",
       " 'v_km_noche',\n",
       " 'v_km_madrugada',\n",
       " 'v_km_mediodia',\n",
       " 'v_km_sobremesa',\n",
       " 'v_km_tarde',\n",
       " 'cero_viajes',\n",
       " 'un_viaje',\n",
       " 'dos_viajes',\n",
       " 'altitud',\n",
       " 'velmedia',\n",
       " 'tmin',\n",
       " 'tmed',\n",
       " 'tmax',\n",
       " 'presMax',\n",
       " 'sol',\n",
       " 'prec',\n",
       " 'hr',\n",
       " 'poblacion']"
      ]
     },
     "execution_count": 20,
     "metadata": {},
     "output_type": "execute_result"
    }
   ],
   "source": [
    "print(\"Dimension :\", Xt_scs_xgb.shape[1])\n",
    "print(\"Cols :\", Xt_scs_xgb.columns)\n",
    "lista_Xt_scs_xgb = Xt_scs_xgb.columns\n",
    "[lista_variables[int(x)] for x in lista_Xt_scs_xgb]"
   ]
  },
  {
   "cell_type": "raw",
   "metadata": {},
   "source": [
    "metricas_scs_xgb = modelo(Xt_scs_xgb, labels)\n",
    "metricas_scs_xgb"
   ]
  },
  {
   "cell_type": "markdown",
   "metadata": {},
   "source": [
    "### DropCorrelatedFeatures"
   ]
  },
  {
   "cell_type": "code",
   "execution_count": 21,
   "metadata": {},
   "outputs": [
    {
     "name": "stdout",
     "output_type": "stream",
     "text": [
      "94.169\n",
      "0.9469230769230769\n",
      "DropCorrelatedFeatures took 6.43 seconds for Xt_dcf_xgb  .\n",
      "Dim:  26  |  r2:  0.861  |  MSE:  219.33  |  MAE:  94.169\n"
     ]
    }
   ],
   "source": [
    "start = time.time()\n",
    "maes = []\n",
    "for thresholds in np.linspace(start=0.85, stop=0.99, num=14).tolist():\n",
    "\n",
    "    trh_dcf = DropCorrelatedFeatures(variables=None, method='spearman',\n",
    "                                     threshold=thresholds)\n",
    "    X_best_dcf = trh_dcf.fit_transform(X_norm, Y.num_casos)\n",
    "    X_train, X_test, y_train, y_test = train_test_split(X_best_dcf, Y.num_casos,\n",
    "                                                        test_size = TEST_SIZE,\n",
    "                                                        random_state = RANDOM_STATE)                                \n",
    "    \n",
    "    reg = xgb.XGBRegressor( objective = 'reg:squarederror',random_state = RANDOM_STATE) \n",
    "    reg.fit(X_train, y_train)\n",
    "    pred = reg.predict(X_test)\n",
    "    \n",
    "    mae = mean_absolute_error(y_test, pred)\n",
    "    mse = np.sqrt(mean_squared_error(y_test, pred))\n",
    "    r2 = r2_score(y_test,pred)\n",
    "    media_casos_reales = np.mean(y_test)\n",
    "    mape = mae/media_casos_reales*100\n",
    "\n",
    "    maes.append([thresholds, \n",
    "                 np.round(r2, decimals=3), np.round(mse, decimals=3), np.round(mae, decimals=3),  np.round(mape, decimals=3)])\n",
    "                 \n",
    "output = pd.DataFrame(maes, columns = ['num_feats','r2_score','rmse','MAE', 'MAPE'])\n",
    "\n",
    "print(output.at[np.argmin(output.MAE),'MAE'])\n",
    "best_threshold = output.at[np.argmin(output.MAE),'num_feats']\n",
    "print(best_threshold)    \n",
    "print(\"DropCorrelatedFeatures took %.2f seconds for Xt_dcf_xgb  .\" % ((time.time() - start)))\n",
    "\n",
    "tr_dcf = DropCorrelatedFeatures(variables=None, method='spearman', threshold=best_threshold)\n",
    "\n",
    "Xt_dcf_xgb = tr_dcf.fit_transform(X_norm, Y.num_casos)\n",
    "\n",
    "modelado.append(['DropCorrelatedFeatures', 'XGBRegressor',\n",
    "                 #Xt_selP_ada.get_params(), \n",
    "                 Xt_dcf_xgb.shape[1],\n",
    "                 output.at[np.argmin(output.MAE),'r2_score'],\n",
    "                 output.at[np.argmin(output.MAE),'rmse'],\n",
    "                 output.at[np.argmin(output.MAE),'MAE'],\n",
    "                 output.at[np.argmin(output.MAE),'MAPE']\n",
    "                ])\n",
    "print ('Dim: ', Xt_dcf_xgb.shape[1],' | ', 'r2: ',output.at[np.argmin(output.MAE),'r2_score'],' | ',\n",
    "       'MSE: ',output.at[np.argmin(output.MAE),'rmse'], ' | ', \n",
    "       'MAE: ',output.at[np.argmin(output.MAE),'MAE'])"
   ]
  },
  {
   "cell_type": "code",
   "execution_count": 22,
   "metadata": {},
   "outputs": [
    {
     "name": "stdout",
     "output_type": "stream",
     "text": [
      "Dimension : 26\n",
      "Cols : Index(['0', '1', '2', '3', '4', '5', '6', '7', '9', '18', '19', '20', '22',\n",
      "       '23', '24', '25', '26', '28', '29', '30', '31', '33', '35', '36', '37',\n",
      "       '38'],\n",
      "      dtype='object')\n"
     ]
    },
    {
     "data": {
      "text/plain": [
       "['v_muy_cortos',\n",
       " 'v_cortos',\n",
       " 'v_medios',\n",
       " 'v_largos',\n",
       " 'v_muy_largos',\n",
       " 'v_extra_largos',\n",
       " 'v_noche',\n",
       " 'v_madrugada',\n",
       " 'v_mediodia',\n",
       " 'v_km_noche',\n",
       " 'v_km_madrugada',\n",
       " 'v_km_mañana',\n",
       " 'v_km_sobremesa',\n",
       " 'v_km_tarde',\n",
       " 'cero_viajes',\n",
       " 'un_viaje',\n",
       " 'dos_viajes',\n",
       " 'altitud',\n",
       " 'velmedia',\n",
       " 'tmin',\n",
       " 'tmed',\n",
       " 'presMin',\n",
       " 'sol',\n",
       " 'prec',\n",
       " 'hr',\n",
       " 'poblacion']"
      ]
     },
     "execution_count": 22,
     "metadata": {},
     "output_type": "execute_result"
    }
   ],
   "source": [
    "print(\"Dimension :\", Xt_dcf_xgb.shape[1])\n",
    "print(\"Cols :\", Xt_dcf_xgb.columns)\n",
    "lista_Xt_dcf_xgb = Xt_dcf_xgb.columns\n",
    "[lista_variables[int(x)] for x in lista_Xt_dcf_xgb]"
   ]
  },
  {
   "cell_type": "raw",
   "metadata": {},
   "source": [
    "metricas_dcf_xgb = modelo(Xt_dcf_xgb, labels)\n",
    "metricas_dcf_xgb"
   ]
  },
  {
   "cell_type": "markdown",
   "metadata": {},
   "source": [
    "### RecursiveFeatureAddition "
   ]
  },
  {
   "cell_type": "code",
   "execution_count": 24,
   "metadata": {
    "scrolled": true
   },
   "outputs": [
    {
     "name": "stdout",
     "output_type": "stream",
     "text": [
      "RecursiveFeatureAddition took 35.79 seconds for Xt_trrec_ad  .\n",
      "16 <function r2_score at 0x7fd0238754c0> 232.61984373021198 92.86513350264164\n",
      "Dim:  16  |  r2:  0.8441588401934843  |  MSE:  232.61984373021198  |  MAE:  92.86513350264164\n"
     ]
    }
   ],
   "source": [
    "start = time.time()\n",
    "\n",
    "trrec_ad = RecursiveFeatureAddition(estimator=xgb.XGBRegressor(random_state=RANDOM_STATE),\n",
    "                                    scoring =\"neg_mean_absolute_error\",\n",
    "                                    cv=kfcv)\n",
    "\n",
    "Xt_rfa_xgb = trrec_ad.fit_transform(X_norm, labels)\n",
    "\n",
    "print(\"RecursiveFeatureAddition took %.2f seconds for Xt_trrec_ad  .\" % ((time.time() - start)))\n",
    "\n",
    "X_train, X_test, y_train, y_test = train_test_split(Xt_rfa_xgb, labels,\n",
    "                                                    test_size = TEST_SIZE, random_state = RANDOM_STATE)\n",
    "\n",
    "reg = xgb.XGBRegressor(random_state = RANDOM_STATE)\n",
    "reg.fit(X_train, y_train)\n",
    "pred = reg.predict(X_test)\n",
    "\n",
    "mae = mean_absolute_error(y_test, pred)\n",
    "mape = mae / np.mean(y_test)*100\n",
    "mse = np.sqrt(mean_squared_error(y_test, pred))\n",
    "r2 = r2_score(y_test, pred)\n",
    "r2_train_ = reg.score(X_train, y_train)\n",
    "\n",
    "print (Xt_rfa_xgb.shape[1], r2_score, mse, mae)\n",
    "                 \n",
    "modelado.append(['RecursiveFeatureAddition', 'XGBRegressor',\n",
    "                 #reg.get_params(),\n",
    "                 Xt_rfa_xgb.shape[1],\n",
    "                 np.round(r2, decimals=3), np.round(mse, decimals=3), np.round(mae, decimals=3),  np.round(mape, decimals=3)])\n",
    "\n",
    "print ( 'Dim: ', Xt_rfa_xgb.shape[1],' | ', 'r2: ',r2,' | ', 'MSE: ',mse, ' | ', 'MAE: ',mae)"
   ]
  },
  {
   "cell_type": "code",
   "execution_count": 25,
   "metadata": {},
   "outputs": [
    {
     "name": "stdout",
     "output_type": "stream",
     "text": [
      "Dimension : 16\n",
      "Cols : Index(['1', '4', '6', '7', '9', '10', '11', '14', '18', '19', '20', '21', '23',\n",
      "       '32', '37', '38'],\n",
      "      dtype='object')\n"
     ]
    },
    {
     "data": {
      "text/plain": [
       "['v_cortos',\n",
       " 'v_muy_largos',\n",
       " 'v_noche',\n",
       " 'v_madrugada',\n",
       " 'v_mediodia',\n",
       " 'v_sobremesa',\n",
       " 'v_tarde',\n",
       " 'v_km_medios',\n",
       " 'v_km_noche',\n",
       " 'v_km_madrugada',\n",
       " 'v_km_mañana',\n",
       " 'v_km_mediodia',\n",
       " 'v_km_tarde',\n",
       " 'tmax',\n",
       " 'hr',\n",
       " 'poblacion']"
      ]
     },
     "execution_count": 25,
     "metadata": {},
     "output_type": "execute_result"
    }
   ],
   "source": [
    "print(\"Dimension :\", Xt_rfa_xgb.shape[1])\n",
    "print(\"Cols :\", Xt_rfa_xgb.columns)\n",
    "lista_Xt_rfa_xgb = Xt_rfa_xgb.columns\n",
    "[lista_variables[int(x)] for x in lista_Xt_rfa_xgb]"
   ]
  },
  {
   "cell_type": "markdown",
   "metadata": {},
   "source": [
    "### RecursiveFeatureElimination"
   ]
  },
  {
   "cell_type": "code",
   "execution_count": 26,
   "metadata": {},
   "outputs": [
    {
     "name": "stdout",
     "output_type": "stream",
     "text": [
      "RecursiveFeatureElimination took 79.11 seconds for Xt_rfe_xgb  .\n",
      "Dim:  28  |  r2:  0.8241880072131096  |  MSE:  247.07563607774316  |  MAE:  97.11712941709773\n"
     ]
    }
   ],
   "source": [
    "start = time.time()\n",
    "\n",
    "trrec = RecursiveFeatureElimination(estimator=xgb.XGBRegressor(random_state=RANDOM_STATE),\n",
    "                                    scoring=\"neg_mean_absolute_error\",\n",
    "                                    cv=kfcv)\n",
    "\n",
    "Xt_rfe_xgb = trrec.fit_transform(X_norm, labels)\n",
    "print(\"RecursiveFeatureElimination took %.2f seconds for Xt_rfe_xgb  .\" % ((time.time() - start)))\n",
    "\n",
    "X_train, X_test, y_train, y_test = train_test_split(Xt_rfe_xgb, labels, test_size = TEST_SIZE, random_state = RANDOM_STATE)\n",
    "\n",
    "reg = xgb.XGBRegressor(random_state = RANDOM_STATE)\n",
    "reg.fit(X_train, y_train)\n",
    "pred = reg.predict(X_test)\n",
    "\n",
    "mae = mean_absolute_error(y_test, pred)\n",
    "mape = mae / np.mean(y_test)*100\n",
    "mse = np.sqrt(mean_squared_error(y_test, pred))\n",
    "r2 = r2_score(y_test, pred)\n",
    "r2_train_ = reg.score(X_train, y_train)\n",
    "\n",
    "print ( 'Dim: ', Xt_rfe_xgb.shape[1],' | ', 'r2: ',r2,' | ', 'MSE: ',mse, ' | ', 'MAE: ',mae)\n",
    "\n",
    "modelado.append(['RecursiveFeatureElimination', 'XGBRegressor', #reg.get_params(),\n",
    "                 Xt_rfe_xgb.shape[1],\n",
    "                 np.round(r2, decimals=3), np.round(mse, decimals=3), np.round(mae, decimals=3),  np.round(mape, decimals=3)])"
   ]
  },
  {
   "cell_type": "raw",
   "metadata": {},
   "source": [
    "# print the selected features\n",
    "print(Xt_rfe_xgb.support_)\n",
    "print(Xt_rfe_xgb.ranking_)"
   ]
  },
  {
   "cell_type": "raw",
   "metadata": {},
   "source": [
    "selected_features = lista_variables[trrec.support_]\n",
    "print(selected_features)"
   ]
  },
  {
   "cell_type": "code",
   "execution_count": 27,
   "metadata": {},
   "outputs": [
    {
     "name": "stdout",
     "output_type": "stream",
     "text": [
      "Dimension : (7077, 28)\n",
      "Cols : Index(['0', '2', '3', '4', '5', '6', '7', '8', '9', '10', '11', '12', '13',\n",
      "       '14', '15', '18', '19', '20', '22', '23', '24', '25', '30', '31', '32',\n",
      "       '34', '37', '38'],\n",
      "      dtype='object')\n"
     ]
    },
    {
     "data": {
      "text/plain": [
       "['v_muy_cortos',\n",
       " 'v_medios',\n",
       " 'v_largos',\n",
       " 'v_muy_largos',\n",
       " 'v_extra_largos',\n",
       " 'v_noche',\n",
       " 'v_madrugada',\n",
       " 'v_mañana',\n",
       " 'v_mediodia',\n",
       " 'v_sobremesa',\n",
       " 'v_tarde',\n",
       " 'v_km_muy_cortos',\n",
       " 'v_km_cortos',\n",
       " 'v_km_medios',\n",
       " 'v_km_largos',\n",
       " 'v_km_noche',\n",
       " 'v_km_madrugada',\n",
       " 'v_km_mañana',\n",
       " 'v_km_sobremesa',\n",
       " 'v_km_tarde',\n",
       " 'cero_viajes',\n",
       " 'un_viaje',\n",
       " 'tmin',\n",
       " 'tmed',\n",
       " 'tmax',\n",
       " 'presMax',\n",
       " 'hr',\n",
       " 'poblacion']"
      ]
     },
     "execution_count": 27,
     "metadata": {},
     "output_type": "execute_result"
    }
   ],
   "source": [
    "print(\"Dimension :\", Xt_rfe_xgb.shape)\n",
    "print(\"Cols :\", Xt_rfe_xgb.columns)\n",
    "lista_Xt_rfe_xgb = Xt_rfe_xgb.columns\n",
    "[lista_variables[int(x)] for x in lista_Xt_rfe_xgb]"
   ]
  },
  {
   "cell_type": "markdown",
   "metadata": {},
   "source": [
    "## AdaBoost feature engineering"
   ]
  },
  {
   "cell_type": "markdown",
   "metadata": {},
   "source": [
    "### SelectKBest "
   ]
  },
  {
   "cell_type": "code",
   "execution_count": 28,
   "metadata": {},
   "outputs": [
    {
     "name": "stdout",
     "output_type": "stream",
     "text": [
      "86.974\n",
      "SelectKBest took 317.47 seconds for Xt_selK_ada  .\n",
      "Dim:  27  |  r2:  0.8558827068881103  |  MSE:  223.69883482028956  |  MAE:  94.78951183114404\n"
     ]
    }
   ],
   "source": [
    "start = time.time()\n",
    "maes = []\n",
    "for num_feats in range(X_norm.shape[1], 10,  -1):\n",
    "\n",
    "    select = SelectKBest(score_func = mutual_info_regression, k = num_feats)\n",
    "    X_best = select.fit_transform(X_norm, Y.num_casos)\n",
    "    \n",
    "    X_train, X_test, y_train, y_test = train_test_split(X_best, Y.num_casos, test_size = TEST_SIZE, random_state = RANDOM_STATE)   \n",
    "    \n",
    "    reg = AdaBoostRegressor(xgb.XGBRegressor(random_state=RANDOM_STATE), random_state=RANDOM_STATE)\n",
    "    reg.fit(X_train, y_train)\n",
    "    pred = reg.predict(X_test)\n",
    "    \n",
    "    r2 = r2_score(y_test,pred)\n",
    "    mae = mean_absolute_error(y_test, pred)\n",
    "    mse = np.sqrt(mean_squared_error(y_test, pred))\n",
    "    mape = mae / np.mean(y_test)*100\n",
    "\n",
    "    maes.append([num_feats,\n",
    "                 np.round(r2, decimals=3), np.round(mse, decimals=3), np.round(mae, decimals=3),  np.round(mape, decimals=3)])\n",
    "\n",
    "output = pd.DataFrame(maes, columns = ['num_feats','r2_score','rmse','MAE', 'MAPE'])\n",
    "bestK_ada = output.at[np.argmin(output.MAE),'num_feats']\n",
    "\n",
    "select_kb_ada = SelectKBest(score_func = mutual_info_regression, k = bestK_ada)\n",
    "Xt_selK_ada = select_kb_ada.fit_transform(X_norm, Y.num_casos)\n",
    "\n",
    "print(output.at[np.argmin(output.MAE),'MAE'])\n",
    "print(\"SelectKBest took %.2f seconds for Xt_selK_ada  .\" % ((time.time() - start)))\n",
    "print ( 'Dim: ', Xt_selK_ada.shape[1],' | ', 'r2: ',r2,' | ', 'MSE: ',mse, ' | ', 'MAE: ',mae)\n",
    "\n",
    "modelado.append(['SelectKBest', 'AdaBoost(xgb)',  #Xt_selP_ada.get_params(),\n",
    "                 bestK_ada, #Xt_selK_ada.shape[1], \n",
    "                 output.at[np.argmin(output.MAE),'r2_score'],\n",
    "                 output.at[np.argmin(output.MAE),'rmse'],\n",
    "                 output.at[np.argmin(output.MAE),'MAE'],\n",
    "                 output.at[np.argmin(output.MAE),'MAPE']\n",
    "                ])"
   ]
  },
  {
   "cell_type": "code",
   "execution_count": 29,
   "metadata": {},
   "outputs": [
    {
     "name": "stdout",
     "output_type": "stream",
     "text": [
      "Dimension : (7077, 27)\n"
     ]
    }
   ],
   "source": [
    "print(\"Dimension :\", Xt_selK_ada.shape)\n"
   ]
  },
  {
   "cell_type": "markdown",
   "metadata": {},
   "source": [
    "### SelectPercentile "
   ]
  },
  {
   "cell_type": "code",
   "execution_count": 30,
   "metadata": {},
   "outputs": [
    {
     "name": "stdout",
     "output_type": "stream",
     "text": [
      "88.637\n",
      "SelectPercentile took 186.14 seconds for Xt_selP_ada  .\n",
      "Dim:  36  |  r2:  0.869  |  MSE:  212.938  |  MAE:  88.637\n"
     ]
    }
   ],
   "source": [
    "start = time.time()\n",
    "maes = []\n",
    "for percentiles in range(99, 84,  -1):\n",
    "\n",
    "    selected_top_columns = SelectPercentile(mutual_info_regression, percentile=percentiles)\n",
    "\n",
    "    X_best_perc = selected_top_columns.fit_transform(X_norm, Y.num_casos)\n",
    "    X_train, X_test, y_train, y_test = train_test_split(X_best_perc, Y.num_casos, test_size = TEST_SIZE,\n",
    "                                                        random_state = RANDOM_STATE)                                \n",
    "    \n",
    "    reg = AdaBoostRegressor(xgb.XGBRegressor(random_state=RANDOM_STATE), random_state=RANDOM_STATE) \n",
    "    reg.fit(X_train, y_train)\n",
    "    pred = reg.predict(X_test)\n",
    "    \n",
    "    r2 = r2_score(y_test,pred)\n",
    "    mae = mean_absolute_error(y_test, pred)\n",
    "    mse = np.sqrt(mean_squared_error(y_test, pred))\n",
    "    mape = mae / np.mean(y_test)*100\n",
    "  \n",
    "    maes.append([percentiles, \n",
    "                 np.round(r2, decimals=3), np.round(mse, decimals=3), np.round(mae, decimals=3),  np.round(mape, decimals=3)])\n",
    "\n",
    "output = pd.DataFrame(maes, columns = ['num_feats','r2_score','rmse','MAE','MAPE']) \n",
    "bestP_ada = output.at[np.argmin(output.MAE),'num_feats']\n",
    "print(output.at[np.argmin(output.MAE),'MAE'])\n",
    "print(\"SelectPercentile took %.2f seconds for Xt_selP_ada  .\" % ((time.time() - start)))\n",
    "\n",
    "selected_top_columns_ada = SelectPercentile(mutual_info_regression, percentile = bestP_ada)\n",
    "\n",
    "Xt_selP_ada = selected_top_columns_ada.fit_transform(X_norm, Y.num_casos)\n",
    "print ('Dim: ', Xt_selP_ada.shape[1],' | ',\n",
    "       'r2: ',output.at[np.argmin(output.MAE),'r2_score'],' | ',\n",
    "       'MSE: ',output.at[np.argmin(output.MAE),'rmse'], ' | ',\n",
    "       'MAE: ',output.at[np.argmin(output.MAE),'MAE'])\n",
    "\n",
    "modelado.append(['SelectPercentile', 'AdaBoost(xgbr)',  #Xt_selP_ada.get_params(), \n",
    "                 Xt_selP_ada.shape[1],\n",
    "                 output.at[np.argmin(output.MAE),'r2_score'],\n",
    "                 output.at[np.argmin(output.MAE),'rmse'],\n",
    "                 output.at[np.argmin(output.MAE),'MAE'],\n",
    "                 output.at[np.argmin(output.MAE),'MAPE']\n",
    "                ])"
   ]
  },
  {
   "cell_type": "markdown",
   "metadata": {},
   "source": [
    "### SmartCorrelatedSelection"
   ]
  },
  {
   "cell_type": "code",
   "execution_count": 31,
   "metadata": {},
   "outputs": [
    {
     "name": "stdout",
     "output_type": "stream",
     "text": [
      "SmartCorrelatedSelection took 238.10 seconds for Xt_scs_ada  .\n",
      "89.894\n",
      "0.9684615384615385\n",
      "Dim:  28  |  r2:  0.875  |  MSE:  208.221  |  MAE:  89.894\n"
     ]
    }
   ],
   "source": [
    "start = time.time()\n",
    "maes = []\n",
    "for thresholds in np.linspace(start=0.85, stop=0.99, num=14).tolist():\n",
    "\n",
    "    tr_xgbsmart = SmartCorrelatedSelection(method='spearman', threshold=thresholds,\n",
    "                                           scoring=\"neg_mean_absolute_error\", selection_method=\"model_performance\",\n",
    "                                           estimator= xgb.XGBRegressor(random_state=RANDOM_STATE)) \n",
    "\n",
    "    X_tr_xgbsmart = tr_xgbsmart.fit_transform(X_norm, Y.num_casos)\n",
    "    X_train, X_test, y_train, y_test = train_test_split(X_tr_xgbsmart, Y.num_casos,\n",
    "                                                        test_size=TEST_SIZE, random_state=RANDOM_STATE)\n",
    "    \n",
    "    reg = AdaBoostRegressor(xgb.XGBRegressor(random_state=RANDOM_STATE), random_state=RANDOM_STATE)\n",
    "    reg.fit(X_train, y_train)\n",
    "    pred = reg.predict(X_test)\n",
    "    \n",
    "    r2 = r2_score(y_test,pred)\n",
    "    mae = mean_absolute_error(y_test, pred)\n",
    "    mse = np.sqrt(mean_squared_error(y_test, pred))\n",
    "    mape = mae / np.mean(y_test)*100\n",
    "    \n",
    "    maes.append([thresholds,\n",
    "                 np.round(r2, decimals=3), np.round(mse, decimals=3), np.round(mae, decimals=3),  np.round(mape, decimals=3)])\n",
    "\n",
    "print(\"SmartCorrelatedSelection took %.2f seconds for Xt_scs_ada  .\" % ((time.time() - start)))\n",
    "\n",
    "output = pd.DataFrame(maes, columns=['num_feats','r2_score','rmse','MAE', 'MAPE'])\n",
    "print(output.at[np.argmin(output.MAE),'MAE'])\n",
    "print(output.at[np.argmin(output.MAE),'num_feats'])\n",
    "\n",
    "best_thrsh_ada = output.at[np.argmin(output.MAE),'num_feats']\n",
    "\n",
    "tr_adasmart = SmartCorrelatedSelection(method='spearman', \n",
    "                                       threshold=best_thrsh_ada,\n",
    "                                       scoring=\"neg_mean_absolute_error\",\n",
    "                                       selection_method=\"model_performance\",\n",
    "                                       estimator= xgb.XGBRegressor(random_state=RANDOM_STATE)) \n",
    "\n",
    "Xt_scs_ada = tr_adasmart.fit_transform(X_norm, Y.num_casos)\n",
    "\n",
    "print ('Dim: ', Xt_scs_ada.shape[1],' | ',\n",
    "       'r2: ',output.at[np.argmin(output.MAE),'r2_score'],' | ',\n",
    "       'MSE: ',output.at[np.argmin(output.MAE),'rmse'], ' | ',\n",
    "       'MAE: ',output.at[np.argmin(output.MAE),'MAE'])\n",
    "\n",
    "modelado.append(['SmartCorrelatedSelection', 'AdaBoost(xgbr)',#   Xt_scs_ada.get_params(), \n",
    "                 Xt_scs_ada.shape[1],\n",
    "                 output.at[np.argmin(output.MAE),'r2_score'],\n",
    "                 output.at[np.argmin(output.MAE),'rmse'],\n",
    "                 output.at[np.argmin(output.MAE),'MAE'],\n",
    "                 output.at[np.argmin(output.MAE),'MAPE']\n",
    "                ])"
   ]
  },
  {
   "cell_type": "markdown",
   "metadata": {},
   "source": [
    "### DropCorrelatedFeatures "
   ]
  },
  {
   "cell_type": "code",
   "execution_count": 32,
   "metadata": {},
   "outputs": [
    {
     "name": "stdout",
     "output_type": "stream",
     "text": [
      "DropCorrelatedFeatures took 152.60 seconds for Xt_dcf_ada  .\n",
      "91.492\n",
      "0.9684615384615385\n",
      "Dim:  28  |  r2:  0.858  |  MSE:  222.44  |  MAE:  91.492\n"
     ]
    }
   ],
   "source": [
    "start = time.time()\n",
    "maes = []\n",
    "for thresholds in np.linspace(start=0.85, stop=0.99, num=14).tolist():\n",
    "\n",
    "    trh_dcf = DropCorrelatedFeatures(variables=None, method='spearman', threshold=thresholds)\n",
    "    X_best_dcf = trh_dcf.fit_transform(X_norm, Y.num_casos)\n",
    "    X_train, X_test, y_train, y_test = train_test_split(X_best_dcf, Y.num_casos,\n",
    "                                                        test_size = TEST_SIZE,\n",
    "                                                        random_state = RANDOM_STATE)                                \n",
    "    \n",
    "    reg = AdaBoostRegressor(xgb.XGBRegressor(random_state=RANDOM_STATE), random_state=RANDOM_STATE)\n",
    "    reg.fit(X_train, y_train)\n",
    "    pred = reg.predict(X_test)\n",
    "\n",
    "    r2 = r2_score(y_test,pred)\n",
    "    mae = mean_absolute_error(y_test, pred)\n",
    "    mse = np.sqrt(mean_squared_error(y_test, pred))\n",
    "    mape = mae / np.mean(y_test)*100\n",
    "    \n",
    "    maes.append([thresholds, \n",
    "                 np.round(r2, decimals=3), np.round(mse, decimals=3), np.round(mae, decimals=3),  np.round(mape, decimals=3)])\n",
    "\n",
    "print(\"DropCorrelatedFeatures took %.2f seconds for Xt_dcf_ada  .\" % ((time.time() - start)))\n",
    "\n",
    "output = pd.DataFrame(maes, columns =  ['num_feats','r2_score','rmse','MAE', 'MAPE']) \n",
    "print(output.at[np.argmin(output.MAE),'MAE'])\n",
    "print(output.at[np.argmin(output.MAE),'num_feats'])\n",
    "\n",
    "best_dc_thrsh_ada = output.at[np.argmin(output.MAE),'num_feats']\n",
    "\n",
    "tr_dcf_ada = DropCorrelatedFeatures(variables=None, method='spearman', threshold = best_dc_thrsh_ada)\n",
    "Xt_dcf_ada = tr_dcf_ada.fit_transform(X_norm, Y.num_casos)\n",
    "\n",
    "print ('Dim: ', Xt_dcf_ada.shape[1],' | ',\n",
    "       'r2: ',output.at[np.argmin(output.MAE),'r2_score'],' | ',\n",
    "       'MSE: ',output.at[np.argmin(output.MAE),'rmse'], ' | ',\n",
    "       'MAE: ',output.at[np.argmin(output.MAE),'MAE'])\n",
    "\n",
    "modelado.append(['DropCorrelatedFeatures', 'AdaBoost(xgbr)',  #Xt_dcf_ada.get_params(), \n",
    "                 Xt_dcf_ada.shape[1],\n",
    "                 output.at[np.argmin(output.MAE),'r2_score'],\n",
    "                 output.at[np.argmin(output.MAE),'rmse'],\n",
    "                 output.at[np.argmin(output.MAE),'MAE'],\n",
    "                 output.at[np.argmin(output.MAE),'MAPE']\n",
    "                ])"
   ]
  },
  {
   "cell_type": "markdown",
   "metadata": {},
   "source": [
    "### RecursiveFeatureAddition "
   ]
  },
  {
   "cell_type": "code",
   "execution_count": 33,
   "metadata": {},
   "outputs": [
    {
     "name": "stdout",
     "output_type": "stream",
     "text": [
      "RecursiveFeatureAddition took 1630.33 seconds for Xt_rfa_ada  .\n"
     ]
    }
   ],
   "source": [
    "start = time.time() # 1729.74 seconds\n",
    "\n",
    "trrec_ada = RecursiveFeatureAddition(\n",
    "    estimator = AdaBoostRegressor(\n",
    "        xgb.XGBRegressor(random_state=RANDOM_STATE), random_state=RANDOM_STATE),\n",
    "    scoring =\"neg_mean_absolute_error\", \n",
    "    cv = kfcv)\n",
    "\n",
    "Xt_rfa_ada = trrec_ada.fit_transform(X_norm, Y.num_casos)\n",
    "\n",
    "print(\"RecursiveFeatureAddition took %.2f seconds for Xt_rfa_ada  .\" % ((time.time() - start)))"
   ]
  },
  {
   "cell_type": "code",
   "execution_count": 34,
   "metadata": {},
   "outputs": [
    {
     "name": "stdout",
     "output_type": "stream",
     "text": [
      "20 0.8557719897308969 223.7847458984346 89.76567072045276 41.5621669377516\n"
     ]
    }
   ],
   "source": [
    "X_train, X_test, y_train, y_test = train_test_split(Xt_rfa_ada, labels,\n",
    "                                                    test_size = TEST_SIZE, random_state = RANDOM_STATE)\n",
    "\n",
    "ada_xgb_rfa = AdaBoostRegressor(\n",
    "    xgb.XGBRegressor(random_state=RANDOM_STATE), random_state=RANDOM_STATE)\n",
    "\n",
    "ada_xgb_rfa.fit(X_train, y_train)\n",
    "pred = ada_xgb_rfa.predict(X_test)\n",
    "\n",
    "r2 = r2_score(y_test, pred)\n",
    "mae = mean_absolute_error(y_test, pred)\n",
    "mse = np.sqrt(mean_squared_error(y_test, pred))\n",
    "mape =100 *  mae / np.mean(y_test)\n",
    "\n",
    "print (Xt_rfa_ada.shape[1], \n",
    "       r2 , mse , mae, mape )\n",
    "\n",
    "modelado.append(['RecursiveFeatureAddition', 'AdaBoost(xgbr)', \n",
    "                 #reg3.get_params(), \n",
    "                 Xt_rfa_ada.shape[1], \n",
    "                 np.round(r2, decimals=3), np.round(mse, decimals=3), np.round(mae, decimals=3),  np.round(mape, decimals=3)])\n"
   ]
  },
  {
   "cell_type": "code",
   "execution_count": 35,
   "metadata": {},
   "outputs": [
    {
     "name": "stdout",
     "output_type": "stream",
     "text": [
      "Dimension : (7077, 20)\n",
      "Cols : Index(['3', '4', '6', '7', '8', '9', '10', '11', '12', '13', '15', '17', '18',\n",
      "       '19', '22', '23', '24', '31', '37', '38'],\n",
      "      dtype='object')\n"
     ]
    },
    {
     "data": {
      "text/plain": [
       "['v_largos',\n",
       " 'v_muy_largos',\n",
       " 'v_noche',\n",
       " 'v_madrugada',\n",
       " 'v_mañana',\n",
       " 'v_mediodia',\n",
       " 'v_sobremesa',\n",
       " 'v_tarde',\n",
       " 'v_km_muy_cortos',\n",
       " 'v_km_cortos',\n",
       " 'v_km_largos',\n",
       " 'v_km_extra_largos',\n",
       " 'v_km_noche',\n",
       " 'v_km_madrugada',\n",
       " 'v_km_sobremesa',\n",
       " 'v_km_tarde',\n",
       " 'cero_viajes',\n",
       " 'tmed',\n",
       " 'hr',\n",
       " 'poblacion']"
      ]
     },
     "execution_count": 35,
     "metadata": {},
     "output_type": "execute_result"
    }
   ],
   "source": [
    "print(\"Dimension :\", Xt_rfa_ada.shape)\n",
    "print(\"Cols :\", Xt_rfa_ada.columns)\n",
    "lista = Xt_rfa_ada.columns\n",
    "[lista_variables[int(x)] for x in lista]"
   ]
  },
  {
   "cell_type": "markdown",
   "metadata": {},
   "source": [
    "\n",
    "### RecursiveFeatureElimination"
   ]
  },
  {
   "cell_type": "code",
   "execution_count": 36,
   "metadata": {},
   "outputs": [
    {
     "name": "stdout",
     "output_type": "stream",
     "text": [
      "RecursiveFeatureElimination took 3080.97 seconds for Xt_rfe_ada  .\n"
     ]
    }
   ],
   "source": [
    "start = time.time()\n",
    "\n",
    "trrfe = RecursiveFeatureElimination(\n",
    "    estimator = AdaBoostRegressor(\n",
    "        xgb.XGBRegressor(random_state=RANDOM_STATE),random_state=RANDOM_STATE),\n",
    "    scoring = \"neg_mean_absolute_error\", \n",
    "    cv = kfcv)\n",
    "\n",
    "Xt_rfe_ada = trrfe.fit_transform(X_norm, Y.num_casos)\n",
    "\n",
    "print(\"RecursiveFeatureElimination took %.2f seconds for Xt_rfe_ada  .\" % ((time.time() - start)))"
   ]
  },
  {
   "cell_type": "code",
   "execution_count": 37,
   "metadata": {},
   "outputs": [
    {
     "name": "stdout",
     "output_type": "stream",
     "text": [
      "Dim:  26  |  r2:  0.8900974273596944  |  MSE:  195.34828514270652  |  MAE:  88.08862347954187\n"
     ]
    }
   ],
   "source": [
    "X_train, X_test, y_train, y_test = train_test_split(\n",
    "    Xt_rfe_ada, Y.num_casos, test_size = TEST_SIZE, random_state = RANDOM_STATE)\n",
    "\n",
    "ada_xgb_rfe = AdaBoostRegressor(xgb.XGBRegressor(random_state=RANDOM_STATE),\n",
    "                                random_state=RANDOM_STATE)\n",
    "\n",
    "ada_xgb_rfe.fit(X_train, y_train)\n",
    "pred = ada_xgb_rfe.predict(X_test)\n",
    "\n",
    "mae = mean_absolute_error(y_test, pred)\n",
    "mape = mae / np.mean(y_test)*100\n",
    "rmse = np.sqrt(mean_squared_error(y_test, pred))\n",
    "r2 = r2_score(y_test, pred)\n",
    "#r2_train_4 = ada_xgb_rfe.score(X_train, y_train)\n",
    "\n",
    "print ( 'Dim: ', Xt_rfe_ada.shape[1],' | ', 'r2: ',r2,' | ', 'MSE: ',rmse, ' | ', 'MAE: ',mae)\n",
    "\n",
    "modelado.append(['RecursiveFeatureElimination', 'AdaBoost',   #reg4.get_params(),\n",
    "                 Xt_rfe_ada.shape[1],\n",
    "                 np.round(r2, decimals=3), np.round(mse, decimals=3), np.round(mae, decimals=3),  np.round(mape, decimals=3)])"
   ]
  },
  {
   "cell_type": "code",
   "execution_count": 38,
   "metadata": {},
   "outputs": [],
   "source": [
    "columnas = ['Metodo','Modelo', '#Feats', 'r2', 'MSE', 'MAE', 'MAPE']\n",
    "Resultados_feat_eng = pd.DataFrame(modelado, columns=columnas)"
   ]
  },
  {
   "cell_type": "code",
   "execution_count": 39,
   "metadata": {},
   "outputs": [
    {
     "data": {
      "text/html": [
       "<div>\n",
       "<style scoped>\n",
       "    .dataframe tbody tr th:only-of-type {\n",
       "        vertical-align: middle;\n",
       "    }\n",
       "\n",
       "    .dataframe tbody tr th {\n",
       "        vertical-align: top;\n",
       "    }\n",
       "\n",
       "    .dataframe thead th {\n",
       "        text-align: right;\n",
       "    }\n",
       "</style>\n",
       "<table border=\"1\" class=\"dataframe\">\n",
       "  <thead>\n",
       "    <tr style=\"text-align: right;\">\n",
       "      <th></th>\n",
       "      <th>Metodo</th>\n",
       "      <th>Modelo</th>\n",
       "      <th>#Feats</th>\n",
       "      <th>r2</th>\n",
       "      <th>MSE</th>\n",
       "      <th>MAE</th>\n",
       "      <th>MAPE</th>\n",
       "    </tr>\n",
       "  </thead>\n",
       "  <tbody>\n",
       "    <tr>\n",
       "      <th>0</th>\n",
       "      <td>base</td>\n",
       "      <td>RandomForest</td>\n",
       "      <td>39</td>\n",
       "      <td>0.820</td>\n",
       "      <td>250.100</td>\n",
       "      <td>97.780</td>\n",
       "      <td>45.270</td>\n",
       "    </tr>\n",
       "    <tr>\n",
       "      <th>1</th>\n",
       "      <td>base</td>\n",
       "      <td>Xgboost</td>\n",
       "      <td>39</td>\n",
       "      <td>0.810</td>\n",
       "      <td>256.240</td>\n",
       "      <td>98.290</td>\n",
       "      <td>45.510</td>\n",
       "    </tr>\n",
       "    <tr>\n",
       "      <th>2</th>\n",
       "      <td>base</td>\n",
       "      <td>GradBoost</td>\n",
       "      <td>39</td>\n",
       "      <td>0.750</td>\n",
       "      <td>296.730</td>\n",
       "      <td>133.810</td>\n",
       "      <td>61.950</td>\n",
       "    </tr>\n",
       "    <tr>\n",
       "      <th>3</th>\n",
       "      <td>base</td>\n",
       "      <td>Adaboost</td>\n",
       "      <td>39</td>\n",
       "      <td>0.850</td>\n",
       "      <td>229.290</td>\n",
       "      <td>99.990</td>\n",
       "      <td>46.300</td>\n",
       "    </tr>\n",
       "    <tr>\n",
       "      <th>4</th>\n",
       "      <td>SelectKBest</td>\n",
       "      <td>XGBRegressor</td>\n",
       "      <td>22</td>\n",
       "      <td>0.882</td>\n",
       "      <td>202.420</td>\n",
       "      <td>91.128</td>\n",
       "      <td>42.193</td>\n",
       "    </tr>\n",
       "    <tr>\n",
       "      <th>5</th>\n",
       "      <td>SelectPercentile</td>\n",
       "      <td>XGBRegressor</td>\n",
       "      <td>36</td>\n",
       "      <td>0.826</td>\n",
       "      <td>246.085</td>\n",
       "      <td>91.535</td>\n",
       "      <td>42.381</td>\n",
       "    </tr>\n",
       "    <tr>\n",
       "      <th>6</th>\n",
       "      <td>SmartCorrelatedSelection</td>\n",
       "      <td>XGBRegressor</td>\n",
       "      <td>28</td>\n",
       "      <td>0.859</td>\n",
       "      <td>221.552</td>\n",
       "      <td>94.891</td>\n",
       "      <td>43.935</td>\n",
       "    </tr>\n",
       "    <tr>\n",
       "      <th>7</th>\n",
       "      <td>DropCorrelatedFeatures</td>\n",
       "      <td>XGBRegressor</td>\n",
       "      <td>26</td>\n",
       "      <td>0.861</td>\n",
       "      <td>219.330</td>\n",
       "      <td>94.169</td>\n",
       "      <td>43.601</td>\n",
       "    </tr>\n",
       "    <tr>\n",
       "      <th>8</th>\n",
       "      <td>base</td>\n",
       "      <td>RandomForest</td>\n",
       "      <td>26</td>\n",
       "      <td>0.820</td>\n",
       "      <td>248.810</td>\n",
       "      <td>99.090</td>\n",
       "      <td>45.880</td>\n",
       "    </tr>\n",
       "    <tr>\n",
       "      <th>9</th>\n",
       "      <td>base</td>\n",
       "      <td>Xgboost</td>\n",
       "      <td>26</td>\n",
       "      <td>0.860</td>\n",
       "      <td>219.330</td>\n",
       "      <td>94.170</td>\n",
       "      <td>43.600</td>\n",
       "    </tr>\n",
       "    <tr>\n",
       "      <th>10</th>\n",
       "      <td>base</td>\n",
       "      <td>GradBoost</td>\n",
       "      <td>26</td>\n",
       "      <td>0.730</td>\n",
       "      <td>306.340</td>\n",
       "      <td>137.670</td>\n",
       "      <td>63.740</td>\n",
       "    </tr>\n",
       "    <tr>\n",
       "      <th>11</th>\n",
       "      <td>base</td>\n",
       "      <td>Adaboost</td>\n",
       "      <td>26</td>\n",
       "      <td>0.870</td>\n",
       "      <td>213.250</td>\n",
       "      <td>98.240</td>\n",
       "      <td>45.480</td>\n",
       "    </tr>\n",
       "    <tr>\n",
       "      <th>12</th>\n",
       "      <td>RecursiveFeatureAddition</td>\n",
       "      <td>XGBRegressor</td>\n",
       "      <td>16</td>\n",
       "      <td>0.844</td>\n",
       "      <td>232.620</td>\n",
       "      <td>92.865</td>\n",
       "      <td>42.997</td>\n",
       "    </tr>\n",
       "    <tr>\n",
       "      <th>13</th>\n",
       "      <td>RecursiveFeatureElimination</td>\n",
       "      <td>XGBRegressor</td>\n",
       "      <td>28</td>\n",
       "      <td>0.824</td>\n",
       "      <td>247.076</td>\n",
       "      <td>97.117</td>\n",
       "      <td>44.966</td>\n",
       "    </tr>\n",
       "    <tr>\n",
       "      <th>14</th>\n",
       "      <td>SelectKBest</td>\n",
       "      <td>AdaBoost(xgb)</td>\n",
       "      <td>27</td>\n",
       "      <td>0.888</td>\n",
       "      <td>197.280</td>\n",
       "      <td>86.974</td>\n",
       "      <td>40.270</td>\n",
       "    </tr>\n",
       "    <tr>\n",
       "      <th>15</th>\n",
       "      <td>SelectPercentile</td>\n",
       "      <td>AdaBoost(xgbr)</td>\n",
       "      <td>36</td>\n",
       "      <td>0.869</td>\n",
       "      <td>212.938</td>\n",
       "      <td>88.637</td>\n",
       "      <td>41.039</td>\n",
       "    </tr>\n",
       "    <tr>\n",
       "      <th>16</th>\n",
       "      <td>SmartCorrelatedSelection</td>\n",
       "      <td>AdaBoost(xgbr)</td>\n",
       "      <td>28</td>\n",
       "      <td>0.875</td>\n",
       "      <td>208.221</td>\n",
       "      <td>89.894</td>\n",
       "      <td>41.622</td>\n",
       "    </tr>\n",
       "    <tr>\n",
       "      <th>17</th>\n",
       "      <td>DropCorrelatedFeatures</td>\n",
       "      <td>AdaBoost(xgbr)</td>\n",
       "      <td>28</td>\n",
       "      <td>0.858</td>\n",
       "      <td>222.440</td>\n",
       "      <td>91.492</td>\n",
       "      <td>42.362</td>\n",
       "    </tr>\n",
       "    <tr>\n",
       "      <th>18</th>\n",
       "      <td>RecursiveFeatureAddition</td>\n",
       "      <td>AdaBoost(xgbr)</td>\n",
       "      <td>20</td>\n",
       "      <td>0.856</td>\n",
       "      <td>223.785</td>\n",
       "      <td>89.766</td>\n",
       "      <td>41.562</td>\n",
       "    </tr>\n",
       "    <tr>\n",
       "      <th>19</th>\n",
       "      <td>RecursiveFeatureElimination</td>\n",
       "      <td>AdaBoost</td>\n",
       "      <td>26</td>\n",
       "      <td>0.890</td>\n",
       "      <td>223.785</td>\n",
       "      <td>88.089</td>\n",
       "      <td>40.786</td>\n",
       "    </tr>\n",
       "  </tbody>\n",
       "</table>\n",
       "</div>"
      ],
      "text/plain": [
       "                         Metodo          Modelo  #Feats     r2      MSE  \\\n",
       "0                          base    RandomForest      39  0.820  250.100   \n",
       "1                          base         Xgboost      39  0.810  256.240   \n",
       "2                          base       GradBoost      39  0.750  296.730   \n",
       "3                          base        Adaboost      39  0.850  229.290   \n",
       "4                   SelectKBest    XGBRegressor      22  0.882  202.420   \n",
       "5              SelectPercentile    XGBRegressor      36  0.826  246.085   \n",
       "6      SmartCorrelatedSelection    XGBRegressor      28  0.859  221.552   \n",
       "7        DropCorrelatedFeatures    XGBRegressor      26  0.861  219.330   \n",
       "8                          base    RandomForest      26  0.820  248.810   \n",
       "9                          base         Xgboost      26  0.860  219.330   \n",
       "10                         base       GradBoost      26  0.730  306.340   \n",
       "11                         base        Adaboost      26  0.870  213.250   \n",
       "12     RecursiveFeatureAddition    XGBRegressor      16  0.844  232.620   \n",
       "13  RecursiveFeatureElimination    XGBRegressor      28  0.824  247.076   \n",
       "14                  SelectKBest   AdaBoost(xgb)      27  0.888  197.280   \n",
       "15             SelectPercentile  AdaBoost(xgbr)      36  0.869  212.938   \n",
       "16     SmartCorrelatedSelection  AdaBoost(xgbr)      28  0.875  208.221   \n",
       "17       DropCorrelatedFeatures  AdaBoost(xgbr)      28  0.858  222.440   \n",
       "18     RecursiveFeatureAddition  AdaBoost(xgbr)      20  0.856  223.785   \n",
       "19  RecursiveFeatureElimination        AdaBoost      26  0.890  223.785   \n",
       "\n",
       "        MAE    MAPE  \n",
       "0    97.780  45.270  \n",
       "1    98.290  45.510  \n",
       "2   133.810  61.950  \n",
       "3    99.990  46.300  \n",
       "4    91.128  42.193  \n",
       "5    91.535  42.381  \n",
       "6    94.891  43.935  \n",
       "7    94.169  43.601  \n",
       "8    99.090  45.880  \n",
       "9    94.170  43.600  \n",
       "10  137.670  63.740  \n",
       "11   98.240  45.480  \n",
       "12   92.865  42.997  \n",
       "13   97.117  44.966  \n",
       "14   86.974  40.270  \n",
       "15   88.637  41.039  \n",
       "16   89.894  41.622  \n",
       "17   91.492  42.362  \n",
       "18   89.766  41.562  \n",
       "19   88.089  40.786  "
      ]
     },
     "execution_count": 39,
     "metadata": {},
     "output_type": "execute_result"
    }
   ],
   "source": [
    "Resultados_feat_eng  "
   ]
  },
  {
   "cell_type": "markdown",
   "metadata": {},
   "source": [
    "## GridSearch XGboost"
   ]
  },
  {
   "cell_type": "code",
   "execution_count": 40,
   "metadata": {},
   "outputs": [],
   "source": [
    "from sklearn.model_selection import GridSearchCV\n",
    "import multiprocessing\n",
    "mae_scoring = { \"mae\" : make_scorer(mean_absolute_error)} #param_learning_rate"
   ]
  },
  {
   "cell_type": "code",
   "execution_count": 41,
   "metadata": {},
   "outputs": [],
   "source": [
    "def mejor_regresor (atributos, regresor, id_reg) :\n",
    "    \n",
    "    X_train, X_test, y_train, y_test = train_test_split(atributos, labels,\n",
    "                                                        test_size = TEST_SIZE, random_state = RANDOM_STATE)\n",
    "    \n",
    "    regresor.fit(X_train, y_train)\n",
    "\n",
    "    results = regresor.cv_results_\n",
    "    print(\"best_score_ : \",regresor.best_score_)\n",
    "    print(\"best_params_ : \",regresor.best_params_)\n",
    "    # el mejor modelo\n",
    "    mejor_modelo = regresor.best_estimator_\n",
    "\n",
    "    # Entrenamiento del mejor modelo obtenido\n",
    "    mejor_modelo.fit(X_train, y_train) \n",
    "\n",
    "    # nueva predicción \n",
    "    prediction = mejor_modelo.predict(X_test)\n",
    "\n",
    "    #eftEntrenamiento = mejor_modelo.score(X_train, y_train)\n",
    "    r2 = mejor_modelo.score(X_test, y_test)\n",
    "    rmse = np.sqrt(mean_squared_error(y_test, prediction))\n",
    "    mae = mean_absolute_error(y_test, prediction) # np.sqrt(mean_squared_error(y_test, pred))\n",
    "    mape = mae / np.mean(y_test)*100\n",
    "    #r2 = r2_score(y_test, prediction)\n",
    "    modelado.append([id_reg, id_reg, \n",
    "                     #mejor_modelo.get_params(),\n",
    "                     atributos.shape[1], \n",
    "                     np.round(r2, decimals=3), np.round(mse, decimals=3), np.round(mae, decimals=3),  np.round(mape, decimals=3)])\n",
    "    print(\"MAE : \",mae)\n",
    "    print ( 'Dim: ', atributos.shape[1],' | ', 'r2: ',r2,' | ', 'MSE: ',rmse, ' | ', 'MAE: ',mae)\n",
    "\n",
    "    return mejor_modelo"
   ]
  },
  {
   "cell_type": "code",
   "execution_count": 42,
   "metadata": {},
   "outputs": [],
   "source": [
    "param_grid =[{#\"max_depth\" :range(8,16,1), \n",
    "              \"learning_rate\": np.linspace(start=0.2, stop=0.5, num=20).tolist()\n",
    "             }]\n",
    "\n",
    "\n",
    "gxb = GridSearchCV(xgb.XGBRegressor(random_state=RANDOM_STATE ),\n",
    "                   *param_grid,\n",
    "                   cv=kfcv, \n",
    "                   scoring = mae_scoring, #'neg_mean_absolute_error',\n",
    "                   verbose=1, refit = \"mae\", return_train_score=True, \n",
    "                   n_jobs=multiprocessing.cpu_count() // 2)"
   ]
  },
  {
   "cell_type": "markdown",
   "metadata": {},
   "source": [
    "### SelectKBest"
   ]
  },
  {
   "cell_type": "code",
   "execution_count": 43,
   "metadata": {
    "scrolled": false
   },
   "outputs": [
    {
     "name": "stdout",
     "output_type": "stream",
     "text": [
      "Fitting 5 folds for each of 20 candidates, totalling 100 fits\n",
      "best_score_ :  115.3172919004854\n",
      "best_params_ :  {'learning_rate': 0.4368421052631579}\n",
      "MAE :  98.34974401127091\n",
      "Dim:  22  |  r2:  0.8609258627236488  |  MSE:  219.7499885307463  |  MAE:  98.34974401127091\n",
      "best_Grid_Xt_selK_xgb took 13.04 seconds for Xt_selK_xgb  .\n"
     ]
    }
   ],
   "source": [
    "start = time.time() \n",
    "best_Grid_Xt_selK_xgb = mejor_regresor(Xt_selK_xgb, gxb, 'best_Grid_Xt_selK_xgb' )\n",
    "print(\"best_Grid_Xt_selK_xgb took %.2f seconds for Xt_selK_xgb  .\" % ((time.time() - start)))"
   ]
  },
  {
   "cell_type": "markdown",
   "metadata": {},
   "source": [
    "### SelectPercentile - "
   ]
  },
  {
   "cell_type": "code",
   "execution_count": 44,
   "metadata": {
    "scrolled": true
   },
   "outputs": [
    {
     "name": "stdout",
     "output_type": "stream",
     "text": [
      "Fitting 5 folds for each of 20 candidates, totalling 100 fits\n",
      "best_score_ :  114.4312226550569\n",
      "best_params_ :  {'learning_rate': 0.5}\n",
      "MAE :  101.22452520659078\n",
      "Dim:  36  |  r2:  0.8252244614061315  |  MSE:  246.3462742500459  |  MAE:  101.22452520659078\n",
      "best_Grid_Xt_selP_xgb took 17.21 seconds for Xt_selP_xgb  .\n"
     ]
    }
   ],
   "source": [
    "start = time.time() \n",
    "best_Grid_Xt_selP_xgb = mejor_regresor(Xt_selP_xgb, gxb, 'best_Grid_Xt_selP_xgb' )\n",
    "print(\"best_Grid_Xt_selP_xgb took %.2f seconds for Xt_selP_xgb  .\" % ((time.time() - start)))"
   ]
  },
  {
   "cell_type": "markdown",
   "metadata": {},
   "source": [
    "### SmartCorrelatedSelection - "
   ]
  },
  {
   "cell_type": "code",
   "execution_count": 45,
   "metadata": {},
   "outputs": [
    {
     "name": "stdout",
     "output_type": "stream",
     "text": [
      "Fitting 5 folds for each of 20 candidates, totalling 100 fits\n",
      "best_score_ :  116.66001404962215\n",
      "best_params_ :  {'learning_rate': 0.5}\n",
      "MAE :  106.24793838407922\n",
      "Dim:  28  |  r2:  0.8120047448349961  |  MSE:  255.493065931616  |  MAE:  106.24793838407922\n",
      "best_Grid_XGB_scs_kfcv took 12.87 seconds for X_best_xcs_xgb  .\n"
     ]
    }
   ],
   "source": [
    "start = time.time() \n",
    "best_Grid_XGB_scs_kfcv = mejor_regresor(Xt_scs_xgb, gxb, 'best_Grid_Xt_scs_xgb' )\n",
    "print(\"best_Grid_XGB_scs_kfcv took %.2f seconds for X_best_xcs_xgb  .\" % ((time.time() - start)))"
   ]
  },
  {
   "cell_type": "markdown",
   "metadata": {},
   "source": [
    "### DropCorrelatedFeatures - "
   ]
  },
  {
   "cell_type": "code",
   "execution_count": 46,
   "metadata": {
    "scrolled": false
   },
   "outputs": [
    {
     "name": "stdout",
     "output_type": "stream",
     "text": [
      "Fitting 5 folds for each of 20 candidates, totalling 100 fits\n",
      "best_score_ :  116.25984439099273\n",
      "best_params_ :  {'learning_rate': 0.4842105263157895}\n",
      "MAE :  98.39314322283039\n",
      "Dim:  26  |  r2:  0.859168263610421  |  MSE:  221.13421336075803  |  MAE:  98.39314322283039\n",
      "best_Grid_XGB_dcf took 11.84 seconds for X_best_dcf_xgb  .\n"
     ]
    }
   ],
   "source": [
    "start = time.time() \n",
    "best_Grid_XGB_dcf_kfcv = mejor_regresor(Xt_dcf_xgb, gxb, 'best_Grid_Xt_dcf_xgb' )\n",
    "print(\"best_Grid_XGB_dcf took %.2f seconds for X_best_dcf_xgb  .\" % ((time.time() - start)))"
   ]
  },
  {
   "cell_type": "markdown",
   "metadata": {},
   "source": [
    "### RecursiveFeature addition - "
   ]
  },
  {
   "cell_type": "code",
   "execution_count": 47,
   "metadata": {
    "scrolled": false
   },
   "outputs": [
    {
     "name": "stdout",
     "output_type": "stream",
     "text": [
      "Fitting 5 folds for each of 20 candidates, totalling 100 fits\n",
      "best_score_ :  110.02764790797735\n",
      "best_params_ :  {'learning_rate': 0.5}\n",
      "MAE :  99.93808126602525\n",
      "Dim:  16  |  r2:  0.8398256492588493  |  MSE:  235.8316882230082  |  MAE:  99.93808126602525\n",
      "best_Grid_XGB_rfa_kfcv took 8.81 seconds for Xt_trrec_ad  .\n"
     ]
    }
   ],
   "source": [
    "start = time.time() #  7.94 seconds\n",
    "best_Grid_XGB_rfa_kfcv = mejor_regresor(Xt_rfa_xgb, gxb, 'best_Grid_Xt_rfa_xgb' )\n",
    "print(\"best_Grid_XGB_rfa_kfcv took %.2f seconds for Xt_trrec_ad  .\" % ((time.time() - start)))"
   ]
  },
  {
   "cell_type": "markdown",
   "metadata": {},
   "source": [
    "### RecursiveFeatureElimination - "
   ]
  },
  {
   "cell_type": "code",
   "execution_count": 48,
   "metadata": {
    "scrolled": true
   },
   "outputs": [
    {
     "name": "stdout",
     "output_type": "stream",
     "text": [
      "Fitting 5 folds for each of 20 candidates, totalling 100 fits\n",
      "best_score_ :  111.17383102297194\n",
      "best_params_ :  {'learning_rate': 0.5}\n",
      "MAE :  101.30478592995702\n",
      "Dim:  28  |  r2:  0.8043713273368106  |  MSE:  260.6285140450212  |  MAE:  101.30478592995702\n",
      "best_Grid_XGB_kbest_kfcv took 13.69 seconds for X_best_mi  .\n"
     ]
    }
   ],
   "source": [
    "start = time.time()  # 15.33 seconds\n",
    "best_Grid_XGB_rfe_kfcv = mejor_regresor(Xt_rfe_xgb, gxb, 'best_Grid_Xt_rfe_xgb' )\n",
    "print(\"best_Grid_XGB_kbest_kfcv took %.2f seconds for X_best_mi  .\" % ((time.time() - start)))"
   ]
  },
  {
   "cell_type": "markdown",
   "metadata": {},
   "source": [
    "## GridSearch AdaBoost(XGBoost)"
   ]
  },
  {
   "cell_type": "code",
   "execution_count": 49,
   "metadata": {},
   "outputs": [],
   "source": [
    "param_grid_adab= [{\n",
    "       # \"n_estimators\" : [50, 100],\n",
    "        #\"loss\" : ['linear', 'square', 'exponential'],\n",
    "        #\"learning_rate\": np.linspace(start=0.1, stop=7, num=10).tolist()\n",
    "        \"learning_rate\": np.linspace(start=0.28, stop=0.5, num=10).tolist()\n",
    "    }]\n",
    "\n",
    "gax = GridSearchCV(AdaBoostRegressor(xgb.XGBRegressor(random_state=RANDOM_STATE), random_state=RANDOM_STATE),\n",
    "                   *param_grid_adab,\n",
    "                   scoring = 'neg_mean_absolute_error',\n",
    "                   verbose=1, refit=\"mae\", return_train_score=True, cv=kfcv,\n",
    "                   n_jobs=multiprocessing.cpu_count() // 2)"
   ]
  },
  {
   "cell_type": "markdown",
   "metadata": {},
   "source": [
    "### SelectKBest"
   ]
  },
  {
   "cell_type": "code",
   "execution_count": 50,
   "metadata": {
    "scrolled": false
   },
   "outputs": [
    {
     "name": "stdout",
     "output_type": "stream",
     "text": [
      "Fitting 5 folds for each of 10 candidates, totalling 50 fits\n",
      "best_score_ :  -95.10007300348074\n",
      "best_params_ :  {'learning_rate': 0.28}\n",
      "MAE :  84.84158764712218\n",
      "Dim:  27  |  r2:  0.8881244917688287  |  MSE:  197.09390056066832  |  MAE:  84.84158764712218\n",
      "best_Grid_Xt_selK_ada took 297.77 seconds for Xt_selK_ada  .\n"
     ]
    }
   ],
   "source": [
    "start = time.time() # 298.53 seconds\n",
    "best_Grid_Xt_selK_ada = mejor_regresor(Xt_selK_ada, gax, 'best_Grid_Xt_selK_ada' )\n",
    "print(\"best_Grid_Xt_selK_ada took %.2f seconds for Xt_selK_ada  .\" % ((time.time() - start)))"
   ]
  },
  {
   "cell_type": "markdown",
   "metadata": {},
   "source": [
    "### SelectPercentile - "
   ]
  },
  {
   "cell_type": "code",
   "execution_count": 51,
   "metadata": {
    "scrolled": false
   },
   "outputs": [
    {
     "name": "stdout",
     "output_type": "stream",
     "text": [
      "Fitting 5 folds for each of 10 candidates, totalling 50 fits\n",
      "best_score_ :  -96.49351525262566\n",
      "best_params_ :  {'learning_rate': 0.3288888888888889}\n",
      "MAE :  85.81099068661082\n",
      "Dim:  36  |  r2:  0.879578401660466  |  MSE:  204.48331042632134  |  MAE:  85.81099068661082\n",
      "best_Grid_Xt_selP_ada took 380.39 seconds for Xt_selP_ada  .\n"
     ]
    }
   ],
   "source": [
    "start = time.time() # 384.69 seconds\n",
    "best_Grid_Xt_selP_ada = mejor_regresor(Xt_selP_ada, gax, 'best_Grid_Xt_selP_ada' )\n",
    "print(\"best_Grid_Xt_selP_ada took %.2f seconds for Xt_selP_ada  .\" % ((time.time() - start)))"
   ]
  },
  {
   "cell_type": "markdown",
   "metadata": {},
   "source": [
    "### SmartCorrelateSelection - "
   ]
  },
  {
   "cell_type": "code",
   "execution_count": 52,
   "metadata": {
    "scrolled": true
   },
   "outputs": [
    {
     "name": "stdout",
     "output_type": "stream",
     "text": [
      "Fitting 5 folds for each of 10 candidates, totalling 50 fits\n",
      "best_score_ :  -97.73191204592909\n",
      "best_params_ :  {'learning_rate': 0.3533333333333334}\n",
      "MAE :  89.59577573863912\n",
      "Dim:  28  |  r2:  0.8677767838460184  |  MSE:  214.26909342003373  |  MAE:  89.59577573863912\n",
      "GridSearchCV(AdaBoostRegressor(xgb.XGBRegressor took 284.42 seconds for X_best_scs_sgb candidates parameter settings.\n"
     ]
    }
   ],
   "source": [
    "start = time.time()  # 278\n",
    "best_grid_ada_scs = mejor_regresor(Xt_scs_ada, gax, 'best_Grid_Xt_scs_ada')\n",
    "print(\n",
    "    \"GridSearchCV(AdaBoostRegressor(xgb.XGBRegressor took %.2f seconds for X_best_scs_sgb candidates parameter settings.\"\n",
    "    % ((time.time() - start))\n",
    ")"
   ]
  },
  {
   "cell_type": "markdown",
   "metadata": {},
   "source": [
    "### DropCorrelatedFeatures - "
   ]
  },
  {
   "cell_type": "code",
   "execution_count": 53,
   "metadata": {
    "scrolled": true
   },
   "outputs": [
    {
     "name": "stdout",
     "output_type": "stream",
     "text": [
      "Fitting 5 folds for each of 10 candidates, totalling 50 fits\n",
      "best_score_ :  -95.2851737898512\n",
      "best_params_ :  {'learning_rate': 0.3533333333333334}\n",
      "MAE :  90.355391198001\n",
      "Dim:  28  |  r2:  0.858383844956135  |  MSE:  221.74920588885237  |  MAE:  90.355391198001\n",
      "GridSearchCV(AdaBoostRegressor(xgb.XGBRegressor took 286.95 seconds for X_best_dcf_xgb candidates parameter settings.\n"
     ]
    }
   ],
   "source": [
    "start = time.time() # 235.59 seconds\n",
    "best_grid_ada_dcf = mejor_regresor(Xt_dcf_ada, gax, 'best_Grid_Xt_dcf_ada')\n",
    "print(\n",
    "    \"GridSearchCV(AdaBoostRegressor(xgb.XGBRegressor took %.2f seconds for X_best_dcf_xgb candidates parameter settings.\"\n",
    "    % ((time.time() - start))\n",
    ")"
   ]
  },
  {
   "cell_type": "markdown",
   "metadata": {},
   "source": [
    "### RecursiveFeatureElimination - "
   ]
  },
  {
   "cell_type": "code",
   "execution_count": 54,
   "metadata": {},
   "outputs": [
    {
     "name": "stdout",
     "output_type": "stream",
     "text": [
      "Fitting 5 folds for each of 10 candidates, totalling 50 fits\n",
      "best_score_ :  -94.17801163419676\n",
      "best_params_ :  {'learning_rate': 0.30444444444444446}\n",
      "MAE :  86.91355508854946\n",
      "Dim:  26  |  r2:  0.8761515193757664  |  MSE:  207.3724292990153  |  MAE:  86.91355508854946\n",
      "GridSearchCV(AdaBoostRegressor(xgb.XGBRegressor took 295.01 seconds for rfe  candidates parameter settings.\n"
     ]
    }
   ],
   "source": [
    "start = time.time() # 336.71\n",
    "best_grid_ada_rfe = mejor_regresor(Xt_rfe_ada, gax, 'best_Grid_Xt_rfe_ada')\n",
    "print(\n",
    "    \"GridSearchCV(AdaBoostRegressor(xgb.XGBRegressor took %.2f seconds for rfe  candidates parameter settings.\"\n",
    "    % ((time.time() - start))\n",
    ")"
   ]
  },
  {
   "cell_type": "markdown",
   "metadata": {},
   "source": [
    "### RecursiveFeatureAddition - "
   ]
  },
  {
   "cell_type": "code",
   "execution_count": 55,
   "metadata": {
    "scrolled": true
   },
   "outputs": [
    {
     "name": "stdout",
     "output_type": "stream",
     "text": [
      "Fitting 5 folds for each of 10 candidates, totalling 50 fits\n",
      "best_score_ :  -93.45872805798743\n",
      "best_params_ :  {'learning_rate': 0.40222222222222226}\n",
      "MAE :  85.24277143682689\n",
      "Dim:  20  |  r2:  0.8895759773807159  |  MSE:  195.81116701470967  |  MAE:  85.24277143682689\n",
      "GridSearchCV(AdaBoostRegressor(xgb.XGBRegressor took 236.51 seconds for RecursiveFeatureAddition candidates parameter settings.\n"
     ]
    }
   ],
   "source": [
    "start = time.time() # 180.20 \n",
    "best_grid_ada_rfa = mejor_regresor(Xt_rfa_ada, gax, 'best_Grid_Xt_rfa_ada')\n",
    "print(\"GridSearchCV(AdaBoostRegressor(xgb.XGBRegressor took %.2f seconds for RecursiveFeatureAddition candidates parameter settings.\"\n",
    "    % ((time.time() - start)))"
   ]
  },
  {
   "cell_type": "markdown",
   "metadata": {},
   "source": [
    " ## XGBoost Hyperparameters "
   ]
  },
  {
   "cell_type": "code",
   "execution_count": 56,
   "metadata": {},
   "outputs": [],
   "source": [
    "# Print Df scores ;: imprime los resultados de de crossval para la metrica mae\n",
    "def print_dataframe(filtered_cv_results):\n",
    "    \"\"\"Pretty print for filtered dataframe\"\"\"\n",
    "    for mean_train_mae, std_train_mae, mean_test_mae, std_test_mae in zip(\n",
    "        filtered_cv_results[\"train-mae-mean\"],\n",
    "        filtered_cv_results[\"train-mae-std\"],\n",
    "        #filtered_cv_results[\"mean_train_r2\"],\n",
    "        #filtered_cv_results[\"std_train_r2\"],\n",
    "        filtered_cv_results[\"test-mae-mean\"],\n",
    "        filtered_cv_results[\"test-mae-std\"],\n",
    "        #filtered_cv_results[\"params\"],\n",
    "    ):\n",
    "        print(\n",
    "            f\"mae test: {mean_test_mae:0.3f} (±{std_test_mae:0.03f}),\"\n",
    "            f\" mae train: {mean_train_mae:0.3f} (±{std_train_mae:0.03f}),\"\n",
    "            #f\" for {params}\"\n",
    "        )\n",
    "    print()"
   ]
  },
  {
   "cell_type": "code",
   "execution_count": 57,
   "metadata": {},
   "outputs": [],
   "source": [
    "def refit_strategy(cv_results):\n",
    "    \"\"\"Define the strategy to select the best estimator.\n",
    "\n",
    "    The strategy defined here is to filter-out all results below a precision threshold\n",
    "    of 0.98, rank the remaining by mae and keep all models with one standard\n",
    "    deviation of the best by mae. Once these models are selected, we can select the\n",
    "    fastest model to predict.\n",
    "\n",
    "    Parameters\n",
    "    ----------\n",
    "    cv_results : dict of numpy (masked) ndarrays\n",
    "        CV results as returned by the `GridSearchCV`.\n",
    "\n",
    "    Returns\n",
    "    -------\n",
    "    best_index : int\n",
    "        The index of the best estimator as it appears in `cv_results`.\n",
    "    \"\"\"\n",
    "    # print the info about the grid-search for the different scores\n",
    "    precision_mae = 115\n",
    "\n",
    "    cv_results_ = pd.DataFrame(cv_results)\n",
    "    print(\"All grid-search results:\")\n",
    "    print(\"*...*..\"*10)\n",
    "\n",
    "    #print_dataframe(cv_results_)\n",
    "\n",
    "    # Filter-out all results below the threshold\n",
    "    high_precision_cv_results = cv_results_[cv_results_[\"test-mae-mean\"] < precision_mae]\n",
    "    \n",
    "# 'train-mae-mean', 'train-mae-std', 'test-mae-mean', 'test-mae-mean'\n",
    "    print(f\"Models with a precision lower than {precision_mae}:\")\n",
    "    print(\"*...*..\"*10)\n",
    "\n",
    "    high_precision_cv_results = high_precision_cv_results[\n",
    "        ['train-mae-mean', 'train-mae-std', 'test-mae-mean', 'test-mae-std']\n",
    "    ]\n",
    "    print_dataframe(high_precision_cv_results)\n",
    "\n",
    "    # Select the most performant models in terms of mae\n",
    "    # (within 1 sigma from the best)\n",
    "    best_mae_std = high_precision_cv_results[\"test-mae-mean\"].std()\n",
    "    best_mae = high_precision_cv_results[\"test-mae-mean\"].max() # max\n",
    "    best_mae_threshold = best_mae - best_mae_std\n",
    "\n",
    "    high_mae_cv_results = high_precision_cv_results[\n",
    "        high_precision_cv_results[\"test-mae-mean\"] < best_mae_threshold\n",
    "    ]\n",
    "    print(\n",
    "        \"Out of the previously selected high precision models, we keep all the\\n\"\n",
    "        \"the models within one standard deviation of the highest mae model:\"\n",
    "    )\n",
    "    print_dataframe(high_mae_cv_results)\n",
    "\n",
    "    # From the best candidates, select the fastest model to predict\n",
    "    fastest_top_mae_high_precision_index = high_mae_cv_results[\n",
    "        \"test-mae-mean\"\n",
    "    ].idxmin()\n",
    "\n",
    "    print(\n",
    "        \"\\nThe selected final model is the fastest to predict out of the previously\\n\"\n",
    "        \"selected subset of best models based on precision and mae.\\n\"\n",
    "        \"Its scoring test-mae-mean is:\\n\\n\"\n",
    "        f\"{high_mae_cv_results.loc[fastest_top_mae_high_precision_index]}\"\n",
    "    )\n",
    "\n",
    "    return fastest_top_mae_high_precision_index"
   ]
  },
  {
   "cell_type": "markdown",
   "metadata": {},
   "source": [
    "### Interfaz nativa"
   ]
  },
  {
   "cell_type": "code",
   "execution_count": 58,
   "metadata": {},
   "outputs": [],
   "source": [
    "def xgb_helper(temp_dmatrix, PARAMETERS, V_PARAM_NAME=False, V_PARAM_VALUES=False, BR=50):\n",
    "  \n",
    "    if V_PARAM_VALUES == False:\n",
    "        \n",
    "        cv_results = xgb.cv(dtrain=temp_dmatrix, nfold=5, num_boost_round=BR,\n",
    "                            params=PARAMETERS, as_pandas=True, seed=RANDOM_STATE)\n",
    "        return cv_results\n",
    "\n",
    "    else:\n",
    "        results = []\n",
    "\n",
    "        for v_param_value in V_PARAM_VALUES:\n",
    "            \n",
    "            PARAMETERS[V_PARAM_NAME] = v_param_value\n",
    "            cv_results = xgb.cv(dtrain=temp_dmatrix, nfold=5, num_boost_round=BR,\n",
    "                                params=PARAMETERS, as_pandas=True, seed=RANDOM_STATE)\n",
    "            \n",
    "            results.append(\n",
    "                (\n",
    "                    #cv_results[\"train-mae-mean\"].tail().values[-1],\n",
    "                    cv_results[\"test-mae-mean\"].tail().values[-1]\n",
    "                )\n",
    "            )\n",
    "\n",
    "        data = list(zip(V_PARAM_VALUES, results))\n",
    "        #print(pd.DataFrame(data, columns=[V_PARAM_NAME, \"mae\"]))\n",
    "\n",
    "        return cv_results, pd.DataFrame(data, columns=[V_PARAM_NAME, \"mae\"])"
   ]
  },
  {
   "cell_type": "code",
   "execution_count": 59,
   "metadata": {},
   "outputs": [],
   "source": [
    "def params_helper(PARAMETERS, temp_dmatrix, name, values) :\n",
    "    \n",
    "    cv_data, results = xgb_helper(temp_dmatrix, PARAMETERS, V_PARAM_NAME= name, \n",
    "                                  V_PARAM_VALUES=values)\n",
    "    ## Ver el menor mae.\n",
    "    nombre = results.at[np.argmin(results.mae), name]\n",
    "    print(name +\" : \", nombre, results.at[np.argmin(results.mae),'mae'])\n",
    "    return nombre\n"
   ]
  },
  {
   "cell_type": "code",
   "execution_count": 60,
   "metadata": {
    "code_folding": []
   },
   "outputs": [],
   "source": [
    "def xgb_params (metodo, atributos, etiquetas):\n",
    "    \n",
    "    X_train, X_test, y_train, y_test = train_test_split(atributos, etiquetas, \n",
    "                                                        test_size = TEST_SIZE, random_state = RANDOM_STATE)\n",
    "    \n",
    "    temp_dmatrix = xgb.DMatrix(data=X_train, label=y_train)\n",
    "\n",
    "    PARAMETERS = {\"objective\": 'reg:squarederror', \"eval_metric\": \"mae\", \"random_state\": RANDOM_STATE}\n",
    "    \n",
    "    \n",
    "    #PARAMETERS [\"learning_rate\"] = params_helper(PARAMETERS, temp_dmatrix, \"learning_rate\",\n",
    "    #                                             np.linspace(start=0.1, stop=0.4, num=15).tolist())\n",
    "    \n",
    "    \n",
    "    \n",
    "    PARAMETERS [\"min_child_weight\"] = params_helper(PARAMETERS, temp_dmatrix, \"min_child_weight\",\n",
    "                                                     range(0,5,1))\n",
    "    \n",
    "    PARAMETERS [\"subsample\"] = params_helper(PARAMETERS, temp_dmatrix, \"subsample\",\n",
    "                                         np.linspace(start=0.1, stop=.9, num=7).tolist())\n",
    "    \n",
    "    PARAMETERS [\"colsample_bytree\"] = params_helper(PARAMETERS, temp_dmatrix, \"colsample_bytree\",\n",
    "                                                    np.linspace(start=0.2, stop=.9, num=6).tolist())\n",
    "        \n",
    "    PARAMETERS [\"scale_pos_weight\"] = params_helper(PARAMETERS, temp_dmatrix, \"scale_pos_weight\",\n",
    "                                                    np.linspace(start=0.2, stop=2, num=20).tolist())\n",
    "    \n",
    "  \n",
    "    PARAMETERS [\"gamma\"] = params_helper(PARAMETERS, temp_dmatrix, \"gamma\",\n",
    "                                         np.linspace(start=0.1, stop=4, num=20).tolist()) \n",
    "    \n",
    "    PARAMETERS [\"reg_alpha\"] = params_helper(PARAMETERS, temp_dmatrix, \"reg_alpha\",\n",
    "                                             np.linspace(start=0.001, stop=1, num=20).tolist())\n",
    "    \n",
    "    PARAMETERS [\"reg_lambda\"] = params_helper(PARAMETERS, temp_dmatrix, \"reg_lambda\",\n",
    "                                              np.linspace(start=0.001, stop=1, num=20).tolist())\n",
    "    \n",
    "    PARAMETERS [\"max_depth\"] = params_helper(PARAMETERS, temp_dmatrix, \"max_depth\", range(4, 16, 1))\n",
    "    \n",
    "    PARAMETERS [\"learning_rate\"] = params_helper(PARAMETERS, temp_dmatrix, \"learning_rate\",\n",
    "                                                  np.linspace(start=0.1, stop=0.3, num=30).tolist())\n",
    "    \n",
    "    xgbr = xgb.XGBRegressor(**PARAMETERS)\n",
    "    xgbr.fit(X_train,y_train)\n",
    "    pred = xgbr.predict(X_test)\n",
    "    \n",
    "    eftEntrenamiento = xgbr.score (X_train, y_train)\n",
    "    eftPrediccion = xgbr.score (X_test, y_test)  \n",
    "    mae = mean_absolute_error(y_test, pred)\n",
    "    rmse = np.sqrt(mean_squared_error(y_test, pred))\n",
    "    mape = mae / np.mean(y_test)*100\n",
    "    \n",
    "    modelado.append(['xgb_params', metodo,  #xgbr.get_params(),\n",
    "                     atributos.shape[1],\n",
    "                     np.round(eftPrediccion, decimals=3), np.round(mse, decimals=3), np.round(mae, decimals=3),  np.round(mape, decimals=3)])\n",
    "    print(\"----\"*10)\n",
    "    print(atributos.shape[1], eftEntrenamiento, eftPrediccion , rmse, mae, mape )\n",
    "    print(\"-  -\"*10)\n",
    "    return PARAMETERS"
   ]
  },
  {
   "cell_type": "markdown",
   "metadata": {},
   "source": [
    "#### Resultados"
   ]
  },
  {
   "cell_type": "code",
   "execution_count": 61,
   "metadata": {},
   "outputs": [
    {
     "name": "stdout",
     "output_type": "stream",
     "text": [
      "min_child_weight :  1 109.9279986\n",
      "subsample :  0.9 110.0524032\n",
      "colsample_bytree :  0.9 112.55821819999998\n",
      "scale_pos_weight :  1.7157894736842105 110.58240040000001\n",
      "gamma :  0.1 110.5823958\n",
      "reg_alpha :  0.001 110.5824022\n",
      "reg_lambda :  1.0 110.58239900000001\n",
      "max_depth :  13 103.67267899999999\n",
      "learning_rate :  0.10689655172413794 97.8902878\n",
      "----------------------------------------\n",
      "22 0.9998926254934175 0.8521461634608822 226.58020891070896 91.39339773338673 42.31581653784571\n",
      "-  --  --  --  --  --  --  --  --  --  -\n",
      "XGBRegressor took 78.61 seconds for Xt_selK_xgb  .\n",
      "----------------------------------------\n",
      "min_child_weight :  2 107.89614839999999\n",
      "subsample :  0.7666666666666666 108.13670200000001\n",
      "colsample_bytree :  0.9 108.92425839999999\n",
      "scale_pos_weight :  2.0 108.56199319999999\n",
      "gamma :  3.3842105263157896 108.48712599999999\n",
      "reg_alpha :  0.2113157894736842 108.3101836\n",
      "reg_lambda :  1.0 108.31018219999999\n",
      "max_depth :  13 103.91077399999999\n",
      "learning_rate :  0.1206896551724138 98.6778488\n",
      "----------------------------------------\n",
      "36 0.9997679117764168 0.8727813906745139 210.17497078493588 85.79122875768361 39.72197102526921\n",
      "-  --  --  --  --  --  --  --  --  --  -\n",
      "XGBRegressor took 91.23 seconds for Xt_selP_xgb  .\n",
      "----------------------------------------\n",
      "min_child_weight :  4 109.09457560000001\n",
      "subsample :  0.9 112.07968739999998\n",
      "colsample_bytree :  0.76 110.5260604\n",
      "scale_pos_weight :  1.8105263157894738 109.005658\n",
      "gamma :  3.3842105263157896 109.0056504\n",
      "reg_alpha :  0.6319473684210526 108.59826659999999\n",
      "reg_lambda :  0.8948421052631579 108.23710639999999\n",
      "max_depth :  14 102.151628\n",
      "learning_rate :  0.1 98.10848519999999\n",
      "----------------------------------------\n",
      "28 0.9990151797910801 0.8447997128217692 232.14104444006745 89.63352488426109 41.500982441943265\n",
      "-  --  --  --  --  --  --  --  --  --  -\n",
      "XGBRegressor took 74.01 seconds for Xt_scs_xgb .\n",
      "----------------------------------------\n",
      "min_child_weight :  1 108.85755759999999\n",
      "subsample :  0.9 110.26037579999999\n",
      "colsample_bytree :  0.76 108.8582566\n",
      "scale_pos_weight :  1.1473684210526316 108.1200028\n",
      "gamma :  4.0 108.119867\n",
      "reg_alpha :  0.1061578947368421 107.96360020000002\n",
      "reg_lambda :  1.0 107.96360160000002\n",
      "max_depth :  9 103.8681486\n",
      "learning_rate :  0.15517241379310345 99.8378632\n",
      "----------------------------------------\n",
      "26 0.9992939939796786 0.8579510278651349 222.08781000246495 90.68894289269791 41.98964875617787\n",
      "-  --  --  --  --  --  --  --  --  --  -\n",
      "XGBRegressor took 63.67 seconds for Xt_dcf_xgb  .\n",
      "----------------------------------------\n",
      "min_child_weight :  2 104.9270646\n",
      "subsample :  0.7666666666666666 103.95060880000001\n",
      "colsample_bytree :  0.9 106.05242739999998\n",
      "scale_pos_weight :  2.0 103.11972820000001\n",
      "gamma :  3.794736842105263 103.119719\n",
      "reg_alpha :  0.5793684210526315 102.8470458\n",
      "reg_lambda :  1.0 102.84704280000001\n",
      "max_depth :  15 99.0111056\n",
      "learning_rate :  0.10689655172413794 92.6970198\n",
      "----------------------------------------\n",
      "16 0.999721892603391 0.8571515950742339 222.71187357944416 84.84919062721247 39.28580042991657\n",
      "-  --  --  --  --  --  --  --  --  --  -\n",
      "XGBRegressor took 65.38 seconds for Xt_rfa_xgb  .\n",
      "----------------------------------------\n",
      "min_child_weight :  3 107.19369060000001\n",
      "subsample :  0.9 106.94636540000002\n",
      "colsample_bytree :  0.76 107.3667204\n",
      "scale_pos_weight :  0.3894736842105263 106.674454\n",
      "gamma :  0.30526315789473685 106.6744494\n",
      "reg_alpha :  0.001 106.67445359999999\n",
      "reg_lambda :  0.2113157894736842 106.0676268\n",
      "max_depth :  10 101.3805602\n",
      "learning_rate :  0.15517241379310345 98.8221086\n",
      "----------------------------------------\n",
      "28 0.99939569840717 0.8797228731711416 204.36061284139745 83.72906264970027 38.7671729232165\n",
      "-  --  --  --  --  --  --  --  --  --  -\n",
      "XGBRegressor took 77.34 seconds for Xt_rfe_xgb  .\n",
      "----------------------------------------\n"
     ]
    }
   ],
   "source": [
    "start = time.time() \n",
    "params_Xt_selK_xgb= xgb_params('Xt_selK_xgb', Xt_selK_xgb, labels)\n",
    "print(\"XGBRegressor took %.2f seconds for Xt_selK_xgb  .\" % ((time.time() - start)))\n",
    "print(\"----\"*10)\n",
    "\n",
    "start = time.time()\n",
    "params_Xt_selP_xgb = xgb_params('Xt_selP_xgb', Xt_selP_xgb, labels)\n",
    "print(\"XGBRegressor took %.2f seconds for Xt_selP_xgb  .\" % ((time.time() - start)))\n",
    "print(\"----\"*10)\n",
    "\n",
    "start = time.time()\n",
    "params_Xt_scs_xgb = xgb_params('Xt_scs_xgb', Xt_scs_xgb, labels)\n",
    "print(\"XGBRegressor took %.2f seconds for Xt_scs_xgb .\" % (time.time() - start))\n",
    "print(\"----\"*10)\n",
    "\n",
    "start = time.time()\n",
    "params_Xt_dcf_xgb = xgb_params('Xt_dcf_xgb', Xt_dcf_xgb, labels)  \n",
    "print(\"XGBRegressor took %.2f seconds for Xt_dcf_xgb  .\" % ((time.time() - start)))\n",
    "print(\"----\"*10)\n",
    "\n",
    "start = time.time()\n",
    "params_Xt_rfa_xgb = xgb_params('Xt_rfa_xgb', Xt_rfa_xgb, labels)  \n",
    "print(\"XGBRegressor took %.2f seconds for Xt_rfa_xgb  .\" % ((time.time() - start)))\n",
    "print(\"----\"*10)\n",
    "\n",
    "start = time.time()\n",
    "params_Xt_rfe_xgb = xgb_params('Xt_rfe_xgb', Xt_rfe_xgb, labels)  \n",
    "print(\"XGBRegressor took %.2f seconds for Xt_rfe_xgb  .\" % ((time.time() - start)))\n",
    "print(\"----\"*10)"
   ]
  },
  {
   "cell_type": "code",
   "execution_count": 62,
   "metadata": {},
   "outputs": [
    {
     "name": "stdout",
     "output_type": "stream",
     "text": [
      "min_child_weight :  2 105.9418152\n",
      "subsample :  0.9 106.23055880000001\n",
      "colsample_bytree :  0.6199999999999999 106.839166\n",
      "scale_pos_weight :  0.8631578947368421 107.00842719999999\n",
      "gamma :  2.3578947368421055 106.9885618\n",
      "reg_alpha :  0.001 106.988565\n",
      "reg_lambda :  1.0 106.98856659999998\n",
      "max_depth :  10 99.55115500000001\n",
      "learning_rate :  0.1413793103448276 96.315776\n",
      "----------------------------------------\n",
      "27 0.9993046676318896 0.852990257731598 225.93251247490937 88.92943402442891 41.17498318609387\n",
      "-  --  --  --  --  --  --  --  --  --  -\n",
      "XGBRegressor took 63.01 seconds for Xt_selK_ada  .\n",
      "----------------------------------------\n"
     ]
    }
   ],
   "source": [
    "start = time.time() \n",
    "params_Xt_selK_ada = xgb_params('Xt_selK_ada', Xt_selK_ada, labels)\n",
    "print(\"XGBRegressor took %.2f seconds for Xt_selK_ada  .\" % ((time.time() - start)))\n",
    "print(\"----\"*10)"
   ]
  },
  {
   "cell_type": "code",
   "execution_count": 63,
   "metadata": {},
   "outputs": [
    {
     "name": "stdout",
     "output_type": "stream",
     "text": [
      "min_child_weight :  2 107.8961394\n",
      "subsample :  0.7666666666666666 108.13670200000001\n",
      "colsample_bytree :  0.9 108.9242536\n",
      "scale_pos_weight :  2.0 108.56199319999999\n",
      "gamma :  3.5894736842105264 108.487123\n",
      "reg_alpha :  0.2113157894736842 108.31018079999998\n",
      "reg_lambda :  1.0 108.3101824\n",
      "max_depth :  13 103.7623304\n",
      "learning_rate :  0.1 98.4799714\n",
      "----------------------------------------\n",
      "36 0.9996425167955807 0.8714194429631525 211.2969972139919 84.63739630160414 39.187738096657625\n",
      "-  --  --  --  --  --  --  --  --  --  -\n",
      "XGBRegressor took 90.62 seconds for Xt_selP_ada  .\n",
      "----------------------------------------\n"
     ]
    }
   ],
   "source": [
    "start = time.time()\n",
    "params_Xt_selP_ada = xgb_params('Xt_selP_ada', Xt_selP_ada, labels)\n",
    "print(\"XGBRegressor took %.2f seconds for Xt_selP_ada  .\" % ((time.time() - start)))\n",
    "print(\"----\"*10)"
   ]
  },
  {
   "cell_type": "code",
   "execution_count": 64,
   "metadata": {},
   "outputs": [
    {
     "name": "stdout",
     "output_type": "stream",
     "text": [
      "min_child_weight :  4 109.09456799999998\n",
      "subsample :  0.9 112.0796846\n",
      "colsample_bytree :  0.76 110.52605439999999\n",
      "scale_pos_weight :  1.8105263157894738 109.00565639999999\n",
      "gamma :  0.1 109.0056534\n",
      "reg_alpha :  0.6319473684210526 108.5982636\n",
      "reg_lambda :  0.8948421052631579 108.23710780000002\n",
      "max_depth :  14 102.57823800000001\n",
      "learning_rate :  0.11379310344827587 97.881526\n",
      "----------------------------------------\n",
      "28 0.9993111606549768 0.8560246277975087 223.5886628861673 88.02785883640446 40.757547231225324\n",
      "-  --  --  --  --  --  --  --  --  --  -\n",
      "XGBRegressor took 73.37 seconds for Xt_scs_ada .\n",
      "----------------------------------------\n"
     ]
    }
   ],
   "source": [
    "start = time.time()\n",
    "params_Xt_scs_ada = xgb_params('Xt_scs_ada', Xt_scs_ada, labels)\n",
    "print(\"XGBRegressor took %.2f seconds for Xt_scs_ada .\" % (time.time() - start))\n",
    "print(\"----\"*10)"
   ]
  },
  {
   "cell_type": "code",
   "execution_count": 65,
   "metadata": {},
   "outputs": [
    {
     "name": "stdout",
     "output_type": "stream",
     "text": [
      "min_child_weight :  1 106.63494699999998\n",
      "subsample :  0.9 107.779582\n",
      "colsample_bytree :  0.9 107.4547196\n",
      "scale_pos_weight :  0.9578947368421054 105.86897280000001\n",
      "gamma :  1.3315789473684212 105.728746\n",
      "reg_alpha :  0.5793684210526315 104.98347780000002\n",
      "reg_lambda :  1.0 104.9834764\n",
      "max_depth :  12 102.08434159999999\n",
      "learning_rate :  0.12758620689655173 96.4421982\n",
      "----------------------------------------\n",
      "28 0.999891974807518 0.8616345277820928 219.18939534062793 84.99738609149576 39.354416021785106\n",
      "-  --  --  --  --  --  --  --  --  --  -\n",
      "XGBRegressor took 87.29 seconds for Xt_dcf_ada  .\n",
      "----------------------------------------\n"
     ]
    }
   ],
   "source": [
    "start = time.time()\n",
    "params_Xt_dcf_ada = xgb_params('Xt_dcf_ada', Xt_dcf_ada, labels)  \n",
    "print(\"XGBRegressor took %.2f seconds for Xt_dcf_ada  .\" % ((time.time() - start)))\n",
    "print(\"----\"*10)"
   ]
  },
  {
   "cell_type": "code",
   "execution_count": 66,
   "metadata": {},
   "outputs": [
    {
     "name": "stdout",
     "output_type": "stream",
     "text": [
      "min_child_weight :  2 105.5879686\n",
      "subsample :  0.9 104.8171692\n",
      "colsample_bytree :  0.9 103.76149600000001\n",
      "scale_pos_weight :  1.431578947368421 103.225653\n",
      "gamma :  2.1526315789473687 103.225653\n",
      "reg_alpha :  0.1061578947368421 103.08055119999999\n",
      "reg_lambda :  1.0 103.08055420000001\n",
      "max_depth :  12 96.6412826\n",
      "learning_rate :  0.10689655172413794 93.7314482\n",
      "----------------------------------------\n",
      "20 0.9996762770373384 0.8547933425882439 224.5426986865064 84.9847151776688 39.348549295323835\n",
      "-  --  --  --  --  --  --  --  --  --  -\n",
      "XGBRegressor took 70.97 seconds for Xt_rfa_ada  .\n",
      "----------------------------------------\n",
      "min_child_weight :  4 106.7519958\n",
      "subsample :  0.9 103.6969482\n",
      "colsample_bytree :  0.9 107.63899380000001\n",
      "scale_pos_weight :  0.4842105263157895 104.49423240000002\n",
      "gamma :  2.5631578947368423 104.49423200000001\n",
      "reg_alpha :  0.1061578947368421 104.4939286\n",
      "reg_lambda :  1.0 104.493933\n",
      "max_depth :  15 98.7347018\n",
      "learning_rate :  0.11379310344827587 95.75468880000001\n",
      "----------------------------------------\n",
      "26 0.9995162095998874 0.869488634091693 212.87753920826526 85.01655294497807 39.363290416168944\n",
      "-  --  --  --  --  --  --  --  --  --  -\n",
      "XGBRegressor took 92.85 seconds for Xt_rfe_ada  .\n",
      "----------------------------------------\n"
     ]
    }
   ],
   "source": [
    "start = time.time()\n",
    "params_Xt_rfa_ada = xgb_params('Xt_rfa_ada', Xt_rfa_ada, labels)  \n",
    "print(\"XGBRegressor took %.2f seconds for Xt_rfa_ada  .\" % ((time.time() - start)))\n",
    "print(\"----\"*10)\n",
    "\n",
    "start = time.time()\n",
    "params_Xt_rfe_ada = xgb_params('Xt_rfe_ada', Xt_rfe_ada, labels)  \n",
    "print(\"XGBRegressor took %.2f seconds for Xt_rfe_ada  .\" % ((time.time() - start)))\n",
    "print(\"----\"*10)"
   ]
  },
  {
   "cell_type": "code",
   "execution_count": 67,
   "metadata": {},
   "outputs": [
    {
     "data": {
      "text/html": [
       "<div>\n",
       "<style scoped>\n",
       "    .dataframe tbody tr th:only-of-type {\n",
       "        vertical-align: middle;\n",
       "    }\n",
       "\n",
       "    .dataframe tbody tr th {\n",
       "        vertical-align: top;\n",
       "    }\n",
       "\n",
       "    .dataframe thead th {\n",
       "        text-align: right;\n",
       "    }\n",
       "</style>\n",
       "<table border=\"1\" class=\"dataframe\">\n",
       "  <thead>\n",
       "    <tr style=\"text-align: right;\">\n",
       "      <th></th>\n",
       "      <th>Método</th>\n",
       "      <th>Modelo</th>\n",
       "      <th>#Feats</th>\n",
       "      <th>ScoreTest</th>\n",
       "      <th>RMSE</th>\n",
       "      <th>MAE</th>\n",
       "      <th>MAPE</th>\n",
       "    </tr>\n",
       "  </thead>\n",
       "  <tbody>\n",
       "    <tr>\n",
       "      <th>0</th>\n",
       "      <td>base</td>\n",
       "      <td>RandomForest</td>\n",
       "      <td>39</td>\n",
       "      <td>0.820</td>\n",
       "      <td>250.100</td>\n",
       "      <td>97.780</td>\n",
       "      <td>45.270</td>\n",
       "    </tr>\n",
       "    <tr>\n",
       "      <th>1</th>\n",
       "      <td>base</td>\n",
       "      <td>Xgboost</td>\n",
       "      <td>39</td>\n",
       "      <td>0.810</td>\n",
       "      <td>256.240</td>\n",
       "      <td>98.290</td>\n",
       "      <td>45.510</td>\n",
       "    </tr>\n",
       "    <tr>\n",
       "      <th>2</th>\n",
       "      <td>base</td>\n",
       "      <td>GradBoost</td>\n",
       "      <td>39</td>\n",
       "      <td>0.750</td>\n",
       "      <td>296.730</td>\n",
       "      <td>133.810</td>\n",
       "      <td>61.950</td>\n",
       "    </tr>\n",
       "    <tr>\n",
       "      <th>3</th>\n",
       "      <td>base</td>\n",
       "      <td>Adaboost</td>\n",
       "      <td>39</td>\n",
       "      <td>0.850</td>\n",
       "      <td>229.290</td>\n",
       "      <td>99.990</td>\n",
       "      <td>46.300</td>\n",
       "    </tr>\n",
       "    <tr>\n",
       "      <th>4</th>\n",
       "      <td>SelectKBest</td>\n",
       "      <td>XGBRegressor</td>\n",
       "      <td>22</td>\n",
       "      <td>0.882</td>\n",
       "      <td>202.420</td>\n",
       "      <td>91.128</td>\n",
       "      <td>42.193</td>\n",
       "    </tr>\n",
       "    <tr>\n",
       "      <th>5</th>\n",
       "      <td>SelectPercentile</td>\n",
       "      <td>XGBRegressor</td>\n",
       "      <td>36</td>\n",
       "      <td>0.826</td>\n",
       "      <td>246.085</td>\n",
       "      <td>91.535</td>\n",
       "      <td>42.381</td>\n",
       "    </tr>\n",
       "    <tr>\n",
       "      <th>6</th>\n",
       "      <td>SmartCorrelatedSelection</td>\n",
       "      <td>XGBRegressor</td>\n",
       "      <td>28</td>\n",
       "      <td>0.859</td>\n",
       "      <td>221.552</td>\n",
       "      <td>94.891</td>\n",
       "      <td>43.935</td>\n",
       "    </tr>\n",
       "    <tr>\n",
       "      <th>7</th>\n",
       "      <td>DropCorrelatedFeatures</td>\n",
       "      <td>XGBRegressor</td>\n",
       "      <td>26</td>\n",
       "      <td>0.861</td>\n",
       "      <td>219.330</td>\n",
       "      <td>94.169</td>\n",
       "      <td>43.601</td>\n",
       "    </tr>\n",
       "    <tr>\n",
       "      <th>8</th>\n",
       "      <td>base</td>\n",
       "      <td>RandomForest</td>\n",
       "      <td>26</td>\n",
       "      <td>0.820</td>\n",
       "      <td>248.810</td>\n",
       "      <td>99.090</td>\n",
       "      <td>45.880</td>\n",
       "    </tr>\n",
       "    <tr>\n",
       "      <th>9</th>\n",
       "      <td>base</td>\n",
       "      <td>Xgboost</td>\n",
       "      <td>26</td>\n",
       "      <td>0.860</td>\n",
       "      <td>219.330</td>\n",
       "      <td>94.170</td>\n",
       "      <td>43.600</td>\n",
       "    </tr>\n",
       "    <tr>\n",
       "      <th>10</th>\n",
       "      <td>base</td>\n",
       "      <td>GradBoost</td>\n",
       "      <td>26</td>\n",
       "      <td>0.730</td>\n",
       "      <td>306.340</td>\n",
       "      <td>137.670</td>\n",
       "      <td>63.740</td>\n",
       "    </tr>\n",
       "    <tr>\n",
       "      <th>11</th>\n",
       "      <td>base</td>\n",
       "      <td>Adaboost</td>\n",
       "      <td>26</td>\n",
       "      <td>0.870</td>\n",
       "      <td>213.250</td>\n",
       "      <td>98.240</td>\n",
       "      <td>45.480</td>\n",
       "    </tr>\n",
       "    <tr>\n",
       "      <th>12</th>\n",
       "      <td>RecursiveFeatureAddition</td>\n",
       "      <td>XGBRegressor</td>\n",
       "      <td>16</td>\n",
       "      <td>0.844</td>\n",
       "      <td>232.620</td>\n",
       "      <td>92.865</td>\n",
       "      <td>42.997</td>\n",
       "    </tr>\n",
       "    <tr>\n",
       "      <th>13</th>\n",
       "      <td>RecursiveFeatureElimination</td>\n",
       "      <td>XGBRegressor</td>\n",
       "      <td>28</td>\n",
       "      <td>0.824</td>\n",
       "      <td>247.076</td>\n",
       "      <td>97.117</td>\n",
       "      <td>44.966</td>\n",
       "    </tr>\n",
       "    <tr>\n",
       "      <th>14</th>\n",
       "      <td>SelectKBest</td>\n",
       "      <td>AdaBoost(xgb)</td>\n",
       "      <td>27</td>\n",
       "      <td>0.888</td>\n",
       "      <td>197.280</td>\n",
       "      <td>86.974</td>\n",
       "      <td>40.270</td>\n",
       "    </tr>\n",
       "    <tr>\n",
       "      <th>15</th>\n",
       "      <td>SelectPercentile</td>\n",
       "      <td>AdaBoost(xgbr)</td>\n",
       "      <td>36</td>\n",
       "      <td>0.869</td>\n",
       "      <td>212.938</td>\n",
       "      <td>88.637</td>\n",
       "      <td>41.039</td>\n",
       "    </tr>\n",
       "    <tr>\n",
       "      <th>16</th>\n",
       "      <td>SmartCorrelatedSelection</td>\n",
       "      <td>AdaBoost(xgbr)</td>\n",
       "      <td>28</td>\n",
       "      <td>0.875</td>\n",
       "      <td>208.221</td>\n",
       "      <td>89.894</td>\n",
       "      <td>41.622</td>\n",
       "    </tr>\n",
       "    <tr>\n",
       "      <th>17</th>\n",
       "      <td>DropCorrelatedFeatures</td>\n",
       "      <td>AdaBoost(xgbr)</td>\n",
       "      <td>28</td>\n",
       "      <td>0.858</td>\n",
       "      <td>222.440</td>\n",
       "      <td>91.492</td>\n",
       "      <td>42.362</td>\n",
       "    </tr>\n",
       "    <tr>\n",
       "      <th>18</th>\n",
       "      <td>RecursiveFeatureAddition</td>\n",
       "      <td>AdaBoost(xgbr)</td>\n",
       "      <td>20</td>\n",
       "      <td>0.856</td>\n",
       "      <td>223.785</td>\n",
       "      <td>89.766</td>\n",
       "      <td>41.562</td>\n",
       "    </tr>\n",
       "    <tr>\n",
       "      <th>19</th>\n",
       "      <td>RecursiveFeatureElimination</td>\n",
       "      <td>AdaBoost</td>\n",
       "      <td>26</td>\n",
       "      <td>0.890</td>\n",
       "      <td>223.785</td>\n",
       "      <td>88.089</td>\n",
       "      <td>40.786</td>\n",
       "    </tr>\n",
       "    <tr>\n",
       "      <th>20</th>\n",
       "      <td>best_Grid_Xt_selK_xgb</td>\n",
       "      <td>best_Grid_Xt_selK_xgb</td>\n",
       "      <td>22</td>\n",
       "      <td>0.861</td>\n",
       "      <td>223.785</td>\n",
       "      <td>98.350</td>\n",
       "      <td>45.537</td>\n",
       "    </tr>\n",
       "    <tr>\n",
       "      <th>21</th>\n",
       "      <td>best_Grid_Xt_selP_xgb</td>\n",
       "      <td>best_Grid_Xt_selP_xgb</td>\n",
       "      <td>36</td>\n",
       "      <td>0.825</td>\n",
       "      <td>223.785</td>\n",
       "      <td>101.225</td>\n",
       "      <td>46.868</td>\n",
       "    </tr>\n",
       "    <tr>\n",
       "      <th>22</th>\n",
       "      <td>best_Grid_Xt_scs_xgb</td>\n",
       "      <td>best_Grid_Xt_scs_xgb</td>\n",
       "      <td>28</td>\n",
       "      <td>0.812</td>\n",
       "      <td>223.785</td>\n",
       "      <td>106.248</td>\n",
       "      <td>49.194</td>\n",
       "    </tr>\n",
       "    <tr>\n",
       "      <th>23</th>\n",
       "      <td>best_Grid_Xt_dcf_xgb</td>\n",
       "      <td>best_Grid_Xt_dcf_xgb</td>\n",
       "      <td>26</td>\n",
       "      <td>0.859</td>\n",
       "      <td>223.785</td>\n",
       "      <td>98.393</td>\n",
       "      <td>45.557</td>\n",
       "    </tr>\n",
       "    <tr>\n",
       "      <th>24</th>\n",
       "      <td>best_Grid_Xt_rfa_xgb</td>\n",
       "      <td>best_Grid_Xt_rfa_xgb</td>\n",
       "      <td>16</td>\n",
       "      <td>0.840</td>\n",
       "      <td>223.785</td>\n",
       "      <td>99.938</td>\n",
       "      <td>46.272</td>\n",
       "    </tr>\n",
       "    <tr>\n",
       "      <th>25</th>\n",
       "      <td>best_Grid_Xt_rfe_xgb</td>\n",
       "      <td>best_Grid_Xt_rfe_xgb</td>\n",
       "      <td>28</td>\n",
       "      <td>0.804</td>\n",
       "      <td>223.785</td>\n",
       "      <td>101.305</td>\n",
       "      <td>46.905</td>\n",
       "    </tr>\n",
       "    <tr>\n",
       "      <th>26</th>\n",
       "      <td>best_Grid_Xt_selK_ada</td>\n",
       "      <td>best_Grid_Xt_selK_ada</td>\n",
       "      <td>27</td>\n",
       "      <td>0.888</td>\n",
       "      <td>223.785</td>\n",
       "      <td>84.842</td>\n",
       "      <td>39.282</td>\n",
       "    </tr>\n",
       "    <tr>\n",
       "      <th>27</th>\n",
       "      <td>best_Grid_Xt_selP_ada</td>\n",
       "      <td>best_Grid_Xt_selP_ada</td>\n",
       "      <td>36</td>\n",
       "      <td>0.880</td>\n",
       "      <td>223.785</td>\n",
       "      <td>85.811</td>\n",
       "      <td>39.731</td>\n",
       "    </tr>\n",
       "    <tr>\n",
       "      <th>28</th>\n",
       "      <td>best_Grid_Xt_scs_ada</td>\n",
       "      <td>best_Grid_Xt_scs_ada</td>\n",
       "      <td>28</td>\n",
       "      <td>0.868</td>\n",
       "      <td>223.785</td>\n",
       "      <td>89.596</td>\n",
       "      <td>41.484</td>\n",
       "    </tr>\n",
       "    <tr>\n",
       "      <th>29</th>\n",
       "      <td>best_Grid_Xt_dcf_ada</td>\n",
       "      <td>best_Grid_Xt_dcf_ada</td>\n",
       "      <td>28</td>\n",
       "      <td>0.858</td>\n",
       "      <td>223.785</td>\n",
       "      <td>90.355</td>\n",
       "      <td>41.835</td>\n",
       "    </tr>\n",
       "    <tr>\n",
       "      <th>30</th>\n",
       "      <td>best_Grid_Xt_rfe_ada</td>\n",
       "      <td>best_Grid_Xt_rfe_ada</td>\n",
       "      <td>26</td>\n",
       "      <td>0.876</td>\n",
       "      <td>223.785</td>\n",
       "      <td>86.914</td>\n",
       "      <td>40.242</td>\n",
       "    </tr>\n",
       "    <tr>\n",
       "      <th>31</th>\n",
       "      <td>best_Grid_Xt_rfa_ada</td>\n",
       "      <td>best_Grid_Xt_rfa_ada</td>\n",
       "      <td>20</td>\n",
       "      <td>0.890</td>\n",
       "      <td>223.785</td>\n",
       "      <td>85.243</td>\n",
       "      <td>39.468</td>\n",
       "    </tr>\n",
       "    <tr>\n",
       "      <th>32</th>\n",
       "      <td>xgb_params</td>\n",
       "      <td>Xt_selK_xgb</td>\n",
       "      <td>22</td>\n",
       "      <td>0.852</td>\n",
       "      <td>223.785</td>\n",
       "      <td>91.393</td>\n",
       "      <td>42.316</td>\n",
       "    </tr>\n",
       "    <tr>\n",
       "      <th>33</th>\n",
       "      <td>xgb_params</td>\n",
       "      <td>Xt_selP_xgb</td>\n",
       "      <td>36</td>\n",
       "      <td>0.873</td>\n",
       "      <td>223.785</td>\n",
       "      <td>85.791</td>\n",
       "      <td>39.722</td>\n",
       "    </tr>\n",
       "    <tr>\n",
       "      <th>34</th>\n",
       "      <td>xgb_params</td>\n",
       "      <td>Xt_scs_xgb</td>\n",
       "      <td>28</td>\n",
       "      <td>0.845</td>\n",
       "      <td>223.785</td>\n",
       "      <td>89.634</td>\n",
       "      <td>41.501</td>\n",
       "    </tr>\n",
       "    <tr>\n",
       "      <th>35</th>\n",
       "      <td>xgb_params</td>\n",
       "      <td>Xt_dcf_xgb</td>\n",
       "      <td>26</td>\n",
       "      <td>0.858</td>\n",
       "      <td>223.785</td>\n",
       "      <td>90.689</td>\n",
       "      <td>41.990</td>\n",
       "    </tr>\n",
       "    <tr>\n",
       "      <th>36</th>\n",
       "      <td>xgb_params</td>\n",
       "      <td>Xt_rfa_xgb</td>\n",
       "      <td>16</td>\n",
       "      <td>0.857</td>\n",
       "      <td>223.785</td>\n",
       "      <td>84.849</td>\n",
       "      <td>39.286</td>\n",
       "    </tr>\n",
       "    <tr>\n",
       "      <th>37</th>\n",
       "      <td>xgb_params</td>\n",
       "      <td>Xt_rfe_xgb</td>\n",
       "      <td>28</td>\n",
       "      <td>0.880</td>\n",
       "      <td>223.785</td>\n",
       "      <td>83.729</td>\n",
       "      <td>38.767</td>\n",
       "    </tr>\n",
       "    <tr>\n",
       "      <th>38</th>\n",
       "      <td>xgb_params</td>\n",
       "      <td>Xt_selK_ada</td>\n",
       "      <td>27</td>\n",
       "      <td>0.853</td>\n",
       "      <td>223.785</td>\n",
       "      <td>88.929</td>\n",
       "      <td>41.175</td>\n",
       "    </tr>\n",
       "    <tr>\n",
       "      <th>39</th>\n",
       "      <td>xgb_params</td>\n",
       "      <td>Xt_selP_ada</td>\n",
       "      <td>36</td>\n",
       "      <td>0.871</td>\n",
       "      <td>223.785</td>\n",
       "      <td>84.637</td>\n",
       "      <td>39.188</td>\n",
       "    </tr>\n",
       "    <tr>\n",
       "      <th>40</th>\n",
       "      <td>xgb_params</td>\n",
       "      <td>Xt_scs_ada</td>\n",
       "      <td>28</td>\n",
       "      <td>0.856</td>\n",
       "      <td>223.785</td>\n",
       "      <td>88.028</td>\n",
       "      <td>40.758</td>\n",
       "    </tr>\n",
       "    <tr>\n",
       "      <th>41</th>\n",
       "      <td>xgb_params</td>\n",
       "      <td>Xt_dcf_ada</td>\n",
       "      <td>28</td>\n",
       "      <td>0.862</td>\n",
       "      <td>223.785</td>\n",
       "      <td>84.997</td>\n",
       "      <td>39.354</td>\n",
       "    </tr>\n",
       "    <tr>\n",
       "      <th>42</th>\n",
       "      <td>xgb_params</td>\n",
       "      <td>Xt_rfa_ada</td>\n",
       "      <td>20</td>\n",
       "      <td>0.855</td>\n",
       "      <td>223.785</td>\n",
       "      <td>84.985</td>\n",
       "      <td>39.349</td>\n",
       "    </tr>\n",
       "    <tr>\n",
       "      <th>43</th>\n",
       "      <td>xgb_params</td>\n",
       "      <td>Xt_rfe_ada</td>\n",
       "      <td>26</td>\n",
       "      <td>0.869</td>\n",
       "      <td>223.785</td>\n",
       "      <td>85.017</td>\n",
       "      <td>39.363</td>\n",
       "    </tr>\n",
       "  </tbody>\n",
       "</table>\n",
       "</div>"
      ],
      "text/plain": [
       "                         Método                 Modelo  #Feats  ScoreTest  \\\n",
       "0                          base           RandomForest      39      0.820   \n",
       "1                          base                Xgboost      39      0.810   \n",
       "2                          base              GradBoost      39      0.750   \n",
       "3                          base               Adaboost      39      0.850   \n",
       "4                   SelectKBest           XGBRegressor      22      0.882   \n",
       "5              SelectPercentile           XGBRegressor      36      0.826   \n",
       "6      SmartCorrelatedSelection           XGBRegressor      28      0.859   \n",
       "7        DropCorrelatedFeatures           XGBRegressor      26      0.861   \n",
       "8                          base           RandomForest      26      0.820   \n",
       "9                          base                Xgboost      26      0.860   \n",
       "10                         base              GradBoost      26      0.730   \n",
       "11                         base               Adaboost      26      0.870   \n",
       "12     RecursiveFeatureAddition           XGBRegressor      16      0.844   \n",
       "13  RecursiveFeatureElimination           XGBRegressor      28      0.824   \n",
       "14                  SelectKBest          AdaBoost(xgb)      27      0.888   \n",
       "15             SelectPercentile         AdaBoost(xgbr)      36      0.869   \n",
       "16     SmartCorrelatedSelection         AdaBoost(xgbr)      28      0.875   \n",
       "17       DropCorrelatedFeatures         AdaBoost(xgbr)      28      0.858   \n",
       "18     RecursiveFeatureAddition         AdaBoost(xgbr)      20      0.856   \n",
       "19  RecursiveFeatureElimination               AdaBoost      26      0.890   \n",
       "20        best_Grid_Xt_selK_xgb  best_Grid_Xt_selK_xgb      22      0.861   \n",
       "21        best_Grid_Xt_selP_xgb  best_Grid_Xt_selP_xgb      36      0.825   \n",
       "22         best_Grid_Xt_scs_xgb   best_Grid_Xt_scs_xgb      28      0.812   \n",
       "23         best_Grid_Xt_dcf_xgb   best_Grid_Xt_dcf_xgb      26      0.859   \n",
       "24         best_Grid_Xt_rfa_xgb   best_Grid_Xt_rfa_xgb      16      0.840   \n",
       "25         best_Grid_Xt_rfe_xgb   best_Grid_Xt_rfe_xgb      28      0.804   \n",
       "26        best_Grid_Xt_selK_ada  best_Grid_Xt_selK_ada      27      0.888   \n",
       "27        best_Grid_Xt_selP_ada  best_Grid_Xt_selP_ada      36      0.880   \n",
       "28         best_Grid_Xt_scs_ada   best_Grid_Xt_scs_ada      28      0.868   \n",
       "29         best_Grid_Xt_dcf_ada   best_Grid_Xt_dcf_ada      28      0.858   \n",
       "30         best_Grid_Xt_rfe_ada   best_Grid_Xt_rfe_ada      26      0.876   \n",
       "31         best_Grid_Xt_rfa_ada   best_Grid_Xt_rfa_ada      20      0.890   \n",
       "32                   xgb_params            Xt_selK_xgb      22      0.852   \n",
       "33                   xgb_params            Xt_selP_xgb      36      0.873   \n",
       "34                   xgb_params             Xt_scs_xgb      28      0.845   \n",
       "35                   xgb_params             Xt_dcf_xgb      26      0.858   \n",
       "36                   xgb_params             Xt_rfa_xgb      16      0.857   \n",
       "37                   xgb_params             Xt_rfe_xgb      28      0.880   \n",
       "38                   xgb_params            Xt_selK_ada      27      0.853   \n",
       "39                   xgb_params            Xt_selP_ada      36      0.871   \n",
       "40                   xgb_params             Xt_scs_ada      28      0.856   \n",
       "41                   xgb_params             Xt_dcf_ada      28      0.862   \n",
       "42                   xgb_params             Xt_rfa_ada      20      0.855   \n",
       "43                   xgb_params             Xt_rfe_ada      26      0.869   \n",
       "\n",
       "       RMSE      MAE    MAPE  \n",
       "0   250.100   97.780  45.270  \n",
       "1   256.240   98.290  45.510  \n",
       "2   296.730  133.810  61.950  \n",
       "3   229.290   99.990  46.300  \n",
       "4   202.420   91.128  42.193  \n",
       "5   246.085   91.535  42.381  \n",
       "6   221.552   94.891  43.935  \n",
       "7   219.330   94.169  43.601  \n",
       "8   248.810   99.090  45.880  \n",
       "9   219.330   94.170  43.600  \n",
       "10  306.340  137.670  63.740  \n",
       "11  213.250   98.240  45.480  \n",
       "12  232.620   92.865  42.997  \n",
       "13  247.076   97.117  44.966  \n",
       "14  197.280   86.974  40.270  \n",
       "15  212.938   88.637  41.039  \n",
       "16  208.221   89.894  41.622  \n",
       "17  222.440   91.492  42.362  \n",
       "18  223.785   89.766  41.562  \n",
       "19  223.785   88.089  40.786  \n",
       "20  223.785   98.350  45.537  \n",
       "21  223.785  101.225  46.868  \n",
       "22  223.785  106.248  49.194  \n",
       "23  223.785   98.393  45.557  \n",
       "24  223.785   99.938  46.272  \n",
       "25  223.785  101.305  46.905  \n",
       "26  223.785   84.842  39.282  \n",
       "27  223.785   85.811  39.731  \n",
       "28  223.785   89.596  41.484  \n",
       "29  223.785   90.355  41.835  \n",
       "30  223.785   86.914  40.242  \n",
       "31  223.785   85.243  39.468  \n",
       "32  223.785   91.393  42.316  \n",
       "33  223.785   85.791  39.722  \n",
       "34  223.785   89.634  41.501  \n",
       "35  223.785   90.689  41.990  \n",
       "36  223.785   84.849  39.286  \n",
       "37  223.785   83.729  38.767  \n",
       "38  223.785   88.929  41.175  \n",
       "39  223.785   84.637  39.188  \n",
       "40  223.785   88.028  40.758  \n",
       "41  223.785   84.997  39.354  \n",
       "42  223.785   84.985  39.349  \n",
       "43  223.785   85.017  39.363  "
      ]
     },
     "execution_count": 67,
     "metadata": {},
     "output_type": "execute_result"
    }
   ],
   "source": [
    "metricas_modelos = pd.DataFrame(modelado,\n",
    "                                columns=['Método', 'Modelo',   \"#Feats\",  'ScoreTest', 'RMSE',  'MAE', 'MAPE'])\n",
    "metricas_modelos"
   ]
  },
  {
   "cell_type": "raw",
   "metadata": {},
   "source": [
    "#params_X_rfe params_X_dcf X_scs_xgb \n",
    "best_grid_ada_scs = mejor_regresor(X_scs_xgb, gax, 'Grid-Ada-xgbr_scs_kfcv')\n"
   ]
  },
  {
   "cell_type": "raw",
   "metadata": {},
   "source": [
    "best_grid_ada_rfa.get_params()"
   ]
  },
  {
   "cell_type": "raw",
   "metadata": {},
   "source": [
    "modelo_final  = xgb.XGBRegressor(**params_X_rfe)\n",
    "X_train, X_test, y_train, y_test = train_test_split(Xt_rfe_xgb, labels, test_size = TEST_SIZE, random_state = RANDOM_STATE)\n",
    "modelo_final.fit(X_train,y_train)\n",
    "pred = modelo_final.predict(X_test)\n",
    "    \n",
    "eftEntrenamiento = modelo_final.score (X_train, y_train)\n",
    "eftPrediccion = modelo_final.score (X_test, y_test)  \n",
    "mae = mean_absolute_error(y_test, pred)\n",
    "rmse = np.sqrt(mean_squared_error(y_test, pred))\n",
    "\n",
    "print([Xt_rfe_xgb.shape[1], eftEntrenamiento, eftPrediccion, rmse, mae])"
   ]
  },
  {
   "cell_type": "raw",
   "metadata": {},
   "source": [
    "modelo_final  = xgb.XGBRegressor(**params_X_scs_xgb)\n",
    "X_train, X_test, y_train, y_test = train_test_split(Xt_scs_xgb, labels, test_size = TEST_SIZE, random_state = RANDOM_STATE)\n",
    "modelo_final.fit(X_train,y_train)\n",
    "pred = modelo_final.predict(X_test)\n",
    "    \n",
    "eftEntrenamiento = modelo_final.score (X_train, y_train)\n",
    "eftPrediccion = modelo_final.score (X_test, y_test)  \n",
    "mae = mean_absolute_error(y_test, pred)\n",
    "rmse = np.sqrt(mean_squared_error(y_test, pred))\n",
    "\n",
    "print([Xt_scs_xgb.shape[1], eftEntrenamiento, eftPrediccion, rmse, mae])"
   ]
  },
  {
   "cell_type": "raw",
   "metadata": {},
   "source": [
    "modelo_final  = xgb.XGBRegressor(**params_X_dcf)\n",
    "X_train, X_test, y_train, y_test = train_test_split(Xt_dcf_xgb, labels, test_size = TEST_SIZE, random_state = RANDOM_STATE)\n",
    "\n",
    "modelo_final.fit(X_train,y_train)\n",
    "pred = modelo_final.predict(X_test)\n",
    "    \n",
    "eftEntrenamiento = modelo_final.score (X_train, y_train)\n",
    "eftPrediccion = modelo_final.score (X_test, y_test)  \n",
    "mae = mean_absolute_error(y_test, pred)\n",
    "rmse = np.sqrt(mean_squared_error(y_test, pred))\n",
    "\n",
    "print([Xt_dcf_xgb.shape[1], eftEntrenamiento, eftPrediccion, rmse, mae])"
   ]
  },
  {
   "cell_type": "raw",
   "metadata": {},
   "source": [
    "X_train, X_test, y_train, y_test = train_test_split(Xt_rfa_xgb, labels, test_size = TEST_SIZE, random_state = RANDOM_STATE)\n",
    "# Xt_dcf_xgb Xt_rfe_xgb Xt_scs_xgb Xt_rfa_xgb\n",
    "\n",
    "best_grid_ada_rfa.fit(X_train,y_train)\n",
    "pred = best_grid_ada_rfa.predict(X_test)\n",
    "    \n",
    "eftEntrenamiento = best_grid_ada_rfa.score (X_train, y_train)\n",
    "eftPrediccion = best_grid_ada_rfa.score (X_test, y_test)  \n",
    "mae = mean_absolute_error(y_test, pred)\n",
    "rmse = np.sqrt(mean_squared_error(y_test, pred))\n",
    "\n",
    "print([Xt_rfa_xgb.shape[1], eftEntrenamiento, eftPrediccion, rmse, mae])"
   ]
  },
  {
   "cell_type": "markdown",
   "metadata": {},
   "source": [
    "## Final model"
   ]
  },
  {
   "cell_type": "markdown",
   "metadata": {},
   "source": [
    "### Features Importance"
   ]
  },
  {
   "cell_type": "code",
   "execution_count": 70,
   "metadata": {},
   "outputs": [
    {
     "name": "stdout",
     "output_type": "stream",
     "text": [
      "[20, 0.99939569840717, 0.8797228731711416, 204.36061284139745, 83.72906264970027]\n",
      "Dimension : 28\n",
      "Cols : Index(['0', '2', '3', '4', '5', '6', '7', '8', '9', '10', '11', '12', '13',\n",
      "       '14', '15', '18', '19', '20', '22', '23', '24', '25', '30', '31', '32',\n",
      "       '34', '37', '38'],\n",
      "      dtype='object')\n"
     ]
    },
    {
     "data": {
      "image/png": "[encoded data removed]",
      "text/plain": [
       "<Figure size 750x500 with 1 Axes>"
      ]
     },
     "metadata": {},
     "output_type": "display_data"
    },
    {
     "data": {
      "image/png": "[encoded data removed]",
      "text/plain": [
       "<Figure size 750x500 with 1 Axes>"
      ]
     },
     "metadata": {},
     "output_type": "display_data"
    }
   ],
   "source": [
    "modelo_final  = xgb.XGBRegressor(**params_Xt_rfe_xgb) ### xgbparams\n",
    "X_train, X_test, y_train, y_test = train_test_split(Xt_rfe_xgb, labels, test_size = TEST_SIZE, random_state = RANDOM_STATE)\n",
    "\n",
    "modelo_final.fit(X_train,y_train)\n",
    "pred = modelo_final.predict(X_test)\n",
    "    \n",
    "eftEntrenamiento = modelo_final.score (X_train, y_train)\n",
    "eftPrediccion = modelo_final.score (X_test, y_test)  \n",
    "mae = mean_absolute_error(y_test, pred)\n",
    "rmse = np.sqrt(mean_squared_error(y_test, pred))\n",
    "\n",
    "print([Xt_rfe_xgb.shape[1], eftEntrenamiento, eftPrediccion, rmse, mae])\n",
    "\n",
    "importancias = pd.DataFrame({'XGBRegressor(**params_Xt_rfe_xgb)' : modelo_final.feature_importances_ })\n",
    "pos = np.arange(np.argsort(importancias['XGBRegressor(**params_Xt_rfe_xgb)']).shape[0]) + .5\n",
    "sorted_imp = importancias['XGBRegressor(**params_Xt_rfe_xgb)'].argsort()\n",
    "\n",
    "print(\"Dimension :\", Xt_rfe_xgb.shape[1])\n",
    "print(\"Cols :\", Xt_rfe_xgb.columns)\n",
    "lista = Xt_rfe_xgb.columns\n",
    "atributos_rfe_xgb = [lista_variables[int(x)] for x in lista]\n",
    "\n",
    "fig = plt.figure(figsize=(15,10))\n",
    "#plt.subplot(1, 2, 1)\n",
    "#plt.barh(pos, importancias['best_grid_ada_rfa'][np.argsort(importancias['best_grid_ada_rfa'])], align='center')\n",
    "plt.barh(pos, importancias['XGBRegressor(**params_Xt_rfe_xgb)'][sorted_imp], align='center')\n",
    "\n",
    "plt.yticks((pos), np.array(atributos_rfe_xgb)[sorted_imp])\n",
    "           #np.array(features)[np.argsort(importancias['best_grid_ada_rfa'])])\n",
    "plt.title('XGBRegressor feature importance (**params_Xt_rfe_xgb)')\n",
    "plt.show()\n",
    "\n",
    "\n",
    "perm_imp = permutation_importance(modelo_final, X_test, y_test, n_repeats=10, random_state=RANDOM_STATE, n_jobs=2)\n",
    "sorted_idx = perm_imp.importances_mean.argsort()\n",
    "fig = plt.figure(figsize=(15,10))\n",
    "\n",
    "plt.boxplot(perm_imp.importances[sorted_idx].T, vert=False, labels=np.array(atributos_rfe_xgb)[sorted_idx])\n",
    "plt.title(\"XGBRegressor Permutation feature importance (**params_Xt_rfe_xgb)\")\n",
    "fig.tight_layout()\n",
    "plt.show();\n"
   ]
  },
  {
   "cell_type": "raw",
   "metadata": {
    "scrolled": true
   },
   "source": [
    "best_Grid_Xt_selK_ada.feature_importances_"
   ]
  },
  {
   "cell_type": "code",
   "execution_count": 71,
   "metadata": {
    "scrolled": true
   },
   "outputs": [
    {
     "data": {
      "text/html": [
       "<div>\n",
       "<style scoped>\n",
       "    .dataframe tbody tr th:only-of-type {\n",
       "        vertical-align: middle;\n",
       "    }\n",
       "\n",
       "    .dataframe tbody tr th {\n",
       "        vertical-align: top;\n",
       "    }\n",
       "\n",
       "    .dataframe thead th {\n",
       "        text-align: right;\n",
       "    }\n",
       "</style>\n",
       "<table border=\"1\" class=\"dataframe\">\n",
       "  <thead>\n",
       "    <tr style=\"text-align: right;\">\n",
       "      <th></th>\n",
       "      <th>XGBRegressor(**params_Xt_rfe_xgb)</th>\n",
       "    </tr>\n",
       "  </thead>\n",
       "  <tbody>\n",
       "    <tr>\n",
       "      <th>0</th>\n",
       "      <td>0.021356</td>\n",
       "    </tr>\n",
       "    <tr>\n",
       "      <th>1</th>\n",
       "      <td>0.014143</td>\n",
       "    </tr>\n",
       "    <tr>\n",
       "      <th>2</th>\n",
       "      <td>0.010140</td>\n",
       "    </tr>\n",
       "    <tr>\n",
       "      <th>3</th>\n",
       "      <td>0.023938</td>\n",
       "    </tr>\n",
       "    <tr>\n",
       "      <th>4</th>\n",
       "      <td>0.006392</td>\n",
       "    </tr>\n",
       "    <tr>\n",
       "      <th>5</th>\n",
       "      <td>0.020455</td>\n",
       "    </tr>\n",
       "    <tr>\n",
       "      <th>6</th>\n",
       "      <td>0.235619</td>\n",
       "    </tr>\n",
       "    <tr>\n",
       "      <th>7</th>\n",
       "      <td>0.059751</td>\n",
       "    </tr>\n",
       "    <tr>\n",
       "      <th>8</th>\n",
       "      <td>0.120047</td>\n",
       "    </tr>\n",
       "    <tr>\n",
       "      <th>9</th>\n",
       "      <td>0.006610</td>\n",
       "    </tr>\n",
       "    <tr>\n",
       "      <th>10</th>\n",
       "      <td>0.038547</td>\n",
       "    </tr>\n",
       "    <tr>\n",
       "      <th>11</th>\n",
       "      <td>0.011399</td>\n",
       "    </tr>\n",
       "    <tr>\n",
       "      <th>12</th>\n",
       "      <td>0.021461</td>\n",
       "    </tr>\n",
       "    <tr>\n",
       "      <th>13</th>\n",
       "      <td>0.006280</td>\n",
       "    </tr>\n",
       "    <tr>\n",
       "      <th>14</th>\n",
       "      <td>0.004712</td>\n",
       "    </tr>\n",
       "    <tr>\n",
       "      <th>15</th>\n",
       "      <td>0.008338</td>\n",
       "    </tr>\n",
       "    <tr>\n",
       "      <th>16</th>\n",
       "      <td>0.062960</td>\n",
       "    </tr>\n",
       "    <tr>\n",
       "      <th>17</th>\n",
       "      <td>0.035096</td>\n",
       "    </tr>\n",
       "    <tr>\n",
       "      <th>18</th>\n",
       "      <td>0.015318</td>\n",
       "    </tr>\n",
       "    <tr>\n",
       "      <th>19</th>\n",
       "      <td>0.012448</td>\n",
       "    </tr>\n",
       "    <tr>\n",
       "      <th>20</th>\n",
       "      <td>0.009284</td>\n",
       "    </tr>\n",
       "    <tr>\n",
       "      <th>21</th>\n",
       "      <td>0.007446</td>\n",
       "    </tr>\n",
       "    <tr>\n",
       "      <th>22</th>\n",
       "      <td>0.035828</td>\n",
       "    </tr>\n",
       "    <tr>\n",
       "      <th>23</th>\n",
       "      <td>0.023056</td>\n",
       "    </tr>\n",
       "    <tr>\n",
       "      <th>24</th>\n",
       "      <td>0.020215</td>\n",
       "    </tr>\n",
       "    <tr>\n",
       "      <th>25</th>\n",
       "      <td>0.005213</td>\n",
       "    </tr>\n",
       "    <tr>\n",
       "      <th>26</th>\n",
       "      <td>0.133603</td>\n",
       "    </tr>\n",
       "    <tr>\n",
       "      <th>27</th>\n",
       "      <td>0.030344</td>\n",
       "    </tr>\n",
       "  </tbody>\n",
       "</table>\n",
       "</div>"
      ],
      "text/plain": [
       "    XGBRegressor(**params_Xt_rfe_xgb)\n",
       "0                            0.021356\n",
       "1                            0.014143\n",
       "2                            0.010140\n",
       "3                            0.023938\n",
       "4                            0.006392\n",
       "5                            0.020455\n",
       "6                            0.235619\n",
       "7                            0.059751\n",
       "8                            0.120047\n",
       "9                            0.006610\n",
       "10                           0.038547\n",
       "11                           0.011399\n",
       "12                           0.021461\n",
       "13                           0.006280\n",
       "14                           0.004712\n",
       "15                           0.008338\n",
       "16                           0.062960\n",
       "17                           0.035096\n",
       "18                           0.015318\n",
       "19                           0.012448\n",
       "20                           0.009284\n",
       "21                           0.007446\n",
       "22                           0.035828\n",
       "23                           0.023056\n",
       "24                           0.020215\n",
       "25                           0.005213\n",
       "26                           0.133603\n",
       "27                           0.030344"
      ]
     },
     "execution_count": 71,
     "metadata": {},
     "output_type": "execute_result"
    }
   ],
   "source": [
    "importancias"
   ]
  },
  {
   "cell_type": "code",
   "execution_count": 2,
   "metadata": {},
   "outputs": [
    {
     "ename": "NameError",
     "evalue": "name 'select' is not defined",
     "output_type": "error",
     "traceback": [
      "\u001b[0;31m---------------------------------------------------------------------------\u001b[0m",
      "\u001b[0;31mNameError\u001b[0m                                 Traceback (most recent call last)",
      "\u001b[0;32m/tmp/ipykernel_4950/2542162086.py\u001b[0m in \u001b[0;36m<module>\u001b[0;34m\u001b[0m\n\u001b[0;32m----> 1\u001b[0;31m \u001b[0mselect\u001b[0m\u001b[0;34m.\u001b[0m\u001b[0mget_support\u001b[0m\u001b[0;34m(\u001b[0m\u001b[0;34m)\u001b[0m\u001b[0;34m\u001b[0m\u001b[0;34m\u001b[0m\u001b[0m\n\u001b[0m",
      "\u001b[0;31mNameError\u001b[0m: name 'select' is not defined"
     ]
    }
   ],
   "source": [
    "select.get_support()"
   ]
  },
  {
   "cell_type": "code",
   "execution_count": 72,
   "metadata": {},
   "outputs": [
    {
     "data": {
      "text/plain": [
       "[array([ True,  True, False, False, False, False, False,  True,  True,\n",
       "         True,  True, False,  True,  True, False, False, False, False,\n",
       "        False, False, False, False, False, False, False, False, False,\n",
       "        False,  True, False, False, False, False, False, False, False,\n",
       "        False,  True,  True])]"
      ]
     },
     "execution_count": 72,
     "metadata": {},
     "output_type": "execute_result"
    }
   ],
   "source": [
    "select.get_support()\n",
    "atributos_selk_ada_l = [lista_variables and select.get_support()]\n",
    "atributos_selk_ada_l"
   ]
  },
  {
   "cell_type": "code",
   "execution_count": 72,
   "metadata": {},
   "outputs": [
    {
     "data": {
      "text/plain": [
       "['v_muy_cortos',\n",
       " 'v_cortos',\n",
       " 'v_medios',\n",
       " 'v_largos',\n",
       " 'v_muy_largos',\n",
       " 'v_extra_largos',\n",
       " 'v_noche',\n",
       " 'v_madrugada',\n",
       " 'v_mañana',\n",
       " 'v_mediodia',\n",
       " 'v_sobremesa',\n",
       " 'v_tarde',\n",
       " 'v_km_muy_cortos',\n",
       " 'v_km_cortos',\n",
       " 'v_km_medios',\n",
       " 'v_km_largos',\n",
       " 'v_km_muy_largos',\n",
       " 'v_km_extra_largos',\n",
       " 'v_km_noche',\n",
       " 'v_km_madrugada',\n",
       " 'v_km_mañana',\n",
       " 'v_km_mediodia',\n",
       " 'v_km_sobremesa',\n",
       " 'v_km_tarde',\n",
       " 'cero_viajes',\n",
       " 'un_viaje',\n",
       " 'dos_viajes',\n",
       " 'mas_de_dos_viajes',\n",
       " 'altitud',\n",
       " 'velmedia',\n",
       " 'tmin',\n",
       " 'tmed',\n",
       " 'tmax',\n",
       " 'presMin',\n",
       " 'presMax',\n",
       " 'sol',\n",
       " 'prec',\n",
       " 'hr',\n",
       " 'poblacion']"
      ]
     },
     "execution_count": 72,
     "metadata": {},
     "output_type": "execute_result"
    }
   ],
   "source": [
    "lista_variables"
   ]
  },
  {
   "cell_type": "code",
   "execution_count": 73,
   "metadata": {},
   "outputs": [
    {
     "data": {
      "image/png": "[encoded data removed]",
      "text/plain": [
       "<Figure size 1000x1000 with 1 Axes>"
      ]
     },
     "metadata": {},
     "output_type": "display_data"
    }
   ],
   "source": [
    "lista = [i for i in range(0,y_test.values.shape[0])]\n",
    "xx = np.stack(lista)\n",
    "plt.figure(figsize=(20,20))\n",
    "plt.plot(xx, pred, \"ys\" ,label=\"Predictión\")\n",
    "plt.plot(xx, y_test, \"bs\" ,label=\"Real\")\n",
    "\n",
    "plt.tick_params(axis=\"x\", which=\"both\", bottom=False, top=False, labelbottom=False)\n",
    "plt.ylabel(\"Num_casos\")\n",
    "plt.xlabel(\"Muestras de prueba\")\n",
    "plt.legend(loc=\"best\")\n",
    "plt.title(\"Predicciones de XGBRegressor(**params_Xt_rfe_xgb)\")\n",
    "plt.show()"
   ]
  },
  {
   "cell_type": "code",
   "execution_count": 74,
   "metadata": {
    "scrolled": false
   },
   "outputs": [
    {
     "data": {
      "image/png": "[encoded data removed]",
      "text/plain": [
       "<Figure size 1000x1000 with 1 Axes>"
      ]
     },
     "metadata": {},
     "output_type": "display_data"
    }
   ],
   "source": [
    "plt.figure(figsize=(20,20))\n",
    "plt.plot(xx, y_test, c='r', label='Data')\n",
    "#plt.plot(xx, y, c='k', label='data')\n",
    "plt.ylabel(\"Num_casos\")\n",
    "plt.xlabel(\"Muestras de prueba\")\n",
    "plt.plot(xx, pred, c='g', label='Predictión')\n",
    "plt.axis('tight')\n",
    "plt.legend()\n",
    "plt.title(\"XGBRegressor(**params_Xt_rfe_xgb) \" )\n",
    "\n",
    "plt.show()"
   ]
  },
  {
   "cell_type": "markdown",
   "metadata": {},
   "source": [
    "----  "
   ]
  },
  {
   "cell_type": "markdown",
   "metadata": {},
   "source": [
    "## Save results"
   ]
  },
  {
   "cell_type": "code",
   "execution_count": 75,
   "metadata": {},
   "outputs": [
    {
     "data": {
      "text/plain": [
       "(44, 7)"
      ]
     },
     "execution_count": 75,
     "metadata": {},
     "output_type": "execute_result"
    }
   ],
   "source": [
    "metricas_modelos = pd.DataFrame(modelado,\n",
    "                                columns=['Método', 'Modelo',  \"#Feats\", 'ScoreTest', 'RMSE',  'MAE', 'MAPE'])\n",
    "nombre = 'tarjeta_datos_0.csv'\n",
    "\n",
    "metricas_modelos.to_csv(\"~/Trabajo_tfm/datos_csv/modelos_\" + nombre )\n",
    "metricas_modelos.shape"
   ]
  },
  {
   "cell_type": "code",
   "execution_count": 76,
   "metadata": {},
   "outputs": [
    {
     "data": {
      "text/plain": [
       "[['base', 'RandomForest', 39, 0.82, 250.1, 97.78, 45.27],\n",
       " ['base', 'Xgboost', 39, 0.81, 256.24, 98.29, 45.51],\n",
       " ['base', 'GradBoost', 39, 0.75, 296.73, 133.81, 61.95],\n",
       " ['base', 'Adaboost', 39, 0.85, 229.29, 99.99, 46.3],\n",
       " ['SelectKBest', 'XGBRegressor', 22, 0.882, 202.42, 91.128, 42.193],\n",
       " ['SelectPercentile', 'XGBRegressor', 36, 0.826, 246.085, 91.535, 42.381],\n",
       " ['SmartCorrelatedSelection',\n",
       "  'XGBRegressor',\n",
       "  28,\n",
       "  0.859,\n",
       "  221.552,\n",
       "  94.891,\n",
       "  43.935],\n",
       " ['DropCorrelatedFeatures', 'XGBRegressor', 26, 0.861, 219.33, 94.169, 43.601],\n",
       " ['base', 'RandomForest', 26, 0.82, 248.81, 99.09, 45.88],\n",
       " ['base', 'Xgboost', 26, 0.86, 219.33, 94.17, 43.6],\n",
       " ['base', 'GradBoost', 26, 0.73, 306.34, 137.67, 63.74],\n",
       " ['base', 'Adaboost', 26, 0.87, 213.25, 98.24, 45.48],\n",
       " ['RecursiveFeatureAddition',\n",
       "  'XGBRegressor',\n",
       "  16,\n",
       "  0.844,\n",
       "  232.62,\n",
       "  92.865,\n",
       "  42.997],\n",
       " ['RecursiveFeatureElimination',\n",
       "  'XGBRegressor',\n",
       "  28,\n",
       "  0.824,\n",
       "  247.076,\n",
       "  97.117,\n",
       "  44.966],\n",
       " ['SelectKBest', 'AdaBoost(xgb)', 27, 0.888, 197.28, 86.974, 40.27],\n",
       " ['SelectPercentile', 'AdaBoost(xgbr)', 36, 0.869, 212.938, 88.637, 41.039],\n",
       " ['SmartCorrelatedSelection',\n",
       "  'AdaBoost(xgbr)',\n",
       "  28,\n",
       "  0.875,\n",
       "  208.221,\n",
       "  89.894,\n",
       "  41.622],\n",
       " ['DropCorrelatedFeatures',\n",
       "  'AdaBoost(xgbr)',\n",
       "  28,\n",
       "  0.858,\n",
       "  222.44,\n",
       "  91.492,\n",
       "  42.362],\n",
       " ['RecursiveFeatureAddition',\n",
       "  'AdaBoost(xgbr)',\n",
       "  20,\n",
       "  0.856,\n",
       "  223.785,\n",
       "  89.766,\n",
       "  41.562],\n",
       " ['RecursiveFeatureElimination',\n",
       "  'AdaBoost',\n",
       "  26,\n",
       "  0.89,\n",
       "  223.785,\n",
       "  88.089,\n",
       "  40.786],\n",
       " ['best_Grid_Xt_selK_xgb',\n",
       "  'best_Grid_Xt_selK_xgb',\n",
       "  22,\n",
       "  0.861,\n",
       "  223.785,\n",
       "  98.35,\n",
       "  45.537],\n",
       " ['best_Grid_Xt_selP_xgb',\n",
       "  'best_Grid_Xt_selP_xgb',\n",
       "  36,\n",
       "  0.825,\n",
       "  223.785,\n",
       "  101.225,\n",
       "  46.868],\n",
       " ['best_Grid_Xt_scs_xgb',\n",
       "  'best_Grid_Xt_scs_xgb',\n",
       "  28,\n",
       "  0.812,\n",
       "  223.785,\n",
       "  106.248,\n",
       "  49.194],\n",
       " ['best_Grid_Xt_dcf_xgb',\n",
       "  'best_Grid_Xt_dcf_xgb',\n",
       "  26,\n",
       "  0.859,\n",
       "  223.785,\n",
       "  98.393,\n",
       "  45.557],\n",
       " ['best_Grid_Xt_rfa_xgb',\n",
       "  'best_Grid_Xt_rfa_xgb',\n",
       "  16,\n",
       "  0.84,\n",
       "  223.785,\n",
       "  99.938,\n",
       "  46.272],\n",
       " ['best_Grid_Xt_rfe_xgb',\n",
       "  'best_Grid_Xt_rfe_xgb',\n",
       "  28,\n",
       "  0.804,\n",
       "  223.785,\n",
       "  101.305,\n",
       "  46.905],\n",
       " ['best_Grid_Xt_selK_ada',\n",
       "  'best_Grid_Xt_selK_ada',\n",
       "  27,\n",
       "  0.888,\n",
       "  223.785,\n",
       "  84.842,\n",
       "  39.282],\n",
       " ['best_Grid_Xt_selP_ada',\n",
       "  'best_Grid_Xt_selP_ada',\n",
       "  36,\n",
       "  0.88,\n",
       "  223.785,\n",
       "  85.811,\n",
       "  39.731],\n",
       " ['best_Grid_Xt_scs_ada',\n",
       "  'best_Grid_Xt_scs_ada',\n",
       "  28,\n",
       "  0.868,\n",
       "  223.785,\n",
       "  89.596,\n",
       "  41.484],\n",
       " ['best_Grid_Xt_dcf_ada',\n",
       "  'best_Grid_Xt_dcf_ada',\n",
       "  28,\n",
       "  0.858,\n",
       "  223.785,\n",
       "  90.355,\n",
       "  41.835],\n",
       " ['best_Grid_Xt_rfe_ada',\n",
       "  'best_Grid_Xt_rfe_ada',\n",
       "  26,\n",
       "  0.876,\n",
       "  223.785,\n",
       "  86.914,\n",
       "  40.242],\n",
       " ['best_Grid_Xt_rfa_ada',\n",
       "  'best_Grid_Xt_rfa_ada',\n",
       "  20,\n",
       "  0.89,\n",
       "  223.785,\n",
       "  85.243,\n",
       "  39.468],\n",
       " ['xgb_params', 'Xt_selK_xgb', 22, 0.852, 223.785, 91.393, 42.316],\n",
       " ['xgb_params', 'Xt_selP_xgb', 36, 0.873, 223.785, 85.791, 39.722],\n",
       " ['xgb_params', 'Xt_scs_xgb', 28, 0.845, 223.785, 89.634, 41.501],\n",
       " ['xgb_params', 'Xt_dcf_xgb', 26, 0.858, 223.785, 90.689, 41.99],\n",
       " ['xgb_params', 'Xt_rfa_xgb', 16, 0.857, 223.785, 84.849, 39.286],\n",
       " ['xgb_params', 'Xt_rfe_xgb', 28, 0.88, 223.785, 83.729, 38.767],\n",
       " ['xgb_params', 'Xt_selK_ada', 27, 0.853, 223.785, 88.929, 41.175],\n",
       " ['xgb_params', 'Xt_selP_ada', 36, 0.871, 223.785, 84.637, 39.188],\n",
       " ['xgb_params', 'Xt_scs_ada', 28, 0.856, 223.785, 88.028, 40.758],\n",
       " ['xgb_params', 'Xt_dcf_ada', 28, 0.862, 223.785, 84.997, 39.354],\n",
       " ['xgb_params', 'Xt_rfa_ada', 20, 0.855, 223.785, 84.985, 39.349],\n",
       " ['xgb_params', 'Xt_rfe_ada', 26, 0.869, 223.785, 85.017, 39.363]]"
      ]
     },
     "execution_count": 76,
     "metadata": {},
     "output_type": "execute_result"
    }
   ],
   "source": [
    "modelado"
   ]
  },
  {
   "cell_type": "code",
   "execution_count": 77,
   "metadata": {},
   "outputs": [
    {
     "data": {
      "text/html": [
       "<div>\n",
       "<style scoped>\n",
       "    .dataframe tbody tr th:only-of-type {\n",
       "        vertical-align: middle;\n",
       "    }\n",
       "\n",
       "    .dataframe tbody tr th {\n",
       "        vertical-align: top;\n",
       "    }\n",
       "\n",
       "    .dataframe thead th {\n",
       "        text-align: right;\n",
       "    }\n",
       "</style>\n",
       "<table border=\"1\" class=\"dataframe\">\n",
       "  <thead>\n",
       "    <tr style=\"text-align: right;\">\n",
       "      <th></th>\n",
       "      <th>Método</th>\n",
       "      <th>Modelo</th>\n",
       "      <th>#Feats</th>\n",
       "      <th>ScoreTest</th>\n",
       "      <th>RMSE</th>\n",
       "      <th>MAE</th>\n",
       "      <th>MAPE</th>\n",
       "    </tr>\n",
       "  </thead>\n",
       "  <tbody>\n",
       "    <tr>\n",
       "      <th>0</th>\n",
       "      <td>base</td>\n",
       "      <td>RandomForest</td>\n",
       "      <td>39</td>\n",
       "      <td>0.820</td>\n",
       "      <td>250.100</td>\n",
       "      <td>97.780</td>\n",
       "      <td>45.270</td>\n",
       "    </tr>\n",
       "    <tr>\n",
       "      <th>1</th>\n",
       "      <td>base</td>\n",
       "      <td>Xgboost</td>\n",
       "      <td>39</td>\n",
       "      <td>0.810</td>\n",
       "      <td>256.240</td>\n",
       "      <td>98.290</td>\n",
       "      <td>45.510</td>\n",
       "    </tr>\n",
       "    <tr>\n",
       "      <th>2</th>\n",
       "      <td>base</td>\n",
       "      <td>GradBoost</td>\n",
       "      <td>39</td>\n",
       "      <td>0.750</td>\n",
       "      <td>296.730</td>\n",
       "      <td>133.810</td>\n",
       "      <td>61.950</td>\n",
       "    </tr>\n",
       "    <tr>\n",
       "      <th>3</th>\n",
       "      <td>base</td>\n",
       "      <td>Adaboost</td>\n",
       "      <td>39</td>\n",
       "      <td>0.850</td>\n",
       "      <td>229.290</td>\n",
       "      <td>99.990</td>\n",
       "      <td>46.300</td>\n",
       "    </tr>\n",
       "    <tr>\n",
       "      <th>4</th>\n",
       "      <td>SelectKBest</td>\n",
       "      <td>XGBRegressor</td>\n",
       "      <td>22</td>\n",
       "      <td>0.882</td>\n",
       "      <td>202.420</td>\n",
       "      <td>91.128</td>\n",
       "      <td>42.193</td>\n",
       "    </tr>\n",
       "    <tr>\n",
       "      <th>5</th>\n",
       "      <td>SelectPercentile</td>\n",
       "      <td>XGBRegressor</td>\n",
       "      <td>36</td>\n",
       "      <td>0.826</td>\n",
       "      <td>246.085</td>\n",
       "      <td>91.535</td>\n",
       "      <td>42.381</td>\n",
       "    </tr>\n",
       "    <tr>\n",
       "      <th>6</th>\n",
       "      <td>SmartCorrelatedSelection</td>\n",
       "      <td>XGBRegressor</td>\n",
       "      <td>28</td>\n",
       "      <td>0.859</td>\n",
       "      <td>221.552</td>\n",
       "      <td>94.891</td>\n",
       "      <td>43.935</td>\n",
       "    </tr>\n",
       "    <tr>\n",
       "      <th>7</th>\n",
       "      <td>DropCorrelatedFeatures</td>\n",
       "      <td>XGBRegressor</td>\n",
       "      <td>26</td>\n",
       "      <td>0.861</td>\n",
       "      <td>219.330</td>\n",
       "      <td>94.169</td>\n",
       "      <td>43.601</td>\n",
       "    </tr>\n",
       "    <tr>\n",
       "      <th>8</th>\n",
       "      <td>base</td>\n",
       "      <td>RandomForest</td>\n",
       "      <td>26</td>\n",
       "      <td>0.820</td>\n",
       "      <td>248.810</td>\n",
       "      <td>99.090</td>\n",
       "      <td>45.880</td>\n",
       "    </tr>\n",
       "    <tr>\n",
       "      <th>9</th>\n",
       "      <td>base</td>\n",
       "      <td>Xgboost</td>\n",
       "      <td>26</td>\n",
       "      <td>0.860</td>\n",
       "      <td>219.330</td>\n",
       "      <td>94.170</td>\n",
       "      <td>43.600</td>\n",
       "    </tr>\n",
       "    <tr>\n",
       "      <th>10</th>\n",
       "      <td>base</td>\n",
       "      <td>GradBoost</td>\n",
       "      <td>26</td>\n",
       "      <td>0.730</td>\n",
       "      <td>306.340</td>\n",
       "      <td>137.670</td>\n",
       "      <td>63.740</td>\n",
       "    </tr>\n",
       "    <tr>\n",
       "      <th>11</th>\n",
       "      <td>base</td>\n",
       "      <td>Adaboost</td>\n",
       "      <td>26</td>\n",
       "      <td>0.870</td>\n",
       "      <td>213.250</td>\n",
       "      <td>98.240</td>\n",
       "      <td>45.480</td>\n",
       "    </tr>\n",
       "    <tr>\n",
       "      <th>12</th>\n",
       "      <td>RecursiveFeatureAddition</td>\n",
       "      <td>XGBRegressor</td>\n",
       "      <td>16</td>\n",
       "      <td>0.844</td>\n",
       "      <td>232.620</td>\n",
       "      <td>92.865</td>\n",
       "      <td>42.997</td>\n",
       "    </tr>\n",
       "    <tr>\n",
       "      <th>13</th>\n",
       "      <td>RecursiveFeatureElimination</td>\n",
       "      <td>XGBRegressor</td>\n",
       "      <td>28</td>\n",
       "      <td>0.824</td>\n",
       "      <td>247.076</td>\n",
       "      <td>97.117</td>\n",
       "      <td>44.966</td>\n",
       "    </tr>\n",
       "    <tr>\n",
       "      <th>14</th>\n",
       "      <td>SelectKBest</td>\n",
       "      <td>AdaBoost(xgb)</td>\n",
       "      <td>27</td>\n",
       "      <td>0.888</td>\n",
       "      <td>197.280</td>\n",
       "      <td>86.974</td>\n",
       "      <td>40.270</td>\n",
       "    </tr>\n",
       "    <tr>\n",
       "      <th>15</th>\n",
       "      <td>SelectPercentile</td>\n",
       "      <td>AdaBoost(xgbr)</td>\n",
       "      <td>36</td>\n",
       "      <td>0.869</td>\n",
       "      <td>212.938</td>\n",
       "      <td>88.637</td>\n",
       "      <td>41.039</td>\n",
       "    </tr>\n",
       "    <tr>\n",
       "      <th>16</th>\n",
       "      <td>SmartCorrelatedSelection</td>\n",
       "      <td>AdaBoost(xgbr)</td>\n",
       "      <td>28</td>\n",
       "      <td>0.875</td>\n",
       "      <td>208.221</td>\n",
       "      <td>89.894</td>\n",
       "      <td>41.622</td>\n",
       "    </tr>\n",
       "    <tr>\n",
       "      <th>17</th>\n",
       "      <td>DropCorrelatedFeatures</td>\n",
       "      <td>AdaBoost(xgbr)</td>\n",
       "      <td>28</td>\n",
       "      <td>0.858</td>\n",
       "      <td>222.440</td>\n",
       "      <td>91.492</td>\n",
       "      <td>42.362</td>\n",
       "    </tr>\n",
       "    <tr>\n",
       "      <th>18</th>\n",
       "      <td>RecursiveFeatureAddition</td>\n",
       "      <td>AdaBoost(xgbr)</td>\n",
       "      <td>20</td>\n",
       "      <td>0.856</td>\n",
       "      <td>223.785</td>\n",
       "      <td>89.766</td>\n",
       "      <td>41.562</td>\n",
       "    </tr>\n",
       "    <tr>\n",
       "      <th>19</th>\n",
       "      <td>RecursiveFeatureElimination</td>\n",
       "      <td>AdaBoost</td>\n",
       "      <td>26</td>\n",
       "      <td>0.890</td>\n",
       "      <td>223.785</td>\n",
       "      <td>88.089</td>\n",
       "      <td>40.786</td>\n",
       "    </tr>\n",
       "    <tr>\n",
       "      <th>20</th>\n",
       "      <td>best_Grid_Xt_selK_xgb</td>\n",
       "      <td>best_Grid_Xt_selK_xgb</td>\n",
       "      <td>22</td>\n",
       "      <td>0.861</td>\n",
       "      <td>223.785</td>\n",
       "      <td>98.350</td>\n",
       "      <td>45.537</td>\n",
       "    </tr>\n",
       "    <tr>\n",
       "      <th>21</th>\n",
       "      <td>best_Grid_Xt_selP_xgb</td>\n",
       "      <td>best_Grid_Xt_selP_xgb</td>\n",
       "      <td>36</td>\n",
       "      <td>0.825</td>\n",
       "      <td>223.785</td>\n",
       "      <td>101.225</td>\n",
       "      <td>46.868</td>\n",
       "    </tr>\n",
       "    <tr>\n",
       "      <th>22</th>\n",
       "      <td>best_Grid_Xt_scs_xgb</td>\n",
       "      <td>best_Grid_Xt_scs_xgb</td>\n",
       "      <td>28</td>\n",
       "      <td>0.812</td>\n",
       "      <td>223.785</td>\n",
       "      <td>106.248</td>\n",
       "      <td>49.194</td>\n",
       "    </tr>\n",
       "    <tr>\n",
       "      <th>23</th>\n",
       "      <td>best_Grid_Xt_dcf_xgb</td>\n",
       "      <td>best_Grid_Xt_dcf_xgb</td>\n",
       "      <td>26</td>\n",
       "      <td>0.859</td>\n",
       "      <td>223.785</td>\n",
       "      <td>98.393</td>\n",
       "      <td>45.557</td>\n",
       "    </tr>\n",
       "    <tr>\n",
       "      <th>24</th>\n",
       "      <td>best_Grid_Xt_rfa_xgb</td>\n",
       "      <td>best_Grid_Xt_rfa_xgb</td>\n",
       "      <td>16</td>\n",
       "      <td>0.840</td>\n",
       "      <td>223.785</td>\n",
       "      <td>99.938</td>\n",
       "      <td>46.272</td>\n",
       "    </tr>\n",
       "    <tr>\n",
       "      <th>25</th>\n",
       "      <td>best_Grid_Xt_rfe_xgb</td>\n",
       "      <td>best_Grid_Xt_rfe_xgb</td>\n",
       "      <td>28</td>\n",
       "      <td>0.804</td>\n",
       "      <td>223.785</td>\n",
       "      <td>101.305</td>\n",
       "      <td>46.905</td>\n",
       "    </tr>\n",
       "    <tr>\n",
       "      <th>26</th>\n",
       "      <td>best_Grid_Xt_selK_ada</td>\n",
       "      <td>best_Grid_Xt_selK_ada</td>\n",
       "      <td>27</td>\n",
       "      <td>0.888</td>\n",
       "      <td>223.785</td>\n",
       "      <td>84.842</td>\n",
       "      <td>39.282</td>\n",
       "    </tr>\n",
       "    <tr>\n",
       "      <th>27</th>\n",
       "      <td>best_Grid_Xt_selP_ada</td>\n",
       "      <td>best_Grid_Xt_selP_ada</td>\n",
       "      <td>36</td>\n",
       "      <td>0.880</td>\n",
       "      <td>223.785</td>\n",
       "      <td>85.811</td>\n",
       "      <td>39.731</td>\n",
       "    </tr>\n",
       "    <tr>\n",
       "      <th>28</th>\n",
       "      <td>best_Grid_Xt_scs_ada</td>\n",
       "      <td>best_Grid_Xt_scs_ada</td>\n",
       "      <td>28</td>\n",
       "      <td>0.868</td>\n",
       "      <td>223.785</td>\n",
       "      <td>89.596</td>\n",
       "      <td>41.484</td>\n",
       "    </tr>\n",
       "    <tr>\n",
       "      <th>29</th>\n",
       "      <td>best_Grid_Xt_dcf_ada</td>\n",
       "      <td>best_Grid_Xt_dcf_ada</td>\n",
       "      <td>28</td>\n",
       "      <td>0.858</td>\n",
       "      <td>223.785</td>\n",
       "      <td>90.355</td>\n",
       "      <td>41.835</td>\n",
       "    </tr>\n",
       "    <tr>\n",
       "      <th>30</th>\n",
       "      <td>best_Grid_Xt_rfe_ada</td>\n",
       "      <td>best_Grid_Xt_rfe_ada</td>\n",
       "      <td>26</td>\n",
       "      <td>0.876</td>\n",
       "      <td>223.785</td>\n",
       "      <td>86.914</td>\n",
       "      <td>40.242</td>\n",
       "    </tr>\n",
       "    <tr>\n",
       "      <th>31</th>\n",
       "      <td>best_Grid_Xt_rfa_ada</td>\n",
       "      <td>best_Grid_Xt_rfa_ada</td>\n",
       "      <td>20</td>\n",
       "      <td>0.890</td>\n",
       "      <td>223.785</td>\n",
       "      <td>85.243</td>\n",
       "      <td>39.468</td>\n",
       "    </tr>\n",
       "    <tr>\n",
       "      <th>32</th>\n",
       "      <td>xgb_params</td>\n",
       "      <td>Xt_selK_xgb</td>\n",
       "      <td>22</td>\n",
       "      <td>0.852</td>\n",
       "      <td>223.785</td>\n",
       "      <td>91.393</td>\n",
       "      <td>42.316</td>\n",
       "    </tr>\n",
       "    <tr>\n",
       "      <th>33</th>\n",
       "      <td>xgb_params</td>\n",
       "      <td>Xt_selP_xgb</td>\n",
       "      <td>36</td>\n",
       "      <td>0.873</td>\n",
       "      <td>223.785</td>\n",
       "      <td>85.791</td>\n",
       "      <td>39.722</td>\n",
       "    </tr>\n",
       "    <tr>\n",
       "      <th>34</th>\n",
       "      <td>xgb_params</td>\n",
       "      <td>Xt_scs_xgb</td>\n",
       "      <td>28</td>\n",
       "      <td>0.845</td>\n",
       "      <td>223.785</td>\n",
       "      <td>89.634</td>\n",
       "      <td>41.501</td>\n",
       "    </tr>\n",
       "    <tr>\n",
       "      <th>35</th>\n",
       "      <td>xgb_params</td>\n",
       "      <td>Xt_dcf_xgb</td>\n",
       "      <td>26</td>\n",
       "      <td>0.858</td>\n",
       "      <td>223.785</td>\n",
       "      <td>90.689</td>\n",
       "      <td>41.990</td>\n",
       "    </tr>\n",
       "    <tr>\n",
       "      <th>36</th>\n",
       "      <td>xgb_params</td>\n",
       "      <td>Xt_rfa_xgb</td>\n",
       "      <td>16</td>\n",
       "      <td>0.857</td>\n",
       "      <td>223.785</td>\n",
       "      <td>84.849</td>\n",
       "      <td>39.286</td>\n",
       "    </tr>\n",
       "    <tr>\n",
       "      <th>37</th>\n",
       "      <td>xgb_params</td>\n",
       "      <td>Xt_rfe_xgb</td>\n",
       "      <td>28</td>\n",
       "      <td>0.880</td>\n",
       "      <td>223.785</td>\n",
       "      <td>83.729</td>\n",
       "      <td>38.767</td>\n",
       "    </tr>\n",
       "    <tr>\n",
       "      <th>38</th>\n",
       "      <td>xgb_params</td>\n",
       "      <td>Xt_selK_ada</td>\n",
       "      <td>27</td>\n",
       "      <td>0.853</td>\n",
       "      <td>223.785</td>\n",
       "      <td>88.929</td>\n",
       "      <td>41.175</td>\n",
       "    </tr>\n",
       "    <tr>\n",
       "      <th>39</th>\n",
       "      <td>xgb_params</td>\n",
       "      <td>Xt_selP_ada</td>\n",
       "      <td>36</td>\n",
       "      <td>0.871</td>\n",
       "      <td>223.785</td>\n",
       "      <td>84.637</td>\n",
       "      <td>39.188</td>\n",
       "    </tr>\n",
       "    <tr>\n",
       "      <th>40</th>\n",
       "      <td>xgb_params</td>\n",
       "      <td>Xt_scs_ada</td>\n",
       "      <td>28</td>\n",
       "      <td>0.856</td>\n",
       "      <td>223.785</td>\n",
       "      <td>88.028</td>\n",
       "      <td>40.758</td>\n",
       "    </tr>\n",
       "    <tr>\n",
       "      <th>41</th>\n",
       "      <td>xgb_params</td>\n",
       "      <td>Xt_dcf_ada</td>\n",
       "      <td>28</td>\n",
       "      <td>0.862</td>\n",
       "      <td>223.785</td>\n",
       "      <td>84.997</td>\n",
       "      <td>39.354</td>\n",
       "    </tr>\n",
       "    <tr>\n",
       "      <th>42</th>\n",
       "      <td>xgb_params</td>\n",
       "      <td>Xt_rfa_ada</td>\n",
       "      <td>20</td>\n",
       "      <td>0.855</td>\n",
       "      <td>223.785</td>\n",
       "      <td>84.985</td>\n",
       "      <td>39.349</td>\n",
       "    </tr>\n",
       "    <tr>\n",
       "      <th>43</th>\n",
       "      <td>xgb_params</td>\n",
       "      <td>Xt_rfe_ada</td>\n",
       "      <td>26</td>\n",
       "      <td>0.869</td>\n",
       "      <td>223.785</td>\n",
       "      <td>85.017</td>\n",
       "      <td>39.363</td>\n",
       "    </tr>\n",
       "  </tbody>\n",
       "</table>\n",
       "</div>"
      ],
      "text/plain": [
       "                         Método                 Modelo  #Feats  ScoreTest  \\\n",
       "0                          base           RandomForest      39      0.820   \n",
       "1                          base                Xgboost      39      0.810   \n",
       "2                          base              GradBoost      39      0.750   \n",
       "3                          base               Adaboost      39      0.850   \n",
       "4                   SelectKBest           XGBRegressor      22      0.882   \n",
       "5              SelectPercentile           XGBRegressor      36      0.826   \n",
       "6      SmartCorrelatedSelection           XGBRegressor      28      0.859   \n",
       "7        DropCorrelatedFeatures           XGBRegressor      26      0.861   \n",
       "8                          base           RandomForest      26      0.820   \n",
       "9                          base                Xgboost      26      0.860   \n",
       "10                         base              GradBoost      26      0.730   \n",
       "11                         base               Adaboost      26      0.870   \n",
       "12     RecursiveFeatureAddition           XGBRegressor      16      0.844   \n",
       "13  RecursiveFeatureElimination           XGBRegressor      28      0.824   \n",
       "14                  SelectKBest          AdaBoost(xgb)      27      0.888   \n",
       "15             SelectPercentile         AdaBoost(xgbr)      36      0.869   \n",
       "16     SmartCorrelatedSelection         AdaBoost(xgbr)      28      0.875   \n",
       "17       DropCorrelatedFeatures         AdaBoost(xgbr)      28      0.858   \n",
       "18     RecursiveFeatureAddition         AdaBoost(xgbr)      20      0.856   \n",
       "19  RecursiveFeatureElimination               AdaBoost      26      0.890   \n",
       "20        best_Grid_Xt_selK_xgb  best_Grid_Xt_selK_xgb      22      0.861   \n",
       "21        best_Grid_Xt_selP_xgb  best_Grid_Xt_selP_xgb      36      0.825   \n",
       "22         best_Grid_Xt_scs_xgb   best_Grid_Xt_scs_xgb      28      0.812   \n",
       "23         best_Grid_Xt_dcf_xgb   best_Grid_Xt_dcf_xgb      26      0.859   \n",
       "24         best_Grid_Xt_rfa_xgb   best_Grid_Xt_rfa_xgb      16      0.840   \n",
       "25         best_Grid_Xt_rfe_xgb   best_Grid_Xt_rfe_xgb      28      0.804   \n",
       "26        best_Grid_Xt_selK_ada  best_Grid_Xt_selK_ada      27      0.888   \n",
       "27        best_Grid_Xt_selP_ada  best_Grid_Xt_selP_ada      36      0.880   \n",
       "28         best_Grid_Xt_scs_ada   best_Grid_Xt_scs_ada      28      0.868   \n",
       "29         best_Grid_Xt_dcf_ada   best_Grid_Xt_dcf_ada      28      0.858   \n",
       "30         best_Grid_Xt_rfe_ada   best_Grid_Xt_rfe_ada      26      0.876   \n",
       "31         best_Grid_Xt_rfa_ada   best_Grid_Xt_rfa_ada      20      0.890   \n",
       "32                   xgb_params            Xt_selK_xgb      22      0.852   \n",
       "33                   xgb_params            Xt_selP_xgb      36      0.873   \n",
       "34                   xgb_params             Xt_scs_xgb      28      0.845   \n",
       "35                   xgb_params             Xt_dcf_xgb      26      0.858   \n",
       "36                   xgb_params             Xt_rfa_xgb      16      0.857   \n",
       "37                   xgb_params             Xt_rfe_xgb      28      0.880   \n",
       "38                   xgb_params            Xt_selK_ada      27      0.853   \n",
       "39                   xgb_params            Xt_selP_ada      36      0.871   \n",
       "40                   xgb_params             Xt_scs_ada      28      0.856   \n",
       "41                   xgb_params             Xt_dcf_ada      28      0.862   \n",
       "42                   xgb_params             Xt_rfa_ada      20      0.855   \n",
       "43                   xgb_params             Xt_rfe_ada      26      0.869   \n",
       "\n",
       "       RMSE      MAE    MAPE  \n",
       "0   250.100   97.780  45.270  \n",
       "1   256.240   98.290  45.510  \n",
       "2   296.730  133.810  61.950  \n",
       "3   229.290   99.990  46.300  \n",
       "4   202.420   91.128  42.193  \n",
       "5   246.085   91.535  42.381  \n",
       "6   221.552   94.891  43.935  \n",
       "7   219.330   94.169  43.601  \n",
       "8   248.810   99.090  45.880  \n",
       "9   219.330   94.170  43.600  \n",
       "10  306.340  137.670  63.740  \n",
       "11  213.250   98.240  45.480  \n",
       "12  232.620   92.865  42.997  \n",
       "13  247.076   97.117  44.966  \n",
       "14  197.280   86.974  40.270  \n",
       "15  212.938   88.637  41.039  \n",
       "16  208.221   89.894  41.622  \n",
       "17  222.440   91.492  42.362  \n",
       "18  223.785   89.766  41.562  \n",
       "19  223.785   88.089  40.786  \n",
       "20  223.785   98.350  45.537  \n",
       "21  223.785  101.225  46.868  \n",
       "22  223.785  106.248  49.194  \n",
       "23  223.785   98.393  45.557  \n",
       "24  223.785   99.938  46.272  \n",
       "25  223.785  101.305  46.905  \n",
       "26  223.785   84.842  39.282  \n",
       "27  223.785   85.811  39.731  \n",
       "28  223.785   89.596  41.484  \n",
       "29  223.785   90.355  41.835  \n",
       "30  223.785   86.914  40.242  \n",
       "31  223.785   85.243  39.468  \n",
       "32  223.785   91.393  42.316  \n",
       "33  223.785   85.791  39.722  \n",
       "34  223.785   89.634  41.501  \n",
       "35  223.785   90.689  41.990  \n",
       "36  223.785   84.849  39.286  \n",
       "37  223.785   83.729  38.767  \n",
       "38  223.785   88.929  41.175  \n",
       "39  223.785   84.637  39.188  \n",
       "40  223.785   88.028  40.758  \n",
       "41  223.785   84.997  39.354  \n",
       "42  223.785   84.985  39.349  \n",
       "43  223.785   85.017  39.363  "
      ]
     },
     "execution_count": 77,
     "metadata": {},
     "output_type": "execute_result"
    }
   ],
   "source": [
    "metricas_modelos"
   ]
  },
  {
   "cell_type": "code",
   "execution_count": 78,
   "metadata": {},
   "outputs": [
    {
     "name": "stdout",
     "output_type": "stream",
     "text": [
      " 10698.91 seconds for  hiperparameter settings.\n"
     ]
    }
   ],
   "source": [
    "print(\" %.2f seconds for  hiperparameter settings.\"  % ((time.time() - clock_0)))"
   ]
  },
  {
   "cell_type": "markdown",
   "metadata": {},
   "source": [
    "## Provincias"
   ]
  },
  {
   "cell_type": "code",
   "execution_count": 79,
   "metadata": {},
   "outputs": [],
   "source": [
    "clock_1 = time.time()"
   ]
  },
  {
   "cell_type": "code",
   "execution_count": 80,
   "metadata": {},
   "outputs": [],
   "source": [
    "def clima_provincia(row): # transfoma la provincia a mayusculas para unificar con otros ficheros\n",
    "    if row.provincia in ['LA_CORUÑA', 'LUGO','ORENSE', 'PONTEVEDRA', 'HUELVA' ] :\n",
    "        return \"Atlantico\"\n",
    "    elif row.provincia in ['VALENCIA','ALICANTE','ALMERIA', 'CADIZ','GRANADA', 'MALAGA' ] :\n",
    "        return \"Mediterraneo\"\n",
    "    else:\n",
    "        return \"Continental\""
   ]
  },
  {
   "cell_type": "code",
   "execution_count": 81,
   "metadata": {},
   "outputs": [
    {
     "ename": "AttributeError",
     "evalue": "'Series' object has no attribute 'provincia'",
     "output_type": "error",
     "traceback": [
      "\u001b[0;31m---------------------------------------------------------------------------\u001b[0m",
      "\u001b[0;31mAttributeError\u001b[0m                            Traceback (most recent call last)",
      "\u001b[0;32m/tmp/ipykernel_31799/3389730708.py\u001b[0m in \u001b[0;36m<module>\u001b[0;34m\u001b[0m\n\u001b[0;32m----> 1\u001b[0;31m \u001b[0mclima\u001b[0m \u001b[0;34m=\u001b[0m \u001b[0mtarjeta\u001b[0m\u001b[0;34m.\u001b[0m\u001b[0mapply\u001b[0m\u001b[0;34m(\u001b[0m\u001b[0;32mlambda\u001b[0m \u001b[0mrow\u001b[0m\u001b[0;34m:\u001b[0m \u001b[0mclima_provincia\u001b[0m\u001b[0;34m(\u001b[0m\u001b[0mrow\u001b[0m\u001b[0;34m)\u001b[0m\u001b[0;34m,\u001b[0m \u001b[0maxis\u001b[0m\u001b[0;34m=\u001b[0m\u001b[0;36m1\u001b[0m\u001b[0;34m)\u001b[0m\u001b[0;34m\u001b[0m\u001b[0;34m\u001b[0m\u001b[0m\n\u001b[0m\u001b[1;32m      2\u001b[0m \u001b[0mtarjeta\u001b[0m\u001b[0;34m.\u001b[0m\u001b[0minsert\u001b[0m\u001b[0;34m(\u001b[0m\u001b[0;36m32\u001b[0m\u001b[0;34m,\u001b[0m\u001b[0;34m'clima'\u001b[0m\u001b[0;34m,\u001b[0m \u001b[0mclima\u001b[0m\u001b[0;34m)\u001b[0m\u001b[0;31m# evolucion.head()\u001b[0m\u001b[0;34m\u001b[0m\u001b[0;34m\u001b[0m\u001b[0m\n\u001b[1;32m      3\u001b[0m \u001b[0;34m\u001b[0m\u001b[0m\n\u001b[1;32m      4\u001b[0m \u001b[0matlantico\u001b[0m \u001b[0;34m=\u001b[0m \u001b[0mtarjeta\u001b[0m\u001b[0;34m[\u001b[0m\u001b[0mtarjeta\u001b[0m\u001b[0;34m.\u001b[0m\u001b[0mclima\u001b[0m \u001b[0;34m==\u001b[0m \u001b[0;34m\"Atlantico\"\u001b[0m\u001b[0;34m]\u001b[0m\u001b[0;34m.\u001b[0m\u001b[0mcopy\u001b[0m\u001b[0;34m(\u001b[0m\u001b[0;34m)\u001b[0m\u001b[0;34m\u001b[0m\u001b[0;34m\u001b[0m\u001b[0m\n\u001b[1;32m      5\u001b[0m \u001b[0mmediterraneo\u001b[0m \u001b[0;34m=\u001b[0m \u001b[0mtarjeta\u001b[0m\u001b[0;34m[\u001b[0m\u001b[0mtarjeta\u001b[0m\u001b[0;34m.\u001b[0m\u001b[0mclima\u001b[0m \u001b[0;34m==\u001b[0m \u001b[0;34m\"Mediterraneo\"\u001b[0m\u001b[0;34m]\u001b[0m\u001b[0;34m.\u001b[0m\u001b[0mcopy\u001b[0m\u001b[0;34m(\u001b[0m\u001b[0;34m)\u001b[0m\u001b[0;34m\u001b[0m\u001b[0;34m\u001b[0m\u001b[0m\n",
      "\u001b[0;32m~/anaconda3/lib/python3.8/site-packages/pandas/core/frame.py\u001b[0m in \u001b[0;36mapply\u001b[0;34m(self, func, axis, raw, result_type, args, **kwargs)\u001b[0m\n\u001b[1;32m   8738\u001b[0m             \u001b[0mkwargs\u001b[0m\u001b[0;34m=\u001b[0m\u001b[0mkwargs\u001b[0m\u001b[0;34m,\u001b[0m\u001b[0;34m\u001b[0m\u001b[0;34m\u001b[0m\u001b[0m\n\u001b[1;32m   8739\u001b[0m         )\n\u001b[0;32m-> 8740\u001b[0;31m         \u001b[0;32mreturn\u001b[0m \u001b[0mop\u001b[0m\u001b[0;34m.\u001b[0m\u001b[0mapply\u001b[0m\u001b[0;34m(\u001b[0m\u001b[0;34m)\u001b[0m\u001b[0;34m\u001b[0m\u001b[0;34m\u001b[0m\u001b[0m\n\u001b[0m\u001b[1;32m   8741\u001b[0m \u001b[0;34m\u001b[0m\u001b[0m\n\u001b[1;32m   8742\u001b[0m     def applymap(\n",
      "\u001b[0;32m~/anaconda3/lib/python3.8/site-packages/pandas/core/apply.py\u001b[0m in \u001b[0;36mapply\u001b[0;34m(self)\u001b[0m\n\u001b[1;32m    686\u001b[0m             \u001b[0;32mreturn\u001b[0m \u001b[0mself\u001b[0m\u001b[0;34m.\u001b[0m\u001b[0mapply_raw\u001b[0m\u001b[0;34m(\u001b[0m\u001b[0;34m)\u001b[0m\u001b[0;34m\u001b[0m\u001b[0;34m\u001b[0m\u001b[0m\n\u001b[1;32m    687\u001b[0m \u001b[0;34m\u001b[0m\u001b[0m\n\u001b[0;32m--> 688\u001b[0;31m         \u001b[0;32mreturn\u001b[0m \u001b[0mself\u001b[0m\u001b[0;34m.\u001b[0m\u001b[0mapply_standard\u001b[0m\u001b[0;34m(\u001b[0m\u001b[0;34m)\u001b[0m\u001b[0;34m\u001b[0m\u001b[0;34m\u001b[0m\u001b[0m\n\u001b[0m\u001b[1;32m    689\u001b[0m \u001b[0;34m\u001b[0m\u001b[0m\n\u001b[1;32m    690\u001b[0m     \u001b[0;32mdef\u001b[0m \u001b[0magg\u001b[0m\u001b[0;34m(\u001b[0m\u001b[0mself\u001b[0m\u001b[0;34m)\u001b[0m\u001b[0;34m:\u001b[0m\u001b[0;34m\u001b[0m\u001b[0;34m\u001b[0m\u001b[0m\n",
      "\u001b[0;32m~/anaconda3/lib/python3.8/site-packages/pandas/core/apply.py\u001b[0m in \u001b[0;36mapply_standard\u001b[0;34m(self)\u001b[0m\n\u001b[1;32m    810\u001b[0m \u001b[0;34m\u001b[0m\u001b[0m\n\u001b[1;32m    811\u001b[0m     \u001b[0;32mdef\u001b[0m \u001b[0mapply_standard\u001b[0m\u001b[0;34m(\u001b[0m\u001b[0mself\u001b[0m\u001b[0;34m)\u001b[0m\u001b[0;34m:\u001b[0m\u001b[0;34m\u001b[0m\u001b[0;34m\u001b[0m\u001b[0m\n\u001b[0;32m--> 812\u001b[0;31m         \u001b[0mresults\u001b[0m\u001b[0;34m,\u001b[0m \u001b[0mres_index\u001b[0m \u001b[0;34m=\u001b[0m \u001b[0mself\u001b[0m\u001b[0;34m.\u001b[0m\u001b[0mapply_series_generator\u001b[0m\u001b[0;34m(\u001b[0m\u001b[0;34m)\u001b[0m\u001b[0;34m\u001b[0m\u001b[0;34m\u001b[0m\u001b[0m\n\u001b[0m\u001b[1;32m    813\u001b[0m \u001b[0;34m\u001b[0m\u001b[0m\n\u001b[1;32m    814\u001b[0m         \u001b[0;31m# wrap results\u001b[0m\u001b[0;34m\u001b[0m\u001b[0;34m\u001b[0m\u001b[0;34m\u001b[0m\u001b[0m\n",
      "\u001b[0;32m~/anaconda3/lib/python3.8/site-packages/pandas/core/apply.py\u001b[0m in \u001b[0;36mapply_series_generator\u001b[0;34m(self)\u001b[0m\n\u001b[1;32m    826\u001b[0m             \u001b[0;32mfor\u001b[0m \u001b[0mi\u001b[0m\u001b[0;34m,\u001b[0m \u001b[0mv\u001b[0m \u001b[0;32min\u001b[0m \u001b[0menumerate\u001b[0m\u001b[0;34m(\u001b[0m\u001b[0mseries_gen\u001b[0m\u001b[0;34m)\u001b[0m\u001b[0;34m:\u001b[0m\u001b[0;34m\u001b[0m\u001b[0;34m\u001b[0m\u001b[0m\n\u001b[1;32m    827\u001b[0m                 \u001b[0;31m# ignore SettingWithCopy here in case the user mutates\u001b[0m\u001b[0;34m\u001b[0m\u001b[0;34m\u001b[0m\u001b[0;34m\u001b[0m\u001b[0m\n\u001b[0;32m--> 828\u001b[0;31m                 \u001b[0mresults\u001b[0m\u001b[0;34m[\u001b[0m\u001b[0mi\u001b[0m\u001b[0;34m]\u001b[0m \u001b[0;34m=\u001b[0m \u001b[0mself\u001b[0m\u001b[0;34m.\u001b[0m\u001b[0mf\u001b[0m\u001b[0;34m(\u001b[0m\u001b[0mv\u001b[0m\u001b[0;34m)\u001b[0m\u001b[0;34m\u001b[0m\u001b[0;34m\u001b[0m\u001b[0m\n\u001b[0m\u001b[1;32m    829\u001b[0m                 \u001b[0;32mif\u001b[0m \u001b[0misinstance\u001b[0m\u001b[0;34m(\u001b[0m\u001b[0mresults\u001b[0m\u001b[0;34m[\u001b[0m\u001b[0mi\u001b[0m\u001b[0;34m]\u001b[0m\u001b[0;34m,\u001b[0m \u001b[0mABCSeries\u001b[0m\u001b[0;34m)\u001b[0m\u001b[0;34m:\u001b[0m\u001b[0;34m\u001b[0m\u001b[0;34m\u001b[0m\u001b[0m\n\u001b[1;32m    830\u001b[0m                     \u001b[0;31m# If we have a view on v, we need to make a copy because\u001b[0m\u001b[0;34m\u001b[0m\u001b[0;34m\u001b[0m\u001b[0;34m\u001b[0m\u001b[0m\n",
      "\u001b[0;32m/tmp/ipykernel_31799/3389730708.py\u001b[0m in \u001b[0;36m<lambda>\u001b[0;34m(row)\u001b[0m\n\u001b[0;32m----> 1\u001b[0;31m \u001b[0mclima\u001b[0m \u001b[0;34m=\u001b[0m \u001b[0mtarjeta\u001b[0m\u001b[0;34m.\u001b[0m\u001b[0mapply\u001b[0m\u001b[0;34m(\u001b[0m\u001b[0;32mlambda\u001b[0m \u001b[0mrow\u001b[0m\u001b[0;34m:\u001b[0m \u001b[0mclima_provincia\u001b[0m\u001b[0;34m(\u001b[0m\u001b[0mrow\u001b[0m\u001b[0;34m)\u001b[0m\u001b[0;34m,\u001b[0m \u001b[0maxis\u001b[0m\u001b[0;34m=\u001b[0m\u001b[0;36m1\u001b[0m\u001b[0;34m)\u001b[0m\u001b[0;34m\u001b[0m\u001b[0;34m\u001b[0m\u001b[0m\n\u001b[0m\u001b[1;32m      2\u001b[0m \u001b[0mtarjeta\u001b[0m\u001b[0;34m.\u001b[0m\u001b[0minsert\u001b[0m\u001b[0;34m(\u001b[0m\u001b[0;36m32\u001b[0m\u001b[0;34m,\u001b[0m\u001b[0;34m'clima'\u001b[0m\u001b[0;34m,\u001b[0m \u001b[0mclima\u001b[0m\u001b[0;34m)\u001b[0m\u001b[0;31m# evolucion.head()\u001b[0m\u001b[0;34m\u001b[0m\u001b[0;34m\u001b[0m\u001b[0m\n\u001b[1;32m      3\u001b[0m \u001b[0;34m\u001b[0m\u001b[0m\n\u001b[1;32m      4\u001b[0m \u001b[0matlantico\u001b[0m \u001b[0;34m=\u001b[0m \u001b[0mtarjeta\u001b[0m\u001b[0;34m[\u001b[0m\u001b[0mtarjeta\u001b[0m\u001b[0;34m.\u001b[0m\u001b[0mclima\u001b[0m \u001b[0;34m==\u001b[0m \u001b[0;34m\"Atlantico\"\u001b[0m\u001b[0;34m]\u001b[0m\u001b[0;34m.\u001b[0m\u001b[0mcopy\u001b[0m\u001b[0;34m(\u001b[0m\u001b[0;34m)\u001b[0m\u001b[0;34m\u001b[0m\u001b[0;34m\u001b[0m\u001b[0m\n\u001b[1;32m      5\u001b[0m \u001b[0mmediterraneo\u001b[0m \u001b[0;34m=\u001b[0m \u001b[0mtarjeta\u001b[0m\u001b[0;34m[\u001b[0m\u001b[0mtarjeta\u001b[0m\u001b[0;34m.\u001b[0m\u001b[0mclima\u001b[0m \u001b[0;34m==\u001b[0m \u001b[0;34m\"Mediterraneo\"\u001b[0m\u001b[0;34m]\u001b[0m\u001b[0;34m.\u001b[0m\u001b[0mcopy\u001b[0m\u001b[0;34m(\u001b[0m\u001b[0;34m)\u001b[0m\u001b[0;34m\u001b[0m\u001b[0;34m\u001b[0m\u001b[0m\n",
      "\u001b[0;32m/tmp/ipykernel_31799/3284873587.py\u001b[0m in \u001b[0;36mclima_provincia\u001b[0;34m(row)\u001b[0m\n\u001b[1;32m      1\u001b[0m \u001b[0;32mdef\u001b[0m \u001b[0mclima_provincia\u001b[0m\u001b[0;34m(\u001b[0m\u001b[0mrow\u001b[0m\u001b[0;34m)\u001b[0m\u001b[0;34m:\u001b[0m \u001b[0;31m# transfoma la provincia a mayusculas para unificar con otros ficheros\u001b[0m\u001b[0;34m\u001b[0m\u001b[0;34m\u001b[0m\u001b[0m\n\u001b[0;32m----> 2\u001b[0;31m     \u001b[0;32mif\u001b[0m \u001b[0mrow\u001b[0m\u001b[0;34m.\u001b[0m\u001b[0mprovincia\u001b[0m \u001b[0;32min\u001b[0m \u001b[0;34m[\u001b[0m\u001b[0;34m'LA_CORUÑA'\u001b[0m\u001b[0;34m,\u001b[0m \u001b[0;34m'LUGO'\u001b[0m\u001b[0;34m,\u001b[0m\u001b[0;34m'ORENSE'\u001b[0m\u001b[0;34m,\u001b[0m \u001b[0;34m'PONTEVEDRA'\u001b[0m\u001b[0;34m,\u001b[0m \u001b[0;34m'HUELVA'\u001b[0m \u001b[0;34m]\u001b[0m \u001b[0;34m:\u001b[0m\u001b[0;34m\u001b[0m\u001b[0;34m\u001b[0m\u001b[0m\n\u001b[0m\u001b[1;32m      3\u001b[0m         \u001b[0;32mreturn\u001b[0m \u001b[0;34m\"Atlantico\"\u001b[0m\u001b[0;34m\u001b[0m\u001b[0;34m\u001b[0m\u001b[0m\n\u001b[1;32m      4\u001b[0m     \u001b[0;32melif\u001b[0m \u001b[0mrow\u001b[0m\u001b[0;34m.\u001b[0m\u001b[0mprovincia\u001b[0m \u001b[0;32min\u001b[0m \u001b[0;34m[\u001b[0m\u001b[0;34m'VALENCIA'\u001b[0m\u001b[0;34m,\u001b[0m\u001b[0;34m'ALICANTE'\u001b[0m\u001b[0;34m,\u001b[0m\u001b[0;34m'ALMERIA'\u001b[0m\u001b[0;34m,\u001b[0m \u001b[0;34m'CADIZ'\u001b[0m\u001b[0;34m,\u001b[0m\u001b[0;34m'GRANADA'\u001b[0m\u001b[0;34m,\u001b[0m \u001b[0;34m'MALAGA'\u001b[0m \u001b[0;34m]\u001b[0m \u001b[0;34m:\u001b[0m\u001b[0;34m\u001b[0m\u001b[0;34m\u001b[0m\u001b[0m\n\u001b[1;32m      5\u001b[0m         \u001b[0;32mreturn\u001b[0m \u001b[0;34m\"Mediterraneo\"\u001b[0m\u001b[0;34m\u001b[0m\u001b[0;34m\u001b[0m\u001b[0m\n",
      "\u001b[0;32m~/anaconda3/lib/python3.8/site-packages/pandas/core/generic.py\u001b[0m in \u001b[0;36m__getattr__\u001b[0;34m(self, name)\u001b[0m\n\u001b[1;32m   5485\u001b[0m         ):\n\u001b[1;32m   5486\u001b[0m             \u001b[0;32mreturn\u001b[0m \u001b[0mself\u001b[0m\u001b[0;34m[\u001b[0m\u001b[0mname\u001b[0m\u001b[0;34m]\u001b[0m\u001b[0;34m\u001b[0m\u001b[0;34m\u001b[0m\u001b[0m\n\u001b[0;32m-> 5487\u001b[0;31m         \u001b[0;32mreturn\u001b[0m \u001b[0mobject\u001b[0m\u001b[0;34m.\u001b[0m\u001b[0m__getattribute__\u001b[0m\u001b[0;34m(\u001b[0m\u001b[0mself\u001b[0m\u001b[0;34m,\u001b[0m \u001b[0mname\u001b[0m\u001b[0;34m)\u001b[0m\u001b[0;34m\u001b[0m\u001b[0;34m\u001b[0m\u001b[0m\n\u001b[0m\u001b[1;32m   5488\u001b[0m \u001b[0;34m\u001b[0m\u001b[0m\n\u001b[1;32m   5489\u001b[0m     \u001b[0;32mdef\u001b[0m \u001b[0m__setattr__\u001b[0m\u001b[0;34m(\u001b[0m\u001b[0mself\u001b[0m\u001b[0;34m,\u001b[0m \u001b[0mname\u001b[0m\u001b[0;34m:\u001b[0m \u001b[0mstr\u001b[0m\u001b[0;34m,\u001b[0m \u001b[0mvalue\u001b[0m\u001b[0;34m)\u001b[0m \u001b[0;34m->\u001b[0m \u001b[0;32mNone\u001b[0m\u001b[0;34m:\u001b[0m\u001b[0;34m\u001b[0m\u001b[0;34m\u001b[0m\u001b[0m\n",
      "\u001b[0;31mAttributeError\u001b[0m: 'Series' object has no attribute 'provincia'"
     ]
    }
   ],
   "source": [
    "clima = tarjeta.apply(lambda row: clima_provincia(row), axis=1) \n",
    "tarjeta.insert(32,'clima', clima)# evolucion.head()\n",
    "\n",
    "atlantico = tarjeta[tarjeta.clima == \"Atlantico\"].copy()\n",
    "mediterraneo = tarjeta[tarjeta.clima == \"Mediterraneo\"].copy()\n",
    "continental = tarjeta[tarjeta.clima == \"Continental\"].copy()\n",
    "\n",
    "atlantico= atlantico.select_dtypes(exclude=['object'])\n",
    "mediterraneo= mediterraneo.select_dtypes(exclude=['object'])\n",
    "continental= continental.select_dtypes(exclude=['object'])"
   ]
  },
  {
   "cell_type": "code",
   "execution_count": null,
   "metadata": {},
   "outputs": [],
   "source": [
    "X_atlantico = atlantico.drop(columns=['num_casos']).select_dtypes(exclude=['object'])\n",
    "Y_atlantico = atlantico[['num_casos']]\n",
    "features_a = X_atlantico.columns\n",
    "labels_a = Y_atlantico.num_casos\n",
    "\n",
    "X_norm_a = scaler.fit_transform(X_atlantico)"
   ]
  },
  {
   "cell_type": "code",
   "execution_count": null,
   "metadata": {},
   "outputs": [],
   "source": [
    "X_mediterraneo = mediterraneo.drop(columns=['num_casos']).select_dtypes(exclude=['object'])\n",
    "Y_mediterraneo = mediterraneo[['num_casos']]\n",
    "features_m = X_mediterraneo.columns\n",
    "labels_m = Y_mediterraneo.num_casos\n",
    "    \n",
    "X_norm_m = scaler.fit_transform(X_mediterraneo)"
   ]
  },
  {
   "cell_type": "code",
   "execution_count": null,
   "metadata": {},
   "outputs": [],
   "source": [
    "X_continental = continental.drop(columns=['num_casos']).select_dtypes(exclude=['object'])\n",
    "Y_continental = continental[['num_casos']]\n",
    "features_c = X_continental.columns\n",
    "labels_c = Y_continental.num_casos\n",
    "    \n",
    "X_norm_c = scaler.fit_transform(X_continental)"
   ]
  },
  {
   "cell_type": "code",
   "execution_count": null,
   "metadata": {},
   "outputs": [],
   "source": [
    "def skb_regional(X_norm, labels, zona) :\n",
    "    \n",
    "    select = SelectKBest(score_func = mutual_info_regression, k='all')\n",
    "\n",
    "    X_best_mi = select.fit_transform(X_norm, labels.num_casos) \n",
    "    \n",
    "    X_train, X_test, y_train, y_test = train_test_split(X_best_mi, labels.num_casos, test_size = TEST_SIZE, random_state = RANDOM_STATE)\n",
    "       \n",
    "    gxb = GridSearchCV(xgb.XGBRegressor(random_state=RANDOM_STATE ), *param_grid, cv=kfcv,  \n",
    "                       scoring = 'neg_mean_absolute_error',\n",
    "                        verbose=1, refit = \"mae\", return_train_score=True, n_jobs=multiprocessing.cpu_count() // 2)\n",
    "    \n",
    "    gxb.fit(X_train, y_train)\n",
    "\n",
    "    results = gxb.cv_results_\n",
    "    print(\"best_score_ : \",gxb.best_score_)\n",
    "    print(\"best_params_ : \",gxb.best_params_)\n",
    "    # el mejor modelo\n",
    "    mejor_modelo = gxb.best_estimator_\n",
    "\n",
    "    # Entrenamiento del mejor modelo obtenido\n",
    "    mejor_modelo.fit(X_train, y_train) \n",
    "\n",
    "    # nueva predicción \n",
    "    prediction = mejor_modelo.predict(X_test)\n",
    " \n",
    "    eftEntrenamiento = mejor_modelo.score(X_train, y_train)\n",
    "    eftPrediccion = mejor_modelo.score(X_test, y_test)\n",
    "    rmse = np.sqrt(mean_squared_error(y_test, prediction))\n",
    "\n",
    "    mae = mean_absolute_error(y_test, prediction)\n",
    "    \n",
    "    media_casos_reales = np.mean(y_test)\n",
    "    porcentaje = mae *100  / media_casos_reales\n",
    "    print(\"MAE : \",mae, \"porcentaje :\", porcentaje, \"tamaño :\", X_best_mi.shape[1])\n",
    "\n",
    "    return (['SKB-GridSearchCV', zona,'%.3f'%(porcentaje),'%.3f'%(X_best_mi.shape[1]), '%.3f'%(media_casos_reales), '%.3f'%(eftPrediccion),\n",
    "             '%.3f'%(rmse), '%.3f'%(mae)])\n"
   ]
  },
  {
   "cell_type": "code",
   "execution_count": null,
   "metadata": {},
   "outputs": [],
   "source": [
    "def dcf_regional(X_norm, labels, zona) :\n",
    "    \n",
    "    trh_dcf = DropCorrelatedFeatures(variables=None, method='spearman', threshold=0.957692) \n",
    "\n",
    "    X_t  = trh_dcf.fit_transform(X_norm, labels.num_casos)\n",
    "    \n",
    "    X_train, X_test, y_train, y_test = train_test_split(X_t , labels.num_casos, test_size = TEST_SIZE, random_state = RANDOM_STATE)\n",
    "        \n",
    "    gxb = GridSearchCV(xgb.XGBRegressor(random_state=RANDOM_STATE ), *param_grid, cv=kfcv,\n",
    "                       scoring = 'neg_mean_absolute_error',\n",
    "                        verbose=1, refit = \"mae\", return_train_score=True, n_jobs=multiprocessing.cpu_count() // 2)\n",
    "    \n",
    "    gxb.fit(X_train, y_train)\n",
    "\n",
    "    results = gxb.cv_results_\n",
    "    print(\"best_score_ : \",gxb.best_score_)\n",
    "    print(\"best_params_ : \",gxb.best_params_)\n",
    "    # el mejor modelo\n",
    "    mejor_modelo = gxb.best_estimator_\n",
    "\n",
    "    # Entrenamiento del mejor modelo obtenido\n",
    "    mejor_modelo.fit(X_train, y_train) \n",
    "\n",
    "    # nueva predicción \n",
    "    prediction = mejor_modelo.predict(X_test)\n",
    " \n",
    "    eftEntrenamiento = mejor_modelo.score(X_train, y_train)\n",
    "    eftPrediccion = mejor_modelo.score(X_test, y_test)\n",
    "    rmse = np.sqrt(mean_squared_error(y_test, prediction))\n",
    "\n",
    "    mae = mean_absolute_error(y_test, prediction)\n",
    "    \n",
    "    media_casos_reales = np.mean(y_test)\n",
    "    porcentaje = mae *100  / media_casos_reales\n",
    "    print(\"MAE : \",mae, \"porcentaje :\", porcentaje, \"tamaño :\", X_t.shape[1])\n",
    "\n",
    "    return (['DCF-GridSearchCV', zona, '%.3f'%(porcentaje),'%.3f'%(X_t.shape[1]), '%.3f'%(media_casos_reales), '%.3f'%(eftPrediccion),\n",
    "             '%.3f'%(rmse), '%.3f'%(mae)])\n"
   ]
  },
  {
   "cell_type": "code",
   "execution_count": null,
   "metadata": {},
   "outputs": [],
   "source": [
    "def rfa_regional(X_norm, labels, zona) :\n",
    "    \n",
    "    trrec_ad = RecursiveFeatureAddition(estimator=xgb.XGBRegressor(random_state=RANDOM_STATE),  scoring=\"neg_mean_absolute_error\", cv=kfcv)\n",
    "\n",
    "    Xt_trrec_ad = trrec_ad.fit_transform(X_norm, labels.num_casos)\n",
    "    \n",
    "    X_train, X_test, y_train, y_test = train_test_split(Xt_trrec_ad, labels.num_casos, test_size = TEST_SIZE, random_state = RANDOM_STATE)\n",
    "\n",
    "    gxb = GridSearchCV(xgb.XGBRegressor(random_state=RANDOM_STATE ), *param_grid, cv=kfcv,\n",
    "                       scoring = 'neg_mean_absolute_error',\n",
    "                       verbose=1, refit = \"mae\", return_train_score=True, n_jobs=multiprocessing.cpu_count() // 2)\n",
    "   \n",
    "    gxb.fit(X_train, y_train)\n",
    "\n",
    "    results = gxb.cv_results_\n",
    "    print(\"best_score_ : \",gxb.best_score_)\n",
    "    print(\"best_params_ : \",gxb.best_params_)\n",
    "    # el mejor modelo\n",
    "    mejor_modelo = gxb.best_estimator_\n",
    "\n",
    "    # Entrenamiento del mejor modelo obtenido\n",
    "    mejor_modelo.fit(X_train, y_train) \n",
    "\n",
    "    # nueva predicción \n",
    "    prediction = mejor_modelo.predict(X_test)\n",
    " \n",
    "    eftEntrenamiento = mejor_modelo.score(X_train, y_train)\n",
    "    eftPrediccion = mejor_modelo.score(X_test, y_test)\n",
    "    rmse = np.sqrt(mean_squared_error(y_test, prediction))\n",
    "\n",
    "    mae = mean_absolute_error(y_test, prediction)\n",
    "    \n",
    "    media_casos_reales = np.mean(y_test)\n",
    "    porcentaje = mae *100  / media_casos_reales\n",
    "    print(\"MAE : \",mae, \"porcentaje :\", porcentaje, \"tamaño :\", Xt_trrec_ad.shape[1])\n",
    "\n",
    "    return (['RFA-GridSearchCV', zona, '%.3f'%(porcentaje),'%.3f'%(Xt_trrec_ad.shape[1]), '%.3f'%(media_casos_reales), '%.3f'%(eftPrediccion),\n",
    "             '%.3f'%(rmse), '%.3f'%(mae)])\n"
   ]
  },
  {
   "cell_type": "code",
   "execution_count": null,
   "metadata": {},
   "outputs": [],
   "source": [
    "def rfe_regional(X_norm, labels, zona) :\n",
    "    \n",
    "    trrec = RecursiveFeatureElimination(estimator=xgb.XGBRegressor(random_state=RANDOM_STATE), scoring=\"neg_mean_absolute_error\", cv=kfcv)\n",
    "\n",
    "    Xt_rfe = trrec.fit_transform(X_norm, labels.num_casos)\n",
    "    \n",
    "    X_train, X_test, y_train, y_test = train_test_split(Xt_rfe, labels.num_casos, test_size = TEST_SIZE, random_state = RANDOM_STATE)\n",
    "\n",
    "    gxb = GridSearchCV(xgb.XGBRegressor(random_state=RANDOM_STATE ), *param_grid, cv=kfcv,\n",
    "                       scoring = 'neg_mean_absolute_error',\n",
    "                       verbose=1, refit = \"mae\", return_train_score=True, n_jobs=multiprocessing.cpu_count() // 2)\n",
    "   \n",
    "    gxb.fit(X_train, y_train)\n",
    "\n",
    "    results = gxb.cv_results_\n",
    "    print(\"best_score_ : \",gxb.best_score_)\n",
    "    print(\"best_params_ : \",gxb.best_params_)\n",
    "    # el mejor modelo\n",
    "    mejor_modelo = gxb.best_estimator_\n",
    "\n",
    "    # Entrenamiento del mejor modelo obtenido\n",
    "    mejor_modelo.fit(X_train, y_train) \n",
    "\n",
    "    # nueva predicción \n",
    "    prediction = mejor_modelo.predict(X_test)\n",
    " \n",
    "    eftEntrenamiento = mejor_modelo.score(X_train, y_train)\n",
    "    eftPrediccion = mejor_modelo.score(X_test, y_test)\n",
    "    rmse = np.sqrt(mean_squared_error(y_test, prediction))\n",
    "\n",
    "    mae = mean_absolute_error(y_test, prediction)\n",
    "    \n",
    "    media_casos_reales = np.mean(y_test)\n",
    "    porcentaje = mae *100  / media_casos_reales\n",
    "    print(\"MAE : \",mae, \"porcentaje :\", porcentaje, \"tamaño :\", Xt_rfe.shape[1])\n",
    "\n",
    "    return (['RFE-GridSearchCV', zona, '%.3f'%(porcentaje),'%.3f'%(Xt_rfe.shape[1]), '%.3f'%(media_casos_reales), '%.3f'%(eftPrediccion),\n",
    "             '%.3f'%(rmse), '%.3f'%(mae)])\n"
   ]
  },
  {
   "cell_type": "markdown",
   "metadata": {},
   "source": [
    "### Climas"
   ]
  },
  {
   "cell_type": "code",
   "execution_count": null,
   "metadata": {},
   "outputs": [],
   "source": [
    "modelado_reg = []"
   ]
  },
  {
   "cell_type": "code",
   "execution_count": null,
   "metadata": {},
   "outputs": [],
   "source": [
    "X_train, X_test, y_train, y_test = train_test_split(X_norm_a, labels_a, test_size = TEST_SIZE, random_state = RANDOM_STATE)\n",
    "\n",
    "best_grid_ada_rfa.fit(X_train,y_train)\n",
    "pred = best_grid_ada_rfa.predict(X_test)\n",
    "    \n",
    "eftEntrenamiento = best_grid_ada_rfa.score (X_train, y_train)\n",
    "eftPrediccion = best_grid_ada_rfa.score (X_test, y_test)  \n",
    "mae = mean_absolute_error(y_test, pred)\n",
    "rmse = np.sqrt(mean_squared_error(y_test, pred))\n",
    "\n",
    "media_casos_reales = np.mean(y_test)\n",
    "porcentaje = mae *100  / media_casos_reales\n",
    "\n",
    "modelado_reg.append(['best_grid_ada_rfa', \"Atlantico\", '%.3f'%(porcentaje),'%.3f'%(X_continental.shape[1]), \n",
    "                     '%.3f'%(media_casos_reales), '%.3f'%(eftPrediccion),\n",
    "                     '%.3f'%(rmse), '%.3f'%(mae)])\n",
    "\n",
    "\n",
    "print([X_norm_a.shape[1], eftEntrenamiento, eftPrediccion, rmse, mae])"
   ]
  },
  {
   "cell_type": "code",
   "execution_count": null,
   "metadata": {},
   "outputs": [],
   "source": [
    "X_train, X_test, y_train, y_test = train_test_split(X_norm_m, labels_m, test_size = TEST_SIZE, random_state = RANDOM_STATE)\n",
    "\n",
    "best_grid_ada_rfa.fit(X_train,y_train)\n",
    "pred = best_grid_ada_rfa.predict(X_test)\n",
    "    \n",
    "eftEntrenamiento = best_grid_ada_rfa.score (X_train, y_train)\n",
    "eftPrediccion = best_grid_ada_rfa.score (X_test, y_test)  \n",
    "mae = mean_absolute_error(y_test, pred)\n",
    "rmse = np.sqrt(mean_squared_error(y_test, pred))\n",
    "\n",
    "media_casos_reales = np.mean(y_test)\n",
    "porcentaje = mae *100  / media_casos_reales\n",
    "\n",
    "modelado_reg.append(['best_grid_ada_rfa', \"Mediterraneo\", '%.3f'%(porcentaje),'%.3f'%(X_continental.shape[1]), \n",
    "                     '%.3f'%(media_casos_reales), '%.3f'%(eftPrediccion),\n",
    "                     '%.3f'%(rmse), '%.3f'%(mae)])\n",
    "\n",
    "print([X_norm_m.shape[1], eftEntrenamiento, eftPrediccion, rmse, mae])"
   ]
  },
  {
   "cell_type": "code",
   "execution_count": null,
   "metadata": {},
   "outputs": [],
   "source": [
    "X_train, X_test, y_train, y_test = train_test_split(X_norm_c, labels_c, test_size = TEST_SIZE, random_state = RANDOM_STATE)\n",
    "\n",
    "best_grid_ada_rfa.fit(X_train,y_train)\n",
    "pred = best_grid_ada_rfa.predict(X_test)\n",
    "    \n",
    "eftEntrenamiento = best_grid_ada_rfa.score (X_train, y_train)\n",
    "eftPrediccion = best_grid_ada_rfa.score (X_test, y_test)  \n",
    "mae = mean_absolute_error(y_test, pred)\n",
    "rmse = np.sqrt(mean_squared_error(y_test, pred))\n",
    "\n",
    "media_casos_reales = np.mean(y_test)\n",
    "porcentaje = mae *100  / media_casos_reales\n",
    "\n",
    "modelado_reg.append(['best_grid_ada_rfa', \"Continental\", '%.3f'%(porcentaje),'%.3f'%(X_continental.shape[1]), \n",
    "                     '%.3f'%(media_casos_reales), '%.3f'%(eftPrediccion),\n",
    "                     '%.3f'%(rmse), '%.3f'%(mae)])\n",
    "\n",
    "print([X_norm_c.shape[1], eftEntrenamiento, eftPrediccion, rmse, mae])"
   ]
  },
  {
   "cell_type": "code",
   "execution_count": null,
   "metadata": {},
   "outputs": [],
   "source": [
    "modelado_reg.append(dcf_regional(X_atlantico, Y_atlantico, 'Atlantico'))\n",
    "modelado_reg.append(rfa_regional(X_atlantico, Y_atlantico, 'Atlantico'))\n",
    "modelado_reg.append(skb_regional(X_atlantico, Y_atlantico, 'Atlantico'))\n",
    "modelado_reg.append(rfe_regional(X_atlantico, Y_atlantico, 'Atlantico'))\n",
    "\n",
    "modelado_reg.append(dcf_regional(X_mediterraneo, Y_mediterraneo, 'Mediterraneo'))\n",
    "modelado_reg.append(rfa_regional(X_mediterraneo, Y_mediterraneo, 'Mediterraneo'))\n",
    "modelado_reg.append(skb_regional(X_mediterraneo, Y_mediterraneo, 'Mediterraneo'))\n",
    "modelado_reg.append(rfe_regional(X_mediterraneo, Y_mediterraneo, 'Mediterraneo'))\n",
    "\n",
    "modelado_reg.append(dcf_regional(X_continental, Y_continental, 'Continental'))\n",
    "modelado_reg.append(rfa_regional(X_continental, Y_continental, 'Continental'))\n",
    "modelado_reg.append(skb_regional(X_continental, Y_continental, 'Continental'))\n",
    "modelado_reg.append(rfe_regional(X_continental, Y_continental, 'Continental'))"
   ]
  },
  {
   "cell_type": "markdown",
   "metadata": {},
   "source": [
    "### Provincias"
   ]
  },
  {
   "cell_type": "code",
   "execution_count": null,
   "metadata": {},
   "outputs": [],
   "source": [
    "for prov in tarjeta.provincia.unique().tolist():\n",
    "    \n",
    "    X_provs = tarjeta[tarjeta.provincia == prov].drop(columns=['num_casos']).select_dtypes(exclude=['object'])\n",
    "    label_provs =tarjeta[tarjeta.provincia == prov][['num_casos']]\n",
    "    X_train, X_test, y_train, y_test = train_test_split(X_provs, label_provs.num_casos, test_size = TEST_SIZE, random_state = RANDOM_STATE)\n",
    "    \n",
    "    best_grid_ada_rfa.fit(X_train,y_train)\n",
    "    pred = best_grid_ada_rfa.predict(X_test)\n",
    "    \n",
    "    eftEntrenamiento = best_grid_ada_rfa.score (X_train, y_train)\n",
    "    eftPrediccion = best_grid_ada_rfa.score (X_test, y_test)  \n",
    "    mae = mean_absolute_error(y_test, pred)\n",
    "    rmse = np.sqrt(mean_squared_error(y_test, pred))\n",
    "\n",
    "    media_casos_reales = np.mean(y_test)\n",
    "    porcentaje = mae * 100 / media_casos_reales\n",
    "\n",
    "    modelado_reg.append(['best_grid_ada_rfa', prov, '%.3f'%(porcentaje),'%.3f'%(X_continental.shape[1]),\n",
    "                         '%.3f'%(media_casos_reales), '%.3f'%(eftPrediccion), '%.3f'%(rmse), '%.3f'%(mae)])\n"
   ]
  },
  {
   "cell_type": "code",
   "execution_count": null,
   "metadata": {},
   "outputs": [],
   "source": [
    "for prov in tarjeta.provincia.unique().tolist():\n",
    "    X_provs = tarjeta[tarjeta.provincia == prov].drop(columns=['num_casos']).select_dtypes(exclude=['object'])\n",
    "    label_provs =tarjeta[tarjeta.provincia == prov][['num_casos']]\n",
    "    print (\"Provincia : \", prov)\n",
    "    modelado_reg.append(dcf_regional(X_provs, label_provs, prov ))\n",
    "    modelado_reg.append(rfa_regional(X_provs, label_provs, prov ))\n",
    "    modelado_reg.append(skb_regional(X_provs, label_provs, prov ))\n",
    "    modelado_reg.append(rfe_regional(X_provs, label_provs, prov ))\n",
    "\n",
    "    print (\"-- --\"*5)"
   ]
  },
  {
   "cell_type": "raw",
   "metadata": {},
   "source": [
    "###  XGBRegressor"
   ]
  },
  {
   "cell_type": "raw",
   "metadata": {},
   "source": [
    "for prov in tarjeta.provincia.unique().tolist():\n",
    "    \n",
    "    maes = []\n",
    "    \n",
    "    X_provs = scaler.fit_transform(tarjeta[tarjeta.provincia == prov].drop(columns=['num_casos']).select_dtypes(exclude=['object']))\n",
    "    label_provs =tarjeta[tarjeta.provincia == prov][['num_casos']]\n",
    "    \n",
    "    for thresholds in np.linspace(start=0.85, stop=0.99, num=14).tolist():\n",
    "        \n",
    "        trh_dcf = DropCorrelatedFeatures(variables=None, method='spearman',  threshold=thresholds)\n",
    "        \n",
    "        X_best_dcf = trh_dcf.fit_transform(X_provs, label_provs)\n",
    "        X_train, X_test, y_train, y_test = train_test_split(X_best_dcf, label_provs, test_size = TEST_SIZE, random_state = RANDOM_STATE)\n",
    "        reg = xgb.XGBRegressor( objective = 'reg:squarederror',random_state = RANDOM_STATE) \n",
    "        reg.fit(X_train, y_train)\n",
    "        pred = reg.predict(X_test)\n",
    "        mae = mean_absolute_error(y_test, pred)\n",
    "        mse = np.sqrt(mean_squared_error(y_test, pred))\n",
    "        r2 = r2_score(y_test,pred)\n",
    "        maes.append([thresholds, X_best_dcf.shape[1], r2, mse, mae])\n",
    "\n",
    "        \n",
    "    output = pd.DataFrame(maes, columns =  ['thresholds','num_feats','r2_score','rmse','MAE']) \n",
    "    print (\"...\" , output.at[np.argmin(output.MAE),'thresholds'])\n",
    "    best_dcf_xgb = output.at[np.argmin(output.MAE),'thresholds']   \n",
    "            \n",
    "    trh_dcf = DropCorrelatedFeatures(variables=None, method='spearman', threshold=best_dcf_xgb) \n",
    "\n",
    "    X_dcf_xgb = trh_dcf.fit_transform(X_provs, label_provs)\n",
    "\n",
    "    X_train, X_test, y_train, y_test = train_test_split(X_dcf_xgb, label_provs, test_size = TEST_SIZE, random_state = RANDOM_STATE)\n",
    "    \n",
    "    params_X_dcf = xgb_params('X_dcf_xgb', X_dcf_xgb, label_provs)\n",
    "    \n",
    "    modelo_final  = xgb.XGBRegressor(**params_X_dcf)\n",
    "\n",
    "    modelo_final.fit(X_train,y_train)\n",
    "    pred = modelo_final.predict(X_test)\n",
    "\n",
    "    eftEntrenamiento = modelo_final.score (X_train, y_train)\n",
    "    eftPrediccion = modelo_final.score (X_test, y_test)  \n",
    "    mae = mean_absolute_error(y_test, pred)\n",
    "    rmse = np.sqrt(mean_squared_error(y_test, pred))\n",
    "    media_casos_reales = np.mean(y_test)\n",
    "    porcentaje = mae *100  / media_casos_reales\n",
    "   \n",
    "    modelado_reg.append(['DCF-XGBRegressor', prov, '%.3f'%(porcentaje),'%.3f'%(X_dcf_xgb.shape[1]), '%.3f'%(media_casos_reales), '%.3f'%(eftPrediccion),\n",
    "             '%.3f'%(rmse), '%.3f'%(mae)])"
   ]
  },
  {
   "cell_type": "markdown",
   "metadata": {},
   "source": [
    "## Resultados Climas y provincias"
   ]
  },
  {
   "cell_type": "code",
   "execution_count": null,
   "metadata": {},
   "outputs": [],
   "source": [
    "modelado_reg"
   ]
  },
  {
   "cell_type": "code",
   "execution_count": null,
   "metadata": {},
   "outputs": [],
   "source": [
    "metricas_modelos = pd.DataFrame(modelado_reg,\n",
    "                                columns=['Método', 'Modelo', 'Prcnt', \"#Feats\", 'media_casos_reales', 'ScoreTest', 'RMSE',  'MAE'])\n",
    "nombre = 'datos_regionales_hiperparametros_0.csv'\n",
    "\n",
    "metricas_modelos.to_csv(\"~/Trabajo_tfm/datos_csv/modelos_\" + nombre )"
   ]
  },
  {
   "cell_type": "code",
   "execution_count": null,
   "metadata": {},
   "outputs": [],
   "source": [
    "metricas_modelos[:50]"
   ]
  },
  {
   "cell_type": "code",
   "execution_count": null,
   "metadata": {},
   "outputs": [],
   "source": [
    "metricas_modelos[50:]"
   ]
  },
  {
   "cell_type": "code",
   "execution_count": null,
   "metadata": {},
   "outputs": [],
   "source": [
    "print(\" %.2f seconds for  provinces hiperparameter settings.\"  % ((time.time() - clock_1)))"
   ]
  },
  {
   "cell_type": "code",
   "execution_count": null,
   "metadata": {},
   "outputs": [],
   "source": [
    "print(\" %.2f seconds for  hiperparameter settings.\"  % ((time.time() - clock_0)))"
   ]
  },
  {
   "cell_type": "code",
   "execution_count": null,
   "metadata": {},
   "outputs": [],
   "source": [
    "valores = metricas_modelos['MAE'].values\n",
    "lista_variables = list(features)\n",
    "lista = modelo_final.get_support()\n",
    "[lista_variables[x] for x in lista]\n",
    "\n",
    "pos = np.arange(np.argsort(metricas_modelos['MAE']).shape[0]) + .5\n",
    "fig = plt.figure(figsize=(15,10))\n",
    "#plt.subplot(1, 2, 1)\n",
    "plt.barh(pos, metricas_modelos['MAE'][np.argsort(metricas_modelos['MAE'])], align='center')\n",
    "plt.yticks(pos, np.array(features)[np.argsort(metricas_modelos['MAE'])])\n",
    "plt.title('Importancia de los atributos para best_grid_ada_rfe')\n",
    "plt.show()"
   ]
  },
  {
   "cell_type": "code",
   "execution_count": null,
   "metadata": {},
   "outputs": [],
   "source": [
    "\n",
    "pos = np.arange(np.argsort(metricas_modelos['MAE']).shape[0]) + .5\n",
    "fig = plt.figure(figsize=(15,10))\n",
    "plt.barh(pos, metricas_modelos['MAE'][np.argsort(metricas_modelos['MAE'])], align='center')\n",
    "plt.yticks(pos, np.array(features)[np.argsort(metricas_modelos['MAE'])])\n",
    "plt.title('Valores de mae para climas y provincias')\n",
    "plt.show()\n",
    "\n"
   ]
  },
  {
   "cell_type": "code",
   "execution_count": null,
   "metadata": {},
   "outputs": [],
   "source": []
  }
 ],
 "metadata": {
  "kernelspec": {
   "display_name": "Python 3 (ipykernel)",
   "language": "python",
   "name": "python3"
  },
  "language_info": {
   "codemirror_mode": {
    "name": "ipython",
    "version": 3
   },
   "file_extension": ".py",
   "mimetype": "text/x-python",
   "name": "python",
   "nbconvert_exporter": "python",
   "pygments_lexer": "ipython3",
   "version": "3.8.5"
  },
  "toc": {
   "base_numbering": 1,
   "nav_menu": {
    "height": "389px",
    "width": "264.233px"
   },
   "number_sections": true,
   "sideBar": true,
   "skip_h1_title": false,
   "title_cell": "Table of Contents",
   "title_sidebar": "Contents",
   "toc_cell": false,
   "toc_position": {
    "height": "100px",
    "left": "35px",
    "top": "92.7px",
    "width": "255.35px"
   },
   "toc_section_display": true,
   "toc_window_display": true
  },
  "varInspector": {
   "cols": {
    "lenName": 16,
    "lenType": 16,
    "lenVar": 40
   },
   "kernels_config": {
    "python": {
     "delete_cmd_postfix": "",
     "delete_cmd_prefix": "del ",
     "library": "var_list.py",
     "varRefreshCmd": "print(var_dic_list())"
    },
    "r": {
     "delete_cmd_postfix": ") ",
     "delete_cmd_prefix": "rm(",
     "library": "var_list.r",
     "varRefreshCmd": "cat(var_dic_list()) "
    }
   },
   "oldHeight": 122.85033399999999,
   "position": {
    "height": "40px",
    "left": "1089px",
    "right": "20px",
    "top": "-47px",
    "width": "250px"
   },
   "types_to_exclude": [
    "module",
    "function",
    "builtin_function_or_method",
    "instance",
    "_Feature"
   ],
   "varInspector_section_display": "none",
   "window_display": true
  },
  "vp": {
   "vp_config_version": "1.0.0",
   "vp_menu_width": 273,
   "vp_note_display": false,
   "vp_note_width": 0,
   "vp_position": {
    "width": 278
   },
   "vp_section_display": false,
   "vp_signature": "VisualPython"
  }
 },
 "nbformat": 4,
 "nbformat_minor": 4
}
