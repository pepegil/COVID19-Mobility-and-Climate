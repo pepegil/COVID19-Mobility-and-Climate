{
 "cells": [
  {
   "cell_type": "markdown",
   "metadata": {},
   "source": [
    "# 0_1_Preproceso_datos_covid"
   ]
  },
  {
   "cell_type": "code",
   "execution_count": 1,
   "metadata": {},
   "outputs": [],
   "source": [
    "import numpy as np\n",
    "import pandas as pd"
   ]
  },
  {
   "cell_type": "markdown",
   "metadata": {},
   "source": [
    "## Preproceso datos de covid"
   ]
  },
  {
   "cell_type": "code",
   "execution_count": 2,
   "metadata": {},
   "outputs": [],
   "source": [
    "evolucion = pd.read_csv('~/Trabajo_tfm/datos_csv/covid19-provincias-spain_consolidated.csv')"
   ]
  },
  
  {
   "cell_type": "code",
   "execution_count": 4,
   "metadata": {
    "scrolled": false
   },
   "outputs": [
    {
     "name": "stdout",
     "output_type": "stream",
     "text": [
      "<class 'pandas.core.frame.DataFrame'>\n",
      "RangeIndex: 26843 entries, 0 to 26842\n",
      "Data columns (total 59 columns):\n",
      " #   Column                        Non-Null Count  Dtype  \n",
      "---  ------                        --------------  -----  \n",
      " 0   date                          26843 non-null  object \n",
      " 1   province                      26843 non-null  object \n",
      " 2   ine_code                      26843 non-null  int64  \n",
      " 3   ccaa                          26843 non-null  object \n",
      " 4   new_cases                     9966 non-null   float64\n",
      " 5   PCR                           7451 non-null   float64\n",
      " 6   TestAc                        957 non-null    float64\n",
      " 7   activos                       3418 non-null   float64\n",
      " 8   hospitalized                  19756 non-null  float64\n",
      " 9   hospitalized_accumulated      2162 non-null   float64\n",
      " 10  hospitalized_new              2086 non-null   float64\n",
      " 11  intensive_care                19981 non-null  float64\n",
      " 12  deceased                      21779 non-null  float64\n",
      " 13  cases_accumulated             13998 non-null  float64\n",
      " 14  cases_accumulated_PCR         14256 non-null  float64\n",
      " 15  recovered                     524 non-null    float64\n",
      " 16  deceased_hosp_eus             585 non-null    float64\n",
      " 17  num_casos                     20332 non-null  float64\n",
      " 18  num_casos_prueba_pcr          20332 non-null  float64\n",
      " 19  num_casos_prueba_test_ac      20332 non-null  float64\n",
      " 20  num_casos_prueba_ag           20332 non-null  float64\n",
      " 21  num_casos_prueba_elisa        20332 non-null  float64\n",
      " 22  num_casos_prueba_desconocida  20332 non-null  float64\n",
      " 23  num_casos_cum1                20332 non-null  float64\n",
      " 24  num_casos2                    26676 non-null  float64\n",
      " 25  num_hosp                      26676 non-null  float64\n",
      " 26  num_uci                       26676 non-null  float64\n",
      " 27  num_def                       26676 non-null  float64\n",
      " 28  num_casos_cum2                26676 non-null  float64\n",
      " 29  num_hosp_cum                  26676 non-null  float64\n",
      " 30  num_uci_cum                   26676 non-null  float64\n",
      " 31  num_def_cum                   26676 non-null  float64\n",
      " 32  poblacion                     26843 non-null  int64  \n",
      " 33  cases_per_cienmil             13998 non-null  float64\n",
      " 34  intensive_care_per_1000000    19981 non-null  float64\n",
      " 35  deceassed_per_100000          21779 non-null  float64\n",
      " 36  hospitalized_per_100000       19756 non-null  float64\n",
      " 37  cases_14days                  12943 non-null  float64\n",
      " 38  cases_7days                   13391 non-null  float64\n",
      " 39  cases_PCR_14days              13676 non-null  float64\n",
      " 40  cases_PCR_7days               14009 non-null  float64\n",
      " 41  daily_cases                   18000 non-null  float64\n",
      " 42  daily_cases_avg7              17633 non-null  float64\n",
      " 43  daily_cases_PCR               15967 non-null  float64\n",
      " 44  daily_cases_PCR_avg7          15603 non-null  float64\n",
      " 45  daily_deaths                  21722 non-null  float64\n",
      " 46  daily_deaths_hosp_eus         582 non-null    float64\n",
      " 47  daily_deaths_inc              20646 non-null  float64\n",
      " 48  daily_deaths_avg3             20340 non-null  float64\n",
      " 49  daily_deaths_avg7             21397 non-null  float64\n",
      " 50  daily_deaths_avg7_hosp_eus    564 non-null    float64\n",
      " 51  deaths_last_week              26843 non-null  int64  \n",
      " 52  num_casos_avg7                20020 non-null  float64\n",
      " 53  num_casos_prueba_pcr_avg7     20020 non-null  float64\n",
      " 54  num_casos2_avg7               26364 non-null  float64\n",
      " 55  ia14                          19795 non-null  float64\n",
      " 56  source_name                   8089 non-null   object \n",
      " 57  source                        7965 non-null   object \n",
      " 58  comments                      6583 non-null   object \n",
      "dtypes: float64(50), int64(3), object(6)\n",
      "memory usage: 12.1+ MB\n"
     ]
    }
   ],
   "source": [
    "evolucion.info(2)"
   ]
  },
  {
   "cell_type": "code",
   "execution_count": 5,
   "metadata": {},
   "outputs": [
    {
     "name": "stdout",
     "output_type": "stream",
     "text": [
      " Numero de registros con valor nulo : 6511\n"
     ]
    }
   ],
   "source": [
    "#print(f\"Conteo de ocurrencias por valor: {evolucion['num_casos'].value_counts()}\")\n",
    "print (\" Numero de registros con valor nulo :\",evolucion[evolucion['num_casos'].isnull()].shape[0] )"
   ]
  },
  {
   "cell_type": "code",
   "execution_count": 6,
   "metadata": {},
   "outputs": [
    {
     "name": "stdout",
     "output_type": "stream",
     "text": [
      " Numero de registros con valor nulo : 167\n"
     ]
    }
   ],
   "source": [
    "#print(f\"Conteo de ocurrencias por valor: {evolucion['num_casos2'].value_counts()}\")\n",
    "print (\" Numero de registros con valor nulo :\",evolucion[evolucion['num_casos2'].isnull()].shape[0] )"
   ]
  },
  {
   "cell_type": "code",
   "execution_count": 7,
   "metadata": {},
   "outputs": [],
   "source": [
    "import matplotlib.pyplot as plt\n",
    "import numpy as np\n",
    "import pandas as pd\n",
    "import seaborn as sns\n",
    "sns.set(style=\"darkgrid\")  #sns.set(style=\"white\") # #sns.set(style=\"darkgrid\") \n",
    "#import lux"
   ]
  },
  {
   "cell_type": "code",
   "execution_count": 8,
   "metadata": {},
   "outputs": [
    {
     "data": {
      "image/png": "[encoded data removed]",
      "text/plain": [
       "<Figure size 432x288 with 1 Axes>"
      ]
     },
     "metadata": {},
     "output_type": "display_data"
    }
   ],
   "source": [
    "xx = np.stack([i for i in range(evolucion['date'].shape[0])])\n",
    "\n",
    "plt.plot(xx, evolucion['num_casos2'], c='r', label='data')\n",
    "\n",
    "plt.legend()\n",
    "#plt.title(\"RandomForests Regressors (estimators = %i, MAE = %6.2f')\" % (best_est, mae))\n",
    "\n",
    "plt.show()"
   ]
  },
  {
   "cell_type": "code",
   "execution_count": 9,
   "metadata": {},
   "outputs": [
    {
     "data": {
      "image/png": "[encoded data removed]",
      "text/plain": [
       "<Figure size 432x288 with 1 Axes>"
      ]
     },
     "metadata": {},
     "output_type": "display_data"
    }
   ],
   "source": [
    "xx = np.stack([i for i in range(evolucion['num_casos'].shape[0])])\n",
    "\n",
    "plt.plot(xx, evolucion['num_casos'], c='r', label='data')\n",
    "\n",
    "plt.legend()\n",
    "#plt.title(\"RandomForests Regressors (estimators = %i, MAE = %6.2f')\" % (best_est, mae))\n",
    "\n",
    "plt.show()"
   ]
  },
  {
   "cell_type": "code",
   "execution_count": 10,
   "metadata": {},
   "outputs": [
    {
     "data": {
      "text/plain": [
       "array(['2021-05-28', '2021-05-29', '2021-05-30', '2021-05-31'],\n",
       "      dtype=object)"
      ]
     },
     "execution_count": 10,
     "metadata": {},
     "output_type": "execute_result"
    }
   ],
   "source": [
    "evolucion[evolucion['num_casos2'].isnull()].date.unique()"
   ]
  },
  {
   "cell_type": "code",
   "execution_count": 11,
   "metadata": {},
   "outputs": [
    {
     "data": {
      "text/plain": [
       "array(['2021-01-26', '2021-01-27', '2021-01-28', '2021-01-29',\n",
       "       '2021-01-30', '2021-01-31', '2021-02-01', '2021-02-02',\n",
       "       '2021-02-03', '2021-02-04', '2021-02-05', '2021-02-06',\n",
       "       '2021-02-07', '2021-02-08', '2021-02-09', '2021-02-10',\n",
       "       '2021-02-11', '2021-02-12', '2021-02-13', '2021-02-14',\n",
       "       '2021-02-15', '2021-02-16', '2021-02-17', '2021-02-18',\n",
       "       '2021-02-19', '2021-02-20', '2021-02-21', '2021-02-22',\n",
       "       '2021-02-23', '2021-02-24', '2021-02-25', '2021-02-26',\n",
       "       '2021-02-27', '2021-02-28', '2021-03-01', '2021-03-02',\n",
       "       '2021-03-03', '2021-03-04', '2021-03-05', '2021-03-06',\n",
       "       '2021-03-07', '2021-03-08', '2021-03-09', '2021-03-10',\n",
       "       '2021-03-11', '2021-03-12', '2021-03-13', '2021-03-14',\n",
       "       '2021-03-15', '2021-03-16', '2021-03-17', '2021-03-18',\n",
       "       '2021-03-19', '2021-03-20', '2021-03-21', '2021-03-22',\n",
       "       '2021-03-23', '2021-03-24', '2021-03-25', '2021-03-26',\n",
       "       '2021-03-27', '2021-03-28', '2021-03-29', '2021-03-30',\n",
       "       '2021-03-31', '2021-04-01', '2021-04-02', '2021-04-03',\n",
       "       '2021-04-04', '2021-04-05', '2021-04-06', '2021-04-07',\n",
       "       '2021-04-08', '2021-04-09', '2021-04-10', '2021-04-11',\n",
       "       '2021-04-12', '2021-04-13', '2021-04-14', '2021-04-15',\n",
       "       '2021-04-16', '2021-04-17', '2021-04-18', '2021-04-19',\n",
       "       '2021-04-20', '2021-04-21', '2021-04-22', '2021-04-23',\n",
       "       '2021-04-24', '2021-04-25', '2021-04-26', '2021-04-27',\n",
       "       '2021-04-28', '2021-04-29', '2021-04-30', '2021-05-01',\n",
       "       '2021-05-02', '2021-05-03', '2021-05-04', '2021-05-05',\n",
       "       '2021-05-06', '2021-05-07', '2021-05-08', '2021-05-09',\n",
       "       '2021-05-10', '2021-05-11', '2021-05-12', '2021-05-13',\n",
       "       '2021-05-14', '2021-05-15', '2021-05-16', '2021-05-17',\n",
       "       '2021-05-18', '2021-05-19', '2021-05-20', '2021-05-21',\n",
       "       '2021-05-22', '2021-05-23', '2021-05-24', '2021-05-25',\n",
       "       '2021-05-26', '2021-05-27', '2021-05-28', '2021-05-29',\n",
       "       '2021-05-30', '2021-05-31'], dtype=object)"
      ]
     },
     "execution_count": 11,
     "metadata": {},
     "output_type": "execute_result"
    }
   ],
   "source": [
    "evolucion[evolucion['num_casos'].isnull()].date.unique()"
   ]
  },
  {
   "cell_type": "markdown",
   "metadata": {},
   "source": [
    "- **Decision**\n",
    "    cols_eliminar = [ .....]\n",
    "\n",
    "    #evolucion = evolucion.drop(columns=cols_eliminar)"
   ]
  },
  {
   "cell_type": "code",
   "execution_count": 12,
   "metadata": {},
   "outputs": [],
   "source": [
    "no_necesarias = [\n",
    "    'ine_code','ccaa', 'new_cases', 'PCR', 'TestAc', 'activos', 'hospitalized', 'hospitalized_accumulated',\n",
    "    'hospitalized_new', 'intensive_care', 'deceased', 'cases_accumulated', 'cases_accumulated_PCR', \n",
    "    'recovered', 'deceased_hosp_eus', 'num_casos_prueba_pcr', 'num_casos_prueba_test_ac','num_casos_prueba_ag',\n",
    "    'num_casos_prueba_elisa', 'num_casos_prueba_desconocida', 'num_hosp', 'num_uci', 'num_def', 'num_casos_cum2',\n",
    "    'num_hosp_cum','num_uci_cum', 'num_def_cum', 'cases_per_cienmil', 'intensive_care_per_1000000',\n",
    "    'deceassed_per_100000', 'hospitalized_per_100000', 'cases_14days', 'cases_7days', 'cases_PCR_14days',\n",
    "    'cases_PCR_7days', 'daily_cases', 'daily_cases_avg7', 'daily_cases_PCR', 'daily_cases_PCR_avg7','daily_deaths',\n",
    "    'daily_deaths_hosp_eus', 'daily_deaths_inc','daily_deaths_avg3', 'daily_deaths_avg7',\n",
    "    'daily_deaths_avg7_hosp_eus', 'num_casos_avg7', 'num_casos_prueba_pcr_avg7', 'num_casos2_avg7','ia14',\n",
    "    'source_name', 'source', 'comments']\n",
    "evolucion.drop(columns = no_necesarias, axis = 1, inplace = True)"
   ]
  },
  {
   "cell_type": "markdown",
   "metadata": {},
   "source": [
    "## Filtro por fechas "
   ]
  },
  {
   "cell_type": "code",
   "execution_count": 13,
   "metadata": {},
   "outputs": [],
   "source": [
    "def funcion_inversion_fecha (fecha) :\n",
    "    AA = fecha[:4]\n",
    "    MM = fecha[5:7]\n",
    "    dd = fecha[8:10]\n",
    "    fecha_d = AA + MM + dd\n",
    "    return fecha_d"
   ]
  },
  {
   "cell_type": "code",
   "execution_count": 14,
   "metadata": {},
   "outputs": [],
   "source": [
    "def funcion_fecha (fecha) :\n",
    "    fecha_dia = fecha [-8:]\n",
    "    AA = fecha_dia[:4]\n",
    "    MM = fecha_dia[4:6]\n",
    "    dd = fecha_dia[6:8]\n",
    "    fecha_d = AA +'-' + MM +'-' + dd\n",
    "    return fecha_d"
   ]
  },
  {
   "cell_type": "code",
   "execution_count": 15,
   "metadata": {},
   "outputs": [],
   "source": [
    "datos_fechas = pd.read_csv(\"~/Trabajo_tfm/datos_csv/jaen_meteo.csv\") # cualquiera, leer solo la fecha!!"
   ]
  },
  {
   "cell_type": "code",
   "execution_count": 16,
   "metadata": {},
   "outputs": [],
   "source": [
    "dates = datos_fechas.fecha "
   ]
  },
  {
   "cell_type": "code",
   "execution_count": 17,
   "metadata": {},
   "outputs": [],
   "source": [
    "rango_fechas = np.arange(dates.size)\n",
    "fechas =[]\n",
    "for dia in rango_fechas :\n",
    "    fecha = funcion_inversion_fecha (dates[dia])\n",
    "    fechas.append(fecha)"
   ]
  },
  {
   "cell_type": "code",
   "execution_count": 18,
   "metadata": {},
   "outputs": [],
   "source": [
    "fechas_ =[]\n",
    "for fecha in fechas : \n",
    "    fechas_.append(funcion_fecha(fecha))"
   ]
  },
  {
   "cell_type": "code",
   "execution_count": 19,
   "metadata": {},
   "outputs": [],
   "source": [
    "evolucion = evolucion[evolucion.date.isin(fechas_)]"
   ]
  },
  {
   "cell_type": "code",
   "execution_count": 20,
   "metadata": {},
   "outputs": [
    {
     "data": {
      "text/plain": [
       "(17524, 7)"
      ]
     },
     "execution_count": 20,
     "metadata": {},
     "output_type": "execute_result"
    }
   ],
   "source": [
    "evolucion.shape"
   ]
  },
  {
   "cell_type": "markdown",
   "metadata": {},
   "source": [
    "## Filtro por provincias                       "
   ]
  },
  {
   "cell_type": "code",
   "execution_count": 21,
   "metadata": {},
   "outputs": [
    {
     "data": {
      "text/plain": [
       "array(['Albacete', 'Alicante/Alacant', 'Almería', 'Araba/Álava',\n",
       "       'Asturias', 'Ávila', 'Badajoz', 'Balears, Illes', 'Barcelona',\n",
       "       'Bizkaia', 'Burgos', 'Cáceres', 'Cádiz', 'Cantabria',\n",
       "       'Castellón/Castelló', 'Ceuta', 'Ciudad Real', 'Córdoba',\n",
       "       'Coruña, A', 'Cuenca', 'Gipuzkoa', 'Girona', 'Granada',\n",
       "       'Guadalajara', 'Huelva', 'Huesca', 'Jaén', 'León', 'Lleida',\n",
       "       'Lugo', 'Madrid', 'Málaga', 'Melilla', 'Murcia', 'Navarra',\n",
       "       'Ourense', 'Palencia', 'Palmas, Las', 'Pontevedra', 'Rioja, La',\n",
       "       'Salamanca', 'Santa Cruz de Tenerife', 'Segovia', 'Sevilla',\n",
       "       'Soria', 'Tarragona', 'Teruel', 'Toledo', 'Valencia/València',\n",
       "       'Valladolid', 'Zamora', 'Zaragoza'], dtype=object)"
      ]
     },
     "execution_count": 21,
     "metadata": {},
     "output_type": "execute_result"
    }
   ],
   "source": [
    "evolucion.province.unique()"
   ]
  },
  {
   "cell_type": "code",
   "execution_count": 22,
   "metadata": {},
   "outputs": [],
   "source": [
    "provincias = ['Alicante/Alacant','Badajoz','Ciudad Real', 'Madrid', 'Palencia','Salamanca',\n",
    "              'Jaén','Córdoba','Sevilla','Huelva','Cádiz','Málaga','Granada','Almería','Coruña, A','Lugo',\n",
    "              'Ourense','Pontevedra','Valencia/València','Zamora', 'Zaragoza'] # provincias de estudio"
   ]
  },
  {
   "cell_type": "code",
   "execution_count": 23,
   "metadata": {},
   "outputs": [],
   "source": [
    "evolucion = evolucion[evolucion.province.isin(provincias)] # filtro por provincias"
   ]
  },
  {
   "cell_type": "code",
   "execution_count": 24,
   "metadata": {},
   "outputs": [
    {
     "data": {
      "text/plain": [
       "(7077, 7)"
      ]
     },
     "execution_count": 24,
     "metadata": {},
     "output_type": "execute_result"
    }
   ],
   "source": [
    "evolucion.shape"
   ]
  },
  {
   "cell_type": "markdown",
   "metadata": {},
   "source": [
    "- Formateo de provincia a mayusculas                      "
   ]
  },
  {
   "cell_type": "code",
   "execution_count": 25,
   "metadata": {},
   "outputs": [],
   "source": [
    "def nombre_provincia(row): # transfoma la provincia a mayusculas para unificar con otros ficheros\n",
    "    if row.province == 'Alicante/Alacant':\n",
    "        return 'alicante'.upper()\n",
    "    elif row.province == 'Badajoz':\n",
    "        return 'Badajoz'.upper()\n",
    "    elif row.province == 'Ciudad Real':\n",
    "        return 'Ciudad_Real'.upper()\n",
    "    elif row.province == 'Madrid':\n",
    "        return 'Madrid'.upper()\n",
    "    elif row.province == 'Palencia':\n",
    "        return 'Palencia'.upper()\n",
    "    elif row.province == 'Salamanca':\n",
    "        return 'Salamanca'.upper()\n",
    "    elif row.province == 'Valencia/València':\n",
    "        return 'Valencia'.upper()  \n",
    "    elif row.province == 'Zamora':\n",
    "        return 'Zamora'.upper()  \n",
    "    elif row.province == 'Zaragoza':\n",
    "        return 'Zaragoza'.upper()  \n",
    "    elif row.province == 'Jaén':\n",
    "        return 'jaen'.upper()\n",
    "    elif row.province == 'Córdoba':\n",
    "        return 'cordoba'.upper()\n",
    "    elif row.province == 'Cádiz':\n",
    "        return 'Cadiz'.upper()\n",
    "    elif row.province == 'Sevilla':\n",
    "        return 'sevilla'.upper()\n",
    "    elif row.province == 'Granada':\n",
    "        return 'Granada'.upper()\n",
    "    elif row.province == 'Huelva':\n",
    "        return 'huelva'.upper()\n",
    "    elif row.province == 'Málaga':\n",
    "        return 'malaga'.upper()\n",
    "    elif row.province == 'Almería':\n",
    "        return 'almeria'.upper()\n",
    "    elif row.province == 'Coruña, A':\n",
    "        return 'Coruña'.upper()\n",
    "    elif row.province == 'Lugo':\n",
    "        return 'lugo'.upper()\n",
    "    elif row.province == 'Ourense':\n",
    "        return 'Orense'.upper()\n",
    "    elif row.province == 'Pontevedra':\n",
    "        return 'Pontevedra'.upper()"
   ]
  },
  {
   "cell_type": "code",
   "execution_count": 26,
   "metadata": {},
   "outputs": [],
   "source": [
    "provincia = evolucion.apply(lambda row: nombre_provincia(row), axis=1).rename('provincia')"
   ]
  },
  {
   "cell_type": "code",
   "execution_count": 27,
   "metadata": {},
   "outputs": [],
   "source": [
    "evolucion = evolucion.drop(columns='province')"
   ]
  },
  {
   "cell_type": "code",
   "execution_count": 28,
   "metadata": {},
   "outputs": [],
   "source": [
    "evolucion.insert(1,'provincia', provincia)# evolucion.head()"
   ]
  },
  {
   "cell_type": "code",
   "execution_count": 29,
   "metadata": {},
   "outputs": [
    {
     "data": {
      "text/plain": [
       "Index(['date', 'provincia', 'num_casos', 'num_casos_cum1', 'num_casos2',\n",
       "       'poblacion', 'deaths_last_week'],\n",
       "      dtype='object')"
      ]
     },
     "execution_count": 29,
     "metadata": {},
     "output_type": "execute_result"
    }
   ],
   "source": [
    "evolucion.keys()"
   ]
  },
  {
   "cell_type": "code",
   "execution_count": 30,
   "metadata": {},
   "outputs": [],
   "source": [
    "evolucion_casos = pd.concat([ # construccion\n",
    "    evolucion[evolucion.provincia =='ALICANTE'],\n",
    "    evolucion[evolucion.provincia =='BADAJOZ'],\n",
    "    evolucion[evolucion.provincia =='CIUDAD_REAL'],\n",
    "    evolucion[evolucion.provincia =='MADRID'],\n",
    "    evolucion[evolucion.provincia =='PALENCIA'],\n",
    "    evolucion[evolucion.provincia =='SALAMANCA'],\n",
    "    evolucion[evolucion.provincia =='VALENCIA'],\n",
    "    evolucion[evolucion.provincia =='ZAMORA'],\n",
    "    evolucion[evolucion.provincia =='ZARAGOZA'],\n",
    "    evolucion[evolucion.provincia =='JAEN'], # ordenacion por provincias\n",
    "    evolucion[evolucion.provincia =='CORDOBA'],\n",
    "    evolucion[evolucion.provincia =='SEVILLA'],\n",
    "    evolucion[evolucion.provincia =='HUELVA'],\n",
    "    evolucion[evolucion.provincia =='CADIZ'],\n",
    "    evolucion[evolucion.provincia =='MALAGA'],\n",
    "    evolucion[evolucion.provincia =='GRANADA'],\n",
    "    evolucion[evolucion.provincia =='ALMERIA'],\n",
    "    evolucion[evolucion.provincia =='CORUÑA'],\n",
    "    evolucion[evolucion.provincia =='LUGO'],\n",
    "    evolucion[evolucion.provincia =='ORENSE'],\n",
    "    evolucion[evolucion.provincia =='PONTEVEDRA']])"
   ]
  },
  {
   "cell_type": "code",
   "execution_count": 31,
   "metadata": {
    "scrolled": true
   },
   "outputs": [
    {
     "data": {
      "text/html": [
       "<div>\n",
       "<style scoped>\n",
       "    .dataframe tbody tr th:only-of-type {\n",
       "        vertical-align: middle;\n",
       "    }\n",
       "\n",
       "    .dataframe tbody tr th {\n",
       "        vertical-align: top;\n",
       "    }\n",
       "\n",
       "    .dataframe thead th {\n",
       "        text-align: right;\n",
       "    }\n",
       "</style>\n",
       "<table border=\"1\" class=\"dataframe\">\n",
       "  <thead>\n",
       "    <tr style=\"text-align: right;\">\n",
       "      <th></th>\n",
       "      <th>date</th>\n",
       "      <th>provincia</th>\n",
       "      <th>num_casos</th>\n",
       "      <th>num_casos_cum1</th>\n",
       "      <th>num_casos2</th>\n",
       "      <th>poblacion</th>\n",
       "      <th>deaths_last_week</th>\n",
       "    </tr>\n",
       "  </thead>\n",
       "  <tbody>\n",
       "    <tr>\n",
       "      <th>3121</th>\n",
       "      <td>2020-03-01</td>\n",
       "      <td>ALICANTE</td>\n",
       "      <td>14.0</td>\n",
       "      <td>69.0</td>\n",
       "      <td>0.0</td>\n",
       "      <td>1858683</td>\n",
       "      <td>0</td>\n",
       "    </tr>\n",
       "    <tr>\n",
       "      <th>3173</th>\n",
       "      <td>2020-03-02</td>\n",
       "      <td>ALICANTE</td>\n",
       "      <td>16.0</td>\n",
       "      <td>85.0</td>\n",
       "      <td>5.0</td>\n",
       "      <td>1858683</td>\n",
       "      <td>0</td>\n",
       "    </tr>\n",
       "    <tr>\n",
       "      <th>3225</th>\n",
       "      <td>2020-03-03</td>\n",
       "      <td>ALICANTE</td>\n",
       "      <td>10.0</td>\n",
       "      <td>95.0</td>\n",
       "      <td>1.0</td>\n",
       "      <td>1858683</td>\n",
       "      <td>0</td>\n",
       "    </tr>\n",
       "  </tbody>\n",
       "</table>\n",
       "</div>"
      ],
      "text/plain": [
       "            date provincia  num_casos  num_casos_cum1  num_casos2  poblacion  \\\n",
       "3121  2020-03-01  ALICANTE       14.0            69.0         0.0    1858683   \n",
       "3173  2020-03-02  ALICANTE       16.0            85.0         5.0    1858683   \n",
       "3225  2020-03-03  ALICANTE       10.0            95.0         1.0    1858683   \n",
       "\n",
       "      deaths_last_week  \n",
       "3121                 0  \n",
       "3173                 0  \n",
       "3225                 0  "
      ]
     },
     "execution_count": 31,
     "metadata": {},
     "output_type": "execute_result"
    }
   ],
   "source": [
    "evolucion_casos.head(3)"
   ]
  },
  {
   "cell_type": "markdown",
   "metadata": {},
   "source": [
    "## Cambio de nombre de date a fecha"
   ]
  },
  {
   "cell_type": "code",
   "execution_count": 32,
   "metadata": {},
   "outputs": [],
   "source": [
    "evolucion_casos = evolucion_casos.rename({\"date\": \"fecha\"}, axis=\"columns\")"
   ]
  },
  {
   "cell_type": "code",
   "execution_count": 33,
   "metadata": {},
   "outputs": [],
   "source": [
    "evolucion_casos = evolucion_casos.reset_index()"
   ]
  },
  {
   "cell_type": "code",
   "execution_count": 34,
   "metadata": {},
   "outputs": [
    {
     "data": {
      "text/plain": [
       "array(['ALICANTE', 'BADAJOZ', 'CIUDAD_REAL', 'MADRID', 'PALENCIA',\n",
       "       'SALAMANCA', 'VALENCIA', 'ZAMORA', 'ZARAGOZA', 'JAEN', 'CORDOBA',\n",
       "       'SEVILLA', 'HUELVA', 'CADIZ', 'MALAGA', 'GRANADA', 'ALMERIA',\n",
       "       'CORUÑA', 'LUGO', 'ORENSE', 'PONTEVEDRA'], dtype=object)"
      ]
     },
     "execution_count": 34,
     "metadata": {},
     "output_type": "execute_result"
    }
   ],
   "source": [
    "evolucion_casos.provincia.unique()"
   ]
  },
  {
   "cell_type": "code",
   "execution_count": 35,
   "metadata": {},
   "outputs": [],
   "source": [
    "evolucion_casos.drop('index', inplace=True, axis=1)"
   ]
  },
  {
   "cell_type": "code",
   "execution_count": 36,
   "metadata": {},
   "outputs": [
    {
     "data": {
      "text/html": [
       "<div>\n",
       "<style scoped>\n",
       "    .dataframe tbody tr th:only-of-type {\n",
       "        vertical-align: middle;\n",
       "    }\n",
       "\n",
       "    .dataframe tbody tr th {\n",
       "        vertical-align: top;\n",
       "    }\n",
       "\n",
       "    .dataframe thead th {\n",
       "        text-align: right;\n",
       "    }\n",
       "</style>\n",
       "<table border=\"1\" class=\"dataframe\">\n",
       "  <thead>\n",
       "    <tr style=\"text-align: right;\">\n",
       "      <th></th>\n",
       "      <th>fecha</th>\n",
       "      <th>provincia</th>\n",
       "      <th>num_casos</th>\n",
       "      <th>num_casos_cum1</th>\n",
       "      <th>num_casos2</th>\n",
       "      <th>poblacion</th>\n",
       "      <th>deaths_last_week</th>\n",
       "    </tr>\n",
       "  </thead>\n",
       "  <tbody>\n",
       "    <tr>\n",
       "      <th>7074</th>\n",
       "      <td>2021-01-29</td>\n",
       "      <td>PONTEVEDRA</td>\n",
       "      <td>NaN</td>\n",
       "      <td>NaN</td>\n",
       "      <td>529.0</td>\n",
       "      <td>942665</td>\n",
       "      <td>34</td>\n",
       "    </tr>\n",
       "    <tr>\n",
       "      <th>7075</th>\n",
       "      <td>2021-01-30</td>\n",
       "      <td>PONTEVEDRA</td>\n",
       "      <td>NaN</td>\n",
       "      <td>NaN</td>\n",
       "      <td>359.0</td>\n",
       "      <td>942665</td>\n",
       "      <td>30</td>\n",
       "    </tr>\n",
       "    <tr>\n",
       "      <th>7076</th>\n",
       "      <td>2021-01-31</td>\n",
       "      <td>PONTEVEDRA</td>\n",
       "      <td>NaN</td>\n",
       "      <td>NaN</td>\n",
       "      <td>339.0</td>\n",
       "      <td>942665</td>\n",
       "      <td>30</td>\n",
       "    </tr>\n",
       "  </tbody>\n",
       "</table>\n",
       "</div>"
      ],
      "text/plain": [
       "           fecha   provincia  num_casos  num_casos_cum1  num_casos2  \\\n",
       "7074  2021-01-29  PONTEVEDRA        NaN             NaN       529.0   \n",
       "7075  2021-01-30  PONTEVEDRA        NaN             NaN       359.0   \n",
       "7076  2021-01-31  PONTEVEDRA        NaN             NaN       339.0   \n",
       "\n",
       "      poblacion  deaths_last_week  \n",
       "7074     942665                34  \n",
       "7075     942665                30  \n",
       "7076     942665                30  "
      ]
     },
     "execution_count": 36,
     "metadata": {},
     "output_type": "execute_result"
    }
   ],
   "source": [
    "evolucion_casos.tail(3)"
   ]
  },
  {
   "cell_type": "code",
   "execution_count": 37,
   "metadata": {},
   "outputs": [],
   "source": [
    "evolucion_casos.drop('num_casos', inplace=True, axis=1)\n",
    "evolucion_casos.drop('num_casos_cum1', inplace=True, axis=1)\n",
    "evolucion_casos.drop('deaths_last_week', inplace=True, axis=1)"
   ]
  },
  {
   "cell_type": "code",
   "execution_count": 38,
   "metadata": {},
   "outputs": [],
   "source": [
    "evolucion_casos = evolucion_casos.rename({\"num_casos2\": \"num_casos\"}, axis=\"columns\")"
   ]
  },
  {
   "cell_type": "code",
   "execution_count": 39,
   "metadata": {
    "scrolled": true
   },
   "outputs": [
    {
     "name": "stdout",
     "output_type": "stream",
     "text": [
      "<class 'pandas.core.frame.DataFrame'>\n",
      "RangeIndex: 7077 entries, 0 to 7076\n",
      "Data columns (total 4 columns):\n",
      " #   Column     Non-Null Count  Dtype  \n",
      "---  ------     --------------  -----  \n",
      " 0   fecha      7077 non-null   object \n",
      " 1   provincia  7077 non-null   object \n",
      " 2   num_casos  7077 non-null   float64\n",
      " 3   poblacion  7077 non-null   int64  \n",
      "dtypes: float64(1), int64(1), object(2)\n",
      "memory usage: 221.3+ KB\n"
     ]
    }
   ],
   "source": [
    "evolucion_casos.info()"
   ]
  },
  {
   "cell_type": "code",
   "execution_count": 40,
   "metadata": {},
   "outputs": [
    {
     "data": {
      "text/html": [
       "<div>\n",
       "<style scoped>\n",
       "    .dataframe tbody tr th:only-of-type {\n",
       "        vertical-align: middle;\n",
       "    }\n",
       "\n",
       "    .dataframe tbody tr th {\n",
       "        vertical-align: top;\n",
       "    }\n",
       "\n",
       "    .dataframe thead th {\n",
       "        text-align: right;\n",
       "    }\n",
       "</style>\n",
       "<table border=\"1\" class=\"dataframe\">\n",
       "  <thead>\n",
       "    <tr style=\"text-align: right;\">\n",
       "      <th></th>\n",
       "      <th>fecha</th>\n",
       "      <th>provincia</th>\n",
       "      <th>num_casos</th>\n",
       "      <th>poblacion</th>\n",
       "    </tr>\n",
       "  </thead>\n",
       "  <tbody>\n",
       "    <tr>\n",
       "      <th>7072</th>\n",
       "      <td>2021-01-27</td>\n",
       "      <td>PONTEVEDRA</td>\n",
       "      <td>498.0</td>\n",
       "      <td>942665</td>\n",
       "    </tr>\n",
       "    <tr>\n",
       "      <th>7073</th>\n",
       "      <td>2021-01-28</td>\n",
       "      <td>PONTEVEDRA</td>\n",
       "      <td>576.0</td>\n",
       "      <td>942665</td>\n",
       "    </tr>\n",
       "    <tr>\n",
       "      <th>7074</th>\n",
       "      <td>2021-01-29</td>\n",
       "      <td>PONTEVEDRA</td>\n",
       "      <td>529.0</td>\n",
       "      <td>942665</td>\n",
       "    </tr>\n",
       "    <tr>\n",
       "      <th>7075</th>\n",
       "      <td>2021-01-30</td>\n",
       "      <td>PONTEVEDRA</td>\n",
       "      <td>359.0</td>\n",
       "      <td>942665</td>\n",
       "    </tr>\n",
       "    <tr>\n",
       "      <th>7076</th>\n",
       "      <td>2021-01-31</td>\n",
       "      <td>PONTEVEDRA</td>\n",
       "      <td>339.0</td>\n",
       "      <td>942665</td>\n",
       "    </tr>\n",
       "  </tbody>\n",
       "</table>\n",
       "</div>"
      ],
      "text/plain": [
       "           fecha   provincia  num_casos  poblacion\n",
       "7072  2021-01-27  PONTEVEDRA      498.0     942665\n",
       "7073  2021-01-28  PONTEVEDRA      576.0     942665\n",
       "7074  2021-01-29  PONTEVEDRA      529.0     942665\n",
       "7075  2021-01-30  PONTEVEDRA      359.0     942665\n",
       "7076  2021-01-31  PONTEVEDRA      339.0     942665"
      ]
     },
     "execution_count": 40,
     "metadata": {},
     "output_type": "execute_result"
    }
   ],
   "source": [
    "evolucion_casos.tail()"
   ]
  },
  {
   "cell_type": "code",
   "execution_count": 41,
   "metadata": {},
   "outputs": [],
   "source": [
    "evolucion_casos.to_csv(\"~/Trabajo_tfm/datos_csv/covid_preprocesado.csv\")"
   ]
  },
  {
   "cell_type": "code",
   "execution_count": null,
   "metadata": {},
   "outputs": [],
   "source": []
  }
 ],
 "metadata": {
  "kernelspec": {
   "display_name": "Python 3",
   "language": "python",
   "name": "python3"
  },
  "language_info": {
   "codemirror_mode": {
    "name": "ipython",
    "version": 3
   },
   "file_extension": ".py",
   "mimetype": "text/x-python",
   "name": "python",
   "nbconvert_exporter": "python",
   "pygments_lexer": "ipython3",
   "version": "3.8.8"
  },
  "toc": {
   "base_numbering": 1,
   "nav_menu": {},
   "number_sections": true,
   "sideBar": true,
   "skip_h1_title": false,
   "title_cell": "Table of Contents",
   "title_sidebar": "Contents",
   "toc_cell": false,
   "toc_position": {},
   "toc_section_display": true,
   "toc_window_display": false
  },
  "varInspector": {
   "cols": {
    "lenName": 16,
    "lenType": 16,
    "lenVar": 40
   },
   "kernels_config": {
    "python": {
     "delete_cmd_postfix": "",
     "delete_cmd_prefix": "del ",
     "library": "var_list.py",
     "varRefreshCmd": "print(var_dic_list())"
    },
    "r": {
     "delete_cmd_postfix": ") ",
     "delete_cmd_prefix": "rm(",
     "library": "var_list.r",
     "varRefreshCmd": "cat(var_dic_list()) "
    }
   },
   "types_to_exclude": [
    "module",
    "function",
    "builtin_function_or_method",
    "instance",
    "_Feature"
   ],
   "window_display": false
  }
 },
 "nbformat": 4,
 "nbformat_minor": 2
}
