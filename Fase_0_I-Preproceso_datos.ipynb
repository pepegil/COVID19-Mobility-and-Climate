{
 "cells": [
  {
   "cell_type": "markdown",
   "id": "9d0fa997",
   "metadata": {},
   "source": [
    "# Selección y Preproceso de los datos I \n",
    " Replace /home/pepe/Trabajo_tfm/datos_csv with your data directory\n"
   ]
  },
  {
   "cell_type": "code",
   "execution_count": 1,
   "id": "2c12a2f5",
   "metadata": {},
   "outputs": [],
   "source": [
    "import pandas as pd\n",
    "import numpy as np"
   ]
  },
  {
   "cell_type": "markdown",
   "id": "efd61dc0",
   "metadata": {},
   "source": [
    "## Datos de movilidad"
   ]
  },
  {
   "cell_type": "markdown",
   "id": "042e4d80",
   "metadata": {},
   "source": [
    "Datos recogidos de la pagina web del Ministerio de Transportes Movilidad y Agenda, 2021 reflejan los movimientos de personas entre municipios y distritos por distancia, número de viajes y número de personas que viajaron.\n",
    "\n",
    "-    Datos de los municipios y distritos del pais. Los distritos incluyen los distritos maritimos\n",
    "-    Zip codes and postal codes"
   ]
  },
  {
   "cell_type": "code",
   "execution_count": 2,
   "id": "2b0ffdfe",
   "metadata": {},
   "outputs": [],
   "source": [
    "distritos_municipios = pd.read_csv('~/Trabajo_tfm/datos_csv/relaciones_distrito_mitma.csv') #distritos_municipios.info()\n",
    "relaciones_municipio_mitma = pd.read_csv('~/Trabajo_tfm/datos_csv/relaciones_municipio_mitma.csv') #relaciones_municipio_mitma.info()"
   ]
  },
  {
   "cell_type": "code",
   "execution_count": 3,
   "id": "502c186f",
   "metadata": {},
   "outputs": [
    {
     "data": {
      "text/html": [
       "<div>\n",
       "<style scoped>\n",
       "    .dataframe tbody tr th:only-of-type {\n",
       "        vertical-align: middle;\n",
       "    }\n",
       "\n",
       "    .dataframe tbody tr th {\n",
       "        vertical-align: top;\n",
       "    }\n",
       "\n",
       "    .dataframe thead th {\n",
       "        text-align: right;\n",
       "    }\n",
       "</style>\n",
       "<table border=\"1\" class=\"dataframe\">\n",
       "  <thead>\n",
       "    <tr style=\"text-align: right;\">\n",
       "      <th></th>\n",
       "      <th>municipio</th>\n",
       "      <th>municipio_mitma</th>\n",
       "    </tr>\n",
       "  </thead>\n",
       "  <tbody>\n",
       "    <tr>\n",
       "      <th>0</th>\n",
       "      <td>1001</td>\n",
       "      <td>01001_AM</td>\n",
       "    </tr>\n",
       "    <tr>\n",
       "      <th>1</th>\n",
       "      <td>1002</td>\n",
       "      <td>01002</td>\n",
       "    </tr>\n",
       "    <tr>\n",
       "      <th>2</th>\n",
       "      <td>1003</td>\n",
       "      <td>01058_AM</td>\n",
       "    </tr>\n",
       "    <tr>\n",
       "      <th>3</th>\n",
       "      <td>1004</td>\n",
       "      <td>01010_AM</td>\n",
       "    </tr>\n",
       "    <tr>\n",
       "      <th>4</th>\n",
       "      <td>1006</td>\n",
       "      <td>01047_AM</td>\n",
       "    </tr>\n",
       "    <tr>\n",
       "      <th>...</th>\n",
       "      <td>...</td>\n",
       "      <td>...</td>\n",
       "    </tr>\n",
       "    <tr>\n",
       "      <th>8120</th>\n",
       "      <td>50901</td>\n",
       "      <td>50230_AM</td>\n",
       "    </tr>\n",
       "    <tr>\n",
       "      <th>8121</th>\n",
       "      <td>50902</td>\n",
       "      <td>50230_AM</td>\n",
       "    </tr>\n",
       "    <tr>\n",
       "      <th>8122</th>\n",
       "      <td>50903</td>\n",
       "      <td>50903_AM</td>\n",
       "    </tr>\n",
       "    <tr>\n",
       "      <th>8123</th>\n",
       "      <td>51001</td>\n",
       "      <td>51001</td>\n",
       "    </tr>\n",
       "    <tr>\n",
       "      <th>8124</th>\n",
       "      <td>52001</td>\n",
       "      <td>52001</td>\n",
       "    </tr>\n",
       "  </tbody>\n",
       "</table>\n",
       "<p>8125 rows × 2 columns</p>\n",
       "</div>"
      ],
      "text/plain": [
       "      municipio municipio_mitma\n",
       "0          1001        01001_AM\n",
       "1          1002           01002\n",
       "2          1003        01058_AM\n",
       "3          1004        01010_AM\n",
       "4          1006        01047_AM\n",
       "...         ...             ...\n",
       "8120      50901        50230_AM\n",
       "8121      50902        50230_AM\n",
       "8122      50903        50903_AM\n",
       "8123      51001           51001\n",
       "8124      52001           52001\n",
       "\n",
       "[8125 rows x 2 columns]"
      ]
     },
     "execution_count": 3,
     "metadata": {},
     "output_type": "execute_result"
    }
   ],
   "source": [
    "relaciones_municipio_mitma"
   ]
  },
  {
   "cell_type": "markdown",
   "id": "189e2d7d",
   "metadata": {},
   "source": [
    "-    Función para filtrar los municipios de cada provincia"
   ]
  },
  {
   "cell_type": "code",
   "execution_count": 4,
   "id": "1ed2d518",
   "metadata": {},
   "outputs": [],
   "source": [
    "def funcion_municipios(desde, hasta):\n",
    "    provincia = pd.DataFrame(\n",
    "        relaciones_municipio_mitma.loc[\n",
    "            (relaciones_municipio_mitma['municipio'] >= desde) & (relaciones_municipio_mitma['municipio'] < hasta)],\n",
    "        columns=['municipio', 'municipio_mitma'])\n",
    "    provincia.reset_index(drop=True, inplace=True)\n",
    "    return provincia"
   ]
  },
  {
   "cell_type": "code",
   "execution_count": 5,
   "id": "06bd4c04",
   "metadata": {},
   "outputs": [],
   "source": [
    "alicante_div    = funcion_municipios (3000,  4000)\n",
    "almeria_div     = funcion_municipios (4000,  5000)\n",
    "badajoz_div     = funcion_municipios (6000,  7000)\n",
    "cadiz_div       = funcion_municipios (11000, 12000)\n",
    "ciudad_real_div = funcion_municipios (13000, 14000)\n",
    "cordoba_div     = funcion_municipios (14000, 15000)\n",
    "coruña_div      = funcion_municipios (15000, 16000)\n",
    "granada_div     = funcion_municipios (18000, 19000)\n",
    "huelva_div      = funcion_municipios (21000, 22000)\n",
    "jaen_div        = funcion_municipios (23000, 24000)\n",
    "lugo_div        = funcion_municipios (27000, 28000)\n",
    "madrid_div      = funcion_municipios (28000, 29000)\n",
    "malaga_div      = funcion_municipios (29000, 30000)\n",
    "orense_div      = funcion_municipios (32000, 33000)\n",
    "palencia_div    = funcion_municipios (34000, 35000)\n",
    "pontevedra_div  = funcion_municipios (36000, 37000)\n",
    "salamanca_div   = funcion_municipios (37000, 38000)\n",
    "sevilla_div     = funcion_municipios (41000, 42000)\n",
    "valencia_div    = funcion_municipios (46000, 47000)\n",
    "zamora_div      = funcion_municipios (49000, 50000)\n",
    "zaragoza_div    = funcion_municipios (50000, 60000)\n"
   ]
  },
  {
   "cell_type": "code",
   "execution_count": 6,
   "id": "25723936",
   "metadata": {},
   "outputs": [],
   "source": [
    "provincias = [[alicante_div, 'ALICANTE'], [almeria_div, 'ALMERIA'],\n",
    "              [badajoz_div, 'BADAJOZ'], [cadiz_div, 'CADIZ'],\n",
    "              [ciudad_real_div, 'CIUDAD_REAL'], [cordoba_div, 'CORDOBA'],\n",
    "              [coruña_div, 'CORUÑA'], [granada_div, 'GRANADA'],\n",
    "              [huelva_div, 'HUELVA'], [jaen_div, 'JAEN'], [lugo_div, 'LUGO'],\n",
    "              [madrid_div, 'MADRID'], [malaga_div, 'MALAGA'],\n",
    "              [orense_div, 'ORENSE'], [palencia_div, 'PALENCIA'],\n",
    "              [pontevedra_div, 'PONTEVEDRA'], [salamanca_div, 'SALAMANCA'],\n",
    "              [sevilla_div, 'SEVILLA'], [valencia_div, 'VALENCIA'],\n",
    "              [zamora_div, 'ZAMORA'], [zaragoza_div, 'ZARAGOZA']]"
   ]
  },
  {
   "cell_type": "markdown",
   "id": "ec280a32",
   "metadata": {},
   "source": [
    "-  Funcion para cambiar formato en el campo fecha"
   ]
  },
  {
   "cell_type": "code",
   "execution_count": 8,
   "id": "9cf1c06e",
   "metadata": {},
   "outputs": [],
   "source": [
    "def funcion_inversion_fecha (row) :\n",
    "    print(row.fecha)\n",
    "    AA = row.fecha[:4]\n",
    "    MM = row.fecha[5:7]\n",
    "    dd = row.fecha[8:10]\n",
    "    fecha_d = AA + MM + dd\n",
    "    return fecha_d"
   ]
  },
  {
   "cell_type": "code",
   "execution_count": 7,
   "id": "02bea439",
   "metadata": {},
   "outputs": [],
   "source": [
    "dates = pd.read_csv(\"~/Trabajo_tfm/datos_csv/jaen_meteo.csv\", usecols=['fecha']) # cualquier\n",
    "#dates.fecha"
   ]
  },
  {
   "cell_type": "code",
   "execution_count": 9,
   "id": "daddc587",
   "metadata": {},
   "outputs": [],
   "source": [
    "rango_fechas = np.arange(dates.size)\n",
    "#rango_fechas"
   ]
  },
  {
   "cell_type": "code",
   "execution_count": 10,
   "id": "08bf24ae",
   "metadata": {
    "collapsed": true
   },
   "outputs": [
    {
     "name": "stdout",
     "output_type": "stream",
     "text": [
      "2020-03-01\n",
      "2020-03-02\n",
      "2020-03-03\n",
      "...         ...             ...\n",
      "2021-01-27\n",
      "2021-01-28\n",
      "2021-01-29\n",
      "2021-01-30\n",
      "2021-01-31\n"
     ]
    }
   ],
   "source": [
    "fechas = dates.apply(lambda row: funcion_inversion_fecha(row), axis=1).rename('fechas')"
   ]
  },
  {
   "cell_type": "markdown",
   "id": "3fc6b83c",
   "metadata": {},
   "source": [
    "-  Funcion para inter-cambiar formato en el campo fecha",
    "-  Date format"
   ]
  },
  {
   "cell_type": "code",
   "execution_count": 12,
   "id": "365b4b0f",
   "metadata": {},
   "outputs": [],
   "source": [
    "def funcion_fecha (fecha) :\n",
    "    fecha_dia = fecha [-8:]\n",
    "    AA = fecha_dia[:4]\n",
    "    MM = fecha_dia[4:6]\n",
    "    dd = fecha_dia[6:8]\n",
    "    fecha_d = AA +'-' + MM +'-' + dd\n",
    "    return fecha_d"
   ]
  },
  {
   "cell_type": "markdown",
   "id": "495e7c70",
   "metadata": {},
   "source": [
    "### Lectura y preproceso de los datos de movilidad por distancia y periodo recorridos y personas"
   ]
  },
  {
   "cell_type": "markdown",
   "id": "57b538e4",
   "metadata": {},
   "source": [
    "- Los datos se agrupan por el numero de viajes según la distancia del movimiento:\n",
    "    500-2000 m, 2-5 km, 5-10 km, 10-50 km, 50-100km , +100km\n",
    "    'v_muy_cortos','v_cortos', 'v_medios','v_largos','v_muy_largos','v_extra_largos'\n",
    "\n",
    "- Los datos también se agrupan numero de viajes según el periodo del dia 0-24 h, en grupos de 4 \n",
    "    'v_noche','v_madrugada','v_mañana', 'v_mediodia', 'v_sobremesa', 'v_tarde'\n",
    "\n",
    "- También estan disponibles por el numero de viajeros wue hicieron esos km, que son los mismos datos pero con el prefijo  _km\n",
    "    'v_km_extra_largos',......numero de viajeros que hicieron viajes extralargos\n",
    "\n",
    "Añadiendo un campo para la fecha y otro para la provincia aparecen un total de 26 columnas"
   ]
  },
  {
   "cell_type": "markdown",
   "id": "58e07cd7",
   "metadata": {},
   "source": [
    "Los campos en estos ficheros están separados por ‘|’ (barra vertical) y los valores numéricos contienen ‘.’ (punto) como separador decimal, por lo que es necesario adaptarlos a un formato que pueda ser interpretado por las herramientas a utilizar. "
   ]
  },
  {
   "cell_type": "code",
   "execution_count": 13,
   "id": "1ec7ac49",
   "metadata": {},
   "outputs": [],
   "source": [
    "distancias = []"
   ]
  },
  {
   "cell_type": "code",
   "execution_count": 14,
   "id": "ea4fe43a",
   "metadata": {},
   "outputs": [],
   "source": [
    "for fecha in fechas :\n",
    "    \n",
    "    dia = pd.read_csv(\n",
    "        '~/Trabajo_tfm/m1_municipios/'+ fecha + '_maestra_1_mitma_municipio.txt',\n",
    "        thousands = '.', low_memory=False, memory_map  = True, \n",
    "        usecols=['origen', 'periodo', 'distancia', 'viajes','viajes_km'])\n",
    "    \n",
    "    dia.rename(columns={\"origen\": \"municipio_mitma\"}, inplace=True )\n",
    "    fecha_d = funcion_fecha(fecha)    #print('Dia :', fecha_d)\n",
    "\n",
    "    for div_provincia in provincias :\n",
    "        \n",
    "        total_viajes_provincia = div_provincia[0].merge(\n",
    "            dia, how='left', on='municipio_mitma')             \n",
    "\n",
    "        distancias.append(\n",
    "            [fecha_d, div_provincia[1], #total_viajes_provincia.viajes.sum(),\n",
    "             total_viajes_provincia[total_viajes_provincia.distancia == '0005-002'].viajes.sum(),\n",
    "             total_viajes_provincia[total_viajes_provincia.distancia == '002-005'].viajes.sum(),\n",
    "             total_viajes_provincia[total_viajes_provincia.distancia == '005-010'].viajes.sum(),\n",
    "             total_viajes_provincia[total_viajes_provincia.distancia == '010-050'].viajes.sum(),\n",
    "             total_viajes_provincia[total_viajes_provincia.distancia == '050-100'].viajes.sum(),\n",
    "             total_viajes_provincia[total_viajes_provincia.distancia == '100+'].viajes.sum(),\n",
    "             total_viajes_provincia[total_viajes_provincia.periodo.isin([0,1,2,3])].viajes.sum(),\n",
    "             total_viajes_provincia[total_viajes_provincia.periodo.isin([4,5,6,7])].viajes.sum(),                         \n",
    "             total_viajes_provincia[total_viajes_provincia.periodo.isin([8,9,10,11])].viajes.sum(),\n",
    "             total_viajes_provincia[total_viajes_provincia.periodo.isin([12,13,14,15])].viajes.sum(),\n",
    "             total_viajes_provincia[total_viajes_provincia.periodo.isin([16,17,18,19])].viajes.sum(),\n",
    "             total_viajes_provincia[total_viajes_provincia.periodo.isin([20,21,22,23])].viajes.sum(),\n",
    "             total_viajes_provincia[total_viajes_provincia.distancia == '0005-002'].viajes_km.sum(),\n",
    "             total_viajes_provincia[total_viajes_provincia.distancia == '002-005'].viajes_km.sum(),\n",
    "             total_viajes_provincia[total_viajes_provincia.distancia == '005-010'].viajes_km.sum(),\n",
    "             total_viajes_provincia[total_viajes_provincia.distancia == '010-050'].viajes_km.sum(),\n",
    "             total_viajes_provincia[total_viajes_provincia.distancia == '050-100'].viajes_km.sum(),\n",
    "             total_viajes_provincia[total_viajes_provincia.distancia == '100+'].viajes_km.sum(),\n",
    "             total_viajes_provincia[total_viajes_provincia.periodo.isin([0,1,2,3])].viajes_km.sum(),\n",
    "             total_viajes_provincia[total_viajes_provincia.periodo.isin([4,5,6,7])].viajes_km.sum(),                         \n",
    "             total_viajes_provincia[total_viajes_provincia.periodo.isin([8,9,10,11])].viajes_km.sum(),\n",
    "             total_viajes_provincia[total_viajes_provincia.periodo.isin([12,13,14,15])].viajes_km.sum(),\n",
    "             total_viajes_provincia[total_viajes_provincia.periodo.isin([16,17,18,19])].viajes_km.sum(),\n",
    "             total_viajes_provincia[total_viajes_provincia.periodo.isin([20,21,22,23])].viajes_km.sum()\n",
    "            \n",
    "            \n",
    "            \n",
    "            ])\n",
    "        "
   ]
  },
  {
   "cell_type": "code",
   "execution_count": 15,
   "id": "c026d2b1",
   "metadata": {
    "scrolled": true
   },
   "outputs": [
    {
     "data": {
      "text/html": [
       "<div>\n",
       "<style scoped>\n",
       "    .dataframe tbody tr th:only-of-type {\n",
       "        vertical-align: middle;\n",
       "    }\n",
       "\n",
       "    .dataframe tbody tr th {\n",
       "        vertical-align: top;\n",
       "    }\n",
       "\n",
       "    .dataframe thead th {\n",
       "        text-align: right;\n",
       "    }\n",
       "</style>\n",
       "<table border=\"1\" class=\"dataframe\">\n",
       "  <thead>\n",
       "    <tr style=\"text-align: right;\">\n",
       "      <th></th>\n",
       "      <th>fecha</th>\n",
       "      <th>provincia</th>\n",
       "      <th>v_muy_cortos</th>\n",
       "      <th>v_cortos</th>\n",
       "      <th>v_medios</th>\n",
       "      <th>v_largos</th>\n",
       "      <th>v_muy_largos</th>\n",
       "      <th>v_extra_largos</th>\n",
       "      <th>v_noche</th>\n",
       "      <th>v_madrugada</th>\n",
       "      <th>...</th>\n",
       "      <th>v_km_medios</th>\n",
       "      <th>v_km_largos</th>\n",
       "      <th>v_km_muy_largos</th>\n",
       "      <th>v_km_extra_largos</th>\n",
       "      <th>v_km_noche</th>\n",
       "      <th>v_km_madrugada</th>\n",
       "      <th>v_km_mañana</th>\n",
       "      <th>v_km_mediodia</th>\n",
       "      <th>v_km_sobremesa</th>\n",
       "      <th>v_km_tarde</th>\n",
       "    </tr>\n",
       "  </thead>\n",
       "  <tbody>\n",
       "    <tr>\n",
       "      <th>0</th>\n",
       "      <td>2020-03-01</td>\n",
       "      <td>ALICANTE</td>\n",
       "      <td>1.425947e+09</td>\n",
       "      <td>1.318852e+09</td>\n",
       "      <td>1.010684e+09</td>\n",
       "      <td>1.037635e+09</td>\n",
       "      <td>120420418.0</td>\n",
       "      <td>71020690.0</td>\n",
       "      <td>465533067.0</td>\n",
       "      <td>359169359.0</td>\n",
       "      <td>...</td>\n",
       "      <td>7.219215e+09</td>\n",
       "      <td>2.204861e+10</td>\n",
       "      <td>8.518258e+09</td>\n",
       "      <td>1.820639e+10</td>\n",
       "      <td>3.185250e+09</td>\n",
       "      <td>4.352442e+09</td>\n",
       "      <td>1.371418e+10</td>\n",
       "      <td>1.717379e+10</td>\n",
       "      <td>1.805652e+10</td>\n",
       "      <td>5.597685e+09</td>\n",
       "    </tr>\n",
       "    <tr>\n",
       "      <th>1</th>\n",
       "      <td>2020-03-01</td>\n",
       "      <td>ALMERIA</td>\n",
       "      <td>4.341919e+08</td>\n",
       "      <td>4.761268e+08</td>\n",
       "      <td>4.243445e+08</td>\n",
       "      <td>6.949987e+08</td>\n",
       "      <td>68317578.0</td>\n",
       "      <td>59278893.0</td>\n",
       "      <td>183707347.0</td>\n",
       "      <td>153914145.0</td>\n",
       "      <td>...</td>\n",
       "      <td>3.063400e+09</td>\n",
       "      <td>1.532580e+10</td>\n",
       "      <td>4.621445e+09</td>\n",
       "      <td>1.267408e+10</td>\n",
       "      <td>1.972960e+09</td>\n",
       "      <td>2.532271e+09</td>\n",
       "      <td>7.744530e+09</td>\n",
       "      <td>9.662103e+09</td>\n",
       "      <td>1.236045e+10</td>\n",
       "      <td>3.561935e+09</td>\n",
       "    </tr>\n",
       "    <tr>\n",
       "      <th>2</th>\n",
       "      <td>2020-03-01</td>\n",
       "      <td>BADAJOZ</td>\n",
       "      <td>5.781239e+08</td>\n",
       "      <td>3.788876e+08</td>\n",
       "      <td>4.537586e+08</td>\n",
       "      <td>8.536597e+08</td>\n",
       "      <td>112599779.0</td>\n",
       "      <td>115993766.0</td>\n",
       "      <td>233059993.0</td>\n",
       "      <td>172586335.0</td>\n",
       "      <td>...</td>\n",
       "      <td>3.326732e+09</td>\n",
       "      <td>1.746846e+10</td>\n",
       "      <td>7.969185e+09</td>\n",
       "      <td>2.418670e+10</td>\n",
       "      <td>2.427717e+09</td>\n",
       "      <td>3.821297e+09</td>\n",
       "      <td>1.045840e+10</td>\n",
       "      <td>1.493965e+10</td>\n",
       "      <td>1.804473e+10</td>\n",
       "      <td>5.202655e+09</td>\n",
       "    </tr>\n",
       "    <tr>\n",
       "      <th>3</th>\n",
       "      <td>2020-03-01</td>\n",
       "      <td>CADIZ</td>\n",
       "      <td>1.146933e+09</td>\n",
       "      <td>8.300140e+08</td>\n",
       "      <td>4.833672e+08</td>\n",
       "      <td>4.572328e+08</td>\n",
       "      <td>122149414.0</td>\n",
       "      <td>96728513.0</td>\n",
       "      <td>320083956.0</td>\n",
       "      <td>222828938.0</td>\n",
       "      <td>...</td>\n",
       "      <td>3.495656e+09</td>\n",
       "      <td>9.003770e+09</td>\n",
       "      <td>9.248296e+09</td>\n",
       "      <td>2.039986e+10</td>\n",
       "      <td>2.120067e+09</td>\n",
       "      <td>2.894714e+09</td>\n",
       "      <td>8.339399e+09</td>\n",
       "      <td>1.281027e+10</td>\n",
       "      <td>1.523117e+10</td>\n",
       "      <td>4.746237e+09</td>\n",
       "    </tr>\n",
       "    <tr>\n",
       "      <th>4</th>\n",
       "      <td>2020-03-01</td>\n",
       "      <td>CIUDAD_REAL</td>\n",
       "      <td>4.204837e+08</td>\n",
       "      <td>2.000378e+08</td>\n",
       "      <td>2.208167e+08</td>\n",
       "      <td>4.604185e+08</td>\n",
       "      <td>63507330.0</td>\n",
       "      <td>111473216.0</td>\n",
       "      <td>142928786.0</td>\n",
       "      <td>106146590.0</td>\n",
       "      <td>...</td>\n",
       "      <td>1.640210e+09</td>\n",
       "      <td>9.796447e+09</td>\n",
       "      <td>4.466599e+09</td>\n",
       "      <td>2.080106e+10</td>\n",
       "      <td>1.530861e+09</td>\n",
       "      <td>2.065407e+09</td>\n",
       "      <td>6.476824e+09</td>\n",
       "      <td>1.039649e+10</td>\n",
       "      <td>1.435191e+10</td>\n",
       "      <td>3.030066e+09</td>\n",
       "    </tr>\n",
       "    <tr>\n",
       "      <th>...</th>\n",
       "      <td>...</td>\n",
       "      <td>...</td>\n",
       "      <td>...</td>\n",
       "      <td>...</td>\n",
       "      <td>...</td>\n",
       "      <td>...</td>\n",
       "      <td>...</td>\n",
       "      <td>...</td>\n",
       "      <td>...</td>\n",
       "      <td>...</td>\n",
       "      <td>...</td>\n",
       "      <td>...</td>\n",
       "      <td>...</td>\n",
       "      <td>...</td>\n",
       "      <td>...</td>\n",
       "      <td>...</td>\n",
       "      <td>...</td>\n",
       "      <td>...</td>\n",
       "      <td>...</td>\n",
       "      <td>...</td>\n",
       "      <td>...</td>\n",
       "    </tr>\n",
       "    <tr>\n",
       "      <th>7072</th>\n",
       "      <td>2021-01-31</td>\n",
       "      <td>SALAMANCA</td>\n",
       "      <td>1.490786e+08</td>\n",
       "      <td>2.781099e+08</td>\n",
       "      <td>6.142380e+08</td>\n",
       "      <td>1.333851e+09</td>\n",
       "      <td>130200940.0</td>\n",
       "      <td>49533339.0</td>\n",
       "      <td>153790648.0</td>\n",
       "      <td>169426947.0</td>\n",
       "      <td>...</td>\n",
       "      <td>4.612938e+09</td>\n",
       "      <td>2.556169e+10</td>\n",
       "      <td>8.443703e+09</td>\n",
       "      <td>1.072449e+10</td>\n",
       "      <td>2.830985e+09</td>\n",
       "      <td>3.453932e+09</td>\n",
       "      <td>9.817553e+09</td>\n",
       "      <td>1.338266e+10</td>\n",
       "      <td>1.685079e+10</td>\n",
       "      <td>4.200667e+09</td>\n",
       "    </tr>\n",
       "    <tr>\n",
       "      <th>7073</th>\n",
       "      <td>2021-01-31</td>\n",
       "      <td>SEVILLA</td>\n",
       "      <td>1.651513e+09</td>\n",
       "      <td>8.320263e+08</td>\n",
       "      <td>4.218533e+08</td>\n",
       "      <td>3.455758e+08</td>\n",
       "      <td>20851778.0</td>\n",
       "      <td>13452397.0</td>\n",
       "      <td>267891435.0</td>\n",
       "      <td>230286204.0</td>\n",
       "      <td>...</td>\n",
       "      <td>2.926362e+09</td>\n",
       "      <td>6.113636e+09</td>\n",
       "      <td>1.437184e+09</td>\n",
       "      <td>3.858358e+09</td>\n",
       "      <td>1.051774e+09</td>\n",
       "      <td>1.761211e+09</td>\n",
       "      <td>3.762220e+09</td>\n",
       "      <td>4.984992e+09</td>\n",
       "      <td>4.795233e+09</td>\n",
       "      <td>2.566200e+09</td>\n",
       "    </tr>\n",
       "    <tr>\n",
       "      <th>7074</th>\n",
       "      <td>2021-01-31</td>\n",
       "      <td>VALENCIA</td>\n",
       "      <td>1.865030e+09</td>\n",
       "      <td>1.336789e+09</td>\n",
       "      <td>8.701712e+08</td>\n",
       "      <td>6.610261e+08</td>\n",
       "      <td>55876638.0</td>\n",
       "      <td>27669698.0</td>\n",
       "      <td>360573050.0</td>\n",
       "      <td>375979421.0</td>\n",
       "      <td>...</td>\n",
       "      <td>6.174376e+09</td>\n",
       "      <td>1.262380e+10</td>\n",
       "      <td>3.596844e+09</td>\n",
       "      <td>7.587816e+09</td>\n",
       "      <td>1.695310e+09</td>\n",
       "      <td>2.852398e+09</td>\n",
       "      <td>7.865744e+09</td>\n",
       "      <td>9.883690e+09</td>\n",
       "      <td>9.985448e+09</td>\n",
       "      <td>4.170379e+09</td>\n",
       "    </tr>\n",
       "    <tr>\n",
       "      <th>7075</th>\n",
       "      <td>2021-01-31</td>\n",
       "      <td>ZAMORA</td>\n",
       "      <td>7.049394e+07</td>\n",
       "      <td>1.850429e+08</td>\n",
       "      <td>5.135634e+08</td>\n",
       "      <td>9.230945e+08</td>\n",
       "      <td>66144220.0</td>\n",
       "      <td>43177929.0</td>\n",
       "      <td>100019814.0</td>\n",
       "      <td>107916547.0</td>\n",
       "      <td>...</td>\n",
       "      <td>3.770070e+09</td>\n",
       "      <td>1.759083e+10</td>\n",
       "      <td>4.543391e+09</td>\n",
       "      <td>8.224505e+09</td>\n",
       "      <td>1.228991e+09</td>\n",
       "      <td>1.732368e+09</td>\n",
       "      <td>5.935764e+09</td>\n",
       "      <td>9.749731e+09</td>\n",
       "      <td>1.198099e+10</td>\n",
       "      <td>4.280942e+09</td>\n",
       "    </tr>\n",
       "    <tr>\n",
       "      <th>7076</th>\n",
       "      <td>2021-01-31</td>\n",
       "      <td>ZARAGOZA</td>\n",
       "      <td>9.948025e+08</td>\n",
       "      <td>7.301897e+08</td>\n",
       "      <td>4.936239e+08</td>\n",
       "      <td>7.203365e+08</td>\n",
       "      <td>105936359.0</td>\n",
       "      <td>38987992.0</td>\n",
       "      <td>191119346.0</td>\n",
       "      <td>218825714.0</td>\n",
       "      <td>...</td>\n",
       "      <td>3.552606e+09</td>\n",
       "      <td>1.445768e+10</td>\n",
       "      <td>7.172949e+09</td>\n",
       "      <td>8.765409e+09</td>\n",
       "      <td>1.562702e+09</td>\n",
       "      <td>2.929306e+09</td>\n",
       "      <td>7.011238e+09</td>\n",
       "      <td>9.918603e+09</td>\n",
       "      <td>1.153983e+10</td>\n",
       "      <td>4.541352e+09</td>\n",
       "    </tr>\n",
       "  </tbody>\n",
       "</table>\n",
       "<p>7077 rows × 26 columns</p>\n",
       "</div>"
      ],
      "text/plain": [
       "           fecha    provincia  v_muy_cortos      v_cortos      v_medios  \\\n",
       "0     2020-03-01     ALICANTE  1.425947e+09  1.318852e+09  1.010684e+09   \n",
       "1     2020-03-01      ALMERIA  4.341919e+08  4.761268e+08  4.243445e+08   \n",
       "2     2020-03-01      BADAJOZ  5.781239e+08  3.788876e+08  4.537586e+08   \n",
       "3     2020-03-01        CADIZ  1.146933e+09  8.300140e+08  4.833672e+08   \n",
       "4     2020-03-01  CIUDAD_REAL  4.204837e+08  2.000378e+08  2.208167e+08   \n",
       "...          ...          ...           ...           ...           ...   \n",
       "7072  2021-01-31    SALAMANCA  1.490786e+08  2.781099e+08  6.142380e+08   \n",
       "7073  2021-01-31      SEVILLA  1.651513e+09  8.320263e+08  4.218533e+08   \n",
       "7074  2021-01-31     VALENCIA  1.865030e+09  1.336789e+09  8.701712e+08   \n",
       "7075  2021-01-31       ZAMORA  7.049394e+07  1.850429e+08  5.135634e+08   \n",
       "7076  2021-01-31     ZARAGOZA  9.948025e+08  7.301897e+08  4.936239e+08   \n",
       "\n",
       "          v_largos  v_muy_largos  v_extra_largos      v_noche  v_madrugada  \\\n",
       "0     1.037635e+09   120420418.0      71020690.0  465533067.0  359169359.0   \n",
       "1     6.949987e+08    68317578.0      59278893.0  183707347.0  153914145.0   \n",
       "2     8.536597e+08   112599779.0     115993766.0  233059993.0  172586335.0   \n",
       "3     4.572328e+08   122149414.0      96728513.0  320083956.0  222828938.0   \n",
       "4     4.604185e+08    63507330.0     111473216.0  142928786.0  106146590.0   \n",
       "...            ...           ...             ...          ...          ...   \n",
       "7072  1.333851e+09   130200940.0      49533339.0  153790648.0  169426947.0   \n",
       "7073  3.455758e+08    20851778.0      13452397.0  267891435.0  230286204.0   \n",
       "7074  6.610261e+08    55876638.0      27669698.0  360573050.0  375979421.0   \n",
       "7075  9.230945e+08    66144220.0      43177929.0  100019814.0  107916547.0   \n",
       "7076  7.203365e+08   105936359.0      38987992.0  191119346.0  218825714.0   \n",
       "\n",
       "      ...   v_km_medios   v_km_largos  v_km_muy_largos  v_km_extra_largos  \\\n",
       "0     ...  7.219215e+09  2.204861e+10     8.518258e+09       1.820639e+10   \n",
       "1     ...  3.063400e+09  1.532580e+10     4.621445e+09       1.267408e+10   \n",
       "2     ...  3.326732e+09  1.746846e+10     7.969185e+09       2.418670e+10   \n",
       "3     ...  3.495656e+09  9.003770e+09     9.248296e+09       2.039986e+10   \n",
       "4     ...  1.640210e+09  9.796447e+09     4.466599e+09       2.080106e+10   \n",
       "...   ...           ...           ...              ...                ...   \n",
       "7072  ...  4.612938e+09  2.556169e+10     8.443703e+09       1.072449e+10   \n",
       "7073  ...  2.926362e+09  6.113636e+09     1.437184e+09       3.858358e+09   \n",
       "7074  ...  6.174376e+09  1.262380e+10     3.596844e+09       7.587816e+09   \n",
       "7075  ...  3.770070e+09  1.759083e+10     4.543391e+09       8.224505e+09   \n",
       "7076  ...  3.552606e+09  1.445768e+10     7.172949e+09       8.765409e+09   \n",
       "\n",
       "        v_km_noche  v_km_madrugada   v_km_mañana  v_km_mediodia  \\\n",
       "0     3.185250e+09    4.352442e+09  1.371418e+10   1.717379e+10   \n",
       "1     1.972960e+09    2.532271e+09  7.744530e+09   9.662103e+09   \n",
       "2     2.427717e+09    3.821297e+09  1.045840e+10   1.493965e+10   \n",
       "3     2.120067e+09    2.894714e+09  8.339399e+09   1.281027e+10   \n",
       "4     1.530861e+09    2.065407e+09  6.476824e+09   1.039649e+10   \n",
       "...            ...             ...           ...            ...   \n",
       "7072  2.830985e+09    3.453932e+09  9.817553e+09   1.338266e+10   \n",
       "7073  1.051774e+09    1.761211e+09  3.762220e+09   4.984992e+09   \n",
       "7074  1.695310e+09    2.852398e+09  7.865744e+09   9.883690e+09   \n",
       "7075  1.228991e+09    1.732368e+09  5.935764e+09   9.749731e+09   \n",
       "7076  1.562702e+09    2.929306e+09  7.011238e+09   9.918603e+09   \n",
       "\n",
       "      v_km_sobremesa    v_km_tarde  \n",
       "0       1.805652e+10  5.597685e+09  \n",
       "1       1.236045e+10  3.561935e+09  \n",
       "2       1.804473e+10  5.202655e+09  \n",
       "3       1.523117e+10  4.746237e+09  \n",
       "4       1.435191e+10  3.030066e+09  \n",
       "...              ...           ...  \n",
       "7072    1.685079e+10  4.200667e+09  \n",
       "7073    4.795233e+09  2.566200e+09  \n",
       "7074    9.985448e+09  4.170379e+09  \n",
       "7075    1.198099e+10  4.280942e+09  \n",
       "7076    1.153983e+10  4.541352e+09  \n",
       "\n",
       "[7077 rows x 26 columns]"
      ]
     },
     "execution_count": 15,
     "metadata": {},
     "output_type": "execute_result"
    }
   ],
   "source": [
    "m1_distancias = pd.DataFrame(\n",
    "    distancias,columns= ['fecha', 'provincia', 'v_muy_cortos','v_cortos',\n",
    "                         'v_medios','v_largos','v_muy_largos','v_extra_largos',\n",
    "                         'v_noche','v_madrugada','v_mañana', 'v_mediodia', 'v_sobremesa', 'v_tarde',\n",
    "                         'v_km_muy_cortos','v_km_cortos', 'v_km_medios','v_km_largos','v_km_muy_largos',\n",
    "                         'v_km_extra_largos','v_km_noche','v_km_madrugada','v_km_mañana','v_km_mediodia',\n",
    "                         'v_km_sobremesa','v_km_tarde'])\n",
    "m1_distancias"
   ]
  },
  {
   "cell_type": "markdown",
   "id": "335f3550",
   "metadata": {},
   "source": [
    "- Los datos se agrupan por el numero de personas que realizaron viajes, , agrupadas de la siguiente forma :\n",
    "    'cero_viajes','un_viaje','dos_viajes','mas_de_dos_viajes'"
   ]
  },
  {
   "cell_type": "code",
   "execution_count": 16,
   "id": "3e01a01d",
   "metadata": {},
   "outputs": [],
   "source": [
    "personas = []"
   ]
  },
  {
   "cell_type": "code",
   "execution_count": 17,
   "id": "5b74f068",
   "metadata": {},
   "outputs": [],
   "source": [
    "for fecha in fechas :\n",
    "    \n",
    "    dia = pd.read_csv(\n",
    "        '~/Trabajo_tfm/m2_municipios/'+ fecha + '_maestra_2_mitma_municipio.txt',\n",
    "        sep='|', thousands = '.', low_memory=False, memory_map  = True)\n",
    "    \n",
    "    dia.rename(columns={\"distrito\": \"municipio_mitma\"}, inplace=True )\n",
    "\n",
    "    fecha_d = funcion_fecha(fecha)   #print('Dia :', fecha_d)\n",
    "\n",
    "    for div_provincia in provincias :\n",
    "        \n",
    "        total_personas_provincia = div_provincia[0].merge(dia, how='left', on='municipio_mitma')             \n",
    "\n",
    "        personas.append(\n",
    "            [fecha_d, div_provincia[1],\n",
    "             total_personas_provincia[total_personas_provincia['numero_viajes'] == '0'].personas.sum(),\n",
    "             total_personas_provincia[total_personas_provincia['numero_viajes'] == '1'].personas.sum(),\n",
    "             total_personas_provincia[total_personas_provincia['numero_viajes'] == '2'].personas.sum(),\n",
    "             total_personas_provincia[total_personas_provincia['numero_viajes'] == '2+'].personas.sum()])\n",
    "        "
   ]
  },
  {
   "cell_type": "code",
   "execution_count": 18,
   "id": "73b2485e",
   "metadata": {},
   "outputs": [],
   "source": [
    "m2_personas = pd.DataFrame(personas, columns= ['fecha_m2','provincia_m2',#'personas',\n",
    "                                               'cero_viajes','un_viaje','dos_viajes','mas_de_dos_viajes'])"
   ]
  },
  {
   "cell_type": "code",
   "execution_count": 19,
   "id": "668024b7",
   "metadata": {
    "scrolled": true
   },
   "outputs": [
    {
     "data": {
      "text/html": [
       "<div>\n",
       "<style scoped>\n",
       "    .dataframe tbody tr th:only-of-type {\n",
       "        vertical-align: middle;\n",
       "    }\n",
       "\n",
       "    .dataframe tbody tr th {\n",
       "        vertical-align: top;\n",
       "    }\n",
       "\n",
       "    .dataframe thead th {\n",
       "        text-align: right;\n",
       "    }\n",
       "</style>\n",
       "<table border=\"1\" class=\"dataframe\">\n",
       "  <thead>\n",
       "    <tr style=\"text-align: right;\">\n",
       "      <th></th>\n",
       "      <th>fecha_m2</th>\n",
       "      <th>provincia_m2</th>\n",
       "      <th>cero_viajes</th>\n",
       "      <th>un_viaje</th>\n",
       "      <th>dos_viajes</th>\n",
       "      <th>mas_de_dos_viajes</th>\n",
       "    </tr>\n",
       "  </thead>\n",
       "  <tbody>\n",
       "    <tr>\n",
       "      <th>0</th>\n",
       "      <td>2020-03-01</td>\n",
       "      <td>ALICANTE</td>\n",
       "      <td>8.513143e+08</td>\n",
       "      <td>150474759.0</td>\n",
       "      <td>412014689.0</td>\n",
       "      <td>664243655.0</td>\n",
       "    </tr>\n",
       "    <tr>\n",
       "      <th>1</th>\n",
       "      <td>2020-03-01</td>\n",
       "      <td>ALMERIA</td>\n",
       "      <td>4.154558e+08</td>\n",
       "      <td>107652858.0</td>\n",
       "      <td>198521970.0</td>\n",
       "      <td>341563750.0</td>\n",
       "    </tr>\n",
       "    <tr>\n",
       "      <th>2</th>\n",
       "      <td>2020-03-01</td>\n",
       "      <td>BADAJOZ</td>\n",
       "      <td>8.125866e+08</td>\n",
       "      <td>135606609.0</td>\n",
       "      <td>288980489.0</td>\n",
       "      <td>403386675.0</td>\n",
       "    </tr>\n",
       "    <tr>\n",
       "      <th>3</th>\n",
       "      <td>2020-03-01</td>\n",
       "      <td>CADIZ</td>\n",
       "      <td>4.320126e+08</td>\n",
       "      <td>103931646.0</td>\n",
       "      <td>280562124.0</td>\n",
       "      <td>534378515.0</td>\n",
       "    </tr>\n",
       "    <tr>\n",
       "      <th>4</th>\n",
       "      <td>2020-03-01</td>\n",
       "      <td>CIUDAD_REAL</td>\n",
       "      <td>4.807898e+08</td>\n",
       "      <td>92961056.0</td>\n",
       "      <td>183044093.0</td>\n",
       "      <td>216088434.0</td>\n",
       "    </tr>\n",
       "    <tr>\n",
       "      <th>...</th>\n",
       "      <td>...</td>\n",
       "      <td>...</td>\n",
       "      <td>...</td>\n",
       "      <td>...</td>\n",
       "      <td>...</td>\n",
       "      <td>...</td>\n",
       "    </tr>\n",
       "    <tr>\n",
       "      <th>7072</th>\n",
       "      <td>2021-01-31</td>\n",
       "      <td>SALAMANCA</td>\n",
       "      <td>1.307563e+09</td>\n",
       "      <td>129772842.0</td>\n",
       "      <td>298049179.0</td>\n",
       "      <td>336758651.0</td>\n",
       "    </tr>\n",
       "    <tr>\n",
       "      <th>7073</th>\n",
       "      <td>2021-01-31</td>\n",
       "      <td>SEVILLA</td>\n",
       "      <td>1.083667e+09</td>\n",
       "      <td>124945629.0</td>\n",
       "      <td>391185203.0</td>\n",
       "      <td>474827683.0</td>\n",
       "    </tr>\n",
       "    <tr>\n",
       "      <th>7074</th>\n",
       "      <td>2021-01-31</td>\n",
       "      <td>VALENCIA</td>\n",
       "      <td>2.105793e+09</td>\n",
       "      <td>180548407.0</td>\n",
       "      <td>590696460.0</td>\n",
       "      <td>648049892.0</td>\n",
       "    </tr>\n",
       "    <tr>\n",
       "      <th>7075</th>\n",
       "      <td>2021-01-31</td>\n",
       "      <td>ZAMORA</td>\n",
       "      <td>8.599981e+08</td>\n",
       "      <td>78056926.0</td>\n",
       "      <td>250321348.0</td>\n",
       "      <td>232898905.0</td>\n",
       "    </tr>\n",
       "    <tr>\n",
       "      <th>7076</th>\n",
       "      <td>2021-01-31</td>\n",
       "      <td>ZARAGOZA</td>\n",
       "      <td>1.196786e+09</td>\n",
       "      <td>156261678.0</td>\n",
       "      <td>239515093.0</td>\n",
       "      <td>454115947.0</td>\n",
       "    </tr>\n",
       "  </tbody>\n",
       "</table>\n",
       "<p>7077 rows × 6 columns</p>\n",
       "</div>"
      ],
      "text/plain": [
       "        fecha_m2 provincia_m2   cero_viajes     un_viaje   dos_viajes  \\\n",
       "0     2020-03-01     ALICANTE  8.513143e+08  150474759.0  412014689.0   \n",
       "1     2020-03-01      ALMERIA  4.154558e+08  107652858.0  198521970.0   \n",
       "2     2020-03-01      BADAJOZ  8.125866e+08  135606609.0  288980489.0   \n",
       "3     2020-03-01        CADIZ  4.320126e+08  103931646.0  280562124.0   \n",
       "4     2020-03-01  CIUDAD_REAL  4.807898e+08   92961056.0  183044093.0   \n",
       "...          ...          ...           ...          ...          ...   \n",
       "7072  2021-01-31    SALAMANCA  1.307563e+09  129772842.0  298049179.0   \n",
       "7073  2021-01-31      SEVILLA  1.083667e+09  124945629.0  391185203.0   \n",
       "7074  2021-01-31     VALENCIA  2.105793e+09  180548407.0  590696460.0   \n",
       "7075  2021-01-31       ZAMORA  8.599981e+08   78056926.0  250321348.0   \n",
       "7076  2021-01-31     ZARAGOZA  1.196786e+09  156261678.0  239515093.0   \n",
       "\n",
       "      mas_de_dos_viajes  \n",
       "0           664243655.0  \n",
       "1           341563750.0  \n",
       "2           403386675.0  \n",
       "3           534378515.0  \n",
       "4           216088434.0  \n",
       "...                 ...  \n",
       "7072        336758651.0  \n",
       "7073        474827683.0  \n",
       "7074        648049892.0  \n",
       "7075        232898905.0  \n",
       "7076        454115947.0  \n",
       "\n",
       "[7077 rows x 6 columns]"
      ]
     },
     "execution_count": 19,
     "metadata": {},
     "output_type": "execute_result"
    }
   ],
   "source": [
    "m2_personas"
   ]
  },
  {
   "cell_type": "code",
   "execution_count": 20,
   "id": "eed6da8c",
   "metadata": {},
   "outputs": [],
   "source": [
    "datos_mitma = pd.concat([m1_distancias, m2_personas], axis=1)"
   ]
  },
  {
   "cell_type": "code",
   "execution_count": 21,
   "id": "4525fa7e",
   "metadata": {},
   "outputs": [],
   "source": [
    "#datos_mitma.head(21)"
   ]
  },
  {
   "cell_type": "code",
   "execution_count": 22,
   "id": "bdaad629",
   "metadata": {},
   "outputs": [],
   "source": [
    "cols_eliminar = ['provincia_m2','fecha_m2']\n",
    "datos_mitma = datos_mitma.drop(columns = cols_eliminar)"
   ]
  },
  {
   "cell_type": "code",
   "execution_count": 23,
   "id": "21c0d09d",
   "metadata": {},
   "outputs": [
    {
     "name": "stdout",
     "output_type": "stream",
     "text": [
      "<class 'pandas.core.frame.DataFrame'>\n",
      "RangeIndex: 7077 entries, 0 to 7076\n",
      "Data columns (total 30 columns):\n",
      " #   Column             Non-Null Count  Dtype  \n",
      "---  ------             --------------  -----  \n",
      " 0   fecha              7077 non-null   object \n",
      " 1   provincia          7077 non-null   object \n",
      " 2   v_muy_cortos       7077 non-null   float64\n",
      " 3   v_cortos           7077 non-null   float64\n",
      " 4   v_medios           7077 non-null   float64\n",
      " 5   v_largos           7077 non-null   float64\n",
      " 6   v_muy_largos       7077 non-null   float64\n",
      " 7   v_extra_largos     7077 non-null   float64\n",
      " 8   v_noche            7077 non-null   float64\n",
      " 9   v_madrugada        7077 non-null   float64\n",
      " 10  v_mañana           7077 non-null   float64\n",
      " 11  v_mediodia         7077 non-null   float64\n",
      " 12  v_sobremesa        7077 non-null   float64\n",
      " 13  v_tarde            7077 non-null   float64\n",
      " 14  v_km_muy_cortos    7077 non-null   float64\n",
      " 15  v_km_cortos        7077 non-null   float64\n",
      " 16  v_km_medios        7077 non-null   float64\n",
      " 17  v_km_largos        7077 non-null   float64\n",
      " 18  v_km_muy_largos    7077 non-null   float64\n",
      " 19  v_km_extra_largos  7077 non-null   float64\n",
      " 20  v_km_noche         7077 non-null   float64\n",
      " 21  v_km_madrugada     7077 non-null   float64\n",
      " 22  v_km_mañana        7077 non-null   float64\n",
      " 23  v_km_mediodia      7077 non-null   float64\n",
      " 24  v_km_sobremesa     7077 non-null   float64\n",
      " 25  v_km_tarde         7077 non-null   float64\n",
      " 26  cero_viajes        7077 non-null   float64\n",
      " 27  un_viaje           7077 non-null   float64\n",
      " 28  dos_viajes         7077 non-null   float64\n",
      " 29  mas_de_dos_viajes  7077 non-null   float64\n",
      "dtypes: float64(28), object(2)\n",
      "memory usage: 1.6+ MB\n"
     ]
    }
   ],
   "source": [
    "datos_mitma.info()"
   ]
  },
  {
   "cell_type": "markdown",
   "id": "50b50a10",
   "metadata": {},
   "source": [
    "#### Guardar Datos de movilidad "
   ]
  },
  {
   "cell_type": "code",
   "execution_count": 24,
   "id": "0b0c1065",
   "metadata": {},
   "outputs": [],
   "source": [
    "datos_mitma.to_csv(\"~/Trabajo_tfm/datos_csv/datos_mitma.csv\")"
   ]
  },
  {
   "cell_type": "code",
   "execution_count": 25,
   "id": "2b1e49aa",
   "metadata": {
    "scrolled": true
   },
   "outputs": [
    {
     "data": {
      "text/plain": [
       "Index(['fecha', 'provincia', 'v_muy_cortos', 'v_cortos', 'v_medios',\n",
       "       'v_largos', 'v_muy_largos', 'v_extra_largos', 'v_noche', 'v_madrugada',\n",
       "       'v_mañana', 'v_mediodia', 'v_sobremesa', 'v_tarde', 'v_km_muy_cortos',\n",
       "       'v_km_cortos', 'v_km_medios', 'v_km_largos', 'v_km_muy_largos',\n",
       "       'v_km_extra_largos', 'v_km_noche', 'v_km_madrugada', 'v_km_mañana',\n",
       "       'v_km_mediodia', 'v_km_sobremesa', 'v_km_tarde', 'cero_viajes',\n",
       "       'un_viaje', 'dos_viajes', 'mas_de_dos_viajes'],\n",
       "      dtype='object')"
      ]
     },
     "execution_count": 25,
     "metadata": {},
     "output_type": "execute_result"
    }
   ],
   "source": [
    "datos_mitma.keys()"
   ]
  },
  {
   "cell_type": "raw",
   "id": "77ea4a5a",
   "metadata": {},
   "source": [
    "#Funciones para cambiar a millones!!\n",
    "un_millon = 1000000.0"
   ]
  },
  {
   "cell_type": "code",
   "execution_count": 26,
   "id": "20e5c149",
   "metadata": {},
   "outputs": [],
   "source": [
    "#datos_mitma.to_csv(\"~/Trabajo_tfm/datos_csv/datos_movilidad.csv\")"
   ]
  },
  {
   "cell_type": "markdown",
   "id": "d70fa757",
   "metadata": {},
   "source": [
    "## Datos covid"
   ]
  },
  {
   "cell_type": "raw",
   "id": "dc1dd1ee",
   "metadata": {},
   "source": [
    "datos_andalucia = pd.read_csv(\n",
    "    \"https://storage.googleapis.com/covid19-open-data/v3/location/ES_AN.csv\")\n",
    "datos_andalucia.describe()\n",
    "datos_andalucia.mobility_transit_stations.plot()\n",
    "\n",
    "data= pd.read_csv(\"https://storage.googleapis.com/covid19-open-data/v2/epidemiology.csv\")"
   ]
  },
  {
   "cell_type": "code",
   "execution_count": 27,
   "id": "6fab727e",
   "metadata": {},
   "outputs": [],
   "source": [
    "evolucion = pd.read_csv('~/Trabajo_tfm/datos_csv/covid19-provincias-spain_consolidated.csv')"
   ]
  },
  {
   "cell_type": "code",
   "execution_count": 28,
   "id": "8fa1fa34",
   "metadata": {},
   "outputs": [],
   "source": [
    "no_necesarias = [\n",
    "    'ine_code','ccaa', 'new_cases', 'PCR', 'TestAc', 'activos', 'hospitalized', 'hospitalized_accumulated',\n",
    "    'hospitalized_new', 'intensive_care', 'deceased', 'cases_accumulated', 'cases_accumulated_PCR', \n",
    "    'recovered', 'deceased_hosp_eus', 'num_casos_prueba_pcr', 'num_casos_prueba_test_ac','num_casos_prueba_ag',\n",
    "    'num_casos_prueba_elisa', 'num_casos_prueba_desconocida', 'num_hosp', 'num_uci', 'num_def', 'num_casos_cum2',\n",
    "    'num_hosp_cum','num_uci_cum', 'num_def_cum', 'cases_per_cienmil', 'intensive_care_per_1000000',\n",
    "    'deceassed_per_100000', 'hospitalized_per_100000', 'cases_14days', 'cases_7days', 'cases_PCR_14days',\n",
    "    'cases_PCR_7days', 'daily_cases', 'daily_cases_avg7', 'daily_cases_PCR', 'daily_cases_PCR_avg7','daily_deaths',\n",
    "    'daily_deaths_hosp_eus', 'daily_deaths_inc','daily_deaths_avg3', 'daily_deaths_avg7',\n",
    "    'daily_deaths_avg7_hosp_eus', 'num_casos_avg7', 'num_casos_prueba_pcr_avg7', 'num_casos2_avg7','ia14',\n",
    "    'source_name', 'source', 'comments']\n",
    "evolucion.drop(columns = no_necesarias, axis = 1, inplace = True)\n",
    "evolucion.drop('num_casos', inplace=True, axis=1)\n",
    "evolucion.drop('num_casos_cum1', inplace=True, axis=1)\n",
    "evolucion.drop('deaths_last_week', inplace=True, axis=1)"
   ]
  },
  {
   "cell_type": "code",
   "execution_count": 29,
   "id": "52c14278",
   "metadata": {},
   "outputs": [
    {
     "data": {
      "text/html": [
       "<div>\n",
       "<style scoped>\n",
       "    .dataframe tbody tr th:only-of-type {\n",
       "        vertical-align: middle;\n",
       "    }\n",
       "\n",
       "    .dataframe tbody tr th {\n",
       "        vertical-align: top;\n",
       "    }\n",
       "\n",
       "    .dataframe thead th {\n",
       "        text-align: right;\n",
       "    }\n",
       "</style>\n",
       "<table border=\"1\" class=\"dataframe\">\n",
       "  <thead>\n",
       "    <tr style=\"text-align: right;\">\n",
       "      <th></th>\n",
       "      <th>date</th>\n",
       "      <th>province</th>\n",
       "      <th>num_casos2</th>\n",
       "      <th>poblacion</th>\n",
       "    </tr>\n",
       "  </thead>\n",
       "  <tbody>\n",
       "    <tr>\n",
       "      <th>0</th>\n",
       "      <td>2020-01-01</td>\n",
       "      <td>Albacete</td>\n",
       "      <td>0.0</td>\n",
       "      <td>388167</td>\n",
       "    </tr>\n",
       "    <tr>\n",
       "      <th>1</th>\n",
       "      <td>2020-01-01</td>\n",
       "      <td>Alicante/Alacant</td>\n",
       "      <td>0.0</td>\n",
       "      <td>1858683</td>\n",
       "    </tr>\n",
       "    <tr>\n",
       "      <th>2</th>\n",
       "      <td>2020-01-01</td>\n",
       "      <td>Almería</td>\n",
       "      <td>0.0</td>\n",
       "      <td>716820</td>\n",
       "    </tr>\n",
       "    <tr>\n",
       "      <th>3</th>\n",
       "      <td>2020-01-01</td>\n",
       "      <td>Araba/Álava</td>\n",
       "      <td>0.0</td>\n",
       "      <td>331549</td>\n",
       "    </tr>\n",
       "    <tr>\n",
       "      <th>4</th>\n",
       "      <td>2020-01-01</td>\n",
       "      <td>Asturias</td>\n",
       "      <td>0.0</td>\n",
       "      <td>1022800</td>\n",
       "    </tr>\n",
       "    <tr>\n",
       "      <th>...</th>\n",
       "      <td>...</td>\n",
       "      <td>...</td>\n",
       "      <td>...</td>\n",
       "      <td>...</td>\n",
       "    </tr>\n",
       "    <tr>\n",
       "      <th>26838</th>\n",
       "      <td>2021-05-31</td>\n",
       "      <td>Sevilla</td>\n",
       "      <td>NaN</td>\n",
       "      <td>1942389</td>\n",
       "    </tr>\n",
       "    <tr>\n",
       "      <th>26839</th>\n",
       "      <td>2021-05-31</td>\n",
       "      <td>Soria</td>\n",
       "      <td>NaN</td>\n",
       "      <td>88636</td>\n",
       "    </tr>\n",
       "    <tr>\n",
       "      <th>26840</th>\n",
       "      <td>2021-05-31</td>\n",
       "      <td>Valencia/València</td>\n",
       "      <td>NaN</td>\n",
       "      <td>2565124</td>\n",
       "    </tr>\n",
       "    <tr>\n",
       "      <th>26841</th>\n",
       "      <td>2021-05-31</td>\n",
       "      <td>Valladolid</td>\n",
       "      <td>NaN</td>\n",
       "      <td>519546</td>\n",
       "    </tr>\n",
       "    <tr>\n",
       "      <th>26842</th>\n",
       "      <td>2021-05-31</td>\n",
       "      <td>Zamora</td>\n",
       "      <td>NaN</td>\n",
       "      <td>172539</td>\n",
       "    </tr>\n",
       "  </tbody>\n",
       "</table>\n",
       "<p>26843 rows × 4 columns</p>\n",
       "</div>"
      ],
      "text/plain": [
       "             date           province  num_casos2  poblacion\n",
       "0      2020-01-01           Albacete         0.0     388167\n",
       "1      2020-01-01   Alicante/Alacant         0.0    1858683\n",
       "2      2020-01-01            Almería         0.0     716820\n",
       "3      2020-01-01        Araba/Álava         0.0     331549\n",
       "4      2020-01-01           Asturias         0.0    1022800\n",
       "...           ...                ...         ...        ...\n",
       "26838  2021-05-31            Sevilla         NaN    1942389\n",
       "26839  2021-05-31              Soria         NaN      88636\n",
       "26840  2021-05-31  Valencia/València         NaN    2565124\n",
       "26841  2021-05-31         Valladolid         NaN     519546\n",
       "26842  2021-05-31             Zamora         NaN     172539\n",
       "\n",
       "[26843 rows x 4 columns]"
      ]
     },
     "execution_count": 29,
     "metadata": {},
     "output_type": "execute_result"
    }
   ],
   "source": [
    "evolucion"
   ]
  },
  {
   "cell_type": "code",
   "execution_count": 30,
   "id": "164f98fc",
   "metadata": {},
   "outputs": [],
   "source": [
    "fechas_ =[]\n",
    "for fecha in fechas : \n",
    "    fechas_.append(funcion_fecha(fecha))"
   ]
  },
  {
   "cell_type": "code",
   "execution_count": 31,
   "id": "bb01132c",
   "metadata": {},
   "outputs": [],
   "source": [
    "evolucion = evolucion[evolucion.date.isin(fechas_)]"
   ]
  },
  {
   "cell_type": "code",
   "execution_count": 32,
   "id": "2de6e224",
   "metadata": {},
   "outputs": [
    {
     "data": {
      "text/html": [
       "<div>\n",
       "<style scoped>\n",
       "    .dataframe tbody tr th:only-of-type {\n",
       "        vertical-align: middle;\n",
       "    }\n",
       "\n",
       "    .dataframe tbody tr th {\n",
       "        vertical-align: top;\n",
       "    }\n",
       "\n",
       "    .dataframe thead th {\n",
       "        text-align: right;\n",
       "    }\n",
       "</style>\n",
       "<table border=\"1\" class=\"dataframe\">\n",
       "  <thead>\n",
       "    <tr style=\"text-align: right;\">\n",
       "      <th></th>\n",
       "      <th>date</th>\n",
       "      <th>province</th>\n",
       "      <th>num_casos2</th>\n",
       "      <th>poblacion</th>\n",
       "    </tr>\n",
       "  </thead>\n",
       "  <tbody>\n",
       "    <tr>\n",
       "      <th>3120</th>\n",
       "      <td>2020-03-01</td>\n",
       "      <td>Albacete</td>\n",
       "      <td>2.0</td>\n",
       "      <td>388167</td>\n",
       "    </tr>\n",
       "    <tr>\n",
       "      <th>3121</th>\n",
       "      <td>2020-03-01</td>\n",
       "      <td>Alicante/Alacant</td>\n",
       "      <td>0.0</td>\n",
       "      <td>1858683</td>\n",
       "    </tr>\n",
       "    <tr>\n",
       "      <th>3122</th>\n",
       "      <td>2020-03-01</td>\n",
       "      <td>Almería</td>\n",
       "      <td>0.0</td>\n",
       "      <td>716820</td>\n",
       "    </tr>\n",
       "    <tr>\n",
       "      <th>3123</th>\n",
       "      <td>2020-03-01</td>\n",
       "      <td>Araba/Álava</td>\n",
       "      <td>1.0</td>\n",
       "      <td>331549</td>\n",
       "    </tr>\n",
       "    <tr>\n",
       "      <th>3124</th>\n",
       "      <td>2020-03-01</td>\n",
       "      <td>Asturias</td>\n",
       "      <td>0.0</td>\n",
       "      <td>1022800</td>\n",
       "    </tr>\n",
       "    <tr>\n",
       "      <th>...</th>\n",
       "      <td>...</td>\n",
       "      <td>...</td>\n",
       "      <td>...</td>\n",
       "      <td>...</td>\n",
       "    </tr>\n",
       "    <tr>\n",
       "      <th>20639</th>\n",
       "      <td>2021-01-31</td>\n",
       "      <td>Toledo</td>\n",
       "      <td>131.0</td>\n",
       "      <td>694844</td>\n",
       "    </tr>\n",
       "    <tr>\n",
       "      <th>20640</th>\n",
       "      <td>2021-01-31</td>\n",
       "      <td>Valencia/València</td>\n",
       "      <td>1072.0</td>\n",
       "      <td>2565124</td>\n",
       "    </tr>\n",
       "    <tr>\n",
       "      <th>20641</th>\n",
       "      <td>2021-01-31</td>\n",
       "      <td>Valladolid</td>\n",
       "      <td>138.0</td>\n",
       "      <td>519546</td>\n",
       "    </tr>\n",
       "    <tr>\n",
       "      <th>20642</th>\n",
       "      <td>2021-01-31</td>\n",
       "      <td>Zamora</td>\n",
       "      <td>24.0</td>\n",
       "      <td>172539</td>\n",
       "    </tr>\n",
       "    <tr>\n",
       "      <th>20643</th>\n",
       "      <td>2021-01-31</td>\n",
       "      <td>Zaragoza</td>\n",
       "      <td>166.0</td>\n",
       "      <td>964693</td>\n",
       "    </tr>\n",
       "  </tbody>\n",
       "</table>\n",
       "<p>17524 rows × 4 columns</p>\n",
       "</div>"
      ],
      "text/plain": [
       "             date           province  num_casos2  poblacion\n",
       "3120   2020-03-01           Albacete         2.0     388167\n",
       "3121   2020-03-01   Alicante/Alacant         0.0    1858683\n",
       "3122   2020-03-01            Almería         0.0     716820\n",
       "3123   2020-03-01        Araba/Álava         1.0     331549\n",
       "3124   2020-03-01           Asturias         0.0    1022800\n",
       "...           ...                ...         ...        ...\n",
       "20639  2021-01-31             Toledo       131.0     694844\n",
       "20640  2021-01-31  Valencia/València      1072.0    2565124\n",
       "20641  2021-01-31         Valladolid       138.0     519546\n",
       "20642  2021-01-31             Zamora        24.0     172539\n",
       "20643  2021-01-31           Zaragoza       166.0     964693\n",
       "\n",
       "[17524 rows x 4 columns]"
      ]
     },
     "execution_count": 32,
     "metadata": {},
     "output_type": "execute_result"
    }
   ],
   "source": [
    "evolucion"
   ]
  },
  {
   "cell_type": "code",
   "execution_count": 33,
   "id": "aba89f3e",
   "metadata": {},
   "outputs": [
    {
     "data": {
      "text/plain": [
       "array(['Albacete', 'Alicante/Alacant', 'Almería', 'Araba/Álava',\n",
       "       'Asturias', 'Ávila', 'Badajoz', 'Balears, Illes', 'Barcelona',\n",
       "       'Bizkaia', 'Burgos', 'Cáceres', 'Cádiz', 'Cantabria',\n",
       "       'Castellón/Castelló', 'Ceuta', 'Ciudad Real', 'Córdoba',\n",
       "       'Coruña, A', 'Cuenca', 'Gipuzkoa', 'Girona', 'Granada',\n",
       "       'Guadalajara', 'Huelva', 'Huesca', 'Jaén', 'León', 'Lleida',\n",
       "       'Lugo', 'Madrid', 'Málaga', 'Melilla', 'Murcia', 'Navarra',\n",
       "       'Ourense', 'Palencia', 'Palmas, Las', 'Pontevedra', 'Rioja, La',\n",
       "       'Salamanca', 'Santa Cruz de Tenerife', 'Segovia', 'Sevilla',\n",
       "       'Soria', 'Tarragona', 'Teruel', 'Toledo', 'Valencia/València',\n",
       "       'Valladolid', 'Zamora', 'Zaragoza'], dtype=object)"
      ]
     },
     "execution_count": 33,
     "metadata": {},
     "output_type": "execute_result"
    }
   ],
   "source": [
    "evolucion.province.unique()"
   ]
  },
  {
   "cell_type": "code",
   "execution_count": 34,
   "id": "4d46a7c7",
   "metadata": {},
   "outputs": [],
   "source": [
    "provinces = ['Alicante/Alacant','Badajoz','Ciudad Real', 'Madrid', 'Palencia','Salamanca',\n",
    "              'Jaén','Córdoba','Sevilla','Huelva','Cádiz','Málaga','Granada','Almería','Coruña, A','Lugo',\n",
    "              'Ourense','Pontevedra','Valencia/València','Zamora', 'Zaragoza'] # provincias de estudio"
   ]
  },
  {
   "cell_type": "code",
   "execution_count": 35,
   "id": "4f10ca6a",
   "metadata": {},
   "outputs": [],
   "source": [
    "evolucion = evolucion[evolucion.province.isin(provinces)] # filtro por provincias"
   ]
  },
  {
   "cell_type": "code",
   "execution_count": 36,
   "id": "9732095d",
   "metadata": {},
   "outputs": [
    {
     "name": "stdout",
     "output_type": "stream",
     "text": [
      "<class 'pandas.core.frame.DataFrame'>\n",
      "Int64Index: 7077 entries, 3121 to 20643\n",
      "Data columns (total 4 columns):\n",
      " #   Column      Non-Null Count  Dtype  \n",
      "---  ------      --------------  -----  \n",
      " 0   date        7077 non-null   object \n",
      " 1   province    7077 non-null   object \n",
      " 2   num_casos2  7077 non-null   float64\n",
      " 3   poblacion   7077 non-null   int64  \n",
      "dtypes: float64(1), int64(1), object(2)\n",
      "memory usage: 276.4+ KB\n"
     ]
    }
   ],
   "source": [
    "evolucion.info()"
   ]
  },
  {
   "cell_type": "code",
   "execution_count": 37,
   "id": "bab48546",
   "metadata": {},
   "outputs": [],
   "source": [
    "def nombre_provincia(row): # transfoma la provincia a mayusculas para unificar con otros ficheros\n",
    "    if row.province == 'Alicante/Alacant':\n",
    "        return 'alicante'.upper()\n",
    "    elif row.province == 'Badajoz':\n",
    "        return 'Badajoz'.upper()\n",
    "    elif row.province == 'Ciudad Real':\n",
    "        return 'Ciudad_Real'.upper()\n",
    "    elif row.province == 'Madrid':\n",
    "        return 'Madrid'.upper()\n",
    "    elif row.province == 'Palencia':\n",
    "        return 'Palencia'.upper()\n",
    "    elif row.province == 'Salamanca':\n",
    "        return 'Salamanca'.upper()\n",
    "    elif row.province == 'Valencia/València':\n",
    "        return 'Valencia'.upper()  \n",
    "    elif row.province == 'Zamora':\n",
    "        return 'Zamora'.upper()  \n",
    "    elif row.province == 'Zaragoza':\n",
    "        return 'Zaragoza'.upper()  \n",
    "    elif row.province == 'Jaén':\n",
    "        return 'jaen'.upper()\n",
    "    elif row.province == 'Córdoba':\n",
    "        return 'cordoba'.upper()\n",
    "    elif row.province == 'Cádiz':\n",
    "        return 'Cadiz'.upper()\n",
    "    elif row.province == 'Sevilla':\n",
    "        return 'sevilla'.upper()\n",
    "    elif row.province == 'Granada':\n",
    "        return 'Granada'.upper()\n",
    "    elif row.province == 'Huelva':\n",
    "        return 'huelva'.upper()\n",
    "    elif row.province == 'Málaga':\n",
    "        return 'malaga'.upper()\n",
    "    elif row.province == 'Almería':\n",
    "        return 'almeria'.upper()\n",
    "    elif row.province == 'Coruña, A':\n",
    "        return 'Coruña'.upper()\n",
    "    elif row.province == 'Lugo':\n",
    "        return 'lugo'.upper()\n",
    "    elif row.province == 'Ourense':\n",
    "        return 'Orense'.upper()\n",
    "    elif row.province == 'Pontevedra':\n",
    "        return 'Pontevedra'.upper()"
   ]
  },
  {
   "cell_type": "code",
   "execution_count": 38,
   "id": "1b753e49",
   "metadata": {},
   "outputs": [],
   "source": [
    "provincia = evolucion.apply(lambda row: nombre_provincia(row), axis=1).rename('provincia')"
   ]
  },
  {
   "cell_type": "code",
   "execution_count": 39,
   "id": "e2a5c24e",
   "metadata": {},
   "outputs": [],
   "source": [
    "evolucion = evolucion.drop(columns='province')"
   ]
  },
  {
   "cell_type": "code",
   "execution_count": 40,
   "id": "6e260a01",
   "metadata": {},
   "outputs": [],
   "source": [
    "evolucion.insert(1,'provincia', provincia)# evolucion.head()"
   ]
  },
  {
   "cell_type": "code",
   "execution_count": 41,
   "id": "56016662",
   "metadata": {},
   "outputs": [],
   "source": [
    "evolucion = evolucion.rename({\"date\": \"fecha\"}, axis=\"columns\")"
   ]
  },
  {
   "cell_type": "code",
   "execution_count": 42,
   "id": "cc61a1ad",
   "metadata": {},
   "outputs": [],
   "source": [
    "evolucion = evolucion.reset_index()\n",
    "evolucion.drop('index', inplace=True, axis=1)"
   ]
  },
  {
   "cell_type": "code",
   "execution_count": 43,
   "id": "9f4da209",
   "metadata": {},
   "outputs": [
    {
     "data": {
      "text/html": [
       "<div>\n",
       "<style scoped>\n",
       "    .dataframe tbody tr th:only-of-type {\n",
       "        vertical-align: middle;\n",
       "    }\n",
       "\n",
       "    .dataframe tbody tr th {\n",
       "        vertical-align: top;\n",
       "    }\n",
       "\n",
       "    .dataframe thead th {\n",
       "        text-align: right;\n",
       "    }\n",
       "</style>\n",
       "<table border=\"1\" class=\"dataframe\">\n",
       "  <thead>\n",
       "    <tr style=\"text-align: right;\">\n",
       "      <th></th>\n",
       "      <th>fecha</th>\n",
       "      <th>provincia</th>\n",
       "      <th>num_casos2</th>\n",
       "      <th>poblacion</th>\n",
       "    </tr>\n",
       "  </thead>\n",
       "  <tbody>\n",
       "    <tr>\n",
       "      <th>0</th>\n",
       "      <td>2020-03-01</td>\n",
       "      <td>ALICANTE</td>\n",
       "      <td>0.0</td>\n",
       "      <td>1858683</td>\n",
       "    </tr>\n",
       "    <tr>\n",
       "      <th>1</th>\n",
       "      <td>2020-03-01</td>\n",
       "      <td>ALMERIA</td>\n",
       "      <td>0.0</td>\n",
       "      <td>716820</td>\n",
       "    </tr>\n",
       "    <tr>\n",
       "      <th>2</th>\n",
       "      <td>2020-03-01</td>\n",
       "      <td>BADAJOZ</td>\n",
       "      <td>2.0</td>\n",
       "      <td>673559</td>\n",
       "    </tr>\n",
       "    <tr>\n",
       "      <th>3</th>\n",
       "      <td>2020-03-01</td>\n",
       "      <td>CADIZ</td>\n",
       "      <td>0.0</td>\n",
       "      <td>1240155</td>\n",
       "    </tr>\n",
       "    <tr>\n",
       "      <th>4</th>\n",
       "      <td>2020-03-01</td>\n",
       "      <td>CIUDAD_REAL</td>\n",
       "      <td>0.0</td>\n",
       "      <td>495761</td>\n",
       "    </tr>\n",
       "    <tr>\n",
       "      <th>...</th>\n",
       "      <td>...</td>\n",
       "      <td>...</td>\n",
       "      <td>...</td>\n",
       "      <td>...</td>\n",
       "    </tr>\n",
       "    <tr>\n",
       "      <th>7072</th>\n",
       "      <td>2021-01-31</td>\n",
       "      <td>SALAMANCA</td>\n",
       "      <td>105.0</td>\n",
       "      <td>330119</td>\n",
       "    </tr>\n",
       "    <tr>\n",
       "      <th>7073</th>\n",
       "      <td>2021-01-31</td>\n",
       "      <td>SEVILLA</td>\n",
       "      <td>395.0</td>\n",
       "      <td>1942389</td>\n",
       "    </tr>\n",
       "    <tr>\n",
       "      <th>7074</th>\n",
       "      <td>2021-01-31</td>\n",
       "      <td>VALENCIA</td>\n",
       "      <td>1072.0</td>\n",
       "      <td>2565124</td>\n",
       "    </tr>\n",
       "    <tr>\n",
       "      <th>7075</th>\n",
       "      <td>2021-01-31</td>\n",
       "      <td>ZAMORA</td>\n",
       "      <td>24.0</td>\n",
       "      <td>172539</td>\n",
       "    </tr>\n",
       "    <tr>\n",
       "      <th>7076</th>\n",
       "      <td>2021-01-31</td>\n",
       "      <td>ZARAGOZA</td>\n",
       "      <td>166.0</td>\n",
       "      <td>964693</td>\n",
       "    </tr>\n",
       "  </tbody>\n",
       "</table>\n",
       "<p>7077 rows × 4 columns</p>\n",
       "</div>"
      ],
      "text/plain": [
       "           fecha    provincia  num_casos2  poblacion\n",
       "0     2020-03-01     ALICANTE         0.0    1858683\n",
       "1     2020-03-01      ALMERIA         0.0     716820\n",
       "2     2020-03-01      BADAJOZ         2.0     673559\n",
       "3     2020-03-01        CADIZ         0.0    1240155\n",
       "4     2020-03-01  CIUDAD_REAL         0.0     495761\n",
       "...          ...          ...         ...        ...\n",
       "7072  2021-01-31    SALAMANCA       105.0     330119\n",
       "7073  2021-01-31      SEVILLA       395.0    1942389\n",
       "7074  2021-01-31     VALENCIA      1072.0    2565124\n",
       "7075  2021-01-31       ZAMORA        24.0     172539\n",
       "7076  2021-01-31     ZARAGOZA       166.0     964693\n",
       "\n",
       "[7077 rows x 4 columns]"
      ]
     },
     "execution_count": 43,
     "metadata": {},
     "output_type": "execute_result"
    }
   ],
   "source": [
    "evolucion"
   ]
  },
  {
   "cell_type": "code",
   "execution_count": 44,
   "id": "c61960f2",
   "metadata": {},
   "outputs": [],
   "source": [
    "evolucion = evolucion.rename({\"num_casos2\": \"num_casos\"}, axis=\"columns\")"
   ]
  },
  {
   "cell_type": "markdown",
   "id": "911180d6",
   "metadata": {},
   "source": [
    "#### Guardar Datos de virus "
   ]
  },
  {
   "cell_type": "code",
   "execution_count": 45,
   "id": "92c6729a",
   "metadata": {},
   "outputs": [],
   "source": [
    "evolucion.to_csv(\"~/Trabajo_tfm/datos_csv/datos_covid.csv\")"
   ]
  },
  {
   "cell_type": "code",
   "execution_count": 46,
   "id": "3a737275",
   "metadata": {},
   "outputs": [
    {
     "name": "stdout",
     "output_type": "stream",
     "text": [
      "<class 'pandas.core.frame.DataFrame'>\n",
      "Int64Index: 7077 entries, 0 to 7076\n",
      "Data columns (total 32 columns):\n",
      " #   Column             Non-Null Count  Dtype  \n",
      "---  ------             --------------  -----  \n",
      " 0   fecha              7077 non-null   object \n",
      " 1   provincia          7077 non-null   object \n",
      " 2   v_muy_cortos       7077 non-null   float64\n",
      " 3   v_cortos           7077 non-null   float64\n",
      " 4   v_medios           7077 non-null   float64\n",
      " 5   v_largos           7077 non-null   float64\n",
      " 6   v_muy_largos       7077 non-null   float64\n",
      " 7   v_extra_largos     7077 non-null   float64\n",
      " 8   v_noche            7077 non-null   float64\n",
      " 9   v_madrugada        7077 non-null   float64\n",
      " 10  v_mañana           7077 non-null   float64\n",
      " 11  v_mediodia         7077 non-null   float64\n",
      " 12  v_sobremesa        7077 non-null   float64\n",
      " 13  v_tarde            7077 non-null   float64\n",
      " 14  v_km_muy_cortos    7077 non-null   float64\n",
      " 15  v_km_cortos        7077 non-null   float64\n",
      " 16  v_km_medios        7077 non-null   float64\n",
      " 17  v_km_largos        7077 non-null   float64\n",
      " 18  v_km_muy_largos    7077 non-null   float64\n",
      " 19  v_km_extra_largos  7077 non-null   float64\n",
      " 20  v_km_noche         7077 non-null   float64\n",
      " 21  v_km_madrugada     7077 non-null   float64\n",
      " 22  v_km_mañana        7077 non-null   float64\n",
      " 23  v_km_mediodia      7077 non-null   float64\n",
      " 24  v_km_sobremesa     7077 non-null   float64\n",
      " 25  v_km_tarde         7077 non-null   float64\n",
      " 26  cero_viajes        7077 non-null   float64\n",
      " 27  un_viaje           7077 non-null   float64\n",
      " 28  dos_viajes         7077 non-null   float64\n",
      " 29  mas_de_dos_viajes  7077 non-null   float64\n",
      " 30  num_casos          7077 non-null   float64\n",
      " 31  poblacion          7077 non-null   int64  \n",
      "dtypes: float64(29), int64(1), object(2)\n",
      "memory usage: 1.8+ MB\n"
     ]
    }
   ],
   "source": [
    "tarjeta = pd.merge(datos_mitma, evolucion)\n",
    "tarjeta.info()"
   ]
  },
  {
   "cell_type": "markdown",
   "id": "e1e59d04",
   "metadata": {},
   "source": [
    "## Datos meteorológicos\n",
    "\n",
    "Los datos proceden del AEMET y han sido obtenidos a traves de una clave que suministra la web."
   ]
  },
  {
   "cell_type": "code",
   "execution_count": 47,
   "id": "d1a0dee9",
   "metadata": {},
   "outputs": [],
   "source": [
    "import json"
   ]
  },
  {
   "cell_type": "code",
   "execution_count": 48,
   "id": "4af45efa",
   "metadata": {},
   "outputs": [],
   "source": [
    "unnamed = [\"Unnamed: 0\"]"
   ]
  },
  {
   "cell_type": "code",
   "execution_count": 49,
   "id": "5d65fdfa",
   "metadata": {},
   "outputs": [],
   "source": [
    "with open(\"/home/pepe/Trabajo_tfm/datos_csv/jaen_meteo.json\") as file:\n",
    "     jaen_meteo = json.load(file) \n",
    "\n",
    "df_jaen_meteo = pd.DataFrame(jaen_meteo)\n",
    "df_jaen_meteo.to_csv(\"~/Trabajo_tfm/datos_csv/df_jaen_meteo.csv\")\n",
    "df_jaen_meteo = pd.read_csv(\"~/Trabajo_tfm/datos_csv/df_jaen_meteo.csv\", decimal=',') \n",
    "df_jaen_meteo.drop(columns = unnamed, inplace= True, axis=1)"
   ]
  },
  {
   "cell_type": "code",
   "execution_count": 50,
   "id": "a97d3206",
   "metadata": {},
   "outputs": [],
   "source": [
    "with open(\"/home/pepe/Trabajo_tfm/datos_csv/cordoba_meteo.json\") as file:\n",
    "    cordoba_meteo = json.load(file)\n",
    "\n",
    "df_cordoba_meteo = pd.DataFrame(cordoba_meteo)\n",
    "df_cordoba_meteo.to_csv(\"~/Trabajo_tfm/datos_csv/df_cordoba_meteo.csv\")\n",
    "df_cordoba_meteo = pd.read_csv(\"~/Trabajo_tfm/datos_csv/df_cordoba_meteo.csv\", decimal=',') # cualquiera\n",
    "df_cordoba_meteo.drop(columns = unnamed, inplace= True, axis=1)"
   ]
  },
  {
   "cell_type": "code",
   "execution_count": 51,
   "id": "1c25a671",
   "metadata": {},
   "outputs": [],
   "source": [
    "with open(\"/home/pepe/Trabajo_tfm/datos_csv/sevilla_meteo.json\") as file:\n",
    "    sevilla_meteo = json.load(file)\n",
    "\n",
    "df_sevilla_meteo = pd.DataFrame(sevilla_meteo)\n",
    "df_sevilla_meteo.to_csv(\"~/Trabajo_tfm/datos_csv/df_sevilla_meteo.csv\")\n",
    "df_sevilla_meteo = pd.read_csv(\"~/Trabajo_tfm/datos_csv/df_sevilla_meteo.csv\", decimal=',') # cualquiera\n",
    "df_sevilla_meteo.drop(columns = unnamed, inplace= True, axis=1)"
   ]
  },
  {
   "cell_type": "code",
   "execution_count": 52,
   "id": "1677424b",
   "metadata": {},
   "outputs": [],
   "source": [
    "with open(\"/home/pepe/Trabajo_tfm/datos_csv/huelva_meteo.json\") as file:\n",
    "    huelva_meteo = json.load(file)\n",
    "\n",
    "df_huelva_meteo = pd.DataFrame(huelva_meteo)\n",
    "df_huelva_meteo.to_csv(\"~/Trabajo_tfm/datos_csv/df_huelva_meteo.csv\")\n",
    "df_huelva_meteo = pd.read_csv(\"~/Trabajo_tfm/datos_csv/df_huelva_meteo.csv\", decimal=',') # cualquiera\n",
    "df_huelva_meteo.drop(columns = unnamed, inplace= True, axis=1)"
   ]
  },
  {
   "cell_type": "code",
   "execution_count": 53,
   "id": "70082d33",
   "metadata": {},
   "outputs": [],
   "source": [
    "with open(\"/home/pepe/Trabajo_tfm/datos_csv/malaga_meteo_aeropuerto.json\") as file:\n",
    "    malaga_meteo = json.load(file)\n",
    "\n",
    "df_malaga_meteo = pd.DataFrame(malaga_meteo)\n",
    "df_malaga_meteo.to_csv(\"~/Trabajo_tfm/datos_csv/df_malaga_meteo.csv\")\n",
    "df_malaga_meteo = pd.read_csv(\"~/Trabajo_tfm/datos_csv/df_malaga_meteo.csv\", decimal=',') # cualquiera\n",
    "df_malaga_meteo.drop(columns = unnamed, inplace= True, axis=1)"
   ]
  },
  {
   "cell_type": "code",
   "execution_count": 54,
   "id": "f6f66b1a",
   "metadata": {},
   "outputs": [],
   "source": [
    "with open(\"/home/pepe/Trabajo_tfm/datos_csv/granada_meteo.json\") as file:\n",
    "    granada_meteo = json.load(file)\n",
    "\n",
    "df_granada_meteo = pd.DataFrame(granada_meteo)\n",
    "df_granada_meteo.to_csv(\"~/Trabajo_tfm/datos_csv/df_granada_meteo.csv\")\n",
    "df_granada_meteo = pd.read_csv(\"~/Trabajo_tfm/datos_csv/df_granada_meteo.csv\", decimal=',') # cualquiera\n",
    "df_granada_meteo.drop(columns = unnamed, inplace= True, axis=1)"
   ]
  },
  {
   "cell_type": "code",
   "execution_count": 55,
   "id": "4f568974",
   "metadata": {},
   "outputs": [],
   "source": [
    "with open(\"/home/pepe/Trabajo_tfm/datos_csv/almeria_meteo.json\") as file:\n",
    "    almeria_meteo = json.load(file)\n",
    "\n",
    "df_almeria_meteo = pd.DataFrame(almeria_meteo)\n",
    "df_almeria_meteo.to_csv(\"~/Trabajo_tfm/datos_csv/df_almeria_meteo.csv\")\n",
    "df_almeria_meteo = pd.read_csv(\"~/Trabajo_tfm/datos_csv/df_almeria_meteo.csv\", decimal=',') # cualquiera\n",
    "df_almeria_meteo.drop(columns = unnamed, inplace= True, axis=1)"
   ]
  },
  {
   "cell_type": "code",
   "execution_count": 56,
   "id": "e93b8f89",
   "metadata": {},
   "outputs": [],
   "source": [
    "with open(\"/home/pepe/Trabajo_tfm/datos_csv/coruna_meteo.json\") as file:\n",
    "    coruna_meteo = json.load(file)\n",
    "\n",
    "df_coruna_meteo = pd.DataFrame(coruna_meteo)\n",
    "df_coruna_meteo.to_csv(\"~/Trabajo_tfm/datos_csv/df_coruna_meteo.csv\")\n",
    "df_coruna_meteo = pd.read_csv(\"~/Trabajo_tfm/datos_csv/df_coruna_meteo.csv\", decimal=',') # cualquiera\n",
    "df_coruna_meteo.drop(columns = unnamed, inplace= True, axis=1)"
   ]
  },
  {
   "cell_type": "code",
   "execution_count": 57,
   "id": "3adcac78",
   "metadata": {},
   "outputs": [],
   "source": [
    "with open(\"/home/pepe/Trabajo_tfm/datos_csv/lugo_meteo.json\") as file:\n",
    "    lugo_meteo = json.load(file)\n",
    "\n",
    "df_lugo_meteo = pd.DataFrame(lugo_meteo)\n",
    "df_lugo_meteo.to_csv(\"~/Trabajo_tfm/datos_csv/df_lugo_meteo.csv\")\n",
    "df_lugo_meteo = pd.read_csv(\"~/Trabajo_tfm/datos_csv/df_lugo_meteo.csv\", decimal=',') # cualquiera\n",
    "df_lugo_meteo.drop(columns = unnamed, inplace= True, axis=1)"
   ]
  },
  {
   "cell_type": "code",
   "execution_count": 58,
   "id": "8531c5a2",
   "metadata": {},
   "outputs": [],
   "source": [
    "with open(\"/home/pepe/Trabajo_tfm/datos_csv/orense_meteo.json\") as file:\n",
    "    orense_meteo = json.load(file)\n",
    "\n",
    "df_orense_meteo = pd.DataFrame(orense_meteo)\n",
    "df_orense_meteo.to_csv(\"~/Trabajo_tfm/datos_csv/df_orense_meteo.csv\")\n",
    "df_orense_meteo = pd.read_csv(\"~/Trabajo_tfm/datos_csv/df_orense_meteo.csv\", decimal=',') # cualquiera\n",
    "df_orense_meteo.drop(columns = unnamed, inplace= True, axis=1)"
   ]
  },
  {
   "cell_type": "code",
   "execution_count": 59,
   "id": "5530c052",
   "metadata": {},
   "outputs": [],
   "source": [
    "with open(\"/home/pepe/Trabajo_tfm/datos_csv/pontevedra_meteo.json\") as file:\n",
    "    pontevedra_meteo = json.load(file)\n",
    "\n",
    "df_pontevedra_meteo = pd.DataFrame(pontevedra_meteo)\n",
    "df_pontevedra_meteo.to_csv(\"~/Trabajo_tfm/datos_csv/df_pontevedra_meteo.csv\")\n",
    "df_pontevedra_meteo = pd.read_csv(\"~/Trabajo_tfm/datos_csv/df_pontevedra_meteo.csv\", decimal=',') # cualquiera\n",
    "df_pontevedra_meteo.drop(columns = unnamed, inplace= True, axis=1)"
   ]
  },
  {
   "cell_type": "code",
   "execution_count": 60,
   "id": "8a79260a",
   "metadata": {},
   "outputs": [],
   "source": [
    "with open(\"/home/pepe/Trabajo_tfm/datos_csv/zaragoza_meteo.json\") as file:\n",
    "    zaragoza_meteo = json.load(file)\n",
    "\n",
    "df_zaragoza_meteo = pd.DataFrame(zaragoza_meteo)\n",
    "df_zaragoza_meteo.to_csv(\"~/Trabajo_tfm/datos_csv/df_zaragoza_meteo.csv\")\n",
    "df_zaragoza_meteo = pd.read_csv(\"~/Trabajo_tfm/datos_csv/df_zaragoza_meteo.csv\", decimal=',') # cualquiera\n",
    "df_zaragoza_meteo.drop(columns = unnamed, inplace= True, axis=1)"
   ]
  },
  {
   "cell_type": "code",
   "execution_count": 61,
   "id": "75647483",
   "metadata": {},
   "outputs": [],
   "source": [
    "with open(\"/home/pepe/Trabajo_tfm/datos_csv/zamora_meteo.json\") as file:\n",
    "    zamora_meteo = json.load(file)\n",
    "\n",
    "df_zamora_meteo = pd.DataFrame(zamora_meteo)\n",
    "df_zamora_meteo.to_csv(\"~/Trabajo_tfm/datos_csv/df_zamora_meteo.csv\")\n",
    "df_zamora_meteo = pd.read_csv(\"~/Trabajo_tfm/datos_csv/df_zamora_meteo.csv\", decimal=',') # cualquiera\n",
    "df_zamora_meteo.drop(columns = unnamed, inplace= True, axis=1)"
   ]
  },
  {
   "cell_type": "code",
   "execution_count": 62,
   "id": "39be54db",
   "metadata": {},
   "outputs": [],
   "source": [
    "with open(\"/home/pepe/Trabajo_tfm/datos_csv/palencia_meteo.json\") as file:\n",
    "    palencia_meteo = json.load(file)\n",
    "\n",
    "df_palencia_meteo = pd.DataFrame(palencia_meteo)\n",
    "df_palencia_meteo.to_csv(\"~/Trabajo_tfm/datos_csv/df_palencia_meteo.csv\")\n",
    "df_palencia_meteo = pd.read_csv(\"~/Trabajo_tfm/datos_csv/df_palencia_meteo.csv\", \n",
    "                                decimal=',') # cualquiera\n",
    "df_palencia_meteo.drop(columns = unnamed, inplace= True, axis=1)"
   ]
  },
  {
   "cell_type": "code",
   "execution_count": 63,
   "id": "253fbcb0",
   "metadata": {},
   "outputs": [],
   "source": [
    "with open(\"/home/pepe/Trabajo_tfm/datos_csv/salamanca_meteo.json\") as file:\n",
    "    salamanca_meteo = json.load(file)\n",
    "\n",
    "df_salamanca_meteo = pd.DataFrame(salamanca_meteo)\n",
    "df_salamanca_meteo.to_csv(\"~/Trabajo_tfm/datos_csv/df_salamanca_meteo.csv\")\n",
    "df_salamanca_meteo = pd.read_csv(\"~/Trabajo_tfm/datos_csv/df_salamanca_meteo.csv\", decimal=',') # cualquiera\n",
    "df_salamanca_meteo.drop(columns = unnamed, inplace= True, axis=1)"
   ]
  },
  {
   "cell_type": "code",
   "execution_count": 64,
   "id": "9f7d8e72",
   "metadata": {},
   "outputs": [],
   "source": [
    "with open(\"/home/pepe/Trabajo_tfm/datos_csv/madrid_meteo.json\") as file:\n",
    "    madrid_meteo = json.load(file)\n",
    "\n",
    "df_madrid_meteo = pd.DataFrame(madrid_meteo)\n",
    "df_madrid_meteo.to_csv(\"~/Trabajo_tfm/datos_csv/df_madrid_meteo.csv\")\n",
    "df_madrid_meteo = pd.read_csv(\"~/Trabajo_tfm/datos_csv/df_madrid_meteo.csv\", decimal=',') # cualquiera\n",
    "df_madrid_meteo.drop(columns = unnamed, inplace= True, axis=1)"
   ]
  },
  {
   "cell_type": "code",
   "execution_count": 65,
   "id": "bfdce0a2",
   "metadata": {},
   "outputs": [],
   "source": [
    "with open(\"/home/pepe/Trabajo_tfm/datos_csv/ciudad_real_meteo.json\") as file:\n",
    "    ciudadreal_meteo = json.load(file)\n",
    "\n",
    "df_ciudadreal_meteo = pd.DataFrame(ciudadreal_meteo)\n",
    "df_ciudadreal_meteo.to_csv(\"~/Trabajo_tfm/datos_csv/df_ciudadreal_meteo.csv\")\n",
    "df_ciudadreal_meteo = pd.read_csv(\"~/Trabajo_tfm/datos_csv/df_ciudadreal_meteo.csv\", decimal=',') # cualquiera\n",
    "df_ciudadreal_meteo.drop(columns = unnamed, inplace= True, axis=1)"
   ]
  },
  {
   "cell_type": "code",
   "execution_count": 66,
   "id": "14a599d1",
   "metadata": {},
   "outputs": [],
   "source": [
    "with open(\"/home/pepe/Trabajo_tfm/datos_csv/badajoz_meteo.json\") as file:\n",
    "    badajoz_meteo = json.load(file)\n",
    "\n",
    "df_badajoz_meteo = pd.DataFrame(badajoz_meteo)\n",
    "df_badajoz_meteo.to_csv(\"~/Trabajo_tfm/datos_csv/df_badajoz_meteo.csv\")\n",
    "df_badajoz_meteo = pd.read_csv(\"~/Trabajo_tfm/datos_csv/df_badajoz_meteo.csv\", decimal=',') # cualquiera\n",
    "df_badajoz_meteo.drop(columns = unnamed, inplace= True, axis=1)"
   ]
  },
  {
   "cell_type": "code",
   "execution_count": 67,
   "id": "ad89e913",
   "metadata": {},
   "outputs": [],
   "source": [
    "with open(\"/home/pepe/Trabajo_tfm/datos_csv/valencia_meteo.json\") as file:\n",
    "    valencia_meteo = json.load(file)\n",
    "\n",
    "df_valencia_meteo = pd.DataFrame(valencia_meteo)\n",
    "df_valencia_meteo.to_csv(\"~/Trabajo_tfm/datos_csv/df_valencia_meteo.csv\")\n",
    "df_valencia_meteo = pd.read_csv(\"~/Trabajo_tfm/datos_csv/df_valencia_meteo.csv\", decimal=',') # cualquiera\n",
    "df_valencia_meteo.drop(columns = unnamed, inplace= True, axis=1)"
   ]
  },
  {
   "cell_type": "code",
   "execution_count": 68,
   "id": "8cd7c82f",
   "metadata": {},
   "outputs": [],
   "source": [
    "with open(\"/home/pepe/Trabajo_tfm/datos_csv/alicante_meteo.json\") as file:\n",
    "    alicante_meteo = json.load(file)\n",
    "\n",
    "df_alicante_meteo = pd.DataFrame(alicante_meteo)\n",
    "df_alicante_meteo.to_csv(\"~/Trabajo_tfm/datos_csv/df_alicante_meteo.csv\")\n",
    "df_alicante_meteo = pd.read_csv(\"~/Trabajo_tfm/datos_csv/df_alicante_meteo.csv\", decimal=',') # cualquiera\n",
    "df_alicante_meteo.drop(columns = unnamed, inplace= True, axis=1)"
   ]
  },
  {
   "cell_type": "code",
   "execution_count": 69,
   "id": "bfaf8278",
   "metadata": {},
   "outputs": [],
   "source": [
    "with open(\"/home/pepe/Trabajo_tfm/datos_csv/cadiz_meteo.json\") as file:\n",
    "    cadiz_meteo = json.load(file)\n",
    "\n",
    "df_cadiz_meteo = pd.DataFrame(cadiz_meteo)\n",
    "df_cadiz_meteo.to_csv(\"~/Trabajo_tfm/datos_csv/df_cadiz_meteo.csv\")\n",
    "df_cadiz_meteo = pd.read_csv(\"~/Trabajo_tfm/datos_csv/df_cadiz_meteo.csv\", decimal=',') # cualquiera\n",
    "df_cadiz_meteo.drop(columns = unnamed, inplace= True, axis=1)"
   ]
  },
  {
   "cell_type": "code",
   "execution_count": 70,
   "id": "02ed183b",
   "metadata": {},
   "outputs": [],
   "source": [
    "no_utiles = ['nombre','horatmin', 'indicativo', 'horatmax', 'dir', 'racha','horaracha',\n",
    "             'horaPresMax','horaPresMin']\n",
    "\n",
    "df_alicante_meteo.drop(columns = no_utiles, inplace= True, axis=1)\n",
    "df_badajoz_meteo.drop(columns = no_utiles, inplace= True, axis=1)\n",
    "df_ciudadreal_meteo.drop(columns = no_utiles, inplace= True, axis=1)\n",
    "df_madrid_meteo.drop(columns = no_utiles, inplace= True, axis=1)\n",
    "df_palencia_meteo.drop(columns = no_utiles, inplace= True, axis=1)\n",
    "df_salamanca_meteo.drop(columns = no_utiles, inplace= True, axis=1)\n",
    "df_valencia_meteo.drop(columns = no_utiles, inplace= True, axis=1)\n",
    "df_zamora_meteo.drop(columns = no_utiles, inplace= True, axis=1)\n",
    "df_zaragoza_meteo.drop(columns = no_utiles, inplace= True, axis=1)\n",
    "df_jaen_meteo.drop(columns = no_utiles, inplace= True, axis=1)\n",
    "df_cordoba_meteo.drop(columns = no_utiles, inplace= True, axis=1)\n",
    "df_sevilla_meteo.drop(columns = no_utiles, inplace= True, axis=1)\n",
    "df_huelva_meteo.drop(columns = no_utiles, inplace= True, axis=1)\n",
    "df_cadiz_meteo.drop(columns = no_utiles, inplace= True, axis=1)\n",
    "df_malaga_meteo.drop(columns = no_utiles, inplace= True, axis=1)\n",
    "df_granada_meteo.drop(columns = no_utiles, inplace= True, axis=1)\n",
    "df_almeria_meteo.drop(columns = no_utiles, inplace= True, axis=1)\n",
    "df_coruna_meteo.drop(columns = no_utiles, inplace= True, axis=1)\n",
    "df_lugo_meteo.drop(columns = no_utiles, inplace= True, axis=1)\n",
    "df_orense_meteo.drop(columns = no_utiles, inplace= True, axis=1)\n",
    "df_pontevedra_meteo.drop(columns = no_utiles, inplace= True, axis=1)"
   ]
  },
  {
   "cell_type": "markdown",
   "id": "40adc54b",
   "metadata": {},
   "source": [
    "### Humedad relativa \n",
    "\n",
    "Los datos de este parametro , ficheros *_hr.csv han sido obtenidos de a mano a partir de las graficas de meteoblue"
   ]
  },
  {
   "cell_type": "code",
   "execution_count": 71,
   "id": "bd6e5006",
   "metadata": {},
   "outputs": [],
   "source": [
    "alicante_hr = pd.read_csv(\"~/Trabajo_tfm/datos_humedad_r/alicante_hr.csv\")\n",
    "clima_alicante = pd.concat([df_alicante_meteo, alicante_hr], axis = 1)\n",
    "\n",
    "badajoz_hr = pd.read_csv(\"~/Trabajo_tfm/datos_humedad_r/badajoz_hr.csv\")\n",
    "clima_badajoz = pd.concat([df_badajoz_meteo, badajoz_hr], axis = 1)\n",
    "\n",
    "ciudad_real_hr = pd.read_csv(\"~/Trabajo_tfm/datos_humedad_r/ciudad_real_hr.csv\")\n",
    "clima_ciudad_real = pd.concat([df_ciudadreal_meteo, ciudad_real_hr], axis = 1)\n",
    "\n",
    "madrid_hr = pd.read_csv(\"~/Trabajo_tfm/datos_humedad_r/madrid_hr.csv\")\n",
    "clima_madrid = pd.concat([df_madrid_meteo, madrid_hr], axis = 1)\n",
    "\n",
    "palencia_hr = pd.read_csv(\"~/Trabajo_tfm/datos_humedad_r/palencia_hr.csv\")\n",
    "clima_palencia = pd.concat([df_palencia_meteo, palencia_hr], axis = 1)\n",
    "\n",
    "salamanca_hr = pd.read_csv(\"~/Trabajo_tfm/datos_humedad_r/salamanca_hr.csv\")\n",
    "clima_salamanca = pd.concat([df_salamanca_meteo, salamanca_hr], axis = 1)\n",
    "\n",
    "valencia_hr = pd.read_csv(\"~/Trabajo_tfm/datos_humedad_r/valencia_hr.csv\")\n",
    "clima_valencia = pd.concat([df_valencia_meteo, valencia_hr], axis = 1)\n",
    "\n",
    "zamora_hr = pd.read_csv(\"~/Trabajo_tfm/datos_humedad_r/zamora_hr.csv\")\n",
    "clima_zamora = pd.concat([df_zamora_meteo, zamora_hr], axis = 1)\n",
    "\n",
    "zaragoza_hr = pd.read_csv(\"~/Trabajo_tfm/datos_humedad_r/zaragoza_hr.csv\")\n",
    "clima_zaragoza = pd.concat([df_zaragoza_meteo, zaragoza_hr], axis = 1)\n",
    "\n",
    "jaen_hr = pd.read_csv(\"~/Trabajo_tfm/datos_humedad_r/jaen_hr.csv\")\n",
    "clima_jaen = pd.concat([df_jaen_meteo, jaen_hr], axis = 1)\n",
    "\n",
    "cordoba_hr = pd.read_csv(\"~/Trabajo_tfm/datos_humedad_r/cordoba_hr.csv\")\n",
    "clima_cordoba = pd.concat([df_cordoba_meteo, cordoba_hr], axis = 1)\n",
    "\n",
    "sevilla_hr = pd.read_csv(\"~/Trabajo_tfm/datos_humedad_r/sevilla_hr.csv\")\n",
    "clima_sevilla = pd.concat([df_sevilla_meteo, sevilla_hr], axis = 1)\n",
    "\n",
    "huelva_hr = pd.read_csv(\"~/Trabajo_tfm/datos_humedad_r/huelva_hr.csv\")\n",
    "clima_huelva = pd.concat([df_huelva_meteo, huelva_hr], axis = 1)\n",
    "\n",
    "cadiz_hr = pd.read_csv(\"~/Trabajo_tfm/datos_humedad_r/cadiz_hr.csv\")\n",
    "clima_cadiz = pd.concat([df_cadiz_meteo, cadiz_hr], axis = 1)\n",
    "\n",
    "malaga_hr = pd.read_csv(\"~/Trabajo_tfm/datos_humedad_r/malaga_hr.csv\")\n",
    "clima_malaga = pd.concat([df_malaga_meteo, malaga_hr], axis = 1)\n",
    "\n",
    "granada_hr = pd.read_csv(\"~/Trabajo_tfm/datos_humedad_r/granada_hr.csv\")\n",
    "clima_granada = pd.concat([df_granada_meteo, granada_hr], axis = 1)\n",
    "\n",
    "almeria_hr = pd.read_csv(\"~/Trabajo_tfm/datos_humedad_r/almeria_hr.csv\")\n",
    "clima_almeria = pd.concat([df_almeria_meteo, almeria_hr], axis = 1)\n",
    "\n",
    "coruna_hr = pd.read_csv(\"~/Trabajo_tfm/datos_humedad_r/coruna_hr.csv\")\n",
    "clima_coruna = pd.concat([df_coruna_meteo, coruna_hr], axis = 1)\n",
    "\n",
    "lugo_hr = pd.read_csv(\"~/Trabajo_tfm/datos_humedad_r/lugo_hr.csv\")\n",
    "clima_lugo = pd.concat([df_lugo_meteo, lugo_hr], axis = 1)\n",
    "\n",
    "orense_hr = pd.read_csv(\"~/Trabajo_tfm/datos_humedad_r/orense_hr.csv\")\n",
    "clima_orense = pd.concat([df_orense_meteo, orense_hr], axis = 1)\n",
    "\n",
    "pontevedra_hr = pd.read_csv(\"~/Trabajo_tfm/datos_humedad_r/pontevedra_hr.csv\")\n",
    "clima_pontevedra = pd.concat([df_pontevedra_meteo, pontevedra_hr], axis = 1)"
   ]
  },
  {
   "cell_type": "code",
   "execution_count": 72,
   "id": "102569ae",
   "metadata": {},
   "outputs": [],
   "source": [
    "climas = pd.concat([clima_alicante, clima_almeria, clima_badajoz, clima_cadiz,\n",
    "                    clima_ciudad_real, clima_cordoba, clima_coruna,clima_granada,\n",
    "                    clima_huelva, clima_jaen, clima_lugo, clima_madrid,clima_malaga, \n",
    "                    clima_orense, clima_palencia, clima_pontevedra, clima_salamanca,\n",
    "                    clima_sevilla, clima_valencia, clima_zamora, clima_zaragoza])"
   ]
  },
  {
   "cell_type": "code",
   "execution_count": 73,
   "id": "43992cb7",
   "metadata": {},
   "outputs": [
    {
     "name": "stdout",
     "output_type": "stream",
     "text": [
      "<class 'pandas.core.frame.DataFrame'>\n",
      "Int64Index: 7077 entries, 0 to 336\n",
      "Data columns (total 12 columns):\n",
      " #   Column     Non-Null Count  Dtype  \n",
      "---  ------     --------------  -----  \n",
      " 0   fecha      7077 non-null   object \n",
      " 1   provincia  7077 non-null   object \n",
      " 2   altitud    7077 non-null   int64  \n",
      " 3   tmed       7065 non-null   float64\n",
      " 4   prec       7009 non-null   object \n",
      " 5   tmin       7065 non-null   float64\n",
      " 6   tmax       7065 non-null   float64\n",
      " 7   velmedia   6860 non-null   float64\n",
      " 8   sol        5884 non-null   float64\n",
      " 9   presMax    7027 non-null   float64\n",
      " 10  presMin    7027 non-null   float64\n",
      " 11  hr         7077 non-null   float64\n",
      "dtypes: float64(8), int64(1), object(3)\n",
      "memory usage: 718.8+ KB\n"
     ]
    }
   ],
   "source": [
    "climas.info()"
   ]
  },
  {
   "cell_type": "code",
   "execution_count": 74,
   "id": "0e6264aa",
   "metadata": {},
   "outputs": [
    {
     "data": {
      "text/plain": [
       "<AxesSubplot:>"
      ]
     },
     "execution_count": 74,
     "metadata": {},
     "output_type": "execute_result"
    },
    {
     "data": {
      "image/png": "[encoded data removed]",
      "text/plain": [
       "<Figure size 432x288 with 1 Axes>"
      ]
     },
     "metadata": {},
     "output_type": "display_data"
    }
   ],
   "source": [
    "# uso de mapa de calor para visualizar los nulos\n",
    "import seaborn as sns\n",
    "sns.set( )  #sns.set(style=\"white\") # #sns.set(style=\"darkgrid\") style='ticks'\n",
    "sns.heatmap(climas.isna(), yticklabels=False, cbar=False, cmap='viridis')"
   ]
  },
  {
   "cell_type": "markdown",
   "id": "a2538a1f",
   "metadata": {},
   "source": [
    "- Unificación de los nombres de las provincias"
   ]
  },
  {
   "cell_type": "code",
   "execution_count": 75,
   "id": "07b808f9",
   "metadata": {},
   "outputs": [
    {
     "data": {
      "text/plain": [
       "array(['ALICANTE', 'ALMERIA', 'BADAJOZ', 'CADIZ', 'CIUDAD REAL',\n",
       "       'CORDOBA', 'A CORUÑA', 'GRANADA', 'HUELVA', 'JAEN', 'LUGO',\n",
       "       'MADRID', 'MALAGA', 'OURENSE', 'PALENCIA', 'PONTEVEDRA',\n",
       "       'SALAMANCA', 'SEVILLA', 'VALENCIA', 'ZAMORA', 'ZARAGOZA'],\n",
       "      dtype=object)"
      ]
     },
     "execution_count": 75,
     "metadata": {},
     "output_type": "execute_result"
    }
   ],
   "source": [
    "climas.provincia.unique()"
   ]
  },
  {
   "cell_type": "code",
   "execution_count": 76,
   "id": "817fd143",
   "metadata": {},
   "outputs": [],
   "source": [
    "def nombre_provincia(row):\n",
    "    # transfoma la provincia a mayusculas para unificar\n",
    "    if row.provincia == 'ALICANTE':\n",
    "        return 'alicante'.upper()\n",
    "    elif row.provincia == 'BADAJOZ':\n",
    "        return 'Badajoz'.upper()\n",
    "    elif row.provincia == 'CIUDAD REAL':\n",
    "        return 'Ciudad_Real'.upper()\n",
    "    elif row.provincia == 'MADRID':\n",
    "        return 'Madrid'.upper()\n",
    "    elif row.provincia == 'PALENCIA':\n",
    "        return 'Palencia'.upper()\n",
    "    elif row.provincia == 'SALAMANCA':\n",
    "        return 'Salamanca'.upper()\n",
    "    elif row.provincia == 'VALENCIA':\n",
    "        return 'Valencia'.upper()  \n",
    "    elif row.provincia == 'ZAMORA':\n",
    "        return 'Zamora'.upper()  \n",
    "    elif row.provincia == 'ZARAGOZA':\n",
    "        return 'Zaragoza'.upper()  \n",
    "    elif row.provincia == 'JAEN':\n",
    "        return 'jaen'.upper()\n",
    "    elif row.provincia == 'CORDOBA':\n",
    "        return 'cordoba'.upper()\n",
    "    elif row.provincia == 'CADIZ':\n",
    "        return 'Cadiz'.upper()\n",
    "    elif row.provincia == 'SEVILLA':\n",
    "        return 'sevilla'.upper()\n",
    "    elif row.provincia == 'GRANADA':\n",
    "        return 'Granada'.upper()\n",
    "    elif row.provincia == 'HUELVA':\n",
    "        return 'huelva'.upper()\n",
    "    elif row.provincia == 'MALAGA':\n",
    "        return 'malaga'.upper()\n",
    "    elif row.provincia == 'ALMERIA':\n",
    "        return 'almeria'.upper()\n",
    "    elif row.provincia == 'A CORUÑA':\n",
    "        return 'Coruña'.upper()\n",
    "    elif row.provincia == 'LUGO':\n",
    "        return 'lugo'.upper()\n",
    "    elif row.provincia == 'OURENSE':\n",
    "        return 'Orense'.upper()\n",
    "    elif row.provincia == 'PONTEVEDRA':\n",
    "        return 'Pontevedra'.upper()"
   ]
  },
  {
   "cell_type": "code",
   "execution_count": 77,
   "id": "cfe6de93",
   "metadata": {},
   "outputs": [],
   "source": [
    "provincia = climas.apply(lambda row: nombre_provincia(row), axis=1).rename('provincia')"
   ]
  },
  {
   "cell_type": "code",
   "execution_count": 78,
   "id": "2970ad8d",
   "metadata": {},
   "outputs": [],
   "source": [
    "climas = climas.drop(columns='provincia')\n",
    "climas.insert(1,'provincia', provincia)# evolucion.head()"
   ]
  },
  {
   "cell_type": "code",
   "execution_count": 79,
   "id": "711ecfd5",
   "metadata": {},
   "outputs": [],
   "source": [
    "clima = pd.concat([ # construccion\n",
    "    climas[climas.provincia =='ALICANTE'],\n",
    "    climas[climas.provincia =='BADAJOZ'],\n",
    "    climas[climas.provincia =='CIUDAD_REAL'],\n",
    "    climas[climas.provincia =='MADRID'],\n",
    "    climas[climas.provincia =='PALENCIA'],\n",
    "    climas[climas.provincia =='SALAMANCA'],\n",
    "    climas[climas.provincia =='VALENCIA'],\n",
    "    climas[climas.provincia =='ZAMORA'],\n",
    "    climas[climas.provincia =='ZARAGOZA'],\n",
    "    climas[climas.provincia =='JAEN'], # ordenacion por provincias\n",
    "    climas[climas.provincia =='CORDOBA'],\n",
    "    climas[climas.provincia =='SEVILLA'],\n",
    "    climas[climas.provincia =='HUELVA'],\n",
    "    climas[climas.provincia =='CADIZ'],\n",
    "    climas[climas.provincia =='MALAGA'],\n",
    "    climas[climas.provincia =='GRANADA'],\n",
    "    climas[climas.provincia =='ALMERIA'],\n",
    "    climas[climas.provincia =='CORUÑA'],\n",
    "    climas[climas.provincia =='LUGO'],\n",
    "    climas[climas.provincia =='ORENSE'],\n",
    "    climas[climas.provincia =='PONTEVEDRA']])"
   ]
  },
  {
   "cell_type": "code",
   "execution_count": 80,
   "id": "a7903d74",
   "metadata": {},
   "outputs": [],
   "source": [
    "clima = clima.reset_index()\n",
    "indice = ['index']\n",
    "clima.drop(columns = indice, inplace= True, axis=1)"
   ]
  },
  {
   "cell_type": "code",
   "execution_count": 81,
   "id": "59e4fecc",
   "metadata": {},
   "outputs": [
    {
     "name": "stdout",
     "output_type": "stream",
     "text": [
      "<class 'pandas.core.frame.DataFrame'>\n",
      "Int64Index: 7077 entries, 0 to 336\n",
      "Data columns (total 12 columns):\n",
      " #   Column     Non-Null Count  Dtype  \n",
      "---  ------     --------------  -----  \n",
      " 0   fecha      7077 non-null   object \n",
      " 1   provincia  7077 non-null   object \n",
      " 2   altitud    7077 non-null   int64  \n",
      " 3   tmed       7065 non-null   float64\n",
      " 4   prec       7009 non-null   object \n",
      " 5   tmin       7065 non-null   float64\n",
      " 6   tmax       7065 non-null   float64\n",
      " 7   velmedia   6860 non-null   float64\n",
      " 8   sol        5884 non-null   float64\n",
      " 9   presMax    7027 non-null   float64\n",
      " 10  presMin    7027 non-null   float64\n",
      " 11  hr         7077 non-null   float64\n",
      "dtypes: float64(8), int64(1), object(3)\n",
      "memory usage: 718.8+ KB\n"
     ]
    }
   ],
   "source": [
    "climas.info()"
   ]
  },
  {
   "cell_type": "markdown",
   "id": "9a29a389",
   "metadata": {},
   "source": [
    "### Procesamiento de valores vacios y formato incorrecto en las variables meteorológicas\n"
   ]
  },
  {
   "cell_type": "code",
   "execution_count": 82,
   "id": "0c5634c3",
   "metadata": {},
   "outputs": [
    {
     "name": "stdout",
     "output_type": "stream",
     "text": [
      "tmed 0.0017 % valores perdidos\n",
      "prec 0.0096 % valores perdidos\n",
      "tmin 0.0017 % valores perdidos\n",
      "tmax 0.0017 % valores perdidos\n",
      "velmedia 0.0307 % valores perdidos\n",
      "sol 0.1686 % valores perdidos\n",
      "presMax 0.0071 % valores perdidos\n",
      "presMin 0.0071 % valores perdidos\n"
     ]
    }
   ],
   "source": [
    "atributos_con_na = [atributos for atributos in clima.columns if clima[atributos].isnull().sum()>1]\n",
    "for atributo in atributos_con_na:\n",
    "    print(atributo, np.round(clima[atributo].isnull().mean(),4),'% valores perdidos')"
   ]
  },
  {
   "cell_type": "code",
   "execution_count": 83,
   "id": "d39dfb61",
   "metadata": {},
   "outputs": [],
   "source": [
    "clima = clima.replace({'Ip': '0,0'})\n",
    "clima = clima.replace({'nan': '0,0'})"
   ]
  },
  {
   "cell_type": "code",
   "execution_count": 84,
   "id": "c17aa2e1",
   "metadata": {},
   "outputs": [],
   "source": [
    "# Iterate through the columns\n",
    "for col in list(clima.columns):\n",
    "    # Select columns that should be numeric\n",
    "    if ('prec' in col ):\n",
    "        clima[col] = clima[col].astype(str)"
   ]
  },
  {
   "cell_type": "code",
   "execution_count": 85,
   "id": "f8e09714",
   "metadata": {
    "code_folding": []
   },
   "outputs": [],
   "source": [
    "def formato_prec(row):\n",
    "    if row.prec== 'nan':\n",
    "        precN =0.0\n",
    "    else :\n",
    "        litros = float(row.prec[:-2])\n",
    "        decima = float(row.prec[-1:])\n",
    "        precN = (litros) + (decima)/10.0\n",
    "    #print(precN)\n",
    "    return precN "
   ]
  },
  {
   "cell_type": "code",
   "execution_count": 86,
   "id": "041c399f",
   "metadata": {},
   "outputs": [],
   "source": [
    "prec = clima.apply(lambda row: formato_prec(row), axis=1).rename('prec')"
   ]
  },
  {
   "cell_type": "code",
   "execution_count": 87,
   "id": "f6a836cc",
   "metadata": {},
   "outputs": [],
   "source": [
    "col_eliminar_met = ['prec']\n",
    "clima.drop(columns = col_eliminar_met, axis = 1, inplace = True) \n",
    "\n",
    "clima.insert(4,'prec',prec)"
   ]
  },
  {
   "cell_type": "code",
   "execution_count": 88,
   "id": "a39e1d39",
   "metadata": {},
   "outputs": [],
   "source": [
    "datos_clima = clima.sort_values(by=['fecha', 'provincia'])"
   ]
  },
  {
   "cell_type": "code",
   "execution_count": 89,
   "id": "2d544c6b",
   "metadata": {},
   "outputs": [],
   "source": [
    "datos_clima = datos_clima.reset_index()\n",
    "datos_clima.drop('index', inplace=True, axis=1)"
   ]
  },
  {
   "cell_type": "code",
   "execution_count": 90,
   "id": "016394c3",
   "metadata": {},
   "outputs": [
    {
     "name": "stdout",
     "output_type": "stream",
     "text": [
      "<class 'pandas.core.frame.DataFrame'>\n",
      "RangeIndex: 7077 entries, 0 to 7076\n",
      "Data columns (total 12 columns):\n",
      " #   Column     Non-Null Count  Dtype  \n",
      "---  ------     --------------  -----  \n",
      " 0   fecha      7077 non-null   object \n",
      " 1   provincia  7077 non-null   object \n",
      " 2   altitud    7077 non-null   int64  \n",
      " 3   tmed       7065 non-null   float64\n",
      " 4   prec       7077 non-null   float64\n",
      " 5   tmin       7065 non-null   float64\n",
      " 6   tmax       7065 non-null   float64\n",
      " 7   velmedia   6860 non-null   float64\n",
      " 8   sol        5884 non-null   float64\n",
      " 9   presMax    7027 non-null   float64\n",
      " 10  presMin    7027 non-null   float64\n",
      " 11  hr         7077 non-null   float64\n",
      "dtypes: float64(9), int64(1), object(2)\n",
      "memory usage: 663.6+ KB\n"
     ]
    }
   ],
   "source": [
    "datos_clima.info()"
   ]
  },
  {
   "cell_type": "markdown",
   "id": "a4f39529",
   "metadata": {},
   "source": [
    "#### Guardar Datos de clima "
   ]
  },
  {
   "cell_type": "code",
   "execution_count": 91,
   "id": "b94af081",
   "metadata": {},
   "outputs": [],
   "source": [
    "datos_clima.to_csv(\"~/Trabajo_tfm/datos_csv/datos_clima.csv\")"
   ]
  },
  {
   "cell_type": "code",
   "execution_count": 92,
   "id": "58c6bae5",
   "metadata": {
    "scrolled": false
   },
   "outputs": [
    {
     "name": "stdout",
     "output_type": "stream",
     "text": [
      "<class 'pandas.core.frame.DataFrame'>\n",
      "Int64Index: 7077 entries, 0 to 7076\n",
      "Data columns (total 42 columns):\n",
      " #   Column             Non-Null Count  Dtype  \n",
      "---  ------             --------------  -----  \n",
      " 0   fecha              7077 non-null   object \n",
      " 1   provincia          7077 non-null   object \n",
      " 2   v_muy_cortos       7077 non-null   float64\n",
      " 3   v_cortos           7077 non-null   float64\n",
      " 4   v_medios           7077 non-null   float64\n",
      " 5   v_largos           7077 non-null   float64\n",
      " 6   v_muy_largos       7077 non-null   float64\n",
      " 7   v_extra_largos     7077 non-null   float64\n",
      " 8   v_noche            7077 non-null   float64\n",
      " 9   v_madrugada        7077 non-null   float64\n",
      " 10  v_mañana           7077 non-null   float64\n",
      " 11  v_mediodia         7077 non-null   float64\n",
      " 12  v_sobremesa        7077 non-null   float64\n",
      " 13  v_tarde            7077 non-null   float64\n",
      " 14  v_km_muy_cortos    7077 non-null   float64\n",
      " 15  v_km_cortos        7077 non-null   float64\n",
      " 16  v_km_medios        7077 non-null   float64\n",
      " 17  v_km_largos        7077 non-null   float64\n",
      " 18  v_km_muy_largos    7077 non-null   float64\n",
      " 19  v_km_extra_largos  7077 non-null   float64\n",
      " 20  v_km_noche         7077 non-null   float64\n",
      " 21  v_km_madrugada     7077 non-null   float64\n",
      " 22  v_km_mañana        7077 non-null   float64\n",
      " 23  v_km_mediodia      7077 non-null   float64\n",
      " 24  v_km_sobremesa     7077 non-null   float64\n",
      " 25  v_km_tarde         7077 non-null   float64\n",
      " 26  cero_viajes        7077 non-null   float64\n",
      " 27  un_viaje           7077 non-null   float64\n",
      " 28  dos_viajes         7077 non-null   float64\n",
      " 29  mas_de_dos_viajes  7077 non-null   float64\n",
      " 30  num_casos          7077 non-null   float64\n",
      " 31  poblacion          7077 non-null   int64  \n",
      " 32  altitud            7077 non-null   int64  \n",
      " 33  tmed               7065 non-null   float64\n",
      " 34  prec               7077 non-null   float64\n",
      " 35  tmin               7065 non-null   float64\n",
      " 36  tmax               7065 non-null   float64\n",
      " 37  velmedia           6860 non-null   float64\n",
      " 38  sol                5884 non-null   float64\n",
      " 39  presMax            7027 non-null   float64\n",
      " 40  presMin            7027 non-null   float64\n",
      " 41  hr                 7077 non-null   float64\n",
      "dtypes: float64(38), int64(2), object(2)\n",
      "memory usage: 2.3+ MB\n"
     ]
    }
   ],
   "source": [
    "tarjeta = pd.merge(tarjeta, datos_clima)\n",
    "tarjeta.info()"
   ]
  },
  {
   "cell_type": "markdown",
   "id": "c01aed87",
   "metadata": {},
   "source": [
    "# Guardar Tarjeta de datos"
   ]
  },
  {
   "cell_type": "code",
   "execution_count": 93,
   "id": "2f97b4a6",
   "metadata": {},
   "outputs": [],
   "source": [
    "tarjeta.to_csv(\"~/Trabajo_tfm/datos_csv/tarjeta_datos.csv\")"
   ]
  }
 ],
 "metadata": {
  "kernelspec": {
   "display_name": "Python 3",
   "language": "python",
   "name": "python3"
  },
  "language_info": {
   "codemirror_mode": {
    "name": "ipython",
    "version": 3
   },
   "file_extension": ".py",
   "mimetype": "text/x-python",
   "name": "python",
   "nbconvert_exporter": "python",
   "pygments_lexer": "ipython3",
   "version": "3.8.8"
  },
  "toc": {
   "base_numbering": 1,
   "nav_menu": {},
   "number_sections": true,
   "sideBar": true,
   "skip_h1_title": false,
   "title_cell": "Table of Contents",
   "title_sidebar": "Contents",
   "toc_cell": false,
   "toc_position": {},
   "toc_section_display": true,
   "toc_window_display": true
  },
  "varInspector": {
   "cols": {
    "lenName": 16,
    "lenType": 16,
    "lenVar": 40
   },
   "kernels_config": {
    "python": {
     "delete_cmd_postfix": "",
     "delete_cmd_prefix": "del ",
     "library": "var_list.py",
     "varRefreshCmd": "print(var_dic_list())"
    },
    "r": {
     "delete_cmd_postfix": ") ",
     "delete_cmd_prefix": "rm(",
     "library": "var_list.r",
     "varRefreshCmd": "cat(var_dic_list()) "
    }
   },
   "oldHeight": 122.71700000000001,
   "position": {
    "height": "40px",
    "left": "1130.13px",
    "right": "20px",
    "top": "74px",
    "width": "350px"
   },
   "types_to_exclude": [
    "module",
    "function",
    "builtin_function_or_method",
    "instance",
    "_Feature"
   ],
   "varInspector_section_display": "none",
   "window_display": true
  }
 },
 "nbformat": 4,
 "nbformat_minor": 5
}
