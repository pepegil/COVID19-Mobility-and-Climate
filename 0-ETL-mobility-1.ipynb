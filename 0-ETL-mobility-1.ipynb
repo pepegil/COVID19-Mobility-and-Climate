{
 "cells": [
  {
   "cell_type": "markdown",
   "metadata": {},
   "source": [
    "# Mobility data\n",
    "\n",
    "\n",
    "Data downloaded from https://www.mitma.es/ministerio/covid-19/evolucion-movilidad-big-data/opendata-movilidad\n",
    "\n",
    "\n",
    "\n",
    "    Data downloaded from https://www.mitma.es/ministerio/covid-19/evolucion-movilidad-big-data/opendata-movilidad by year and month of data :\n",
    "    \n",
    "*yyyymm_maestra1_mitma_municipio.tar*\n",
    "\n",
    "    Untar by day : \n",
    "\n",
    "*yyyymmdd_maestra_1_mitma_municipio.txt.gz*\n",
    "\n",
    "    Decompress  :\n",
    "\n",
    "*yyyymmdd_maestra_1_mitma_municipio.txt*\n",
    "\n",
    "\n",
    "    After this process, there are one file for each day containing mobility data.\n",
    "\n"
   ]
  },
  {
   "cell_type": "markdown",
   "metadata": {},
   "source": [
    "**Libraries**"
   ]
  },
  {
   "cell_type": "code",
   "execution_count": 1,
   "metadata": {},
   "outputs": [],
   "source": [
    "import pandas as pd\n",
    "import numpy as np\n",
    "import matplotlib.pyplot as plt\n",
    "%matplotlib inline"
   ]
  },
  {
   "cell_type": "code",
   "execution_count": 2,
   "metadata": {},
   "outputs": [],
   "source": [
    "import zipfile\n",
    "import requests\n",
    "import io"
   ]
  },
  {
   "cell_type": "code",
   "execution_count": 3,
   "metadata": {},
   "outputs": [],
   "source": [
    "import geopandas as gpd "
   ]
  },
  {
   "cell_type": "markdown",
   "metadata": {},
   "source": [
    "## Provinces identification\n",
    "\n",
    "Provinces are identified trough the number that identifies its municipalities.\n"
   ]
  },
  {
   "cell_type": "markdown",
   "metadata": {},
   "source": [
    " - Mapa de España por distritos/municipios"
   ]
  },
  {
   "cell_type": "code",
   "execution_count": 4,
   "metadata": {},
   "outputs": [],
   "source": [
    "local_path ='/tmp/' # donde descomprimir los ficheros zip decargados"
   ]
  },
  {
   "cell_type": "code",
   "execution_count": 5,
   "metadata": {},
   "outputs": [],
   "source": [
    "z_dist = zipfile.ZipFile(\"/home/jose/Trabajo_tfm/zonificacion_distritos.zip\") # pathname absoluto\n",
    "z_dist.extractall(path=local_path)"
   ]
  },
  {
   "cell_type": "code",
   "execution_count": 6,
   "metadata": {},
   "outputs": [],
   "source": [
    "z_munic = zipfile.ZipFile(\"/home/jose/Trabajo_tfm/zonificacion_municipios.zip\") # pathname absoluto\n",
    "z_munic.extractall(path=local_path)"
   ]
  },
  {
   "cell_type": "code",
   "execution_count": 7,
   "metadata": {},
   "outputs": [
    {
     "data": {
      "text/plain": [
       "['zonificacion-distritos/distritos_mitma.dbf',\n",
       " 'zonificacion-distritos/distritos_mitma.prj',\n",
       " 'zonificacion-distritos/distritos_mitma.shp',\n",
       " 'zonificacion-distritos/distritos_mitma.shx']"
      ]
     },
     "execution_count": 7,
     "metadata": {},
     "output_type": "execute_result"
    }
   ],
   "source": [
    "nombresFicheros_distritos = [y for y in sorted(z_dist.namelist()) for ending in ['dbf','prj','shp','shx'] if y[-3:]== ending and y[1] != \"_\"]\n",
    "nombresFicheros_distritos"
   ]
  },
  {
   "cell_type": "code",
   "execution_count": 8,
   "metadata": {},
   "outputs": [
    {
     "data": {
      "text/plain": [
       "['zonificacion-municipios/municipios_mitma.dbf',\n",
       " 'zonificacion-municipios/municipios_mitma.prj',\n",
       " 'zonificacion-municipios/municipios_mitma.shp',\n",
       " 'zonificacion-municipios/municipios_mitma.shx']"
      ]
     },
     "execution_count": 8,
     "metadata": {},
     "output_type": "execute_result"
    }
   ],
   "source": [
    "nombresFicheros_munic = [y for y in sorted(z_munic.namelist()) for ending in ['dbf','prj','shp','shx'] if y[-3:]== ending and y[1] != \"_\"]\n",
    "nombresFicheros_munic"
   ]
  },
  {
   "cell_type": "code",
   "execution_count": 9,
   "metadata": {},
   "outputs": [
    {
     "name": "stdout",
     "output_type": "stream",
     "text": [
      "Shape of the dataframe: (2205, 2)\n",
      "Projection of dataframe: epsg:3042\n"
     ]
    }
   ],
   "source": [
    "dbf, prj, shp, shx = [filename for filename in nombresFicheros_munic]\n",
    "espana_munic = gpd.read_file(local_path + shp)\n",
    "print(\"Shape of the dataframe: {}\".format(espana_munic.shape)) \n",
    "print(\"Projection of dataframe: {}\".format(espana_munic.crs))"
   ]
  },
  {
   "cell_type": "code",
   "execution_count": 10,
   "metadata": {},
   "outputs": [
    {
     "name": "stdout",
     "output_type": "stream",
     "text": [
      "Shape of the dataframe: (2850, 2)\n",
      "Projection of dataframe: epsg:3042\n"
     ]
    }
   ],
   "source": [
    "dbf, prj, shp, shx = [filename for filename in nombresFicheros_distritos]\n",
    "espana_dist = gpd.read_file(local_path + shp)\n",
    "print(\"Shape of the dataframe: {}\".format(espana_dist.shape)) \n",
    "print(\"Projection of dataframe: {}\".format(espana_dist.crs))"
   ]
  },
  {
   "cell_type": "markdown",
   "metadata": {},
   "source": [
    "--  -------"
   ]
  },
  {
   "cell_type": "markdown",
   "metadata": {},
   "source": [
    "### Municipality-District relationship"
   ]
  },
  {
   "cell_type": "code",
   "execution_count": 12,
   "metadata": {},
   "outputs": [
    {
     "name": "stdout",
     "output_type": "stream",
     "text": [
      "<class 'pandas.core.frame.DataFrame'>\n",
      "RangeIndex: 10494 entries, 0 to 10493\n",
      "Data columns (total 3 columns):\n",
      " #   Column           Non-Null Count  Dtype \n",
      "---  ------           --------------  ----- \n",
      " 0   distrito         10494 non-null  int64 \n",
      " 1   distrito_mitma   10494 non-null  object\n",
      " 2   municipio_mitma  10494 non-null  object\n",
      "dtypes: int64(1), object(2)\n",
      "memory usage: 246.1+ KB\n"
     ]
    }
   ],
   "source": [
    "distritos_municipios = pd.read_csv(\n",
    "    '~/Trabajo_tfm/datos_csv/relaciones_distrito_mitma.csv')  # distritos_municipios.info()\n",
    "distritos_municipios.info()"
   ]
  },
  {
   "cell_type": "code",
   "execution_count": 13,
   "metadata": {},
   "outputs": [
    {
     "data": {
      "text/html": [
       "<div>\n",
       "<style scoped>\n",
       "    .dataframe tbody tr th:only-of-type {\n",
       "        vertical-align: middle;\n",
       "    }\n",
       "\n",
       "    .dataframe tbody tr th {\n",
       "        vertical-align: top;\n",
       "    }\n",
       "\n",
       "    .dataframe thead th {\n",
       "        text-align: right;\n",
       "    }\n",
       "</style>\n",
       "<table border=\"1\" class=\"dataframe\">\n",
       "  <thead>\n",
       "    <tr style=\"text-align: right;\">\n",
       "      <th></th>\n",
       "      <th>distrito</th>\n",
       "      <th>distrito_mitma</th>\n",
       "      <th>municipio_mitma</th>\n",
       "    </tr>\n",
       "  </thead>\n",
       "  <tbody>\n",
       "    <tr>\n",
       "      <th>0</th>\n",
       "      <td>100101</td>\n",
       "      <td>01001_AM</td>\n",
       "      <td>01001_AM</td>\n",
       "    </tr>\n",
       "    <tr>\n",
       "      <th>1</th>\n",
       "      <td>100201</td>\n",
       "      <td>01002</td>\n",
       "      <td>01002</td>\n",
       "    </tr>\n",
       "    <tr>\n",
       "      <th>2</th>\n",
       "      <td>100301</td>\n",
       "      <td>01058_AM</td>\n",
       "      <td>01058_AM</td>\n",
       "    </tr>\n",
       "    <tr>\n",
       "      <th>3</th>\n",
       "      <td>100401</td>\n",
       "      <td>01010_AM</td>\n",
       "      <td>01010_AM</td>\n",
       "    </tr>\n",
       "    <tr>\n",
       "      <th>4</th>\n",
       "      <td>100601</td>\n",
       "      <td>01047_AM</td>\n",
       "      <td>01047_AM</td>\n",
       "    </tr>\n",
       "  </tbody>\n",
       "</table>\n",
       "</div>"
      ],
      "text/plain": [
       "   distrito distrito_mitma municipio_mitma\n",
       "0    100101       01001_AM        01001_AM\n",
       "1    100201          01002           01002\n",
       "2    100301       01058_AM        01058_AM\n",
       "3    100401       01010_AM        01010_AM\n",
       "4    100601       01047_AM        01047_AM"
      ]
     },
     "execution_count": 13,
     "metadata": {},
     "output_type": "execute_result"
    }
   ],
   "source": [
    "distritos_municipios.head()"
   ]
  },
  {
   "cell_type": "markdown",
   "metadata": {},
   "source": [
    "### municipio-municipio_mitma relationship"
   ]
  },
  {
   "cell_type": "code",
   "execution_count": 14,
   "metadata": {},
   "outputs": [
    {
     "name": "stdout",
     "output_type": "stream",
     "text": [
      "<class 'pandas.core.frame.DataFrame'>\n",
      "RangeIndex: 8125 entries, 0 to 8124\n",
      "Data columns (total 2 columns):\n",
      " #   Column           Non-Null Count  Dtype \n",
      "---  ------           --------------  ----- \n",
      " 0   municipio        8125 non-null   int64 \n",
      " 1   municipio_mitma  8125 non-null   object\n",
      "dtypes: int64(1), object(1)\n",
      "memory usage: 127.1+ KB\n"
     ]
    }
   ],
   "source": [
    "relaciones_municipio_mitma = pd.read_csv('~/Trabajo_tfm/datos_csv/relaciones_municipio_mitma.csv') #relaciones_municipio_mitma.info()\n",
    "relaciones_municipio_mitma.info()"
   ]
  },
  {
   "cell_type": "code",
   "execution_count": 15,
   "metadata": {
    "scrolled": true
   },
   "outputs": [
    {
     "data": {
      "text/html": [
       "<div>\n",
       "<style scoped>\n",
       "    .dataframe tbody tr th:only-of-type {\n",
       "        vertical-align: middle;\n",
       "    }\n",
       "\n",
       "    .dataframe tbody tr th {\n",
       "        vertical-align: top;\n",
       "    }\n",
       "\n",
       "    .dataframe thead th {\n",
       "        text-align: right;\n",
       "    }\n",
       "</style>\n",
       "<table border=\"1\" class=\"dataframe\">\n",
       "  <thead>\n",
       "    <tr style=\"text-align: right;\">\n",
       "      <th></th>\n",
       "      <th>municipio</th>\n",
       "      <th>municipio_mitma</th>\n",
       "    </tr>\n",
       "  </thead>\n",
       "  <tbody>\n",
       "    <tr>\n",
       "      <th>0</th>\n",
       "      <td>1001</td>\n",
       "      <td>01001_AM</td>\n",
       "    </tr>\n",
       "    <tr>\n",
       "      <th>1</th>\n",
       "      <td>1002</td>\n",
       "      <td>01002</td>\n",
       "    </tr>\n",
       "    <tr>\n",
       "      <th>2</th>\n",
       "      <td>1003</td>\n",
       "      <td>01058_AM</td>\n",
       "    </tr>\n",
       "    <tr>\n",
       "      <th>3</th>\n",
       "      <td>1004</td>\n",
       "      <td>01010_AM</td>\n",
       "    </tr>\n",
       "    <tr>\n",
       "      <th>4</th>\n",
       "      <td>1006</td>\n",
       "      <td>01047_AM</td>\n",
       "    </tr>\n",
       "  </tbody>\n",
       "</table>\n",
       "</div>"
      ],
      "text/plain": [
       "   municipio municipio_mitma\n",
       "0       1001        01001_AM\n",
       "1       1002           01002\n",
       "2       1003        01058_AM\n",
       "3       1004        01010_AM\n",
       "4       1006        01047_AM"
      ]
     },
     "execution_count": 15,
     "metadata": {},
     "output_type": "execute_result"
    }
   ],
   "source": [
    "relaciones_municipio_mitma.head()"
   ]
  },
  {
   "cell_type": "code",
   "execution_count": 16,
   "metadata": {},
   "outputs": [
    {
     "name": "stdout",
     "output_type": "stream",
     "text": [
      "<class 'pandas.core.frame.DataFrame'>\n",
      "Int64Index: 104170 entries, 0 to 104169\n",
      "Data columns (total 4 columns):\n",
      " #   Column           Non-Null Count   Dtype \n",
      "---  ------           --------------   ----- \n",
      " 0   municipio        104170 non-null  int64 \n",
      " 1   municipio_mitma  104170 non-null  object\n",
      " 2   distrito         104170 non-null  int64 \n",
      " 3   distrito_mitma   104170 non-null  object\n",
      "dtypes: int64(2), object(2)\n",
      "memory usage: 4.0+ MB\n"
     ]
    }
   ],
   "source": [
    "municipios = pd.merge(relaciones_municipio_mitma, distritos_municipios)\n",
    "municipios.info()"
   ]
  },
  {
   "cell_type": "code",
   "execution_count": 17,
   "metadata": {},
   "outputs": [
    {
     "data": {
      "text/html": [
       "<div>\n",
       "<style scoped>\n",
       "    .dataframe tbody tr th:only-of-type {\n",
       "        vertical-align: middle;\n",
       "    }\n",
       "\n",
       "    .dataframe tbody tr th {\n",
       "        vertical-align: top;\n",
       "    }\n",
       "\n",
       "    .dataframe thead th {\n",
       "        text-align: right;\n",
       "    }\n",
       "</style>\n",
       "<table border=\"1\" class=\"dataframe\">\n",
       "  <thead>\n",
       "    <tr style=\"text-align: right;\">\n",
       "      <th></th>\n",
       "      <th>municipio</th>\n",
       "      <th>municipio_mitma</th>\n",
       "      <th>distrito</th>\n",
       "      <th>distrito_mitma</th>\n",
       "    </tr>\n",
       "  </thead>\n",
       "  <tbody>\n",
       "    <tr>\n",
       "      <th>104165</th>\n",
       "      <td>52001</td>\n",
       "      <td>52001</td>\n",
       "      <td>5200104</td>\n",
       "      <td>5200104</td>\n",
       "    </tr>\n",
       "    <tr>\n",
       "      <th>104166</th>\n",
       "      <td>52001</td>\n",
       "      <td>52001</td>\n",
       "      <td>5200105</td>\n",
       "      <td>5200105</td>\n",
       "    </tr>\n",
       "    <tr>\n",
       "      <th>104167</th>\n",
       "      <td>52001</td>\n",
       "      <td>52001</td>\n",
       "      <td>5200106</td>\n",
       "      <td>5200106</td>\n",
       "    </tr>\n",
       "    <tr>\n",
       "      <th>104168</th>\n",
       "      <td>52001</td>\n",
       "      <td>52001</td>\n",
       "      <td>5200107</td>\n",
       "      <td>5200107</td>\n",
       "    </tr>\n",
       "    <tr>\n",
       "      <th>104169</th>\n",
       "      <td>52001</td>\n",
       "      <td>52001</td>\n",
       "      <td>5200108</td>\n",
       "      <td>5200108</td>\n",
       "    </tr>\n",
       "  </tbody>\n",
       "</table>\n",
       "</div>"
      ],
      "text/plain": [
       "        municipio municipio_mitma  distrito distrito_mitma\n",
       "104165      52001           52001   5200104        5200104\n",
       "104166      52001           52001   5200105        5200105\n",
       "104167      52001           52001   5200106        5200106\n",
       "104168      52001           52001   5200107        5200107\n",
       "104169      52001           52001   5200108        5200108"
      ]
     },
     "execution_count": 17,
     "metadata": {},
     "output_type": "execute_result"
    }
   ],
   "source": [
    "municipios.tail()"
   ]
  },
  {
   "cell_type": "code",
   "execution_count": 18,
   "metadata": {},
   "outputs": [
    {
     "data": {
      "text/plain": [
       "[0          True\n",
       " 1          True\n",
       " 2          True\n",
       " 3          True\n",
       " 4          True\n",
       "           ...  \n",
       " 104165    False\n",
       " 104166    False\n",
       " 104167    False\n",
       " 104168    False\n",
       " 104169    False\n",
       " Length: 104170, dtype: bool]"
      ]
     },
     "execution_count": 18,
     "metadata": {},
     "output_type": "execute_result"
    }
   ],
   "source": [
    "[municipios.municipio_mitma == municipios.distrito_mitma]"
   ]
  },
  {
   "cell_type": "markdown",
   "metadata": {},
   "source": [
    "### Selection of provinces with GIS files\n",
    "\n",
    "Choose municipalities of a province delimited by an interval"
   ]
  },
  {
   "cell_type": "code",
   "execution_count": 19,
   "metadata": {},
   "outputs": [],
   "source": [
    "def provincia_div (inferior, superior):\n",
    "    \n",
    "    provincia = relaciones_municipio_mitma.loc[\n",
    "      relaciones_municipio_mitma['municipio']>= inferior].loc[\n",
    "        relaciones_municipio_mitma.loc[relaciones_municipio_mitma['municipio']>= inferior]['municipio']< superior]\n",
    "    \n",
    "    provincia['ID']= provincia.municipio_mitma\n",
    "    provincia_gis = pd.merge(espana_munic, provincia, how='left', on='ID')\n",
    "    provincia_gis = provincia_gis.dropna()\n",
    "    \n",
    "    return provincia, provincia_gis"
   ]
  },
  {
   "cell_type": "code",
   "execution_count": 20,
   "metadata": {},
   "outputs": [],
   "source": [
    "alicante_div, alicante_gis = provincia_div(3000,  4000)\n",
    "almeria_div, almeria_gis = provincia_div(4000,  5000)\n",
    "badajoz_div, badajoz_gis = provincia_div(6000,  7000)\n",
    "cadiz_div, cadiz_gis = provincia_div(11000, 12000)\n",
    "ciudad_real_div, ciudad_real_gis = provincia_div(13000, 14000)\n",
    "cordoba_div, cordoba_gis = provincia_div(14000, 15000)\n",
    "coruna_div, coruna_gis = provincia_div(15000, 16000)\n",
    "granada_div, granada_gis = provincia_div(18000, 19000)\n",
    "huelva_div, huelva_gis = provincia_div(21000, 22000)\n",
    "jaen_div, jaen_gis = provincia_div(23000, 24000)\n",
    "lugo_div, lugo_gis = provincia_div(27000, 28000)\n",
    "madrid_div, madrid_gis = provincia_div(28000, 29000)\n",
    "malaga_div, malaga_gis = provincia_div(29000, 30000)\n",
    "orense_div, orense_gis = provincia_div(32000, 33000)\n",
    "palencia_div, palencia_gis = provincia_div(34000, 35000)\n",
    "pontevedra_div, pontevedra_gis = provincia_div(36000, 37000)\n",
    "salamanca_div, salamanca_gis = provincia_div(37000, 38000)\n",
    "sevilla_div, sevilla_gis = provincia_div(41000, 42000)\n",
    "valencia_div, valencia_gis = provincia_div(46000, 47000)\n",
    "zamora_div, zamora_gis = provincia_div(49000, 50000)\n",
    "zaragoza_div, zaragoza_gis = provincia_div(50000, 60000)"
   ]
  },
  {
   "cell_type": "code",
   "execution_count": 21,
   "metadata": {},
   "outputs": [],
   "source": [
    "galicia_gis = pd.concat([coruna_gis.geometry, lugo_gis.geometry, orense_gis.geometry,\n",
    "                         pontevedra_gis.geometry]) \n",
    "andalucia_gis = pd.concat([jaen_gis.geometry, cordoba_gis.geometry, sevilla_gis.geometry,\n",
    "                           huelva_gis.geometry, cadiz_gis.geometry, malaga_gis.geometry,\n",
    "                           granada_gis.geometry, almeria_gis.geometry]) "
   ]
  },
  {
   "cell_type": "code",
   "execution_count": 22,
   "metadata": {},
   "outputs": [
    {
     "data": {
      "image/png": "[encoded data removed]",
      "text/plain": [
       "<Figure size 432x288 with 1 Axes>"
      ]
     },
     "metadata": {
      "needs_background": "light"
     },
     "output_type": "display_data"
    },
    {
     "data": {
      "image/png": "[encoded data removed]",
      "text/plain": [
       "<Figure size 432x288 with 1 Axes>"
      ]
     },
     "metadata": {
      "needs_background": "light"
     },
     "output_type": "display_data"
    }
   ],
   "source": [
    "ax1 = andalucia_gis.plot()\n",
    "ax2 = galicia_gis.plot()\n",
    "plt.show()"
   ]
  },
  {
   "cell_type": "code",
   "execution_count": 23,
   "metadata": {},
   "outputs": [],
   "source": [
    "provincias = pd.concat([coruna_gis.geometry, lugo_gis.geometry, orense_gis.geometry,\n",
    "                        pontevedra_gis.geometry, jaen_gis.geometry, cordoba_gis.geometry,\n",
    "                        sevilla_gis.geometry,\n",
    "                        huelva_gis.geometry, cadiz_gis.geometry, malaga_gis.geometry,\n",
    "                        granada_gis.geometry, almeria_gis.geometry,\n",
    "                        badajoz_gis.geometry, zamora_gis.geometry,\n",
    "                        zaragoza_gis.geometry,\n",
    "                        valencia_gis.geometry,\n",
    "                        salamanca_gis.geometry,\n",
    "                        palencia_gis.geometry,\n",
    "                        madrid_gis.geometry,\n",
    "                        ciudad_real_gis.geometry,\n",
    "                        alicante_gis.geometry\n",
    "                        ])"
   ]
  },
  {
   "cell_type": "code",
   "execution_count": 24,
   "metadata": {},
   "outputs": [
    {
     "data": {
      "image/png": "[encoded data removed]",
      "text/plain": [
       "<Figure size 432x288 with 1 Axes>"
      ]
     },
     "metadata": {
      "needs_background": "light"
     },
     "output_type": "display_data"
    },
    {
     "data": {
      "image/png": "[encoded data removed]",
      "text/plain": [
       "<Figure size 432x288 with 1 Axes>"
      ]
     },
     "metadata": {
      "needs_background": "light"
     },
     "output_type": "display_data"
    }
   ],
   "source": [
    "espana_dist_gis = espana_dist.geometry\n",
    "ax = espana_dist_gis.plot()\n",
    "ax = provincias.plot()\n",
    "\n",
    "plt.show()"
   ]
  },
  {
   "cell_type": "code",
   "execution_count": 25,
   "metadata": {},
   "outputs": [],
   "source": [
    "divs_provincias = [[alicante_div, 'ALICANTE'], [almeria_div, 'ALMERIA'],\n",
    "                   [badajoz_div, 'BADAJOZ'], [cadiz_div, 'CADIZ'],\n",
    "                   [ciudad_real_div, 'CIUDAD_REAL'], [cordoba_div, 'CORDOBA'],\n",
    "                   [granada_div, 'GRANADA'], [huelva_div, 'HUELVA'],\n",
    "                   [jaen_div, 'JAEN'], [coruna_div, 'LA_CORUÑA'],\n",
    "                   [lugo_div, 'LUGO'], [madrid_div, 'MADRID'],\n",
    "                   [malaga_div, 'MALAGA'], [orense_div, 'ORENSE'],\n",
    "                   [palencia_div, 'PALENCIA'], [pontevedra_div, 'PONTEVEDRA'],\n",
    "                   [salamanca_div, 'SALAMANCA'], [sevilla_div, 'SEVILLA'],\n",
    "                   [valencia_div, 'VALENCIA'], [zamora_div, 'ZAMORA'],\n",
    "                   [zaragoza_div, 'ZARAGOZA']]"
   ]
  },
  {
   "cell_type": "code",
   "execution_count": 51,
   "metadata": {},
   "outputs": [],
   "source": [
    "#datos_fechas = pd.read_csv(\"~/Trabajo_tfm/datos_csv/jaen_meteo.csv\", usecols=['fecha']) # cualquier\n",
    "#datos_fechas = pd.read_csv(\"~/Trabajo_tfm/datos_csv/jaen_meteo.csv\") # cualquier"
   ]
  },
  {
   "cell_type": "markdown",
   "metadata": {},
   "source": [
    "# Data"
   ]
  },
  {
   "cell_type": "code",
   "execution_count": 26,
   "metadata": {},
   "outputs": [],
   "source": [
    "from ipynb.fs.full.funciones_eda import  funcion_inversion_fecha, funcion_fecha"
   ]
  },
  {
   "cell_type": "code",
   "execution_count": 27,
   "metadata": {},
   "outputs": [
    {
     "data": {
      "text/html": [
       "<div>\n",
       "<style scoped>\n",
       "    .dataframe tbody tr th:only-of-type {\n",
       "        vertical-align: middle;\n",
       "    }\n",
       "\n",
       "    .dataframe tbody tr th {\n",
       "        vertical-align: top;\n",
       "    }\n",
       "\n",
       "    .dataframe thead th {\n",
       "        text-align: right;\n",
       "    }\n",
       "</style>\n",
       "<table border=\"1\" class=\"dataframe\">\n",
       "  <thead>\n",
       "    <tr style=\"text-align: right;\">\n",
       "      <th></th>\n",
       "      <th>fecha</th>\n",
       "    </tr>\n",
       "  </thead>\n",
       "  <tbody>\n",
       "    <tr>\n",
       "      <th>0</th>\n",
       "      <td>2020-03-01</td>\n",
       "    </tr>\n",
       "    <tr>\n",
       "      <th>1</th>\n",
       "      <td>2020-03-02</td>\n",
       "    </tr>\n",
       "    <tr>\n",
       "      <th>2</th>\n",
       "      <td>2020-03-03</td>\n",
       "    </tr>\n",
       "    <tr>\n",
       "      <th>3</th>\n",
       "      <td>2020-03-04</td>\n",
       "    </tr>\n",
       "    <tr>\n",
       "      <th>4</th>\n",
       "      <td>2020-03-05</td>\n",
       "    </tr>\n",
       "    <tr>\n",
       "      <th>...</th>\n",
       "      <td>...</td>\n",
       "    </tr>\n",
       "    <tr>\n",
       "      <th>332</th>\n",
       "      <td>2021-01-27</td>\n",
       "    </tr>\n",
       "    <tr>\n",
       "      <th>333</th>\n",
       "      <td>2021-01-28</td>\n",
       "    </tr>\n",
       "    <tr>\n",
       "      <th>334</th>\n",
       "      <td>2021-01-29</td>\n",
       "    </tr>\n",
       "    <tr>\n",
       "      <th>335</th>\n",
       "      <td>2021-01-30</td>\n",
       "    </tr>\n",
       "    <tr>\n",
       "      <th>336</th>\n",
       "      <td>2021-01-31</td>\n",
       "    </tr>\n",
       "  </tbody>\n",
       "</table>\n",
       "<p>337 rows × 1 columns</p>\n",
       "</div>"
      ],
      "text/plain": [
       "          fecha\n",
       "0    2020-03-01\n",
       "1    2020-03-02\n",
       "2    2020-03-03\n",
       "3    2020-03-04\n",
       "4    2020-03-05\n",
       "..          ...\n",
       "332  2021-01-27\n",
       "333  2021-01-28\n",
       "334  2021-01-29\n",
       "335  2021-01-30\n",
       "336  2021-01-31\n",
       "\n",
       "[337 rows x 1 columns]"
      ]
     },
     "execution_count": 27,
     "metadata": {},
     "output_type": "execute_result"
    }
   ],
   "source": [
    "datos_fechas = pd.read_csv(\"~/Trabajo_tfm/datos_csv/datos_fechas.csv\", usecols=['fecha'])\n",
    "#datos_fechas"
   ]
  },
  {
   "cell_type": "code",
   "execution_count": 28,
   "metadata": {},
   "outputs": [],
   "source": [
    "# para leer los ficheros por fecha\n",
    "fechas =[]\n",
    "for dia in np.arange(datos_fechas.size) :\n",
    "    fecha = funcion_inversion_fecha (datos_fechas.fecha[dia])\n",
    "    fechas.append(fecha)"
   ]
  },
  {
   "cell_type": "markdown",
   "metadata": {},
   "source": [
    "## Extraction of distance and period mobility data\n",
    "**\"destino\" field used to separate external from internal trips**"
   ]
  },
  {
   "cell_type": "code",
   "execution_count": 59,
   "metadata": {
    "code_folding": []
   },
   "outputs": [
    {
     "name": "stdout",
     "output_type": "stream",
     "text": [
      "Dia : 2020-03-01\n",
      "Dia : 2020-03-02\n",
      "Dia : 2020-03-03\n",
      "Dia : 2020-03-04\n",
      "Dia : 2020-03-05\n",
      "Dia : 2020-03-06\n",
      "Dia : 2020-03-07\n",
      "Dia : 2020-03-08\n",
      "Dia : 2020-03-09\n",
      "Dia : 2020-03-10\n",
      "Dia : 2020-03-11\n",
      "Dia : 2020-03-12\n",
      "Dia : 2020-03-13\n",
      "Dia : 2020-03-14\n",
      "Dia : 2020-03-15\n",
      "Dia : 2020-03-16\n",
      "Dia : 2020-03-17\n",
      "Dia : 2020-03-18\n",
      "Dia : 2020-03-19\n",
      "Dia : 2020-03-20\n",
      "Dia : 2020-03-21\n",
      "Dia : 2020-03-22\n",
      "Dia : 2020-03-23\n",
      "Dia : 2020-03-24\n",
      "Dia : 2020-03-25\n",
      "Dia : 2020-03-26\n",
      "Dia : 2020-03-27\n",
      "Dia : 2020-03-28\n",
      "Dia : 2020-03-29\n",
      "Dia : 2020-03-30\n",
      "Dia : 2020-03-31\n",
      "Dia : 2020-04-01\n",
      "Dia : 2020-04-02\n",
      "Dia : 2020-04-03\n",
      "Dia : 2020-04-04\n",
      "Dia : 2020-04-05\n",
      "Dia : 2020-04-06\n",
      "Dia : 2020-04-07\n",
      "Dia : 2020-04-08\n",
      "Dia : 2020-04-09\n",
      "Dia : 2020-04-10\n",
      "Dia : 2020-04-11\n",
      "Dia : 2020-04-12\n",
      "Dia : 2020-04-13\n",
      "Dia : 2020-04-14\n",
      "Dia : 2020-04-15\n",
      "Dia : 2020-04-16\n",
      "Dia : 2020-04-17\n",
      "Dia : 2020-04-18\n",
      "Dia : 2020-04-19\n",
      "Dia : 2020-04-20\n",
      "Dia : 2020-04-21\n",
      "Dia : 2020-04-22\n",
      "Dia : 2020-04-23\n",
      "Dia : 2020-04-24\n",
      "Dia : 2020-04-25\n",
      "Dia : 2020-04-26\n",
      "Dia : 2020-04-27\n",
      "Dia : 2020-04-28\n",
      "Dia : 2020-04-29\n",
      "Dia : 2020-04-30\n",
      "Dia : 2020-05-01\n",
      "Dia : 2020-05-02\n",
      "Dia : 2020-05-03\n",
      "Dia : 2020-05-04\n",
      "Dia : 2020-05-05\n",
      "Dia : 2020-05-06\n",
      "Dia : 2020-05-07\n",
      "Dia : 2020-05-08\n",
      "Dia : 2020-05-09\n",
      "Dia : 2020-05-10\n",
      "Dia : 2020-05-11\n",
      "Dia : 2020-05-12\n",
      "Dia : 2020-05-13\n",
      "Dia : 2020-05-14\n",
      "Dia : 2020-05-15\n",
      "Dia : 2020-05-16\n",
      "Dia : 2020-05-17\n",
      "Dia : 2020-05-18\n",
      "Dia : 2020-05-19\n",
      "Dia : 2020-05-20\n",
      "Dia : 2020-05-21\n",
      "Dia : 2020-05-22\n",
      "Dia : 2020-05-23\n",
      "Dia : 2020-05-24\n",
      "Dia : 2020-05-25\n",
      "Dia : 2020-05-26\n",
      "Dia : 2020-05-27\n",
      "Dia : 2020-05-28\n",
      "Dia : 2020-05-29\n",
      "Dia : 2020-05-30\n",
      "Dia : 2020-05-31\n",
      "Dia : 2020-06-01\n",
      "Dia : 2020-06-02\n",
      "Dia : 2020-06-03\n",
      "Dia : 2020-06-04\n",
      "Dia : 2020-06-05\n",
      "Dia : 2020-06-06\n",
      "Dia : 2020-06-07\n",
      "Dia : 2020-06-08\n",
      "Dia : 2020-06-09\n",
      "Dia : 2020-06-10\n",
      "Dia : 2020-06-11\n",
      "Dia : 2020-06-12\n",
      "Dia : 2020-06-13\n",
      "Dia : 2020-06-14\n",
      "Dia : 2020-06-15\n",
      "Dia : 2020-06-16\n",
      "Dia : 2020-06-17\n",
      "Dia : 2020-06-18\n",
      "Dia : 2020-06-19\n",
      "Dia : 2020-06-20\n",
      "Dia : 2020-06-21\n",
      "Dia : 2020-06-22\n",
      "Dia : 2020-06-23\n",
      "Dia : 2020-06-24\n",
      "Dia : 2020-06-25\n",
      "Dia : 2020-06-26\n",
      "Dia : 2020-06-27\n",
      "Dia : 2020-06-28\n",
      "Dia : 2020-06-29\n",
      "Dia : 2020-06-30\n",
      "Dia : 2020-07-01\n",
      "Dia : 2020-07-02\n",
      "Dia : 2020-07-03\n",
      "Dia : 2020-07-04\n",
      "Dia : 2020-07-05\n",
      "Dia : 2020-07-06\n",
      "Dia : 2020-07-07\n",
      "Dia : 2020-07-08\n",
      "Dia : 2020-07-09\n",
      "Dia : 2020-07-10\n",
      "Dia : 2020-07-11\n",
      "Dia : 2020-07-12\n",
      "Dia : 2020-07-13\n",
      "Dia : 2020-07-14\n",
      "Dia : 2020-07-15\n",
      "Dia : 2020-07-16\n",
      "Dia : 2020-07-17\n",
      "Dia : 2020-07-18\n",
      "Dia : 2020-07-19\n",
      "Dia : 2020-07-20\n",
      "Dia : 2020-07-21\n",
      "Dia : 2020-07-22\n",
      "Dia : 2020-07-23\n",
      "Dia : 2020-07-24\n",
      "Dia : 2020-07-25\n",
      "Dia : 2020-07-26\n",
      "Dia : 2020-07-27\n",
      "Dia : 2020-07-28\n",
      "Dia : 2020-07-29\n",
      "Dia : 2020-07-30\n",
      "Dia : 2020-07-31\n",
      "Dia : 2020-08-01\n",
      "Dia : 2020-08-02\n",
      "Dia : 2020-08-03\n",
      "Dia : 2020-08-04\n",
      "Dia : 2020-08-05\n",
      "Dia : 2020-08-06\n",
      "Dia : 2020-08-07\n",
      "Dia : 2020-08-08\n",
      "Dia : 2020-08-09\n",
      "Dia : 2020-08-10\n",
      "Dia : 2020-08-11\n",
      "Dia : 2020-08-12\n",
      "Dia : 2020-08-13\n",
      "Dia : 2020-08-14\n",
      "Dia : 2020-08-15\n",
      "Dia : 2020-08-16\n",
      "Dia : 2020-08-17\n",
      "Dia : 2020-08-18\n",
      "Dia : 2020-08-19\n",
      "Dia : 2020-08-20\n",
      "Dia : 2020-08-21\n",
      "Dia : 2020-08-22\n",
      "Dia : 2020-08-23\n",
      "Dia : 2020-08-24\n",
      "Dia : 2020-08-25\n",
      "Dia : 2020-08-26\n",
      "Dia : 2020-08-27\n",
      "Dia : 2020-08-28\n",
      "Dia : 2020-08-29\n",
      "Dia : 2020-08-30\n",
      "Dia : 2020-08-31\n",
      "Dia : 2020-09-01\n",
      "Dia : 2020-09-02\n",
      "Dia : 2020-09-03\n",
      "Dia : 2020-09-04\n",
      "Dia : 2020-09-05\n",
      "Dia : 2020-09-06\n",
      "Dia : 2020-09-07\n",
      "Dia : 2020-09-08\n",
      "Dia : 2020-09-09\n",
      "Dia : 2020-09-10\n",
      "Dia : 2020-09-11\n",
      "Dia : 2020-09-12\n",
      "Dia : 2020-09-13\n",
      "Dia : 2020-09-14\n",
      "Dia : 2020-09-15\n",
      "Dia : 2020-09-16\n",
      "Dia : 2020-09-17\n",
      "Dia : 2020-09-18\n",
      "Dia : 2020-09-19\n",
      "Dia : 2020-09-20\n",
      "Dia : 2020-09-21\n",
      "Dia : 2020-09-22\n",
      "Dia : 2020-09-23\n",
      "Dia : 2020-09-24\n",
      "Dia : 2020-09-25\n",
      "Dia : 2020-09-26\n",
      "Dia : 2020-09-27\n",
      "Dia : 2020-09-28\n",
      "Dia : 2020-09-29\n",
      "Dia : 2020-09-30\n",
      "Dia : 2020-10-01\n",
      "Dia : 2020-10-02\n",
      "Dia : 2020-10-03\n",
      "Dia : 2020-10-04\n",
      "Dia : 2020-10-05\n",
      "Dia : 2020-10-06\n",
      "Dia : 2020-10-07\n",
      "Dia : 2020-10-08\n",
      "Dia : 2020-10-09\n",
      "Dia : 2020-10-10\n",
      "Dia : 2020-10-11\n",
      "Dia : 2020-10-12\n",
      "Dia : 2020-10-13\n",
      "Dia : 2020-10-14\n",
      "Dia : 2020-10-15\n",
      "Dia : 2020-10-16\n",
      "Dia : 2020-10-17\n",
      "Dia : 2020-10-18\n",
      "Dia : 2020-10-19\n",
      "Dia : 2020-10-20\n",
      "Dia : 2020-10-21\n",
      "Dia : 2020-10-22\n",
      "Dia : 2020-10-23\n",
      "Dia : 2020-10-24\n",
      "Dia : 2020-10-25\n",
      "Dia : 2020-10-26\n",
      "Dia : 2020-10-27\n",
      "Dia : 2020-10-28\n",
      "Dia : 2020-10-29\n",
      "Dia : 2020-10-30\n",
      "Dia : 2020-10-31\n",
      "Dia : 2020-11-01\n",
      "Dia : 2020-11-02\n",
      "Dia : 2020-11-03\n",
      "Dia : 2020-11-04\n",
      "Dia : 2020-11-05\n",
      "Dia : 2020-11-06\n",
      "Dia : 2020-11-07\n",
      "Dia : 2020-11-08\n",
      "Dia : 2020-11-09\n",
      "Dia : 2020-11-10\n",
      "Dia : 2020-11-11\n",
      "Dia : 2020-11-12\n",
      "Dia : 2020-11-13\n",
      "Dia : 2020-11-14\n",
      "Dia : 2020-11-15\n",
      "Dia : 2020-11-16\n",
      "Dia : 2020-11-17\n",
      "Dia : 2020-11-18\n",
      "Dia : 2020-11-19\n",
      "Dia : 2020-11-20\n",
      "Dia : 2020-11-21\n",
      "Dia : 2020-11-22\n",
      "Dia : 2020-11-23\n",
      "Dia : 2020-11-24\n",
      "Dia : 2020-11-25\n",
      "Dia : 2020-11-26\n",
      "Dia : 2020-11-27\n",
      "Dia : 2020-11-28\n",
      "Dia : 2020-11-29\n",
      "Dia : 2020-11-30\n",
      "Dia : 2020-12-01\n",
      "Dia : 2020-12-02\n",
      "Dia : 2020-12-03\n",
      "Dia : 2020-12-04\n",
      "Dia : 2020-12-05\n",
      "Dia : 2020-12-06\n",
      "Dia : 2020-12-07\n",
      "Dia : 2020-12-08\n",
      "Dia : 2020-12-09\n",
      "Dia : 2020-12-10\n",
      "Dia : 2020-12-11\n",
      "Dia : 2020-12-12\n",
      "Dia : 2020-12-13\n",
      "Dia : 2020-12-14\n",
      "Dia : 2020-12-15\n",
      "Dia : 2020-12-16\n",
      "Dia : 2020-12-17\n",
      "Dia : 2020-12-18\n",
      "Dia : 2020-12-19\n",
      "Dia : 2020-12-20\n",
      "Dia : 2020-12-21\n",
      "Dia : 2020-12-22\n",
      "Dia : 2020-12-23\n",
      "Dia : 2020-12-24\n",
      "Dia : 2020-12-25\n",
      "Dia : 2020-12-26\n",
      "Dia : 2020-12-27\n",
      "Dia : 2020-12-28\n",
      "Dia : 2020-12-29\n",
      "Dia : 2020-12-30\n",
      "Dia : 2020-12-31\n",
      "Dia : 2021-01-01\n",
      "Dia : 2021-01-02\n",
      "Dia : 2021-01-03\n",
      "Dia : 2021-01-04\n",
      "Dia : 2021-01-05\n",
      "Dia : 2021-01-06\n",
      "Dia : 2021-01-07\n",
      "Dia : 2021-01-08\n",
      "Dia : 2021-01-09\n",
      "Dia : 2021-01-10\n",
      "Dia : 2021-01-11\n",
      "Dia : 2021-01-12\n",
      "Dia : 2021-01-13\n",
      "Dia : 2021-01-14\n",
      "Dia : 2021-01-15\n",
      "Dia : 2021-01-16\n",
      "Dia : 2021-01-17\n",
      "Dia : 2021-01-18\n",
      "Dia : 2021-01-19\n",
      "Dia : 2021-01-20\n",
      "Dia : 2021-01-21\n",
      "Dia : 2021-01-22\n",
      "Dia : 2021-01-23\n",
      "Dia : 2021-01-24\n",
      "Dia : 2021-01-25\n",
      "Dia : 2021-01-26\n",
      "Dia : 2021-01-27\n",
      "Dia : 2021-01-28\n",
      "Dia : 2021-01-29\n",
      "Dia : 2021-01-30\n",
      "Dia : 2021-01-31\n"
     ]
    }
   ],
   "source": [
    "distancias = []\n",
    "distancias_ext = []\n",
    "cols_eliminar = [\"origen\", 'destino']\n",
    "\n",
    "for fecha in fechas :\n",
    "    \n",
    "    fecha_d = funcion_fecha(fecha)\n",
    "    print('Dia :', fecha_d)\n",
    "    \n",
    "    dia = pd.read_csv('~/Trabajo_tfm/datos_csv/m1_municipios/'+ fecha +'_maestra_1_mitma_municipio.txt',\n",
    "                      sep = '|', thousands = '.', memory_map  = True, low_memory=False,\n",
    "                      usecols=[\"origen\", \"destino\",\"periodo\", \"distancia\", \"viajes\", \"viajes_km\"])\n",
    "    \n",
    "    viajes_int = dia[dia.origen == dia.destino]\n",
    "    viajes_ext = dia[dia.origen != dia.destino]\n",
    "    \n",
    "    viajes_int['municipio_mitma']= viajes_int.origen # para unirlos con merge\n",
    "    viajes_ext['municipio_mitma']= viajes_ext.origen # para unirlos con merge\n",
    "    \n",
    "    #dia = dia.drop(columns = cols_eliminar)\n",
    "\n",
    "    for div_provincia in divs_provincias :# loop por provincias \n",
    "                  \n",
    "        total_viajes_provincia = pd.merge(div_provincia[0], # municipios provincias\n",
    "                                          viajes_int.drop(columns = cols_eliminar), how='left', on='municipio_mitma') \n",
    "        total_viajes_ext = pd.merge(div_provincia[0], # municipios provincias\n",
    "                                      viajes_ext.drop(columns = cols_eliminar), how='left', on='municipio_mitma') \n",
    "        \n",
    "        distancias.append(\n",
    "                [fecha_d, div_provincia[1],\n",
    "                 total_viajes_provincia[total_viajes_provincia.distancia == '0005-002'].viajes.sum(),\n",
    "                 total_viajes_provincia[total_viajes_provincia.distancia == '002-005'].viajes.sum(),\n",
    "                 total_viajes_provincia[total_viajes_provincia.distancia == '005-010'].viajes.sum(),\n",
    "                 total_viajes_provincia[total_viajes_provincia.distancia == '010-050'].viajes.sum(),\n",
    "                 total_viajes_provincia[total_viajes_provincia.distancia == '050-100'].viajes.sum(),\n",
    "                 total_viajes_provincia[total_viajes_provincia.distancia == '100+'].viajes.sum(),\n",
    "                 total_viajes_provincia[total_viajes_provincia.periodo.isin([0,1,2,3])].viajes.sum(),\n",
    "                 total_viajes_provincia[total_viajes_provincia.periodo.isin([4,5,6,7])].viajes.sum(),                         \n",
    "                 total_viajes_provincia[total_viajes_provincia.periodo.isin([8,9,10,11])].viajes.sum(),\n",
    "                 total_viajes_provincia[total_viajes_provincia.periodo.isin([12,13,14,15])].viajes.sum(),\n",
    "                 total_viajes_provincia[total_viajes_provincia.periodo.isin([16,17,18,19])].viajes.sum(),\n",
    "                 total_viajes_provincia[total_viajes_provincia.periodo.isin([20,21,22,23])].viajes.sum(),\n",
    "                 total_viajes_provincia[total_viajes_provincia.distancia == '0005-002'].viajes_km.sum(),\n",
    "                 total_viajes_provincia[total_viajes_provincia.distancia == '002-005'].viajes_km.sum(),\n",
    "                 total_viajes_provincia[total_viajes_provincia.distancia == '005-010'].viajes_km.sum(),\n",
    "                 total_viajes_provincia[total_viajes_provincia.distancia == '010-050'].viajes_km.sum(),\n",
    "                 total_viajes_provincia[total_viajes_provincia.distancia == '050-100'].viajes_km.sum(),\n",
    "                 total_viajes_provincia[total_viajes_provincia.distancia == '100+'].viajes_km.sum(),\n",
    "                 total_viajes_provincia[total_viajes_provincia.periodo.isin([0,1,2,3])].viajes_km.sum(),\n",
    "                 total_viajes_provincia[total_viajes_provincia.periodo.isin([4,5,6,7])].viajes_km.sum(),                         \n",
    "                 total_viajes_provincia[total_viajes_provincia.periodo.isin([8,9,10,11])].viajes_km.sum(),\n",
    "                 total_viajes_provincia[total_viajes_provincia.periodo.isin([12,13,14,15])].viajes_km.sum(),\n",
    "                 total_viajes_provincia[total_viajes_provincia.periodo.isin([16,17,18,19])].viajes_km.sum(),\n",
    "                 total_viajes_provincia[total_viajes_provincia.periodo.isin([20,21,22,23])].viajes_km.sum(),\n",
    "                 \n",
    "                 total_viajes_ext[total_viajes_ext.distancia == '0005-002'].viajes.sum(),\n",
    "                 total_viajes_ext[total_viajes_ext.distancia == '002-005'].viajes.sum(),\n",
    "                 total_viajes_ext[total_viajes_ext.distancia == '005-010'].viajes.sum(),\n",
    "                 total_viajes_ext[total_viajes_ext.distancia == '010-050'].viajes.sum(),\n",
    "                 total_viajes_ext[total_viajes_ext.distancia == '050-100'].viajes.sum(),\n",
    "                 total_viajes_ext[total_viajes_ext.distancia == '100+'].viajes.sum(),\n",
    "                 total_viajes_ext[total_viajes_ext.periodo.isin([0,1,2,3])].viajes.sum(),\n",
    "                 total_viajes_ext[total_viajes_ext.periodo.isin([4,5,6,7])].viajes.sum(),                         \n",
    "                 total_viajes_ext[total_viajes_ext.periodo.isin([8,9,10,11])].viajes.sum(),\n",
    "                 total_viajes_ext[total_viajes_ext.periodo.isin([12,13,14,15])].viajes.sum(),\n",
    "                 total_viajes_ext[total_viajes_ext.periodo.isin([16,17,18,19])].viajes.sum(),\n",
    "                 total_viajes_ext[total_viajes_ext.periodo.isin([20,21,22,23])].viajes.sum(),\n",
    "                 total_viajes_ext[total_viajes_ext.distancia == '0005-002'].viajes_km.sum(),\n",
    "                 total_viajes_ext[total_viajes_ext.distancia == '002-005'].viajes_km.sum(),\n",
    "                 total_viajes_ext[total_viajes_ext.distancia == '005-010'].viajes_km.sum(),\n",
    "                 total_viajes_ext[total_viajes_ext.distancia == '010-050'].viajes_km.sum(),\n",
    "                 total_viajes_ext[total_viajes_ext.distancia == '050-100'].viajes_km.sum(),\n",
    "                 total_viajes_ext[total_viajes_ext.distancia == '100+'].viajes_km.sum(),\n",
    "                 total_viajes_ext[total_viajes_ext.periodo.isin([0,1,2,3])].viajes_km.sum(),\n",
    "                 total_viajes_ext[total_viajes_ext.periodo.isin([4,5,6,7])].viajes_km.sum(),                         \n",
    "                 total_viajes_ext[total_viajes_ext.periodo.isin([8,9,10,11])].viajes_km.sum(),\n",
    "                 total_viajes_ext[total_viajes_ext.periodo.isin([12,13,14,15])].viajes_km.sum(),\n",
    "                 total_viajes_ext[total_viajes_ext.periodo.isin([16,17,18,19])].viajes_km.sum(),\n",
    "                 total_viajes_ext[total_viajes_ext.periodo.isin([20,21,22,23])].viajes_km.sum()\n",
    "                ])  \n"
   ]
  },
  {
   "cell_type": "code",
   "execution_count": 61,
   "metadata": {},
   "outputs": [],
   "source": [
    "m1_distancias = pd.DataFrame(\n",
    "    distancias,columns= ['fecha', 'provincia', 'v_muy_cortos','v_cortos',\n",
    "                         'v_medios','v_largos','v_muy_largos','v_extra_largos',\n",
    "                         'v_noche','v_madrugada','v_mañana', 'v_mediodia', 'v_sobremesa', 'v_tarde',\n",
    "                         'v_km_muy_cortos','v_km_cortos', 'v_km_medios','v_km_largos','v_km_muy_largos',\n",
    "                         'v_km_extra_largos','v_km_noche','v_km_madrugada','v_km_mañana','v_km_mediodia',\n",
    "                         'v_km_sobremesa','v_km_tarde',\n",
    "                         'vext_muy_cortos','vext_cortos',\n",
    "                         'vext_medios','vext_largos','vext_muy_largos','vext_extra_largos',\n",
    "                         'vext_noche','vext_madrugada','vext_mañana', 'vext_mediodia', 'vext_sobremesa', 'vext_tarde',\n",
    "                         'vext_km_muy_cortos','vext_km_cortos', 'vext_km_medios','vext_km_largos','vext_km_muy_largos',\n",
    "                         'vext_km_extra_largos','vext_km_noche','vext_km_madrugada','vext_km_mañana','vext_km_mediodia',\n",
    "                         'vext_km_sobremesa','vext_km_tarde'])"
   ]
  },
  {
   "cell_type": "code",
   "execution_count": 62,
   "metadata": {},
   "outputs": [
    {
     "name": "stdout",
     "output_type": "stream",
     "text": [
      "<class 'pandas.core.frame.DataFrame'>\n",
      "RangeIndex: 7077 entries, 0 to 7076\n",
      "Data columns (total 50 columns):\n",
      " #   Column                Non-Null Count  Dtype  \n",
      "---  ------                --------------  -----  \n",
      " 0   fecha                 7077 non-null   object \n",
      " 1   provincia             7077 non-null   object \n",
      " 2   v_muy_cortos          7077 non-null   float64\n",
      " 3   v_cortos              7077 non-null   float64\n",
      " 4   v_medios              7077 non-null   float64\n",
      " 5   v_largos              7077 non-null   float64\n",
      " 6   v_muy_largos          7077 non-null   float64\n",
      " 7   v_extra_largos        7077 non-null   float64\n",
      " 8   v_noche               7077 non-null   float64\n",
      " 9   v_madrugada           7077 non-null   float64\n",
      " 10  v_mañana              7077 non-null   float64\n",
      " 11  v_mediodia            7077 non-null   float64\n",
      " 12  v_sobremesa           7077 non-null   float64\n",
      " 13  v_tarde               7077 non-null   float64\n",
      " 14  v_km_muy_cortos       7077 non-null   float64\n",
      " 15  v_km_cortos           7077 non-null   float64\n",
      " 16  v_km_medios           7077 non-null   float64\n",
      " 17  v_km_largos           7077 non-null   float64\n",
      " 18  v_km_muy_largos       7077 non-null   float64\n",
      " 19  v_km_extra_largos     7077 non-null   float64\n",
      " 20  v_km_noche            7077 non-null   float64\n",
      " 21  v_km_madrugada        7077 non-null   float64\n",
      " 22  v_km_mañana           7077 non-null   float64\n",
      " 23  v_km_mediodia         7077 non-null   float64\n",
      " 24  v_km_sobremesa        7077 non-null   float64\n",
      " 25  v_km_tarde            7077 non-null   float64\n",
      " 26  vext_muy_cortos       7077 non-null   float64\n",
      " 27  vext_cortos           7077 non-null   float64\n",
      " 28  vext_medios           7077 non-null   float64\n",
      " 29  vext_largos           7077 non-null   float64\n",
      " 30  vext_muy_largos       7077 non-null   float64\n",
      " 31  vext_extra_largos     7077 non-null   float64\n",
      " 32  vext_noche            7077 non-null   float64\n",
      " 33  vext_madrugada        7077 non-null   float64\n",
      " 34  vext_mañana           7077 non-null   float64\n",
      " 35  vext_mediodia         7077 non-null   float64\n",
      " 36  vext_sobremesa        7077 non-null   float64\n",
      " 37  vext_tarde            7077 non-null   float64\n",
      " 38  vext_km_muy_cortos    7077 non-null   float64\n",
      " 39  vext_km_cortos        7077 non-null   float64\n",
      " 40  vext_km_medios        7077 non-null   float64\n",
      " 41  vext_km_largos        7077 non-null   float64\n",
      " 42  vext_km_muy_largos    7077 non-null   float64\n",
      " 43  vext_km_extra_largos  7077 non-null   float64\n",
      " 44  vext_km_noche         7077 non-null   float64\n",
      " 45  vext_km_madrugada     7077 non-null   float64\n",
      " 46  vext_km_mañana        7077 non-null   float64\n",
      " 47  vext_km_mediodia      7077 non-null   float64\n",
      " 48  vext_km_sobremesa     7077 non-null   float64\n",
      " 49  vext_km_tarde         7077 non-null   float64\n",
      "dtypes: float64(48), object(2)\n",
      "memory usage: 2.7+ MB\n"
     ]
    }
   ],
   "source": [
    "m1_distancias.info()"
   ]
  },
  {
   "cell_type": "code",
   "execution_count": 63,
   "metadata": {},
   "outputs": [
    {
     "data": {
      "text/html": [
       "<div>\n",
       "<style scoped>\n",
       "    .dataframe tbody tr th:only-of-type {\n",
       "        vertical-align: middle;\n",
       "    }\n",
       "\n",
       "    .dataframe tbody tr th {\n",
       "        vertical-align: top;\n",
       "    }\n",
       "\n",
       "    .dataframe thead th {\n",
       "        text-align: right;\n",
       "    }\n",
       "</style>\n",
       "<table border=\"1\" class=\"dataframe\">\n",
       "  <thead>\n",
       "    <tr style=\"text-align: right;\">\n",
       "      <th></th>\n",
       "      <th>fecha</th>\n",
       "      <th>provincia</th>\n",
       "      <th>v_muy_cortos</th>\n",
       "      <th>v_cortos</th>\n",
       "      <th>v_medios</th>\n",
       "      <th>v_largos</th>\n",
       "      <th>v_muy_largos</th>\n",
       "      <th>v_extra_largos</th>\n",
       "      <th>v_noche</th>\n",
       "      <th>v_madrugada</th>\n",
       "      <th>...</th>\n",
       "      <th>vext_km_medios</th>\n",
       "      <th>vext_km_largos</th>\n",
       "      <th>vext_km_muy_largos</th>\n",
       "      <th>vext_km_extra_largos</th>\n",
       "      <th>vext_km_noche</th>\n",
       "      <th>vext_km_madrugada</th>\n",
       "      <th>vext_km_mañana</th>\n",
       "      <th>vext_km_mediodia</th>\n",
       "      <th>vext_km_sobremesa</th>\n",
       "      <th>vext_km_tarde</th>\n",
       "    </tr>\n",
       "  </thead>\n",
       "  <tbody>\n",
       "    <tr>\n",
       "      <th>0</th>\n",
       "      <td>2020-03-01</td>\n",
       "      <td>ALICANTE</td>\n",
       "      <td>1.322250e+09</td>\n",
       "      <td>804633464.0</td>\n",
       "      <td>222461316.0</td>\n",
       "      <td>39322732.0</td>\n",
       "      <td>0.0</td>\n",
       "      <td>0.0</td>\n",
       "      <td>264283976.0</td>\n",
       "      <td>177396270.0</td>\n",
       "      <td>...</td>\n",
       "      <td>5.721850e+09</td>\n",
       "      <td>2.154784e+10</td>\n",
       "      <td>8.518258e+09</td>\n",
       "      <td>1.820639e+10</td>\n",
       "      <td>2.588726e+09</td>\n",
       "      <td>3.923355e+09</td>\n",
       "      <td>1.252925e+10</td>\n",
       "      <td>1.565224e+10</td>\n",
       "      <td>1.667656e+10</td>\n",
       "      <td>4.635016e+09</td>\n",
       "    </tr>\n",
       "    <tr>\n",
       "      <th>1</th>\n",
       "      <td>2020-03-01</td>\n",
       "      <td>ALMERIA</td>\n",
       "      <td>4.137365e+08</td>\n",
       "      <td>307464963.0</td>\n",
       "      <td>197629520.0</td>\n",
       "      <td>65431700.0</td>\n",
       "      <td>0.0</td>\n",
       "      <td>0.0</td>\n",
       "      <td>100438393.0</td>\n",
       "      <td>76635719.0</td>\n",
       "      <td>...</td>\n",
       "      <td>1.669589e+09</td>\n",
       "      <td>1.440393e+10</td>\n",
       "      <td>4.621445e+09</td>\n",
       "      <td>1.267408e+10</td>\n",
       "      <td>1.615540e+09</td>\n",
       "      <td>2.223428e+09</td>\n",
       "      <td>6.993912e+09</td>\n",
       "      <td>8.703933e+09</td>\n",
       "      <td>1.152187e+10</td>\n",
       "      <td>2.948829e+09</td>\n",
       "    </tr>\n",
       "    <tr>\n",
       "      <th>2</th>\n",
       "      <td>2020-03-01</td>\n",
       "      <td>BADAJOZ</td>\n",
       "      <td>5.620126e+08</td>\n",
       "      <td>292754287.0</td>\n",
       "      <td>228679981.0</td>\n",
       "      <td>132586257.0</td>\n",
       "      <td>0.0</td>\n",
       "      <td>0.0</td>\n",
       "      <td>134096187.0</td>\n",
       "      <td>84005893.0</td>\n",
       "      <td>...</td>\n",
       "      <td>1.707081e+09</td>\n",
       "      <td>1.556644e+10</td>\n",
       "      <td>7.969185e+09</td>\n",
       "      <td>2.418670e+10</td>\n",
       "      <td>1.912023e+09</td>\n",
       "      <td>3.451396e+09</td>\n",
       "      <td>9.512004e+09</td>\n",
       "      <td>1.368057e+10</td>\n",
       "      <td>1.689393e+10</td>\n",
       "      <td>4.314848e+09</td>\n",
       "    </tr>\n",
       "    <tr>\n",
       "      <th>3</th>\n",
       "      <td>2020-03-01</td>\n",
       "      <td>CADIZ</td>\n",
       "      <td>1.139626e+09</td>\n",
       "      <td>762263188.0</td>\n",
       "      <td>170314872.0</td>\n",
       "      <td>37096003.0</td>\n",
       "      <td>35172.0</td>\n",
       "      <td>0.0</td>\n",
       "      <td>243768978.0</td>\n",
       "      <td>155137510.0</td>\n",
       "      <td>...</td>\n",
       "      <td>2.357122e+09</td>\n",
       "      <td>8.493790e+09</td>\n",
       "      <td>9.246472e+09</td>\n",
       "      <td>2.039986e+10</td>\n",
       "      <td>1.544056e+09</td>\n",
       "      <td>2.501498e+09</td>\n",
       "      <td>7.486108e+09</td>\n",
       "      <td>1.151443e+10</td>\n",
       "      <td>1.393903e+10</td>\n",
       "      <td>3.779070e+09</td>\n",
       "    </tr>\n",
       "    <tr>\n",
       "      <th>4</th>\n",
       "      <td>2020-03-01</td>\n",
       "      <td>CIUDAD_REAL</td>\n",
       "      <td>4.181868e+08</td>\n",
       "      <td>131185519.0</td>\n",
       "      <td>92363723.0</td>\n",
       "      <td>71743512.0</td>\n",
       "      <td>460920.0</td>\n",
       "      <td>0.0</td>\n",
       "      <td>83422745.0</td>\n",
       "      <td>53835197.0</td>\n",
       "      <td>...</td>\n",
       "      <td>9.633742e+08</td>\n",
       "      <td>8.667398e+09</td>\n",
       "      <td>4.441580e+09</td>\n",
       "      <td>2.080106e+10</td>\n",
       "      <td>1.241544e+09</td>\n",
       "      <td>1.845293e+09</td>\n",
       "      <td>5.946952e+09</td>\n",
       "      <td>9.717944e+09</td>\n",
       "      <td>1.376540e+10</td>\n",
       "      <td>2.629732e+09</td>\n",
       "    </tr>\n",
       "  </tbody>\n",
       "</table>\n",
       "<p>5 rows × 50 columns</p>\n",
       "</div>"
      ],
      "text/plain": [
       "        fecha    provincia  v_muy_cortos     v_cortos     v_medios  \\\n",
       "0  2020-03-01     ALICANTE  1.322250e+09  804633464.0  222461316.0   \n",
       "1  2020-03-01      ALMERIA  4.137365e+08  307464963.0  197629520.0   \n",
       "2  2020-03-01      BADAJOZ  5.620126e+08  292754287.0  228679981.0   \n",
       "3  2020-03-01        CADIZ  1.139626e+09  762263188.0  170314872.0   \n",
       "4  2020-03-01  CIUDAD_REAL  4.181868e+08  131185519.0   92363723.0   \n",
       "\n",
       "      v_largos  v_muy_largos  v_extra_largos      v_noche  v_madrugada  ...  \\\n",
       "0   39322732.0           0.0             0.0  264283976.0  177396270.0  ...   \n",
       "1   65431700.0           0.0             0.0  100438393.0   76635719.0  ...   \n",
       "2  132586257.0           0.0             0.0  134096187.0   84005893.0  ...   \n",
       "3   37096003.0       35172.0             0.0  243768978.0  155137510.0  ...   \n",
       "4   71743512.0      460920.0             0.0   83422745.0   53835197.0  ...   \n",
       "\n",
       "   vext_km_medios  vext_km_largos  vext_km_muy_largos  vext_km_extra_largos  \\\n",
       "0    5.721850e+09    2.154784e+10        8.518258e+09          1.820639e+10   \n",
       "1    1.669589e+09    1.440393e+10        4.621445e+09          1.267408e+10   \n",
       "2    1.707081e+09    1.556644e+10        7.969185e+09          2.418670e+10   \n",
       "3    2.357122e+09    8.493790e+09        9.246472e+09          2.039986e+10   \n",
       "4    9.633742e+08    8.667398e+09        4.441580e+09          2.080106e+10   \n",
       "\n",
       "   vext_km_noche  vext_km_madrugada  vext_km_mañana  vext_km_mediodia  \\\n",
       "0   2.588726e+09       3.923355e+09    1.252925e+10      1.565224e+10   \n",
       "1   1.615540e+09       2.223428e+09    6.993912e+09      8.703933e+09   \n",
       "2   1.912023e+09       3.451396e+09    9.512004e+09      1.368057e+10   \n",
       "3   1.544056e+09       2.501498e+09    7.486108e+09      1.151443e+10   \n",
       "4   1.241544e+09       1.845293e+09    5.946952e+09      9.717944e+09   \n",
       "\n",
       "   vext_km_sobremesa  vext_km_tarde  \n",
       "0       1.667656e+10   4.635016e+09  \n",
       "1       1.152187e+10   2.948829e+09  \n",
       "2       1.689393e+10   4.314848e+09  \n",
       "3       1.393903e+10   3.779070e+09  \n",
       "4       1.376540e+10   2.629732e+09  \n",
       "\n",
       "[5 rows x 50 columns]"
      ]
     },
     "execution_count": 63,
     "metadata": {},
     "output_type": "execute_result"
    }
   ],
   "source": [
    "m1_distancias.head()"
   ]
  },
  {
   "cell_type": "code",
   "execution_count": 65,
   "metadata": {},
   "outputs": [],
   "source": [
    "from ipynb.fs.full.funciones_eda import descripcionDatosDataset, calidad_datos, graficos_datos"
   ]
  },
  {
   "cell_type": "code",
   "execution_count": 71,
   "metadata": {},
   "outputs": [
    {
     "data": {
      "image/png": "[encoded data removed]",
      "text/plain": [
       "<Figure size 432x288 with 1 Axes>"
      ]
     },
     "metadata": {
      "needs_background": "light"
     },
     "output_type": "display_data"
    },
    {
     "data": {
      "image/png": "[encoded data removed]",
      "text/plain": [
       "<Figure size 432x288 with 1 Axes>"
      ]
     },
     "metadata": {
      "needs_background": "light"
     },
     "output_type": "display_data"
    },
    {
     "data": {
      "image/png": "[encoded data removed]",
      "text/plain": [
       "<Figure size 432x288 with 1 Axes>"
      ]
     },
     "metadata": {
      "needs_background": "light"
     },
     "output_type": "display_data"
    },
    {
     "data": {
      "image/png": "[encoded data removed]",
      "text/plain": [
       "<Figure size 432x288 with 1 Axes>"
      ]
     },
     "metadata": {
      "needs_background": "light"
     },
     "output_type": "display_data"
    }
   ],
   "source": [
    "graficos_datos(m1_distancias[['v_medios','v_cortos','v_km_medios','v_km_cortos']])"
   ]
  },
  {
   "cell_type": "code",
   "execution_count": 70,
   "metadata": {},
   "outputs": [
    {
     "data": {
      "image/png": "[encoded data removed]",
      "text/plain": [
       "<Figure size 432x288 with 1 Axes>"
      ]
     },
     "metadata": {
      "needs_background": "light"
     },
     "output_type": "display_data"
    },
    {
     "data": {
      "image/png": "[encoded data removed]",
      "text/plain": [
       "<Figure size 432x288 with 1 Axes>"
      ]
     },
     "metadata": {
      "needs_background": "light"
     },
     "output_type": "display_data"
    },
    {
     "data": {
      "image/png": "[encoded data removed]",
      "text/plain": [
       "<Figure size 432x288 with 1 Axes>"
      ]
     },
     "metadata": {
      "needs_background": "light"
     },
     "output_type": "display_data"
    },
    {
     "data": {
      "image/png": "[encoded data removed]",
      "text/plain": [
       "<Figure size 432x288 with 1 Axes>"
      ]
     },
     "metadata": {
      "needs_background": "light"
     },
     "output_type": "display_data"
    }
   ],
   "source": [
    "graficos_datos(m1_distancias[['v_muy_largos','v_extra_largos','v_km_muy_largos','v_km_extra_largos']])"
   ]
  },
  {
   "cell_type": "code",
   "execution_count": 69,
   "metadata": {},
   "outputs": [
    {
     "name": "stdout",
     "output_type": "stream",
     "text": [
      "Cantidad de filas: 7077\n",
      "Cantidad de columnas: 4\n",
      "----------------------------------------------------------------------------------------------------\n",
      "Columna: v_muy_largos\n",
      "Tipo de datos: numérico\n",
      "Descripción de valores:\n",
      "min       0.000000e+00\n",
      "max       1.240320e+06\n",
      "mean      1.607950e+04\n",
      "std       7.338077e+04\n",
      "median    0.000000e+00\n",
      "Name: v_muy_largos, dtype: float64\n",
      "----------------------------------------------------------------------------------------------------\n",
      "Columna: v_extra_largos\n",
      "Tipo de datos: numérico\n",
      "Descripción de valores:\n",
      "min       0.0\n",
      "max       0.0\n",
      "mean      0.0\n",
      "std       0.0\n",
      "median    0.0\n",
      "Name: v_extra_largos, dtype: float64\n",
      "----------------------------------------------------------------------------------------------------\n",
      "Columna: v_km_muy_largos\n",
      "Tipo de datos: numérico\n",
      "Descripción de valores:\n",
      "min       0.000000e+00\n",
      "max       6.611160e+07\n",
      "mean      8.783862e+05\n",
      "std       4.022425e+06\n",
      "median    0.000000e+00\n",
      "Name: v_km_muy_largos, dtype: float64\n",
      "----------------------------------------------------------------------------------------------------\n",
      "Columna: v_km_extra_largos\n",
      "Tipo de datos: numérico\n",
      "Descripción de valores:\n",
      "min       0.0\n",
      "max       0.0\n",
      "mean      0.0\n",
      "std       0.0\n",
      "median    0.0\n",
      "Name: v_km_extra_largos, dtype: float64\n",
      "----------------------------------------------------------------------------------------------------\n"
     ]
    }
   ],
   "source": [
    "descripcionDatosDataset(m1_distancias[['v_muy_largos','v_extra_largos','v_km_muy_largos','v_km_extra_largos']])"
   ]
  },
  {
   "cell_type": "code",
   "execution_count": 67,
   "metadata": {},
   "outputs": [
    {
     "name": "stdout",
     "output_type": "stream",
     "text": [
      "Cantidad de filas: 7077\n",
      "Cantidad de filas completas: 7077\n",
      "Cantidad de filas  incompletas: 0\n",
      "Porcentaje de filas incompletas: 0.0 %\n",
      "Cantidad de nulos en las columnas  : \n",
      "fecha                   0\n",
      "provincia               0\n",
      "v_muy_cortos            0\n",
      "v_cortos                0\n",
      "v_medios                0\n",
      "v_largos                0\n",
      "v_muy_largos            0\n",
      "v_extra_largos          0\n",
      "v_noche                 0\n",
      "v_madrugada             0\n",
      "v_mañana                0\n",
      "v_mediodia              0\n",
      "v_sobremesa             0\n",
      "v_tarde                 0\n",
      "v_km_muy_cortos         0\n",
      "v_km_cortos             0\n",
      "v_km_medios             0\n",
      "v_km_largos             0\n",
      "v_km_muy_largos         0\n",
      "v_km_extra_largos       0\n",
      "v_km_noche              0\n",
      "v_km_madrugada          0\n",
      "v_km_mañana             0\n",
      "v_km_mediodia           0\n",
      "v_km_sobremesa          0\n",
      "v_km_tarde              0\n",
      "vext_muy_cortos         0\n",
      "vext_cortos             0\n",
      "vext_medios             0\n",
      "vext_largos             0\n",
      "vext_muy_largos         0\n",
      "vext_extra_largos       0\n",
      "vext_noche              0\n",
      "vext_madrugada          0\n",
      "vext_mañana             0\n",
      "vext_mediodia           0\n",
      "vext_sobremesa          0\n",
      "vext_tarde              0\n",
      "vext_km_muy_cortos      0\n",
      "vext_km_cortos          0\n",
      "vext_km_medios          0\n",
      "vext_km_largos          0\n",
      "vext_km_muy_largos      0\n",
      "vext_km_extra_largos    0\n",
      "vext_km_noche           0\n",
      "vext_km_madrugada       0\n",
      "vext_km_mañana          0\n",
      "vext_km_mediodia        0\n",
      "vext_km_sobremesa       0\n",
      "vext_km_tarde           0\n",
      "dtype: int64\n",
      " — — — — - — — — — - — — — — - — — — — - — — — — -\n"
     ]
    }
   ],
   "source": [
    "calidad_datos(m1_distancias)"
   ]
  },
  {
   "cell_type": "markdown",
   "metadata": {},
   "source": [
    "## Save m1 data\n"
   ]
  },
  {
   "cell_type": "code",
   "execution_count": 64,
   "metadata": {},
   "outputs": [],
   "source": [
    "#m1_distancias.to_csv(\"~/Trabajo_tfm/datos_csv/m1_distancias_extend.csv\")m1_distancias_extend\n",
    "m1_distancias.to_csv(\"~/Trabajo_tfm/datos_csv/m1_extendida.csv\")"
   ]
  },
  {
   "cell_type": "markdown",
   "metadata": {},
   "source": [
    "## Extraction of people mobility data"
   ]
  },
  {
   "cell_type": "code",
   "execution_count": 31,
   "metadata": {},
   "outputs": [],
   "source": [
    "datos_m2 = []\n",
    "cols_eliminar = ['distrito']\n",
    "\n",
    "for fecha in fechas : \n",
    "    \n",
    "    dia = pd.read_csv('~/Trabajo_tfm/m2_municipios/'+ fecha +'_maestra_2_mitma_municipio.txt',\n",
    "                  sep = '|', thousands = '.', memory_map  = True, low_memory=False,\n",
    "                  usecols=[\"distrito\", \"numero_viajes\", \"personas\"])\n",
    "   \n",
    "    dia['municipio_mitma'] = dia.distrito\n",
    "    dia = dia.drop(columns = cols_eliminar)\n",
    "    fecha_d = funcion_fecha(fecha)\n",
    "    #print('Dia :', fecha_d)\n",
    "\n",
    "    for div_provincia in divs_provincias :# loop por provincias\n",
    "\n",
    "        total_personas_provincia = pd.merge(div_provincia[0],\n",
    "                                            dia.drop(columns = cols_eliminar), how='left', on='municipio_mitma')\n",
    " \n",
    "        datos_m2.append([fecha_d, div_provincia[1],\n",
    "                         total_personas_provincia[total_personas_provincia['numero_viajes'] == '0'].personas.sum(),\n",
    "                         total_personas_provincia[total_personas_provincia['numero_viajes'] == '1'].personas.sum(),\n",
    "                         total_personas_provincia[total_personas_provincia['numero_viajes'] == '2'].personas.sum(),\n",
    "                         total_personas_provincia[total_personas_provincia['numero_viajes'] == '2+'].personas.sum()])"
   ]
  },
  {
   "cell_type": "code",
   "execution_count": 32,
   "metadata": {},
   "outputs": [],
   "source": [
    "m2_personas = pd.DataFrame(datos_m2, columns= ['fecha','provincia',\n",
    "                                               'cero_viajes','un_viaje','dos_viajes','mas_de_dos_viajes'])"
   ]
  },
  {
   "cell_type": "markdown",
   "metadata": {},
   "source": [
    "## Save m2  data"
   ]
  },
  {
   "cell_type": "code",
   "execution_count": 33,
   "metadata": {},
   "outputs": [],
   "source": [
    "m2_personas\n",
    "m2_personas.to_csv(\"~/Trabajo_tfm/datos_csv/m2_personas.csv\")"
   ]
  },
  {
   "cell_type": "code",
   "execution_count": 38,
   "metadata": {},
   "outputs": [],
   "source": [
    "datos_mitma = pd.concat([m1_distancias,m2_personas], axis=1)"
   ]
  },
  {
   "cell_type": "code",
   "execution_count": 39,
   "metadata": {
    "scrolled": true
   },
   "outputs": [
    {
     "name": "stdout",
     "output_type": "stream",
     "text": [
      "<class 'pandas.core.frame.DataFrame'>\n",
      "RangeIndex: 7077 entries, 0 to 7076\n",
      "Data columns (total 32 columns):\n",
      " #   Column             Non-Null Count  Dtype  \n",
      "---  ------             --------------  -----  \n",
      " 0   fecha              7077 non-null   object \n",
      " 1   provincia          7077 non-null   object \n",
      " 2   v_muy_cortos       7077 non-null   float64\n",
      " 3   v_cortos           7077 non-null   float64\n",
      " 4   v_medios           7077 non-null   float64\n",
      " 5   v_largos           7077 non-null   float64\n",
      " 6   v_muy_largos       7077 non-null   float64\n",
      " 7   v_extra_largos     7077 non-null   float64\n",
      " 8   v_noche            7077 non-null   float64\n",
      " 9   v_madrugada        7077 non-null   float64\n",
      " 10  v_mañana           7077 non-null   float64\n",
      " 11  v_mediodia         7077 non-null   float64\n",
      " 12  v_sobremesa        7077 non-null   float64\n",
      " 13  v_tarde            7077 non-null   float64\n",
      " 14  v_km_muy_cortos    7077 non-null   float64\n",
      " 15  v_km_cortos        7077 non-null   float64\n",
      " 16  v_km_medios        7077 non-null   float64\n",
      " 17  v_km_largos        7077 non-null   float64\n",
      " 18  v_km_muy_largos    7077 non-null   float64\n",
      " 19  v_km_extra_largos  7077 non-null   float64\n",
      " 20  v_km_noche         7077 non-null   float64\n",
      " 21  v_km_madrugada     7077 non-null   float64\n",
      " 22  v_km_mañana        7077 non-null   float64\n",
      " 23  v_km_mediodia      7077 non-null   float64\n",
      " 24  v_km_sobremesa     7077 non-null   float64\n",
      " 25  v_km_tarde         7077 non-null   float64\n",
      " 26  fecha_             7077 non-null   object \n",
      " 27  provincia_         7077 non-null   object \n",
      " 28  cero_viajes        7077 non-null   float64\n",
      " 29  un_viaje           7077 non-null   float64\n",
      " 30  dos_viajes         7077 non-null   float64\n",
      " 31  mas_de_dos_viajes  7077 non-null   float64\n",
      "dtypes: float64(28), object(4)\n",
      "memory usage: 1.7+ MB\n"
     ]
    }
   ],
   "source": [
    "datos_mitma.info()"
   ]
  },
  {
   "cell_type": "code",
   "execution_count": 40,
   "metadata": {},
   "outputs": [
    {
     "name": "stdout",
     "output_type": "stream",
     "text": [
      "<class 'pandas.core.frame.DataFrame'>\n",
      "RangeIndex: 7077 entries, 0 to 7076\n",
      "Data columns (total 30 columns):\n",
      " #   Column             Non-Null Count  Dtype  \n",
      "---  ------             --------------  -----  \n",
      " 0   fecha              7077 non-null   object \n",
      " 1   provincia          7077 non-null   object \n",
      " 2   v_muy_cortos       7077 non-null   float64\n",
      " 3   v_cortos           7077 non-null   float64\n",
      " 4   v_medios           7077 non-null   float64\n",
      " 5   v_largos           7077 non-null   float64\n",
      " 6   v_muy_largos       7077 non-null   float64\n",
      " 7   v_extra_largos     7077 non-null   float64\n",
      " 8   v_noche            7077 non-null   float64\n",
      " 9   v_madrugada        7077 non-null   float64\n",
      " 10  v_mañana           7077 non-null   float64\n",
      " 11  v_mediodia         7077 non-null   float64\n",
      " 12  v_sobremesa        7077 non-null   float64\n",
      " 13  v_tarde            7077 non-null   float64\n",
      " 14  v_km_muy_cortos    7077 non-null   float64\n",
      " 15  v_km_cortos        7077 non-null   float64\n",
      " 16  v_km_medios        7077 non-null   float64\n",
      " 17  v_km_largos        7077 non-null   float64\n",
      " 18  v_km_muy_largos    7077 non-null   float64\n",
      " 19  v_km_extra_largos  7077 non-null   float64\n",
      " 20  v_km_noche         7077 non-null   float64\n",
      " 21  v_km_madrugada     7077 non-null   float64\n",
      " 22  v_km_mañana        7077 non-null   float64\n",
      " 23  v_km_mediodia      7077 non-null   float64\n",
      " 24  v_km_sobremesa     7077 non-null   float64\n",
      " 25  v_km_tarde         7077 non-null   float64\n",
      " 26  cero_viajes        7077 non-null   float64\n",
      " 27  un_viaje           7077 non-null   float64\n",
      " 28  dos_viajes         7077 non-null   float64\n",
      " 29  mas_de_dos_viajes  7077 non-null   float64\n",
      "dtypes: float64(28), object(2)\n",
      "memory usage: 1.6+ MB\n"
     ]
    }
   ],
   "source": [
    "cols_eliminar = ['fecha_', \"provincia_\"]\n",
    "datos_mitma = datos_mitma.drop(columns = cols_eliminar)\n",
    "datos_mitma.info()"
   ]
  },
  {
   "cell_type": "code",
   "execution_count": 42,
   "metadata": {},
   "outputs": [
    {
     "name": "stdout",
     "output_type": "stream",
     "text": [
      "Cantidad de filas: 7077\n",
      "Cantidad de filas completas: 7077\n",
      "Cantidad de filas  incompletas: 0\n",
      "Porcentaje de filas incompletas: 0.0 %\n",
      "Cantidad de nulos en las columnas  : \n",
      "fecha                0\n",
      "provincia            0\n",
      "v_muy_cortos         0\n",
      "v_cortos             0\n",
      "v_medios             0\n",
      "v_largos             0\n",
      "v_muy_largos         0\n",
      "v_extra_largos       0\n",
      "v_noche              0\n",
      "v_madrugada          0\n",
      "v_mañana             0\n",
      "v_mediodia           0\n",
      "v_sobremesa          0\n",
      "v_tarde              0\n",
      "v_km_muy_cortos      0\n",
      "v_km_cortos          0\n",
      "v_km_medios          0\n",
      "v_km_largos          0\n",
      "v_km_muy_largos      0\n",
      "v_km_extra_largos    0\n",
      "v_km_noche           0\n",
      "v_km_madrugada       0\n",
      "v_km_mañana          0\n",
      "v_km_mediodia        0\n",
      "v_km_sobremesa       0\n",
      "v_km_tarde           0\n",
      "cero_viajes          0\n",
      "un_viaje             0\n",
      "dos_viajes           0\n",
      "mas_de_dos_viajes    0\n",
      "dtype: int64\n",
      " — — — — - — — — — - — — — — - — — — — - — — — — -\n"
     ]
    }
   ],
   "source": [
    "calidad_datos(datos_mitma)"
   ]
  },
  {
   "cell_type": "code",
   "execution_count": 43,
   "metadata": {
    "scrolled": false
   },
   "outputs": [
    {
     "name": "stdout",
     "output_type": "stream",
     "text": [
      "Cantidad de filas: 7077\n",
      "Cantidad de columnas: 30\n",
      "----------------------------------------------------------------------------------------------------\n",
      "Columna: fecha\n",
      "Tipo de datos: nominal\n",
      "Descripción de valores:\n",
      "-- Valores presentes (10 primeros): ['2020-03-01' '2020-03-02' '2020-03-03' '2020-03-04' '2020-03-05'\n",
      " '2020-03-06' '2020-03-07' '2020-03-08' '2020-03-09' '2020-03-10'\n",
      " '2020-03-11' '2020-03-12' '2020-03-13' '2020-03-14' '2020-03-15'\n",
      " '2020-03-16' '2020-03-17' '2020-03-18' '2020-03-19' '2020-03-20']\n",
      "-- Cantidad de nulos: 0 = 0.00%\n",
      "----------------------------------------------------------------------------------------------------\n",
      "Columna: provincia\n",
      "Tipo de datos: nominal\n",
      "Descripción de valores:\n",
      "-- Valores presentes (10 primeros): ['ALICANTE' 'ALMERIA' 'BADAJOZ' 'CADIZ' 'CIUDAD_REAL' 'CORDOBA' 'GRANADA'\n",
      " 'HUELVA' 'JAEN' 'LA_CORUÑA' 'LUGO' 'MADRID' 'MALAGA' 'ORENSE' 'PALENCIA'\n",
      " 'PONTEVEDRA' 'SALAMANCA' 'SEVILLA' 'VALENCIA' 'ZAMORA']\n",
      "-- Cantidad de nulos: 0 = 0.00%\n",
      "----------------------------------------------------------------------------------------------------\n",
      "Columna: v_muy_cortos\n",
      "Tipo de datos: numérico\n",
      "Descripción de valores:\n",
      "min       1.241657e+07\n",
      "max       7.932315e+09\n",
      "mean      1.011051e+09\n",
      "std       1.199176e+09\n",
      "median    6.215205e+08\n",
      "Name: v_muy_cortos, dtype: float64\n",
      "----------------------------------------------------------------------------------------------------\n",
      "Columna: v_cortos\n",
      "Tipo de datos: numérico\n",
      "Descripción de valores:\n",
      "min       9.950352e+07\n",
      "max       5.310919e+09\n",
      "mean      8.016703e+08\n",
      "std       7.610104e+08\n",
      "median    5.266275e+08\n",
      "Name: v_cortos, dtype: float64\n",
      "----------------------------------------------------------------------------------------------------\n",
      "Columna: v_medios\n",
      "Tipo de datos: numérico\n",
      "Descripción de valores:\n",
      "min       1.094064e+08\n",
      "max       3.846551e+09\n",
      "mean      7.167344e+08\n",
      "std       5.045715e+08\n",
      "median    5.627877e+08\n",
      "Name: v_medios, dtype: float64\n",
      "----------------------------------------------------------------------------------------------------\n",
      "Columna: v_largos\n",
      "Tipo de datos: numérico\n",
      "Descripción de valores:\n",
      "min       1.347950e+08\n",
      "max       4.711090e+09\n",
      "mean      9.280651e+08\n",
      "std       6.261346e+08\n",
      "median    7.134565e+08\n",
      "Name: v_largos, dtype: float64\n",
      "----------------------------------------------------------------------------------------------------\n",
      "Columna: v_muy_largos\n",
      "Tipo de datos: numérico\n",
      "Descripción de valores:\n",
      "min       1.157545e+06\n",
      "max       7.045805e+08\n",
      "mean      8.622150e+07\n",
      "std       7.928792e+07\n",
      "median    5.806026e+07\n",
      "Name: v_muy_largos, dtype: float64\n",
      "----------------------------------------------------------------------------------------------------\n",
      "Columna: v_extra_largos\n",
      "Tipo de datos: numérico\n",
      "Descripción de valores:\n",
      "min       1.004335e+06\n",
      "max       3.886552e+08\n",
      "mean      4.745258e+07\n",
      "std       4.849717e+07\n",
      "median    3.148417e+07\n",
      "Name: v_extra_largos, dtype: float64\n",
      "----------------------------------------------------------------------------------------------------\n",
      "Columna: v_noche\n",
      "Tipo de datos: numérico\n",
      "Descripción de valores:\n",
      "min       5.064946e+07\n",
      "max       1.692416e+09\n",
      "mean      2.389588e+08\n",
      "std       2.034709e+08\n",
      "median    1.799692e+08\n",
      "Name: v_noche, dtype: float64\n",
      "----------------------------------------------------------------------------------------------------\n",
      "Columna: v_madrugada\n",
      "Tipo de datos: numérico\n",
      "Descripción de valores:\n",
      "min       4.460656e+07\n",
      "max       2.917778e+09\n",
      "mean      3.778870e+08\n",
      "std       3.496813e+08\n",
      "median    2.730175e+08\n",
      "Name: v_madrugada, dtype: float64\n",
      "----------------------------------------------------------------------------------------------------\n",
      "Columna: v_mañana\n",
      "Tipo de datos: numérico\n",
      "Descripción de valores:\n",
      "min       1.039095e+08\n",
      "max       4.512877e+09\n",
      "mean      7.231000e+08\n",
      "std       5.788340e+08\n",
      "median    5.558967e+08\n",
      "Name: v_mañana, dtype: float64\n",
      "----------------------------------------------------------------------------------------------------\n",
      "Columna: v_mediodia\n",
      "Tipo de datos: numérico\n",
      "Descripción de valores:\n",
      "min       1.433810e+08\n",
      "max       5.265479e+09\n",
      "mean      8.639698e+08\n",
      "std       6.972846e+08\n",
      "median    6.666461e+08\n",
      "Name: v_mediodia, dtype: float64\n",
      "----------------------------------------------------------------------------------------------------\n",
      "Columna: v_sobremesa\n",
      "Tipo de datos: numérico\n",
      "Descripción de valores:\n",
      "min       1.294076e+08\n",
      "max       5.329890e+09\n",
      "mean      7.940636e+08\n",
      "std       6.633760e+08\n",
      "median    5.963150e+08\n",
      "Name: v_sobremesa, dtype: float64\n",
      "----------------------------------------------------------------------------------------------------\n",
      "Columna: v_tarde\n",
      "Tipo de datos: numérico\n",
      "Descripción de valores:\n",
      "min       1.152013e+08\n",
      "max       3.505010e+09\n",
      "mean      5.932161e+08\n",
      "std       4.922753e+08\n",
      "median    4.499767e+08\n",
      "Name: v_tarde, dtype: float64\n",
      "----------------------------------------------------------------------------------------------------\n",
      "Columna: v_km_muy_cortos\n",
      "Tipo de datos: numérico\n",
      "Descripción de valores:\n",
      "min       1.672787e+07\n",
      "max       9.347162e+09\n",
      "mean      1.200089e+09\n",
      "std       1.403227e+09\n",
      "median    7.469348e+08\n",
      "Name: v_km_muy_cortos, dtype: float64\n",
      "----------------------------------------------------------------------------------------------------\n",
      "Columna: v_km_cortos\n",
      "Tipo de datos: numérico\n",
      "Descripción de valores:\n",
      "min       3.549131e+08\n",
      "max       1.700879e+10\n",
      "mean      2.640097e+09\n",
      "std       2.435757e+09\n",
      "median    1.776464e+09\n",
      "Name: v_km_cortos, dtype: float64\n",
      "----------------------------------------------------------------------------------------------------\n",
      "Columna: v_km_medios\n",
      "Tipo de datos: numérico\n",
      "Descripción de valores:\n",
      "min       8.145835e+08\n",
      "max       2.760895e+10\n",
      "mean      5.187381e+09\n",
      "std       3.596895e+09\n",
      "median    4.073559e+09\n",
      "Name: v_km_medios, dtype: float64\n",
      "----------------------------------------------------------------------------------------------------\n",
      "Columna: v_km_largos\n",
      "Tipo de datos: numérico\n",
      "Descripción de valores:\n",
      "min       2.235895e+09\n",
      "max       9.162843e+10\n",
      "mean      1.816874e+10\n",
      "std       1.268500e+10\n",
      "median    1.368018e+10\n",
      "Name: v_km_largos, dtype: float64\n",
      "----------------------------------------------------------------------------------------------------\n",
      "Columna: v_km_muy_largos\n",
      "Tipo de datos: numérico\n",
      "Descripción de valores:\n",
      "min       7.649195e+07\n",
      "max       4.442179e+10\n",
      "mean      5.813616e+09\n",
      "std       5.261031e+09\n",
      "median    3.940318e+09\n",
      "Name: v_km_muy_largos, dtype: float64\n",
      "----------------------------------------------------------------------------------------------------\n",
      "Columna: v_km_extra_largos\n",
      "Tipo de datos: numérico\n",
      "Descripción de valores:\n",
      "min       1.938245e+08\n",
      "max       1.256057e+11\n",
      "mean      1.059425e+10\n",
      "std       1.178219e+10\n",
      "median    6.566175e+09\n",
      "Name: v_km_extra_largos, dtype: float64\n",
      "----------------------------------------------------------------------------------------------------\n",
      "Columna: v_km_noche\n",
      "Tipo de datos: numérico\n",
      "Descripción de valores:\n",
      "min       3.595868e+08\n",
      "max       1.640567e+10\n",
      "mean      2.326593e+09\n",
      "std       1.917919e+09\n",
      "median    1.609630e+09\n",
      "Name: v_km_noche, dtype: float64\n",
      "----------------------------------------------------------------------------------------------------\n",
      "Columna: v_km_madrugada\n",
      "Tipo de datos: numérico\n",
      "Descripción de valores:\n",
      "min       5.032808e+08\n",
      "max       4.909091e+10\n",
      "mean      5.957710e+09\n",
      "std       5.170073e+09\n",
      "median    4.371977e+09\n",
      "Name: v_km_madrugada, dtype: float64\n",
      "----------------------------------------------------------------------------------------------------\n",
      "Columna: v_km_mañana\n",
      "Tipo de datos: numérico\n",
      "Descripción de valores:\n",
      "min       1.057665e+09\n",
      "max       5.895843e+10\n",
      "mean      9.520729e+09\n",
      "std       7.078176e+09\n",
      "median    7.126970e+09\n",
      "Name: v_km_mañana, dtype: float64\n",
      "----------------------------------------------------------------------------------------------------\n",
      "Columna: v_km_mediodia\n",
      "Tipo de datos: numérico\n",
      "Descripción de valores:\n",
      "min       1.190558e+09\n",
      "max       6.701631e+10\n",
      "mean      1.057823e+10\n",
      "std       7.895896e+09\n",
      "median    7.698291e+09\n",
      "Name: v_km_mediodia, dtype: float64\n",
      "----------------------------------------------------------------------------------------------------\n",
      "Columna: v_km_sobremesa\n",
      "Tipo de datos: numérico\n",
      "Descripción de valores:\n",
      "min       1.072659e+09\n",
      "max       5.818357e+10\n",
      "mean      9.931740e+09\n",
      "std       8.022784e+09\n",
      "median    7.191863e+09\n",
      "Name: v_km_sobremesa, dtype: float64\n",
      "----------------------------------------------------------------------------------------------------\n",
      "Columna: v_km_tarde\n",
      "Tipo de datos: numérico\n",
      "Descripción de valores:\n",
      "min       7.130996e+08\n",
      "max       3.296273e+10\n",
      "mean      5.289173e+09\n",
      "std       4.143181e+09\n",
      "median    3.952431e+09\n",
      "Name: v_km_tarde, dtype: float64\n",
      "----------------------------------------------------------------------------------------------------\n",
      "Columna: cero_viajes\n",
      "Tipo de datos: numérico\n",
      "Descripción de valores:\n",
      "min       1.432940e+08\n",
      "max       3.367947e+11\n",
      "mean      7.842360e+08\n",
      "std       4.030131e+09\n",
      "median    6.065824e+08\n",
      "Name: cero_viajes, dtype: float64\n",
      "----------------------------------------------------------------------------------------------------\n"
     ]
    },
    {
     "name": "stdout",
     "output_type": "stream",
     "text": [
      "Columna: un_viaje\n",
      "Tipo de datos: numérico\n",
      "Descripción de valores:\n",
      "min       1.537888e+07\n",
      "max       4.982212e+10\n",
      "mean      9.820675e+07\n",
      "std       5.956137e+08\n",
      "median    6.801811e+07\n",
      "Name: un_viaje, dtype: float64\n",
      "----------------------------------------------------------------------------------------------------\n",
      "Columna: dos_viajes\n",
      "Tipo de datos: numérico\n",
      "Descripción de valores:\n",
      "min       5.897811e+07\n",
      "max       1.577555e+11\n",
      "mean      3.364074e+08\n",
      "std       1.885345e+09\n",
      "median    2.441362e+08\n",
      "Name: dos_viajes, dtype: float64\n",
      "----------------------------------------------------------------------------------------------------\n",
      "Columna: mas_de_dos_viajes\n",
      "Tipo de datos: numérico\n",
      "Descripción de valores:\n",
      "min       7.799470e+07\n",
      "max       2.895853e+11\n",
      "mean      5.791763e+08\n",
      "std       3.465265e+09\n",
      "median    4.127282e+08\n",
      "Name: mas_de_dos_viajes, dtype: float64\n",
      "----------------------------------------------------------------------------------------------------\n"
     ]
    }
   ],
   "source": [
    "descripcionDatosDataset(datos_mitma)"
   ]
  },
  {
   "cell_type": "markdown",
   "metadata": {},
   "source": [
    "## Save all "
   ]
  },
  {
   "cell_type": "code",
   "execution_count": 44,
   "metadata": {},
   "outputs": [],
   "source": [
    "datos_mitma.to_csv(\"~/Trabajo_tfm/datos_csv/datos_mitma_ext.csv\")"
   ]
  },
  {
   "cell_type": "code",
   "execution_count": 45,
   "metadata": {},
   "outputs": [],
   "source": [
    "from pandas_profiling import ProfileReport\n",
    "profile_movilidad = ProfileReport(datos_mitma)"
   ]
  },
  {
   "cell_type": "code",
   "execution_count": 46,
   "metadata": {},
   "outputs": [
    {
     "data": {
      "application/vnd.jupyter.widget-view+json": {
       "model_id": "1db8357c5f2a4fd0b9f8a6fd998e8dc3",
       "version_major": 2,
       "version_minor": 0
      },
      "text/plain": [
       "Summarize dataset:   0%|          | 0/5 [00:00<?, ?it/s]"
      ]
     },
     "metadata": {},
     "output_type": "display_data"
    },
    {
     "data": {
      "application/vnd.jupyter.widget-view+json": {
       "model_id": "3fab43097fe7410c803282dad216e966",
       "version_major": 2,
       "version_minor": 0
      },
      "text/plain": [
       "Generate report structure:   0%|          | 0/1 [00:00<?, ?it/s]"
      ]
     },
     "metadata": {},
     "output_type": "display_data"
    },
    {
     "data": {
      "application/vnd.jupyter.widget-view+json": {
       "model_id": "7769b60d902a4b6f86eff3bc430cee25",
       "version_major": 2,
       "version_minor": 0
      },
      "text/plain": [
       "Render HTML:   0%|          | 0/1 [00:00<?, ?it/s]"
      ]
     },
     "metadata": {},
     "output_type": "display_data"
    },
    {
     "data": {
      "application/vnd.jupyter.widget-view+json": {
       "model_id": "e293531734b1445d9f10492c416fa7f7",
       "version_major": 2,
       "version_minor": 0
      },
      "text/plain": [
       "Export report to file:   0%|          | 0/1 [00:00<?, ?it/s]"
      ]
     },
     "metadata": {},
     "output_type": "display_data"
    }
   ],
   "source": [
    "profile_movilidad.to_file(\"informe_movilidad.html\")"
   ]
  }
 ],
 "metadata": {
  "kernelspec": {
   "display_name": "Python 3 (ipykernel)",
   "language": "python",
   "name": "python3"
  },
  "language_info": {
   "codemirror_mode": {
    "name": "ipython",
    "version": 3
   },
   "file_extension": ".py",
   "mimetype": "text/x-python",
   "name": "python",
   "nbconvert_exporter": "python",
   "pygments_lexer": "ipython3",
   "version": "3.8.5"
  },
  "toc": {
   "base_numbering": 1,
   "nav_menu": {},
   "number_sections": true,
   "sideBar": true,
   "skip_h1_title": false,
   "title_cell": "Table of Contents",
   "title_sidebar": "Contents",
   "toc_cell": false,
   "toc_position": {
    "height": "calc(100% - 180px)",
    "left": "10px",
    "top": "150px",
    "width": "165px"
   },
   "toc_section_display": true,
   "toc_window_display": true
  },
  "varInspector": {
   "cols": {
    "lenName": 16,
    "lenType": 16,
    "lenVar": 40
   },
   "kernels_config": {
    "python": {
     "delete_cmd_postfix": "",
     "delete_cmd_prefix": "del ",
     "library": "var_list.py",
     "varRefreshCmd": "print(var_dic_list())"
    },
    "r": {
     "delete_cmd_postfix": ") ",
     "delete_cmd_prefix": "rm(",
     "library": "var_list.r",
     "varRefreshCmd": "cat(var_dic_list()) "
    }
   },
   "oldHeight": 417.550334,
   "position": {
    "height": "40px",
    "left": "1114.53px",
    "right": "20px",
    "top": "73px",
    "width": "255.467px"
   },
   "types_to_exclude": [
    "module",
    "function",
    "builtin_function_or_method",
    "instance",
    "_Feature"
   ],
   "varInspector_section_display": "none",
   "window_display": true
  },
  "vp": {
   "vp_config_version": "1.0.0",
   "vp_menu_width": 273,
   "vp_note_display": false,
   "vp_note_width": 0,
   "vp_position": {
    "width": 278
   },
   "vp_section_display": false,
   "vp_signature": "VisualPython"
  }
 },
 "nbformat": 4,
 "nbformat_minor": 2
}
